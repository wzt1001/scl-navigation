{
 "cells": [
  {
   "cell_type": "markdown",
   "metadata": {},
   "source": [
    "# Load Environment"
   ]
  },
  {
   "cell_type": "code",
   "execution_count": 1,
   "metadata": {},
   "outputs": [
    {
     "name": "stderr",
     "output_type": "stream",
     "text": [
      "INFO:mlagents.envs:\n",
      "'StationAcademy' started successfully!\n",
      "Unity Academy name: StationAcademy\n",
      "        Reset Parameters : {}\n"
     ]
    }
   ],
   "source": [
    "import time\n",
    "import logging\n",
    "import os\n",
    "import glob\n",
    "import sys\n",
    "from sys import stdout\n",
    "from collections import deque\n",
    "import copy\n",
    "from vis import vis_paths\n",
    "\n",
    "# import gym\n",
    "import numpy as np\n",
    "# import torch\n",
    "# import torch.nn as nn\n",
    "# import torch.nn.functional as F\n",
    "# import torch.optim as optim\n",
    "# from torch.utils.tensorboard import SummaryWriter\n",
    "\n",
    "import cv2\n",
    "import PIL\n",
    "import numpy as np\n",
    "import matplotlib.pyplot as plt\n",
    "from mlagents.envs.environment import UnityEnvironment\n",
    "\n",
    "import imageio\n",
    "\n",
    "# set logger\n",
    "logger = logging.getLogger()\n",
    "logger.setLevel(logging.INFO)\n",
    "\n",
    "# writer = SummaryWriter()\n",
    "\n",
    "# env_name = 'sep_28'\n",
    "# env_name = 'oct_22'\n",
    "# env_name = 'dec_15'\n",
    "env_name = 'dec_15_small'\n",
    "# env_name = '1219_masterpiece'\n",
    "# env_name = '1224'\n",
    "path = \"C:/data/ml-agents-old/scripts/envs/{}/Unity Environment.exe\".format(env_name)\n",
    "# env = UnityEnvironment(file_name=\"./envs/%s/%s.x86_64\" % (env_name, env_name), worker_id=1, seed=1, no_graphics=False)\n",
    "env = UnityEnvironment(file_name=path, worker_id=0, seed=1, no_graphics=False)\n",
    "# envs = list(range(10))\n",
    "# for i in range(10):\n",
    "#     envs[i] = UnityEnvironment(file_name=path, worker_id=i, seed=1, no_graphics=False)\n",
    "\n",
    "# import inspect\n",
    "# inspect.getfullargspec(UnityEnvironment)"
   ]
  },
  {
   "cell_type": "markdown",
   "metadata": {},
   "source": [
    "# Get environment info"
   ]
  },
  {
   "cell_type": "code",
   "execution_count": 2,
   "metadata": {},
   "outputs": [
    {
     "name": "stderr",
     "output_type": "stream",
     "text": [
      "INFO:mlagents.envs:Connected new brain:\n",
      "Unity brain name: hbf-agent\n",
      "        Number of Visual Observations (per agent): 2\n",
      "        Camera Resolutions: ['CameraResolution(84, 84, 1)', 'CameraResolution(84, 84, 3)']\n",
      "        Vector Observation space size (per agent): 9\n",
      "        Vector Action space type: discrete\n",
      "        Vector Action space size (per agent): [2, 3]\n",
      "        Vector Action descriptions: \n",
      "INFO:root:Shape of image: (84, 84, 3)\n"
     ]
    },
    {
     "name": "stdout",
     "output_type": "stream",
     "text": [
      "brain_name hbf-agent\n",
      "camera_resolutions [CameraResolution(height=84, width=84, num_channels=1), CameraResolution(height=84, width=84, num_channels=3)]\n",
      "number_visual_observations 2\n",
      "vector_action_descriptions []\n",
      "vector_action_space_size [2, 3]\n",
      "vector_action_space_type discrete\n",
      "vector_observation_space_size 9\n"
     ]
    },
    {
     "data": {
      "image/png": "[encoded data removed]",
      "text/plain": [
       "<Figure size 432x288 with 1 Axes>"
      ]
     },
     "metadata": {
      "needs_background": "light"
     },
     "output_type": "display_data"
    }
   ],
   "source": [
    "env.step()\n",
    "default_brain = env.external_brain_names[0]\n",
    "brain = env.brains[default_brain]\n",
    "env_info = env.reset(train_mode=True)[default_brain]\n",
    "print('brain_name', brain.brain_name)\n",
    "print('camera_resolutions', brain.camera_resolutions)\n",
    "print('number_visual_observations', brain.number_visual_observations)\n",
    "print('vector_action_descriptions', brain.vector_action_descriptions)\n",
    "print('vector_action_space_size', brain.vector_action_space_size)\n",
    "print('vector_action_space_type', brain.vector_action_space_type)\n",
    "print('vector_observation_space_size', brain.vector_observation_space_size)\n",
    "\n",
    "# examine the visual space\n",
    "img_rgb = np.asarray(env_info.visual_observations[1][0])\n",
    "imgplt = plt.imshow(img_rgb)\n",
    "height, width, channel = img_rgb.shape\n",
    "logger.info('Shape of image: %s' % str(img_rgb.shape))"
   ]
  },
  {
   "cell_type": "code",
   "execution_count": 3,
   "metadata": {},
   "outputs": [
    {
     "name": "stderr",
     "output_type": "stream",
     "text": [
      "INFO:root:Shape of image: (84, 84)\n"
     ]
    },
    {
     "data": {
      "image/png": "[encoded data removed]",
      "text/plain": [
       "<Figure size 432x288 with 1 Axes>"
      ]
     },
     "metadata": {
      "needs_background": "light"
     },
     "output_type": "display_data"
    }
   ],
   "source": [
    "img_d = np.asarray(env_info.visual_observations[0][0])[:,:,0]\n",
    "imgplt = plt.imshow(img_d, cmap='gray', vmin=0, vmax=1)\n",
    "logger.info('Shape of image: %s' % str(img_d.shape))"
   ]
  },
  {
   "cell_type": "code",
   "execution_count": 4,
   "metadata": {},
   "outputs": [],
   "source": [
    "env_info = env.reset(train_mode=True)[default_brain]"
   ]
  },
  {
   "cell_type": "markdown",
   "metadata": {},
   "source": [
    "## -643.35f, -1.8f, 194.35f\n",
    "## array([-643.86761475,   -2.58462143,  196.28186035])"
   ]
  },
  {
   "cell_type": "code",
   "execution_count": 5,
   "metadata": {},
   "outputs": [
    {
     "data": {
      "text/plain": [
       "-641.5555419921875"
      ]
     },
     "execution_count": 5,
     "metadata": {},
     "output_type": "execute_result"
    }
   ],
   "source": [
    "env_info.vector_observations[0][-3:][0]"
   ]
  },
  {
   "cell_type": "code",
   "execution_count": 6,
   "metadata": {},
   "outputs": [],
   "source": [
    "env_info = env.step([0, 0])[default_brain]"
   ]
  },
  {
   "cell_type": "code",
   "execution_count": 7,
   "metadata": {
    "scrolled": false
   },
   "outputs": [
    {
     "data": {
      "text/plain": [
       "array([-641.55554199,   -2.59306836,  203.22554016])"
      ]
     },
     "execution_count": 7,
     "metadata": {},
     "output_type": "execute_result"
    }
   ],
   "source": [
    "env_info.vector_observations[0][-3:]"
   ]
  },
  {
   "cell_type": "code",
   "execution_count": 8,
   "metadata": {
    "scrolled": false
   },
   "outputs": [
    {
     "data": {
      "image/png": "[encoded data removed]",
      "text/plain": [
       "<Figure size 432x288 with 1 Axes>"
      ]
     },
     "metadata": {
      "needs_background": "light"
     },
     "output_type": "display_data"
    }
   ],
   "source": [
    "img_rgb = np.asarray(env_info.visual_observations[1][0])\n",
    "imgplt = plt.imshow(img_rgb)\n"
   ]
  },
  {
   "cell_type": "code",
   "execution_count": 9,
   "metadata": {
    "scrolled": true
   },
   "outputs": [],
   "source": [
    "# from random import randint\n",
    "\n",
    "# a = []\n",
    "# for i in range(500):\n",
    "#     env_info = env.step([randint(0, 1), randint(0, 2)])[default_brain]\n",
    "# #     print(randint(0, 1), randint(0, 2))\n",
    "#     a.append([env_info.vector_observations[0][-3:][0], env_info.vector_observations[0][-3:][1], env_info.vector_observations[0][-3:][2]])\n",
    "#     print(str(i), env_info.vector_observations[0][-3:])"
   ]
  },
  {
   "cell_type": "code",
   "execution_count": 10,
   "metadata": {},
   "outputs": [],
   "source": [
    "import tensorflow as tf\n",
    "import numpy as np\n",
    "import sys\n",
    "import time\n",
    "import scipy.misc\n",
    "import scipy.signal\n",
    "import pickle\n",
    "\n",
    "import config\n",
    "import network\n",
    "\n",
    "class Agent():\n",
    "    def __init__(self, name, trainer, global_episode, model_path, env, brain_name):\n",
    "        self.name = name\n",
    "        self.trainer = trainer\n",
    "        self.global_episode = global_episode\n",
    "        self.summary_writer = tf.summary.FileWriter('./log/' + name)\n",
    "        self.network = network.Network(name, trainer) # local network\n",
    "        from_var = tf.get_collection(tf.GraphKeys.TRAINABLE_VARIABLES, 'global')\n",
    "        to_var = tf.get_collection(tf.GraphKeys.TRAINABLE_VARIABLES, name)\n",
    "        self.copy_network = [b.assign(a) for a, b in zip(from_var, to_var)] # op to sync from global network\n",
    "        self.model_path = model_path\n",
    "        self.brain_name = brain_name\n",
    "        self.env = env\n",
    "        self.env_info = self.env.reset(train_mode=True)[brain_name]\n",
    "    \n",
    "    # static function to save frame during training\n",
    "    def make_gif(images, fname, duration=2, true_image=False, salience=False, salIMGS=None):\n",
    "        import moviepy.editor as mpy\n",
    "        def make_frame(t):\n",
    "            try:\n",
    "                x = images[int(len(images)/duration*t)]\n",
    "            except:\n",
    "                x = images[-1]\n",
    "            if true_image:\n",
    "                return x.astype(np.uint8)\n",
    "            else:\n",
    "                return ((x+1)/2*255).astype(np.uint8)\n",
    "        \n",
    "        def make_mask(t):\n",
    "            try:\n",
    "                x = salIMGS[int(len(salIMGS)/duration*t)]\n",
    "            except:\n",
    "                x = salIMGS[-1]\n",
    "            return x\n",
    "\n",
    "        clip = mpy.VideoClip(make_frame, duration=duration)\n",
    "        if salience == True:\n",
    "            mask = mpy.VideoClip(make_mask, ismask=True,duration= duration)\n",
    "            clipB = clip.set_mask(mask)\n",
    "            clipB = clip.set_opacity(0)\n",
    "            mask = mask.set_opacity(0.1)\n",
    "            mask.write_gif(fname, fps = len(images) / duration,verbose=False)\n",
    "        else:\n",
    "            clip.write_gif(fname, fps = len(images) / duration,verbose=False)\n",
    "\n",
    "    # static function\n",
    "    def resize_image(image):\n",
    "        image = image.astype(np.float32) / 255.0\n",
    "        return image\n",
    "        #return scipy.misc.imresize(image, [84, 84])\n",
    "        \n",
    "    # !!!!!\n",
    "    # stack sliding windows into discret 1d array\n",
    "    def window_stack(self, a, stepsize=10, trim=2):\n",
    "        a = a[trim:a.shape[0]-trim, trim:a.shape[1]-trim]\n",
    "        b = []\n",
    "        for i in range(int(a.shape[0] / stepsize)):\n",
    "            for j in range(int(a.shape[1] / stepsize)):\n",
    "                b.append(np.mean(a[i*stepsize:i*stepsize+stepsize,j*stepsize:j*stepsize+stepsize]))\n",
    "\n",
    "        b = np.array(b)\n",
    "        # map to [0, 8) int\n",
    "        b = b * 7\n",
    "        b = b.astype(int)\n",
    "\n",
    "        return b\n",
    "\n",
    "    def discount(x, gamma):\n",
    "        return scipy.signal.lfilter([1], [1, -gamma], x[::-1], axis=0)[::-1]\n",
    "\n",
    "    def train(self, train_buffer, sess, boot_value):\n",
    "        train_buffer = np.array(train_buffer)\n",
    "        # unroll from train_buffer\n",
    "        input_image = np.array(train_buffer[:, 0].tolist())\n",
    "        aux_action = np.array(train_buffer[:, 1].tolist())\n",
    "        aux_reward = np.array(train_buffer[:, 2:3].tolist())\n",
    "        aux_velocity = np.array(train_buffer[:, 3].tolist())\n",
    "        action = train_buffer[:, 4]\n",
    "        reward = train_buffer[:, 5]\n",
    "        value = train_buffer[:, 6]\n",
    "        depth_pred = train_buffer[:, 7] # <- ?\n",
    "        true_depth = np.array(train_buffer[:, 8].tolist())\n",
    "\n",
    "        reward_plus = np.asarray(reward.tolist() + [boot_value])\n",
    "        disc_reward = Agent.discount(reward_plus, config.GAMMA)[:-1]\n",
    "        value_plus = np.asarray(value.tolist())\n",
    "        #advantage = Agent.discount(reward + config.GAMMA*value_plus[1:] - value_plus[:-1], config.GAMMA)\n",
    "        advantage = disc_reward - value_plus\n",
    "        vl, pl, el, dl, dl2, gradn, _ , d_tmp= sess.run([self.network.value_loss,\n",
    "            self.network.policy_loss,\n",
    "            self.network.entropy_loss,\n",
    "            self.network.depth_loss,\n",
    "            self.network.depth_loss2,\n",
    "            self.network.gradient_norm,\n",
    "            self.network.apply_gradient, self.network.depth_loss_], feed_dict={\n",
    "                self.network.input_image: input_image,\n",
    "                self.network.input_action: aux_action,\n",
    "                self.network.input_reward: aux_reward,\n",
    "                self.network.input_velocity: aux_velocity,\n",
    "                self.network.true_value: disc_reward,\n",
    "                self.network.advantage: advantage,\n",
    "                self.network.action: action,\n",
    "                self.network.true_depth: true_depth,\n",
    "                self.network.lstm1_state_c_in: self.train_lstm1_state_c,\n",
    "                self.network.lstm1_state_h_in: self.train_lstm1_state_h,\n",
    "                self.network.lstm2_state_c_in: self.train_lstm2_state_c,\n",
    "                self.network.lstm2_state_h_in: self.train_lstm2_state_h\n",
    "            })\n",
    "        sys.stdout.flush()\n",
    "        return vl, pl, el, dl, dl2, gradn, _\n",
    "\n",
    "    def get_action(self, action):\n",
    "        move_forward  = action // 3\n",
    "        rotate = action % 3\n",
    "        return [move_forward, rotate]\n",
    "\n",
    "    def get_vel(self, prev_coord, coord, action_transformed):\n",
    "        if action_transformed[0] == 0:\n",
    "            distance = np.linalg.norm(coord-prev_coord)\n",
    "            # cos 15 degrees, corresponding to turning angle in unity\n",
    "            if action_transformed[1] == 0:\n",
    "                result = [0.96*distance, (coord[1]-prev_coord[1]), -0.26*distance, 0, -15, 0]\n",
    "            if action_transformed[1] == 1:\n",
    "                # cos 15 degrees, corresponding to turning angle in unity\n",
    "                result = [distance, (coord[1]-prev_coord[1]), 0, 0, 0, 0]\n",
    "            if action_transformed[1] == 2:\n",
    "                result = [0.96*distance, (coord[1]-prev_coord[1]), 0.26*distance, 0, 15, 0]\n",
    "\n",
    "        elif action_transformed[0] == 1:\n",
    "            if action_transformed[1] == 0:\n",
    "                result = [0, 0, 0, 0, -15, 0]\n",
    "            if action_transformed[1] == 1:\n",
    "                # cos 15 degrees, corresponding to turning angle in unity\n",
    "                result = [0, 0, 0, 0, 0, 0]\n",
    "            if action_transformed[1] == 2:\n",
    "                result = [0, 0, 0, 0, 15, 0]\n",
    "        else:\n",
    "            assert 0, \"action_transformed's first element is unknown\"\n",
    "\n",
    "        result = np.array(result)\n",
    "        return result\n",
    "\n",
    "    def run(self, sess, trainer, saver, coordinator):\n",
    "        print('starting agent:', self.name)\n",
    "        sys.stdout.flush()\n",
    "        with sess.as_default(), sess.graph.as_default():\n",
    "            while not coordinator.should_stop():\n",
    "                sess.run(self.global_episode.assign_add(1))\n",
    "                print('episode:', sess.run(self.global_episode))\n",
    "                sys.stdout.flush()\n",
    "                \n",
    "                ep = sess.run(self.global_episode)\n",
    "                ep_reward = 0\n",
    "                ep_step = 0\n",
    "                ep_start_time = time.time()\n",
    "\n",
    "                sess.run(self.copy_network)\n",
    "                self.train_buffer = []\n",
    "                frame_buffer = []\n",
    "                running = True\n",
    "\n",
    "                # !!!!!!\n",
    "                # self.game.reset()\n",
    "                # rgb, prev_d = self.game.frame()\n",
    "                rgb = np.asarray(self.env_info.visual_observations[1][0])\n",
    "                prev_d = self.window_stack(np.asarray(self.env_info.visual_observations[0][0]))\n",
    "\n",
    "                frame_buffer.append(rgb * 255)\n",
    "                # rgb = Agent.resize_image(rgb)\n",
    "                prev_act_idx = 0\n",
    "                prev_reward = 0\n",
    "                prev_vel = np.array([0.0]*6)\n",
    "                prev_coord = self.env_info.vector_observations[0][-3:]\n",
    "\n",
    "                self.lstm1_state_c, self.lstm1_state_h, self.lstm2_state_c, self.lstm2_state_h = self.network.lstm1_init_state_c, self.network.lstm1_init_state_h,self.network.lstm2_init_state_c,self.network.lstm2_init_state_h\n",
    "                \n",
    "                self.env_info = self.env.reset(train_mode=True)[self.brain_name]\n",
    "                print('initial position:({:.2f} {:.2f} {:.2f})'.format(self.env_info.vector_observations[0][-3:][0], \n",
    "                                                                       self.env_info.vector_observations[0][-3:][1],\n",
    "                        self.env_info.vector_observations[0][-3:][2]))\n",
    "                # !!!!!!\n",
    "                # while self.game.running():\n",
    "                ep_step_max = 1000\n",
    "                positions = []\n",
    "                while True:\n",
    "                    if len(self.train_buffer)==0:\n",
    "                        self.train_lstm1_state_h = self.lstm1_state_h\n",
    "                        self.train_lstm1_state_c = self.lstm1_state_c\n",
    "                        self.train_lstm2_state_h = self.lstm2_state_h\n",
    "                        self.train_lstm2_state_c = self.lstm2_state_c\n",
    "                    act_prob, pred_value, depth_pred, self.lstm1_state_c, self.lstm1_state_h, self.lstm2_state_c, self.lstm2_state_h = sess.run([self.network.policy,\n",
    "                        self.network.value, self.network.depth_pred,\n",
    "                        self.network.lstm1_state_c_out, \n",
    "                        self.network.lstm1_state_h_out, \n",
    "                        self.network.lstm2_state_c_out, \n",
    "                        self.network.lstm2_state_h_out]\n",
    "                        , \n",
    "                        feed_dict={self.network.input_image: [rgb], \n",
    "                        self.network.input_action: [prev_act_idx], \n",
    "                        self.network.input_reward: [[prev_reward]], \n",
    "                        self.network.input_velocity: [prev_vel],\n",
    "                        self.network.lstm1_state_c_in:self.lstm1_state_c,\n",
    "                        self.network.lstm1_state_h_in:self.lstm1_state_h,\n",
    "                        self.network.lstm2_state_c_in:self.lstm2_state_c,\n",
    "                        self.network.lstm2_state_h_in:self.lstm2_state_h\n",
    "                    })\n",
    "                    \n",
    "                    self.action_visualize = act_prob\n",
    "                    action = np.random.choice(act_prob[0], p=act_prob[0])\n",
    "                    action_idx = np.argmax(act_prob==action)\n",
    "                    \n",
    "                    # !!!!!!\n",
    "                    # rgb_next, d, vel, reward, running = self.game.step(action_idx)\n",
    "                    action_transformed = self.get_action(action_idx)\n",
    "                    self.env_info = self.env.step(action_transformed)[self.brain_name] # send the action to the environment\n",
    "                    rgb_next = np.asarray(self.env_info.visual_observations[1][0])  # get the next state\n",
    "                    d = self.window_stack(np.asarray(self.env_info.visual_observations[0][0]))\n",
    "\n",
    "                    reward = self.env_info.rewards[0]                   # get the reward\n",
    "                    done = self.env_info.local_done[0]                  # see if episode has finished\n",
    "                    coord = self.env_info.vector_observations[0][-3:]\n",
    "\n",
    "                    # !!!!!!\n",
    "                    # only an estimation, get velocity from previous and current coordination, and action vector\n",
    "                    vel = self.get_vel(prev_coord, coord, action_transformed)\n",
    "                    \n",
    "                    sys.stdout.write('\\r episode:{}, step: {}, position:({:.2f} {:.2f} {:.2f}), score:{:.2f}, action:{}'.format(self.name, ep_step,\n",
    "                        self.env_info.vector_observations[0][-3:][0], self.env_info.vector_observations[0][-3:][1],\n",
    "                        self.env_info.vector_observations[0][-3:][2], ep_reward, str(action_idx)))\n",
    "                    sys.stdout.flush()\n",
    "                    \n",
    "                    positions.append([self.env_info.vector_observations[0][-3:][0], \n",
    "                                     self.env_info.vector_observations[0][-3:][1], \n",
    "                                     self.env_info.vector_observations[0][-3:][2]])\n",
    "                    \n",
    "                    self.train_buffer.append([rgb, prev_act_idx, prev_reward, prev_vel, action_idx, \n",
    "                                         reward, pred_value[0][0], depth_pred, prev_d])\n",
    "\n",
    "                    ep_reward += reward\n",
    "                    ep_step += 1\n",
    "                    \n",
    "                    running = not ((ep_step >= ep_step_max) or done)\n",
    "\n",
    "                    if running:\n",
    "                        if ep%config.SAVE_PERIOD==0:\n",
    "                            frame_buffer.append(rgb_next * 255)\n",
    "                        # rgb_next = Agent.resize_image(rgb_next)\n",
    "                        rgb = rgb_next\n",
    "                    \n",
    "                    prev_act_idx = action_idx\n",
    "                    prev_reward = reward\n",
    "                    prev_vel = vel\n",
    "                    prev_d = d\n",
    "\n",
    "                    if len(self.train_buffer)==config.GRADIENT_CHUNK and running:\n",
    "                        boot_value = sess.run(self.network.value, feed_dict={\n",
    "                            self.network.input_image: [rgb], \n",
    "                            self.network.input_action: [prev_act_idx], \n",
    "                            self.network.input_reward: [[prev_reward]], \n",
    "                            self.network.input_velocity: [prev_vel],\n",
    "                            self.network.lstm1_state_c_in:self.lstm1_state_c,\n",
    "                            self.network.lstm1_state_h_in:self.lstm1_state_h,\n",
    "                            self.network.lstm2_state_c_in:self.lstm2_state_c,\n",
    "                            self.network.lstm2_state_h_in:self.lstm2_state_h\n",
    "                        })\n",
    "                        vl, pl, el, dl, dl2, gradn, _ = self.train(self.train_buffer, sess, boot_value)\n",
    "                        self.train_buffer = []\n",
    "                        sess.run(self.copy_network)\n",
    "                    if not running:\n",
    "                        break\n",
    "                if len(self.train_buffer)>0:\n",
    "                    vl, pl, el, dl, dl2, gradn, _ = self.train(self.train_buffer, sess, 0.0)\n",
    "                    self.test1 = [vl, pl, el, dl, dl2, gradn]\n",
    "\n",
    "                ep_finish_time = time.time()\n",
    "                print(self.name, 'elapse', str(int(ep_finish_time-ep_start_time)), 'seconds, reward:',ep_reward)\n",
    "                sys.stdout.flush()\n",
    "\n",
    "                \n",
    "                if ep%config.SAVE_PERIOD==0:\n",
    "                    imgs = np.array(frame_buffer)\n",
    "                    Agent.make_gif(imgs, './frame/image'+str(ep)+'_'+str(ep_reward)+'.gif', duration=len(imgs)*0.066, true_image=True, salience=False)\n",
    "                    print('frame saved')\n",
    "                    sys.stdout.flush()\n",
    "                \n",
    "\n",
    "                if ep%config.SAVE_PERIOD==0:\n",
    "                    saver.save(sess, self.model_path+'/model'+str(ep)+'.cptk')\n",
    "                    print('model saved')\n",
    "                    sys.stdout.flush()\n",
    "\n",
    "                    summary = tf.Summary()\n",
    "                    summary.value.add(tag='Losses/Policy Loss', simple_value=float(pl))\n",
    "                    summary.value.add(tag='Losses/Value Loss', simple_value=float(vl))\n",
    "                    summary.value.add(tag='Losses/Entropy Loss', simple_value=float(el))\n",
    "                    summary.value.add(tag='Losses/Depth Loss', simple_value=float(dl))\n",
    "                    summary.value.add(tag='Losses/Depth Loss2', simple_value=float(dl2))\n",
    "                    summary.value.add(tag='Losses/Gradient Norm', simple_value=float(gradn))\n",
    "                    summary.value.add(tag='Performance/Reward', simple_value=float(ep_reward))\n",
    "                    self.summary_writer.add_summary(summary, ep)\n",
    "                    self.summary_writer.flush()\n",
    "                    \n",
    "                if ep%config.SAVE_PERIOD==0:\n",
    "                    print('save positions')\n",
    "                    sys.stdout.flush()\n",
    "                    \n",
    "                    with open('./positions/'+str(ep), 'wb') as fp:\n",
    "                        pickle.dump(positions, fp)\n",
    "                        "
   ]
  },
  {
   "cell_type": "code",
   "execution_count": null,
   "metadata": {
    "scrolled": true
   },
   "outputs": [
    {
     "name": "stderr",
     "output_type": "stream",
     "text": [
      "WARNING:tensorflow:From C:\\Users\\ztwang\\Desktop\\scl-navigation\\nav_a3c\\network.py:8: The name tf.variable_scope is deprecated. Please use tf.compat.v1.variable_scope instead.\n",
      "\n",
      "WARNING:tensorflow:From C:\\Users\\ztwang\\Desktop\\scl-navigation\\nav_a3c\\network.py:9: The name tf.placeholder is deprecated. Please use tf.compat.v1.placeholder instead.\n",
      "\n",
      "WARNING:tensorflow:From C:\\Users\\ztwang\\Desktop\\scl-navigation\\nav_a3c\\network.py:11: The name tf.truncated_normal is deprecated. Please use tf.random.truncated_normal instead.\n",
      "\n",
      "WARNING:tensorflow:\n",
      "The TensorFlow contrib module will not be included in TensorFlow 2.0.\n",
      "For more information, please see:\n",
      "  * https://github.com/tensorflow/community/blob/master/rfcs/20180907-contrib-sunset.md\n",
      "  * https://github.com/tensorflow/addons\n",
      "  * https://github.com/tensorflow/io (for I/O related ops)\n",
      "If you depend on functionality not listed there, please file an issue.\n",
      "\n",
      "INFO:numexpr.utils:NumExpr defaulting to 8 threads.\n",
      "WARNING:tensorflow:From C:\\Users\\ztwang\\Desktop\\scl-navigation\\nav_a3c\\network.py:30: BasicLSTMCell.__init__ (from tensorflow.python.ops.rnn_cell_impl) is deprecated and will be removed in a future version.\n",
      "Instructions for updating:\n",
      "This class is equivalent as tf.keras.layers.LSTMCell, and will be replaced by that in Tensorflow 2.0.\n",
      "WARNING:tensorflow:From C:\\Users\\ztwang\\Desktop\\scl-navigation\\nav_a3c\\network.py:39: dynamic_rnn (from tensorflow.python.ops.rnn) is deprecated and will be removed in a future version.\n",
      "Instructions for updating:\n",
      "Please use `keras.layers.RNN(cell)`, which is equivalent to this API\n",
      "WARNING:tensorflow:From C:\\Users\\ztwang\\AppData\\Roaming\\Python\\Python37\\site-packages\\tensorflow_core\\python\\ops\\rnn_cell_impl.py:735: Layer.add_variable (from tensorflow.python.keras.engine.base_layer) is deprecated and will be removed in a future version.\n",
      "Instructions for updating:\n",
      "Please use `layer.add_weight` method instead.\n",
      "WARNING:tensorflow:From C:\\Users\\ztwang\\AppData\\Roaming\\Python\\Python37\\site-packages\\tensorflow_core\\python\\ops\\rnn_cell_impl.py:739: calling Zeros.__init__ (from tensorflow.python.ops.init_ops) with dtype is deprecated and will be removed in a future version.\n",
      "Instructions for updating:\n",
      "Call initializer instance with the dtype argument instead of passing it to the constructor\n"
     ]
    },
    {
     "name": "stdout",
     "output_type": "stream",
     "text": [
      "master network created\n"
     ]
    },
    {
     "name": "stderr",
     "output_type": "stream",
     "text": [
      "WARNING:tensorflow:From C:\\Users\\ztwang\\Desktop\\scl-navigation\\nav_a3c\\network.py:105: The name tf.log is deprecated. Please use tf.math.log instead.\n",
      "\n",
      "WARNING:tensorflow:From C:\\Users\\ztwang\\Desktop\\scl-navigation\\nav_a3c\\network.py:124: The name tf.get_collection is deprecated. Please use tf.compat.v1.get_collection instead.\n",
      "\n",
      "WARNING:tensorflow:From C:\\Users\\ztwang\\Desktop\\scl-navigation\\nav_a3c\\network.py:124: The name tf.GraphKeys is deprecated. Please use tf.compat.v1.GraphKeys instead.\n",
      "\n",
      "WARNING:tensorflow:From C:\\Users\\ztwang\\AppData\\Roaming\\Python\\Python37\\site-packages\\tensorflow_core\\python\\ops\\clip_ops.py:301: where (from tensorflow.python.ops.array_ops) is deprecated and will be removed in a future version.\n",
      "Instructions for updating:\n",
      "Use tf.where in 2.0, which has the same broadcast rule as np.where\n",
      "WARNING:tensorflow:From C:\\Users\\ztwang\\AppData\\Roaming\\Python\\Python37\\site-packages\\tensorflow_core\\python\\training\\rmsprop.py:119: calling Ones.__init__ (from tensorflow.python.ops.init_ops) with dtype is deprecated and will be removed in a future version.\n",
      "Instructions for updating:\n",
      "Call initializer instance with the dtype argument instead of passing it to the constructor\n"
     ]
    },
    {
     "name": "stdout",
     "output_type": "stream",
     "text": [
      "starting agent:thread started \n",
      "thread_0_1577222129.9262495\n",
      "episode: 1\n",
      "initial position:(-641.56 -2.60 208.23)\n",
      " episode:thread_0_1577222129.9262495, step: 999, position:(-688.71 -5.57 172.06), score:0.02, action:4thread_0_1577222129.9262495 elapse 32 seconds, reward: 0.01000022329390049\n",
      "MoviePy - Building file ./frame/image1_0.01000022329390049.gif with imageio.\n"
     ]
    },
    {
     "name": "stderr",
     "output_type": "stream",
     "text": [
      "                                                                                                                                       \r"
     ]
    },
    {
     "name": "stdout",
     "output_type": "stream",
     "text": [
      "frame saved\n",
      "model saved\n",
      "save positions\n",
      "episode: 2\n",
      "initial position:(-633.02 -5.28 204.69)\n",
      " episode:thread_0_1577222129.9262495, step: 999, position:(-611.00 -3.67 138.00), score:0.02, action:3thread_0_1577222129.9262495 elapse 32 seconds, reward: 0.01000022329390049\n",
      "MoviePy - Building file ./frame/image2_0.01000022329390049.gif with imageio.\n"
     ]
    },
    {
     "name": "stderr",
     "output_type": "stream",
     "text": [
      "                                                                                                                                       \r"
     ]
    },
    {
     "name": "stdout",
     "output_type": "stream",
     "text": [
      "frame saved\n",
      "model saved\n",
      "save positions\n",
      "episode: 3\n",
      "initial position:(-640.69 -3.38 177.17)\n",
      " episode:thread_0_1577222129.9262495, step: 999, position:(-694.90 -23.60 119.06), score:-9.99, action:0thread_0_1577222129.9262495 elapse 31 seconds, reward: -9.999999776482582\n",
      "MoviePy - Building file ./frame/image3_-9.999999776482582.gif with imageio.\n"
     ]
    },
    {
     "name": "stderr",
     "output_type": "stream",
     "text": [
      "                                                                                                                                       \r"
     ]
    },
    {
     "name": "stdout",
     "output_type": "stream",
     "text": [
      "frame saved\n",
      "model saved\n",
      "save positions\n",
      "episode: 4\n",
      "initial position:(-640.69 -23.02 177.17)\n",
      " episode:thread_0_1577222129.9262495, step: 999, position:(-654.23 -43.10 123.04), score:-9.99, action:0thread_0_1577222129.9262495 elapse 30 seconds, reward: -9.999999776482582\n",
      "MoviePy - Building file ./frame/image4_-9.999999776482582.gif with imageio.\n"
     ]
    },
    {
     "name": "stderr",
     "output_type": "stream",
     "text": [
      "                                                                                                                                       \r"
     ]
    },
    {
     "name": "stdout",
     "output_type": "stream",
     "text": [
      "frame saved\n",
      "model saved\n",
      "save positions\n",
      "episode: 5\n",
      "initial position:(-640.69 -42.66 177.17)\n",
      " episode:thread_0_1577222129.9262495, step: 999, position:(-708.68 -63.18 98.11), score:-9.99, action:11thread_0_1577222129.9262495 elapse 28 seconds, reward: -9.999999776482582\n",
      "MoviePy - Building file ./frame/image5_-9.999999776482582.gif with imageio.\n"
     ]
    },
    {
     "name": "stderr",
     "output_type": "stream",
     "text": [
      "                                                                                                                                       \r"
     ]
    },
    {
     "name": "stdout",
     "output_type": "stream",
     "text": [
      "frame saved\n",
      "model saved\n",
      "save positions\n",
      "episode: 6\n",
      "initial position:(-686.20 -62.23 192.00)\n",
      " episode:thread_0_1577222129.9262495, step: 999, position:(-701.40 -5.34 180.21), score:-9.99, action:1thread_0_1577222129.9262495 elapse 31 seconds, reward: -9.999999776482582\n",
      "MoviePy - Building file ./frame/image6_-9.999999776482582.gif with imageio.\n"
     ]
    },
    {
     "name": "stderr",
     "output_type": "stream",
     "text": [
      "                                                                                                                                       \r"
     ]
    },
    {
     "name": "stdout",
     "output_type": "stream",
     "text": [
      "frame saved\n"
     ]
    },
    {
     "name": "stderr",
     "output_type": "stream",
     "text": [
      "WARNING:tensorflow:From C:\\Users\\ztwang\\AppData\\Roaming\\Python\\Python37\\site-packages\\tensorflow_core\\python\\training\\saver.py:963: remove_checkpoint (from tensorflow.python.training.checkpoint_management) is deprecated and will be removed in a future version.\n",
      "Instructions for updating:\n",
      "Use standard file APIs to delete files with this prefix.\n"
     ]
    },
    {
     "name": "stdout",
     "output_type": "stream",
     "text": [
      "model saved\n",
      "save positions\n",
      "episode: 7\n",
      "initial position:(-633.02 -5.14 204.69)\n",
      " episode:thread_0_1577222129.9262495, step: 999, position:(-651.40 -15.40 141.37), score:-9.99, action:2thread_0_1577222129.9262495 elapse 31 seconds, reward: -9.999999776482582\n",
      "MoviePy - Building file ./frame/image7_-9.999999776482582.gif with imageio.\n"
     ]
    },
    {
     "name": "stderr",
     "output_type": "stream",
     "text": [
      "                                                                                                                                       \r"
     ]
    },
    {
     "name": "stdout",
     "output_type": "stream",
     "text": [
      "frame saved\n",
      "model saved\n",
      "save positions\n",
      "episode: 8\n",
      "initial position:(-640.87 -15.14 173.92)\n",
      " episode:thread_0_1577222129.9262495, step: 999, position:(-610.03 -3.01 166.06), score:0.02, action:213thread_0_1577222129.9262495 elapse 34 seconds, reward: 0.01000022329390049\n",
      "MoviePy - Building file ./frame/image8_0.01000022329390049.gif with imageio.\n"
     ]
    },
    {
     "name": "stderr",
     "output_type": "stream",
     "text": [
      "                                                                                                                                       \r"
     ]
    },
    {
     "name": "stdout",
     "output_type": "stream",
     "text": [
      "frame saved\n",
      "model saved\n",
      "save positions\n",
      "episode: 9\n",
      "initial position:(-623.41 -3.06 163.25)\n",
      " episode:thread_0_1577222129.9262495, step: 999, position:(-595.95 -4.92 81.01), score:-9.99, action:22thread_0_1577222129.9262495 elapse 37 seconds, reward: -9.999999776482582\n",
      "MoviePy - Building file ./frame/image9_-9.999999776482582.gif with imageio.\n"
     ]
    },
    {
     "name": "stderr",
     "output_type": "stream",
     "text": [
      "                                                                                                                                       \r"
     ]
    },
    {
     "name": "stdout",
     "output_type": "stream",
     "text": [
      "frame saved\n",
      "model saved\n",
      "save positions\n",
      "episode: 10\n",
      "initial position:(-588.53 -4.60 123.89)\n",
      " episode:thread_0_1577222129.9262495, step: 999, position:(-594.61 -4.50 152.19), score:-9.99, action:31thread_0_1577222129.9262495 elapse 33 seconds, reward: -9.999999776482582\n",
      "MoviePy - Building file ./frame/image10_-9.999999776482582.gif with imageio.\n"
     ]
    },
    {
     "name": "stderr",
     "output_type": "stream",
     "text": [
      "                                                                                                                                       \r"
     ]
    },
    {
     "name": "stdout",
     "output_type": "stream",
     "text": [
      "frame saved\n",
      "model saved\n",
      "save positions\n",
      "episode: 11\n",
      "initial position:(-613.21 -4.32 177.53)\n",
      " episode:thread_0_1577222129.9262495, step: 999, position:(-673.25 -4.74 205.33), score:-9.99, action:2thread_0_1577222129.9262495 elapse 31 seconds, reward: -9.999999776482582\n",
      "MoviePy - Building file ./frame/image11_-9.999999776482582.gif with imageio.\n"
     ]
    },
    {
     "name": "stderr",
     "output_type": "stream",
     "text": [
      "                                                                                                                                       \r"
     ]
    },
    {
     "name": "stdout",
     "output_type": "stream",
     "text": [
      "frame saved\n",
      "model saved\n",
      "save positions\n",
      "episode: 12\n",
      "initial position:(-641.56 -4.79 201.15)\n",
      " episode:thread_0_1577222129.9262495, step: 999, position:(-663.25 -5.30 205.93), score:-9.99, action:3thread_0_1577222129.9262495 elapse 31 seconds, reward: -9.999999776482582\n",
      "MoviePy - Building file ./frame/image12_-9.999999776482582.gif with imageio.\n"
     ]
    },
    {
     "name": "stderr",
     "output_type": "stream",
     "text": [
      "                                                                                                                                       \r"
     ]
    },
    {
     "name": "stdout",
     "output_type": "stream",
     "text": [
      "frame saved\n",
      "model saved\n",
      "save positions\n",
      "episode: 13\n",
      "initial position:(-641.56 -5.31 208.23)\n",
      " episode:thread_0_1577222129.9262495, step: 999, position:(-573.98 -3.80 185.96), score:-9.99, action:5thread_0_1577222129.9262495 elapse 32 seconds, reward: -9.999999776482582\n",
      "MoviePy - Building file ./frame/image13_-9.999999776482582.gif with imageio.\n"
     ]
    },
    {
     "name": "stderr",
     "output_type": "stream",
     "text": [
      "                                                                                                                                       \r"
     ]
    },
    {
     "name": "stdout",
     "output_type": "stream",
     "text": [
      "frame saved\n",
      "model saved\n",
      "save positions\n",
      "episode: 14\n",
      "initial position:(-640.68 -3.80 188.28)\n",
      " episode:thread_0_1577222129.9262495, step: 999, position:(-632.09 -12.31 158.03), score:0.02, action:5thread_0_1577222129.9262495 elapse 31 seconds, reward: 0.01000022329390049\n",
      "MoviePy - Building file ./frame/image14_0.01000022329390049.gif with imageio.\n"
     ]
    },
    {
     "name": "stderr",
     "output_type": "stream",
     "text": [
      "                                                                                                                                       \r"
     ]
    },
    {
     "name": "stdout",
     "output_type": "stream",
     "text": [
      "frame saved\n",
      "model saved\n",
      "save positions\n",
      "episode: 15\n",
      "initial position:(-640.87 -12.19 173.92)\n",
      " episode:thread_0_1577222129.9262495, step: 999, position:(-655.36 -31.88 169.10), score:-9.99, action:3thread_0_1577222129.9262495 elapse 31 seconds, reward: -9.999999776482582\n",
      "MoviePy - Building file ./frame/image15_-9.999999776482582.gif with imageio.\n"
     ]
    },
    {
     "name": "stderr",
     "output_type": "stream",
     "text": [
      "                                                                                                                                       \r"
     ]
    },
    {
     "name": "stdout",
     "output_type": "stream",
     "text": [
      "frame saved\n",
      "model saved\n",
      "save positions\n",
      "episode: 16\n",
      "initial position:(-640.69 -31.81 177.17)\n",
      " episode:thread_0_1577222129.9262495, step: 999, position:(-672.00 -51.94 119.14), score:-9.99, action:1thread_0_1577222129.9262495 elapse 29 seconds, reward: -9.999999776482582\n",
      "MoviePy - Building file ./frame/image16_-9.999999776482582.gif with imageio.\n"
     ]
    },
    {
     "name": "stderr",
     "output_type": "stream",
     "text": [
      "                                                                                                                                       \r"
     ]
    },
    {
     "name": "stdout",
     "output_type": "stream",
     "text": [
      "frame saved\n",
      "model saved\n",
      "save positions\n",
      "episode: 17\n",
      "initial position:(-632.33 -51.44 177.45)\n",
      " episode:thread_0_1577222129.9262495, step: 999, position:(-606.61 -9.04 162.10), score:-9.99, action:35thread_0_1577222129.9262495 elapse 30 seconds, reward: -9.999999776482582\n",
      "MoviePy - Building file ./frame/image17_-9.999999776482582.gif with imageio.\n"
     ]
    },
    {
     "name": "stderr",
     "output_type": "stream",
     "text": [
      "                                                                                                                                       \r"
     ]
    },
    {
     "name": "stdout",
     "output_type": "stream",
     "text": [
      "frame saved\n",
      "model saved\n",
      "save positions\n",
      "episode: 18\n",
      "initial position:(-617.20 -9.05 162.50)\n",
      " episode:thread_0_1577222129.9262495, step: 999, position:(-614.76 -15.68 151.62), score:-9.99, action:5thread_0_1577222129.9262495 elapse 31 seconds, reward: -9.999999776482582\n",
      "MoviePy - Building file ./frame/image18_-9.999999776482582.gif with imageio.\n"
     ]
    },
    {
     "name": "stderr",
     "output_type": "stream",
     "text": [
      "                                                                                                                                       \r"
     ]
    },
    {
     "name": "stdout",
     "output_type": "stream",
     "text": [
      "frame saved\n",
      "model saved\n",
      "save positions\n",
      "episode: 19\n",
      "initial position:(-625.22 -15.67 154.89)\n",
      " episode:thread_0_1577222129.9262495, step: 999, position:(-613.85 -8.41 166.85), score:-9.99, action:1thread_0_1577222129.9262495 elapse 32 seconds, reward: -9.999999776482582\n",
      "MoviePy - Building file ./frame/image19_-9.999999776482582.gif with imageio.\n"
     ]
    },
    {
     "name": "stderr",
     "output_type": "stream",
     "text": [
      "                                                                                                                                       \r"
     ]
    },
    {
     "name": "stdout",
     "output_type": "stream",
     "text": [
      "frame saved\n",
      "model saved\n",
      "save positions\n",
      "episode: 20\n",
      "initial position:(-617.55 -8.42 167.26)\n",
      " episode:thread_0_1577222129.9262495, step: 999, position:(-505.40 -6.82 192.75), score:-9.99, action:12thread_0_1577222129.9262495 elapse 31 seconds, reward: -9.999999776482582\n",
      "MoviePy - Building file ./frame/image20_-9.999999776482582.gif with imageio.\n"
     ]
    },
    {
     "name": "stderr",
     "output_type": "stream",
     "text": [
      "                                                                                                                                       \r"
     ]
    },
    {
     "name": "stdout",
     "output_type": "stream",
     "text": [
      "frame saved\n",
      "model saved\n",
      "save positions\n",
      "episode: 21\n",
      "initial position:(-552.65 -6.80 198.30)\n",
      " episode:thread_0_1577222129.9262495, step: 999, position:(-468.48 3.31 60.93), score:0.02, action:11111thread_0_1577222129.9262495 elapse 32 seconds, reward: 0.01000022329390049\n",
      "MoviePy - Building file ./frame/image21_0.01000022329390049.gif with imageio.\n"
     ]
    },
    {
     "name": "stderr",
     "output_type": "stream",
     "text": [
      "                                                                                                                                       \r"
     ]
    },
    {
     "name": "stdout",
     "output_type": "stream",
     "text": [
      "frame saved\n",
      "model saved\n",
      "save positions\n",
      "episode: 22\n",
      "initial position:(-545.40 3.30 76.80)\n",
      " episode:thread_0_1577222129.9262495, step: 949, position:(-439.87 -4.40 54.62), score:-9.49, action:1"
     ]
    }
   ],
   "source": [
    "import warnings\n",
    "warnings.filterwarnings('ignore')\n",
    "\n",
    "import tensorflow as tf\n",
    "import os\n",
    "import threading\n",
    "import sys\n",
    "import time\n",
    "\n",
    "import config\n",
    "import network\n",
    "# import agent\n",
    "    \n",
    "model_path = './model'\n",
    "frame_path = './frame'\n",
    "if not os.path.exists(model_path):\n",
    "    os.makedirs(model_path)\n",
    "if not os.path.exists(frame_path):\n",
    "    os.makedirs(frame_path)\n",
    "\n",
    "with tf.device('cpu:0'):\n",
    "    global_episode = tf.Variable(0, trainable=False, dtype=tf.int32)\n",
    "    trainer = tf.train.RMSPropOptimizer(config.LEARNING_RATE, decay=config.DECAY, \n",
    "                                        momentum=config.MOMENTUM, epsilon=config.EPSILON)\n",
    "    master_network = network.Network('global', trainer)\n",
    "    print('master network created')\n",
    "    sys.stdout.flush()\n",
    "    agent_arr = []\n",
    "    for i in range(config.THREAD):\n",
    "        agent_arr.append(Agent('thread_'+str(i)+'_'+str(time.time()), trainer, global_episode, \n",
    "                               model_path, env, default_brain))\n",
    "    saver = tf.train.Saver()\n",
    "\n",
    "with tf.Session() as sess:\n",
    "    coord = tf.train.Coordinator()\n",
    "    sess.run(tf.global_variables_initializer())\n",
    "    # ckpt = tf.train.get_checkpoint_state(model_path)\n",
    "    # saver.restore(sess, ckpt.model_checkpoint_path)\n",
    "    thread_arr = []\n",
    "    for a in agent_arr:\n",
    "        _ = lambda: a.run(sess, trainer, saver, coord)\n",
    "        t = threading.Thread(target=(_))\n",
    "        t.start()\n",
    "        print('thread started')\n",
    "        sys.stdout.flush()\n",
    "        time.sleep(1)\n",
    "        thread_arr.append(t)\n",
    "    coord.join(thread_arr)"
   ]
  },
  {
   "cell_type": "markdown",
   "metadata": {},
   "source": [
    "### visualize depth vector"
   ]
  },
  {
   "cell_type": "code",
   "execution_count": 12,
   "metadata": {},
   "outputs": [],
   "source": [
    "train_buffer = np.array(agent_arr[0].train_buffer)"
   ]
  },
  {
   "cell_type": "code",
   "execution_count": 13,
   "metadata": {},
   "outputs": [],
   "source": [
    "true_depth = np.array(train_buffer[:, 8].tolist())\n",
    "depth_pred = train_buffer[:, 7]\n",
    "input_image = np.array(train_buffer[:, 0].tolist())"
   ]
  },
  {
   "cell_type": "code",
   "execution_count": 19,
   "metadata": {},
   "outputs": [
    {
     "data": {
      "image/png": "[encoded data removed]",
      "text/plain": [
       "<Figure size 432x288 with 3 Axes>"
      ]
     },
     "metadata": {
      "needs_background": "light"
     },
     "output_type": "display_data"
    }
   ],
   "source": [
    "i = 8\n",
    "plt.subplot(1, 3, 1)\n",
    "plt.imshow(true_depth[i].reshape(8, 8), cmap='gray', interpolation='nearest', vmin=0, vmax=7)\n",
    "plt.subplot(1, 3, 2)\n",
    "plt.imshow(depth_pred[i].reshape(8, 8), cmap='gray')\n",
    "plt.subplot(1, 3, 3)\n",
    "plt.imshow(input_image[i])\n",
    "plt.show()"
   ]
  },
  {
   "cell_type": "code",
   "execution_count": 20,
   "metadata": {},
   "outputs": [
    {
     "data": {
      "image/png": "[encoded data removed]",
      "text/plain": [
       "<Figure size 432x288 with 3 Axes>"
      ]
     },
     "metadata": {
      "needs_background": "light"
     },
     "output_type": "display_data"
    }
   ],
   "source": [
    "plt.subplot(1, 3, 1)\n",
    "d = agent_arr[0].window_stack(np.asarray(agent_arr[0].env_info.visual_observations[0][0]))\n",
    "plt.imshow(d.reshape(8, 8), cmap='gray', interpolation='nearest', vmin=0, vmax=7)\n",
    "plt.subplot(1, 3, 2)\n",
    "img_d = np.asarray(agent_arr[0].env_info.visual_observations[0][0])[:,:,0]\n",
    "plt.imshow(img_d, cmap='gray', vmin=0, vmax=1)\n",
    "plt.subplot(1, 3, 3)\n",
    "img_d = np.asarray(agent_arr[0].env_info.visual_observations[1][0])[:,:,0]\n",
    "plt.imshow(img_d, cmap='gray', vmin=0, vmax=1)\n",
    "plt.show()"
   ]
  },
  {
   "cell_type": "code",
   "execution_count": 21,
   "metadata": {},
   "outputs": [
    {
     "data": {
      "text/plain": [
       "array([4, 0, 0, 0, 0, 0, 0, 0, 5, 4, 0, 0, 0, 0, 0, 0, 6, 6, 5, 2, 0, 0,\n",
       "       0, 0, 6, 5, 5, 5, 4, 2, 0, 0, 6, 5, 5, 5, 5, 5, 4, 5, 6, 6, 6, 6,\n",
       "       6, 6, 6, 6, 6, 6, 6, 6, 6, 6, 6, 6, 6, 6, 6, 6, 6, 6, 6, 6])"
      ]
     },
     "execution_count": 21,
     "metadata": {},
     "output_type": "execute_result"
    }
   ],
   "source": [
    "d"
   ]
  },
  {
   "cell_type": "markdown",
   "metadata": {},
   "source": [
    "### visualize action probability"
   ]
  },
  {
   "cell_type": "code",
   "execution_count": 22,
   "metadata": {
    "scrolled": true
   },
   "outputs": [
    {
     "data": {
      "text/plain": [
       "array([[1.2160218e-03, 2.5207640e-03, 1.0990636e-02, 9.8242378e-01,\n",
       "        1.9187059e-03, 9.3012367e-04]], dtype=float32)"
      ]
     },
     "execution_count": 22,
     "metadata": {},
     "output_type": "execute_result"
    }
   ],
   "source": [
    "agent_arr[0].action_visualize"
   ]
  },
  {
   "cell_type": "code",
   "execution_count": 23,
   "metadata": {
    "scrolled": false
   },
   "outputs": [
    {
     "data": {
      "image/png": "[encoded data removed]",
      "text/plain": [
       "<Figure size 432x288 with 1 Axes>"
      ]
     },
     "metadata": {
      "needs_background": "light"
     },
     "output_type": "display_data"
    }
   ],
   "source": [
    "# import matplotlib.pyplot as plt\n",
    "fig, ax = plt.subplots()\n",
    "plt.bar([1,2,3,4,5,6], agent_arr[0].action_visualize[0], color='black', width=0.4)\n",
    "ax.set_xticklabels(['', 'Forward + Left', 'Forward', 'Forward + Right', \n",
    "                    'Left', 'Still', 'Right'], fontsize=6.5)\n",
    "plt.xlabel('actions', fontsize=18)\n",
    "plt.ylabel('chances of taking an action', fontsize=16)\n",
    "plt.show()\n"
   ]
  },
  {
   "cell_type": "code",
   "execution_count": null,
   "metadata": {},
   "outputs": [],
   "source": [
    "agent_arr[0].env_info.visual_observations[0][0]"
   ]
  },
  {
   "cell_type": "code",
   "execution_count": null,
   "metadata": {},
   "outputs": [],
   "source": [
    "img_d = np.asarray(agent_arr[0].env_info.visual_observations[0][0])[:,:,0]\n",
    "imgplt = plt.imshow(img_d, cmap='gray', vmin=0, vmax=1)\n",
    "logger.info('Shape of image: %s' % str(img_d.shape))"
   ]
  },
  {
   "cell_type": "markdown",
   "metadata": {},
   "source": [
    "# A2C function"
   ]
  },
  {
   "cell_type": "code",
   "execution_count": null,
   "metadata": {},
   "outputs": [],
   "source": [
    "from a2c_ppo_acktr import algo, utils\n",
    "# from a2c_ppo_acktr.algo import gail\n",
    "from a2c_ppo_acktr.arguments import get_args\n",
    "# from a2c_ppo_acktr.envs import make_vec_envs\n",
    "from a2c_ppo_acktr.model import Policy\n",
    "from a2c_ppo_acktr.storage import RolloutStorage\n",
    "# from evaluation import evaluate\n",
    "\n",
    "observation_space = [3, 300, 300]\n",
    "action_space = 3\n",
    "\n",
    "# def a2c_ppo_acktr(env_info, al_type='a2c', gail=False, gail_experts_dir='./gail_experts', \n",
    "#                   gail_batch_size=128, gail_epoch=1e5, alpha=0.99, \n",
    "#                   gamma=0.99, use_gae=False, gae_lambda=0.95, \n",
    "#                   entropy_coef=0.01, value_loss_coef=0.5, max_grad_norm=0.5, \n",
    "#                   seed=False, num_processes=1, num_steps=5, ppo_epoch=4, num_mini_batch=32, \n",
    "#                   clip_param=0.2, log_interval=10, save_interval=100, eval_interval=None, \n",
    "#                   num_env_steps=10e6, env_name='PongNoFrameskip_v4', log_dir='/tmp/gym/', \n",
    "#                   save_dir='./trained_models/', no_cuda=False, use_proper_time_limits=False, \n",
    "#                   recurrent_policy=False, use_linear_lr_decay=False, cuda=True, cuda_deterministic=True, \n",
    "#                   eps=1e-5, lr=7e-4):\n",
    "\n",
    "# ====== for testing\n",
    "if True:\n",
    "    \n",
    "    n_episodes=1000\n",
    "    al_type='a2c'\n",
    "    gail=False\n",
    "    gail_experts_dir='./gail_experts'\n",
    "    gail_batch_size=128\n",
    "    gail_epoch=1e5\n",
    "    alpha=0.99\n",
    "    gamma=0.99\n",
    "    use_gae=False\n",
    "    gae_lambda=0.95\n",
    "    entropy_coef=0.01\n",
    "    value_loss_coef=0.5\n",
    "    max_grad_norm=0.5\n",
    "    seed=False\n",
    "    num_processes=1\n",
    "    num_steps=1000\n",
    "    ppo_epoch=4\n",
    "    num_mini_batch=32\n",
    "    clip_param=0.2\n",
    "    log_interval=10\n",
    "    save_interval=1000\n",
    "    eval_interval=None\n",
    "    num_env_steps=10e6\n",
    "    env_name='vcs_test'\n",
    "    log_dir='/tmp/vcs/'\n",
    "    save_dir='./trained_models/'\n",
    "    no_cuda=False\n",
    "    use_proper_time_limits=False\n",
    "    recurrent_policy=False\n",
    "    use_linear_lr_decay=False\n",
    "    cuda=True\n",
    "    cuda_deterministic=True\n",
    "    eps=1e-5\n",
    "    lr=7e-4\n",
    "    \n",
    "    # load_prev_model=os.path.join(save_dir, al_type, env_name + \"_back.pt\")\n",
    "    load_prev_model = None\n",
    "    \n",
    "# ====== for testing\n",
    "\n",
    "    torch.manual_seed(seed)\n",
    "    torch.cuda.manual_seed_all(seed)\n",
    "    \n",
    "    if cuda and torch.cuda.is_available() and cuda_deterministic:\n",
    "        torch.backends.cudnn.benchmark = False\n",
    "        torch.backends.cudnn.deterministic = True\n",
    "\n",
    "    log_dir = os.path.expanduser(log_dir)\n",
    "    eval_log_dir = log_dir + \"_eval\"\n",
    "    utils.cleanup_log_dir(log_dir)\n",
    "    utils.cleanup_log_dir(eval_log_dir)\n",
    "\n",
    "    torch.set_num_threads(1)\n",
    "    device = torch.device(\"cuda:1\" if cuda else \"cpu\")\n",
    "    \n",
    "    actor_critic = Policy(\n",
    "        observation_space,\n",
    "        action_space,\n",
    "        base_kwargs={'recurrent': recurrent_policy})\n",
    "    \n",
    "    actor_critic.to(device)\n",
    "    \n",
    "    if not load_prev_model is None:\n",
    "        agent = torch.load(load_prev_model)\n",
    "        \n",
    "    # torch.save(model)\n",
    "    # model = torch.load(PATH)\n",
    "    \n",
    "    if al_type == 'a2c':\n",
    "        agent = algo.A2C_ACKTR(\n",
    "            actor_critic,\n",
    "            value_loss_coef,\n",
    "            entropy_coef,\n",
    "            lr=lr,\n",
    "            eps=eps,\n",
    "            alpha=alpha,\n",
    "            max_grad_norm=max_grad_norm)\n",
    "    elif al_type == 'ppo':\n",
    "        agent = algo.PPO(\n",
    "            actor_critic,\n",
    "            clip_param,\n",
    "            ppo_epoch,\n",
    "            num_mini_batch,\n",
    "            value_loss_coef,\n",
    "            entropy_coef,\n",
    "            lr=lr,\n",
    "            eps=eps,\n",
    "            max_grad_norm=max_grad_norm)\n",
    "    elif al_type == 'acktr':\n",
    "        agent = algo.A2C_ACKTR(\n",
    "            actor_critic, value_loss_coef, entropy_coef, acktr=True)\n",
    "\n",
    "    rollouts = RolloutStorage(num_steps, num_processes,\n",
    "                              observation_space, action_space,\n",
    "                              actor_critic.recurrent_hidden_state_size)\n",
    "\n",
    "    env_info = env.reset(train_mode=True)[brain_name]\n",
    "    obs = torch.from_numpy(np.transpose(np.asarray(env_info.visual_observations)[0], (0, 3, 1, 2)))\n",
    "    reward = [env_info.rewards[0]]                   # get the reward\n",
    "    done = [env_info.local_done[0]]                  # see if episode has finished\n",
    "    \n",
    "    rollouts.obs[0].copy_(obs)\n",
    "    rollouts.to(device)\n",
    "\n",
    "    episode_rewards = []\n",
    "\n",
    "    start = time.time()\n",
    "    \n",
    "    positions = []    \n",
    "    num_updates = n_episodes\n",
    "    \n",
    "    for j in range(num_updates):\n",
    "        \n",
    "        # out video!!!!\n",
    "        # out_video = imageio.get_writer('./%s_video.mp4' % str(j), fps=10)\n",
    "        \n",
    "        env_info = env.reset(train_mode=True)[brain_name]\n",
    "\n",
    "        if use_linear_lr_decay:\n",
    "            # decrease learning rate linearly\n",
    "            utils.update_linear_schedule(\n",
    "                agent.optimizer, j, num_updates,\n",
    "                agent.optimizer.lr if algo == \"acktr\" else lr)\n",
    "        \n",
    "        score = 0\n",
    "        position_epi = []\n",
    "        \n",
    "        for step in range(num_steps):\n",
    "            # Sample actions\n",
    "            with torch.no_grad():\n",
    "                value, action, action_log_prob, recurrent_hidden_states = actor_critic.act(\n",
    "                    rollouts.obs[step], rollouts.recurrent_hidden_states[step],\n",
    "                    rollouts.masks[step])\n",
    "\n",
    "            # Obser reward and next obs\n",
    "            action_transformed = get_action(action.cpu().numpy())\n",
    "            env_info = env.step(action_transformed)[brain_name]        # send the action to the environment\n",
    "            obs = torch.from_numpy(np.transpose(np.asarray(env_info.visual_observations)[0], \n",
    "                                                (0, 3, 1, 2))) # get the next state\n",
    "            reward = torch.FloatTensor(env_info.rewards)        # get the reward\n",
    "            done = torch.FloatTensor(env_info.local_done)       # see if episode has finished\n",
    "\n",
    "            # If done then clean the history of observations.\n",
    "            masks = torch.FloatTensor(\n",
    "                [[0.0] if done_ else [1.0] for done_ in done])\n",
    "            \n",
    "            # zwang !!! don't know what it is doing, changing it to\n",
    "            bad_masks = torch.FloatTensor([[1.0]])\n",
    "\n",
    "            rollouts.insert(obs, recurrent_hidden_states, action,\n",
    "                            action_log_prob, value, reward, masks, bad_masks)\n",
    "            \n",
    "            score += reward\n",
    "            stdout.write('\\r episode:{}, step: {}, position:({:.2f} {:.2f} {:.2f}), score:{}'.format(j, step,\n",
    "                        env_info.vector_observations[0][-3:][0], env_info.vector_observations[0][-3:][1],\n",
    "                        env_info.vector_observations[0][-3:][2], str(score)))\n",
    "            stdout.flush()\n",
    "            \n",
    "            position_epi.append(env_info.vector_observations[0][-3:].tolist())\n",
    "            \n",
    "            # out video!!!!\n",
    "            # out_video.append_data((np.asarray(env_info.visual_observations)[0][0] * 255).astype(np.uint8))\n",
    "        \n",
    "        episode_rewards.append(score)\n",
    "        \n",
    "        # out video!!!!\n",
    "        # out_video.close()\n",
    "        \n",
    "        with torch.no_grad():\n",
    "            next_value = actor_critic.get_value(\n",
    "                rollouts.obs[-1], rollouts.recurrent_hidden_states[-1],\n",
    "                rollouts.masks[-1]).detach()\n",
    "\n",
    "        rollouts.compute_returns(next_value, use_gae, gamma,\n",
    "                                 gae_lambda, use_proper_time_limits)\n",
    "        \n",
    "        value_loss, action_loss, dist_entropy = agent.update(rollouts)\n",
    "\n",
    "        rollouts.after_update()\n",
    "\n",
    "        # save for every interval-th episode or for the last epoch\n",
    "        if (j % save_interval == 0\n",
    "                or j == num_updates - 1) and save_dir != \"\":\n",
    "            save_path = os.path.join(save_dir, al_type)\n",
    "            try:\n",
    "                os.makedirs(save_path)\n",
    "            except OSError:\n",
    "                pass\n",
    "                        \n",
    "            torch.save(\n",
    "                actor_critic\n",
    "            , os.path.join(save_path, env_name + \".pt\"))\n",
    "                    \n",
    "        positions.append(position_epi)\n",
    "        writer.add_scalar('total_rewards', score, j)\n",
    "        writer.close()\n",
    "        "
   ]
  },
  {
   "cell_type": "code",
   "execution_count": 10,
   "metadata": {
    "scrolled": false
   },
   "outputs": [
    {
     "name": "stdout",
     "output_type": "stream",
     "text": [
      "10 tensor([10.0199])\n",
      "17 tensor([10.0199])\n",
      "32 tensor([10.0198])\n",
      "33 tensor([10.0198])\n",
      "37 tensor([10.0198])\n",
      "42 tensor([10.0198])\n",
      "43 tensor([10.0199])\n",
      "52 tensor([10.0198])\n",
      "58 tensor([10.0198])\n",
      "67 tensor([10.0198])\n",
      "69 tensor([10.0199])\n",
      "72 tensor([10.0199])\n",
      "76 tensor([10.0199])\n",
      "165 tensor([10.0198])\n",
      "175 tensor([10.0198])\n",
      "177 tensor([20.0298])\n",
      "178 tensor([10.0200])\n",
      "183 tensor([10.0199])\n",
      "216 tensor([10.0198])\n",
      "220 tensor([10.0198])\n",
      "223 tensor([10.0199])\n",
      "265 tensor([10.0198])\n",
      "269 tensor([10.0198])\n",
      "270 tensor([10.0198])\n",
      "292 tensor([10.0199])\n",
      "294 tensor([10.0199])\n",
      "295 tensor([10.0198])\n",
      "361 tensor([10.0199])\n",
      "369 tensor([10.0198])\n",
      "371 tensor([20.0298])\n",
      "373 tensor([10.0199])\n",
      "374 tensor([10.0198])\n",
      "384 tensor([10.0198])\n",
      "394 tensor([10.0198])\n",
      "424 tensor([10.0198])\n",
      "426 tensor([10.0199])\n",
      "443 tensor([10.0198])\n",
      "471 tensor([10.0199])\n",
      "486 tensor([10.0199])\n",
      "491 tensor([10.0198])\n",
      "493 tensor([10.0198])\n",
      "501 tensor([10.0198])\n",
      "507 tensor([10.0198])\n",
      "508 tensor([20.0298])\n",
      "517 tensor([10.0199])\n",
      "518 tensor([10.0198])\n",
      "522 tensor([10.0198])\n",
      "527 tensor([10.0398])\n",
      "531 tensor([20.0498])\n",
      "540 tensor([20.0298])\n",
      "544 tensor([10.0199])\n",
      "551 tensor([10.0198])\n",
      "576 tensor([20.0298])\n",
      "584 tensor([10.0198])\n",
      "627 tensor([10.0199])\n",
      "632 tensor([10.0199])\n",
      "633 tensor([10.0198])\n",
      "654 tensor([10.0199])\n",
      "662 tensor([10.0198])\n",
      "689 tensor([10.0199])\n",
      "693 tensor([10.0198])\n",
      "729 tensor([20.0298])\n",
      "748 tensor([10.0199])\n",
      "753 tensor([10.0198])\n",
      "755 tensor([10.0198])\n",
      "784 tensor([10.0199])\n",
      "787 tensor([10.0198])\n",
      "790 tensor([10.0198])\n",
      "867 tensor([10.0199])\n",
      "881 tensor([10.0199])\n",
      "882 tensor([10.0198])\n",
      "889 tensor([20.0499])\n",
      "911 tensor([20.0298])\n",
      "916 tensor([10.0199])\n",
      "933 tensor([10.0199])\n",
      "953 tensor([10.0198])\n",
      "954 tensor([10.0199])\n",
      "963 tensor([10.0198])\n",
      "968 tensor([10.0198])\n",
      "991 tensor([10.0198])\n",
      "995 tensor([10.0198])\n"
     ]
    }
   ],
   "source": [
    "for i, epi in enumerate(episode_rewards):\n",
    "    if epi > 10:\n",
    "        print(i, epi)"
   ]
  },
  {
   "cell_type": "code",
   "execution_count": 15,
   "metadata": {},
   "outputs": [
    {
     "data": {
      "image/png": "[encoded data removed]",
      "text/plain": [
       "<Figure size 432x288 with 1 Axes>"
      ]
     },
     "metadata": {
      "needs_background": "light"
     },
     "output_type": "display_data"
    }
   ],
   "source": []
  },
  {
   "cell_type": "code",
   "execution_count": 57,
   "metadata": {},
   "outputs": [],
   "source": [
    "a = np.asarray(positions)"
   ]
  },
  {
   "cell_type": "code",
   "execution_count": 59,
   "metadata": {},
   "outputs": [
    {
     "data": {
      "text/plain": [
       "array([[-658.27581787,   -2.00203896,  201.80421448],\n",
       "       [-692.20007324,   -2.60203886,  134.20001221],\n",
       "       [-657.69000244,   -2.00203896,  200.38999939],\n",
       "       [-514.93933105,   -2.25907612,  168.72293091],\n",
       "       [-587.06671143,   -1.95572376,  206.13334656],\n",
       "       [-595.00006104,   -2.10203886,  187.7333374 ],\n",
       "       [-622.01391602,   -2.33537197,  159.40686035],\n",
       "       [-622.51916504,   -2.34661078,  158.38578796],\n",
       "       [-537.83898926,   -2.23537207,  170.34942627],\n",
       "       [-630.05249023,   -2.11247063,  186.31912231]])"
      ]
     },
     "execution_count": 59,
     "metadata": {},
     "output_type": "execute_result"
    }
   ],
   "source": [
    "# np.asarray(positions)[0,:,:]\n",
    "a[:,0,:]"
   ]
  },
  {
   "cell_type": "code",
   "execution_count": 6,
   "metadata": {},
   "outputs": [],
   "source": [
    "# import json\n",
    "# with open('data.json', 'w') as f:\n",
    "#     json.dump(positions, f)"
   ]
  },
  {
   "cell_type": "markdown",
   "metadata": {},
   "source": [
    "# run a2c"
   ]
  },
  {
   "cell_type": "code",
   "execution_count": null,
   "metadata": {
    "scrolled": true
   },
   "outputs": [],
   "source": [
    "load_prev_model = 'model_latest'\n",
    "# !!!!!! jtan\n",
    "# scores, positions = a2c_ppo_acktr(env_info)"
   ]
  },
  {
   "cell_type": "markdown",
   "metadata": {},
   "source": [
    "# DQN function"
   ]
  },
  {
   "cell_type": "code",
   "execution_count": null,
   "metadata": {},
   "outputs": [],
   "source": [
    "def dqn(env_info, n_episodes=1, max_t=2000, eps_start=1.0, eps_end=0.01, \n",
    "        eps_decay=0.995, target_scores=1.0, video_flag=True, load_prev_model=None):\n",
    "    \"\"\"Deep Q-Learning.\n",
    "    \n",
    "    Params\n",
    "    ======\n",
    "        n_episodes (int): maximum number of training episodes\n",
    "        max_t (int): maximum number of timesteps per episode\n",
    "        eps_start (float): starting value of epsilon, for epsilon-greedy action selection\n",
    "        eps_end (float): minimum value of epsilon\n",
    "        eps_decay (float): multiplicative factor (per episode) for decreasing epsilon\n",
    "        target_scores (float): average scores aming to achieve, the agent will stop training once \n",
    "                            it reaches this scores\n",
    "        video_flag (boolean): a flag for whether to record video, if set to True, \n",
    "                            video would be recorded for every 20 episodes\n",
    "    \n",
    "    Returns\n",
    "    ======\n",
    "        scores in 2-d array\n",
    "        positions in 2-d array\n",
    "    \n",
    "    \"\"\"\n",
    "    # load previous trained result\n",
    "    if not load_prev_model == None:\n",
    "        agent.qnetwork_local.load_state_dict(torch.load(load_prev_model))\n",
    "    \n",
    "    start = time.time()                       # Start time\n",
    "    scores = []                               # list containing scores from each episode\n",
    "    positions = []                            # position list\n",
    "    scores_window = deque(maxlen=100)         # last 100 scores\n",
    "    eps = eps_start                           # initialize epsilon\n",
    "    \n",
    "    \n",
    "    width, height, channel = [300, 300, 3]\n",
    "    \n",
    "    for i_episode in range(1, n_episodes+1):\n",
    "        \n",
    "        video_flag = (i_episode % 20 == 0)\n",
    "        \n",
    "        # start video recording \n",
    "        if video_flag:\n",
    "            fourcc = cv2.VideoWriter_fourcc('M','S','V','C') #Microspoft Video 1\n",
    "            video  = cv2.VideoWriter('output_sep_18_%s.avi' % (str(i_episode)), fourcc, 30, (width, height))\n",
    "            \n",
    "        # Reset env and score at the beginning of episode\n",
    "        env_info = env.reset(train_mode=True)[brain_name] # reset the environment \n",
    "        \n",
    "        # get the current visual state\n",
    "        state = np.transpose(np.asarray(env_info.visual_observations)[0][0], (2, 0, 1)) \n",
    "        \n",
    "        # initialize the score\n",
    "        score = 0\n",
    "        \n",
    "        # storing temporary path for an episode\n",
    "        position_epi = []\n",
    "        \n",
    "        for t in range(max_t):\n",
    "            \n",
    "            if video_flag:\n",
    "                video.write(np.asarray(env_info.visual_observations)[0][0])\n",
    "                \n",
    "            action = agent.act(state, eps)\n",
    "            \n",
    "            # translate action variable into forward, rotate, and right\n",
    "            action_transformed = get_action(action)\n",
    "            env_info = env.step(action_transformed)[brain_name]        # send the action to the environment\n",
    "            next_state = np.transpose(np.asarray(env_info.visual_observations)[0][0], \n",
    "                                      (2, 0, 1)) # get the next state\n",
    "            reward = env_info.rewards[0]                   # get the reward\n",
    "            done = env_info.local_done[0]                  # see if episode has finished\n",
    "            \n",
    "            agent.step(state, action, reward, next_state, done)\n",
    "            \n",
    "            state = next_state\n",
    "            \n",
    "            score += reward\n",
    "            \n",
    "            position_epi.append(env_info.vector_observations[0][-3:].tolist())\n",
    "            \n",
    "            stdout.write('\\r t:{}, position:{}, score:{:.3f}'.format(str(t), \n",
    "                                    str(env_info.vector_observations[0][-3:]), score))\n",
    "            stdout.flush()\n",
    "                                \n",
    "        positions.append(position_epi)\n",
    "        scores_window.append(score)       # save most recent score\n",
    "        scores.append(score)              # save most recent score\n",
    "        eps = max(eps_end, eps_decay*eps) # decrease epsilon\n",
    "        \n",
    "        print('\\nEpisode {}\\tAverage Score: {:.2f}\\t Last Move {}\\n'.format(i_episode, \n",
    "                                                        np.mean(scores_window), action_transformed), end=\"\")\n",
    "        if i_episode % 10 == 0:\n",
    "            # torch.save(agent.qnetwork_local.state_dict(), 'model_%s' % str(i_episode))\n",
    "            torch.save(agent.qnetwork_local.state_dict(), 'model_latest')\n",
    "        \n",
    "        # add rewards to writer\n",
    "        writer.add_scalar('total_rewards', score, i_episode)\n",
    "                \n",
    "        # if np.mean(scores_window)>=target_scores:\n",
    "        #     print('\\nEnvironment solved in {:d} episodes!\\tAverage Score: {:.2f}'.format(i_episode, \n",
    "        #                                                                      np.mean(scores_window)))\n",
    "        #     torch.save(agent.qnetwork_local.state_dict(), model_weight_name)\n",
    "        #     break\n",
    "        \n",
    "        if video_flag:\n",
    "            cv2.destroyAllWindows()\n",
    "            video.release()\n",
    "    \n",
    "    writer.close()\n",
    "\n",
    "    print('\\nEnvironment solved in {:d} episodes!\\tAverage Score: {:.2f}'.format(i_episode, np.mean(scores_window)))\n",
    "    torch.save(agent.qnetwork_local.state_dict(), model_weight_name)\n",
    "\n",
    "    time_elapsed = time.time() - start\n",
    "    print(\"Time Elapse: {:.2f}\".format(time_elapsed))\n",
    "    \n",
    "    return scores, positions"
   ]
  },
  {
   "cell_type": "markdown",
   "metadata": {},
   "source": [
    "# run DQN"
   ]
  },
  {
   "cell_type": "code",
   "execution_count": 23,
   "metadata": {
    "scrolled": false
   },
   "outputs": [],
   "source": [
    "load_prev_model = 'model_latest'\n",
    "scores, positions = dqn(env_info, n_episodes=100, max_t=2000, eps_start=1.0, \n",
    "                        eps_end=0.01, eps_decay=0.995, target_scores=1.0,\n",
    "                        video_flag=False, load_prev_model=load_prev_model)"
   ]
  },
  {
   "cell_type": "code",
   "execution_count": 5,
   "metadata": {},
   "outputs": [],
   "source": [
    "env_info = env.reset(train_mode=True)[brain_name]"
   ]
  },
  {
   "cell_type": "code",
   "execution_count": 28,
   "metadata": {},
   "outputs": [],
   "source": []
  },
  {
   "cell_type": "code",
   "execution_count": 29,
   "metadata": {
    "scrolled": false
   },
   "outputs": [
    {
     "data": {
      "image/png": "[encoded data removed]",
      "text/plain": [
       "<Figure size 432x288 with 1 Axes>"
      ]
     },
     "metadata": {
      "needs_background": "light"
     },
     "output_type": "display_data"
    }
   ],
   "source": [
    "vis_paths(positions, goals, final_goal)"
   ]
  },
  {
   "cell_type": "code",
   "execution_count": 16,
   "metadata": {},
   "outputs": [
    {
     "name": "stdout",
     "output_type": "stream",
     "text": [
      "205.0 197.99999999999994\n",
      "805.8731636688163 486.0823513904103\n"
     ]
    }
   ],
   "source": [
    "import math\n",
    "import matplotlib.pyplot as plt\n",
    "import matplotlib.image as mpimg\n",
    "\n",
    "\n",
    "# point_a = [[1093 - 888, 592 - 394], [1093 - 294, 592 - 92]]\n",
    "point_a = [[205, 198], [799, 500]]\n",
    "# point_b = [[-252.8 - 388.5, 118.7 + 80.5], [75.5 - 388.5, -38.7 + 80.5]]\n",
    "point_b = [[-641.3, -199.2], [-313.0, -41.8]]\n",
    "\n",
    "a = math.sqrt((point_a[0][0] - point_a[1][0])**2 + (point_a[0][1] - point_a[1][1])**2)\n",
    "b = math.sqrt((point_b[0][0] - point_b[1][0])**2 + (point_b[0][1] - point_b[1][1])**2)\n",
    "ratio = a / b\n",
    "plus = [point_a[0][0] - point_b[0][0] * ratio, point_a[0][1] - point_b[0][1] * ratio]\n",
    "print(point_b[0][0] * ratio + plus[0], point_b[0][1] * ratio + plus[1])\n",
    "print(point_b[1][0] * ratio + plus[0], point_b[1][1] * ratio + plus[1])\n",
    "# print([[i[0] * ratio + , i[i] * ratio + ] for ])"
   ]
  },
  {
   "cell_type": "code",
   "execution_count": 18,
   "metadata": {},
   "outputs": [],
   "source": [
    "trans_pos = [np.array([[j[0] * ratio + plus[0], j[1], j[2] * ratio + plus[1]] for j in i]) for i in pos]"
   ]
  },
  {
   "cell_type": "code",
   "execution_count": 20,
   "metadata": {},
   "outputs": [
    {
     "data": {
      "image/png": "[encoded data removed]",
      "text/plain": [
       "<Figure size 432x288 with 1 Axes>"
      ]
     },
     "metadata": {
      "needs_background": "light"
     },
     "output_type": "display_data"
    }
   ],
   "source": [
    "img = mpimg.imread('./plan.png')\n",
    "plt.imshow(img)\n",
    "\n",
    "for i in range(len(trans_pos)):\n",
    "    if i == 11:\n",
    "        plt.plot(trans_pos[i][:,0], trans_pos[i][:,2])\n",
    "\n",
    "for i in range(len(goals)):\n",
    "    plt.plot(goals[i][0]  * ratio + plus[0], goals[i][2]  * ratio + plus[1], marker='o', markersize=10, color=\"black\")\n",
    "\n",
    "plt.plot([final_goal[0] * ratio + plus[1]], [final_goal[2] * ratio + plus[1]], marker='o', markersize=40, color=\"black\")\n",
    "plt.xlabel('timestep')\n",
    "plt.ylabel('trajectories')\n",
    "plt.show()"
   ]
  },
  {
   "cell_type": "code",
   "execution_count": 21,
   "metadata": {},
   "outputs": [
    {
     "name": "stdout",
     "output_type": "stream",
     "text": [
      "(4, 3, 300, 300)\n",
      "torch.Size([1, 32, 74, 74])\n",
      "torch.Size([1, 64, 36, 36])\n",
      "torch.Size([73984])\n",
      "torch.Size([512])\n"
     ]
    }
   ],
   "source": [
    "imgs = np.expand_dims(np.asarray(env_info.visual_observations)[0][0], axis=0)\n",
    "input = np.transpose(imgs, (0, 3, 1, 2))\n",
    "input = np.concatenate([input, input, input, input], 0)\n",
    "print(input.shape)\n",
    "\n",
    "m1  = torch.nn.Conv2d(3, 32, kernel_size=8, stride=4)\n",
    "m2  = torch.nn.Conv2d(32, 64, kernel_size=4, stride=2)\n",
    "m3  = torch.nn.Conv2d(64, 64, kernel_size=3, stride=1)\n",
    "fc4 = torch.nn.Linear(34 * 34 * 64, 512)\n",
    "fc5 = torch.nn.Linear(512, 9)\n",
    "\n",
    "input = torch.randn(1, 3, 300, 300)\n",
    "output1 = m1(input)\n",
    "print(output1.shape)\n",
    "output2 = m2(output1)\n",
    "print(output2.shape)\n",
    "output3 = torch.flatten(m3(output2))\n",
    "print(output3.shape)\n",
    "output4 = fc4(output3)\n",
    "print(output4.shape)\n",
    "output5 = fc5(output4)\n",
    "\n",
    "# fc5(fc4(m3(m2(m1(input)))))\n"
   ]
  },
  {
   "cell_type": "code",
   "execution_count": null,
   "metadata": {},
   "outputs": [],
   "source": [
    "input = torch.randn(3, 300, 300)\n",
    "input = input.unsqueeze(0)"
   ]
  },
  {
   "cell_type": "code",
   "execution_count": null,
   "metadata": {},
   "outputs": [],
   "source": [
    "input.shape"
   ]
  },
  {
   "cell_type": "code",
   "execution_count": null,
   "metadata": {},
   "outputs": [],
   "source": [
    "output5"
   ]
  },
  {
   "cell_type": "code",
   "execution_count": null,
   "metadata": {},
   "outputs": [],
   "source": [
    "plt.imshow(np.asarray(env_info.visual_observations)[0][0])"
   ]
  },
  {
   "cell_type": "code",
   "execution_count": null,
   "metadata": {},
   "outputs": [],
   "source": [
    "\n",
    "# plot the scores\n",
    "# fig = plt.figure()\n",
    "# ax = fig.add_subplot(111)\n",
    "# plt.plot(np.arange(len(scores)), scores)\n",
    "# plt.ylabel('Score')\n",
    "# plt.xlabel('Episode #')\n",
    "# plt.show()"
   ]
  },
  {
   "cell_type": "code",
   "execution_count": null,
   "metadata": {},
   "outputs": [],
   "source": [
    "print(agent.chck[1])"
   ]
  },
  {
   "cell_type": "code",
   "execution_count": null,
   "metadata": {},
   "outputs": [],
   "source": [
    "agent.qnetwork_local(agent.chck[0].unsqueeze(0))"
   ]
  },
  {
   "cell_type": "markdown",
   "metadata": {},
   "source": [
    "### Watch the agent running ( Using saved weights)"
   ]
  },
  {
   "cell_type": "code",
   "execution_count": null,
   "metadata": {},
   "outputs": [],
   "source": [
    "# load the weights from file\n",
    "agent.qnetwork_local.load_state_dict(torch.load(model_weight_name))\n",
    "\n",
    "env_info = env.reset(train_mode=False)[brain_name] # reset the environment\n",
    "state = env_info.vector_observations[0]            # get the current state\n",
    "score = 0                                          # initialize the score\n",
    "\n",
    "while True:\n",
    "    action = agent.act(state)                      # select an action\n",
    "    env_info = env.step(action)[brain_name]        # send the action to the environment\n",
    "    next_state = env_info.vector_observations[0]   # get the next state\n",
    "    reward = env_info.rewards[0]                   # get the reward\n",
    "    done = env_info.local_done[0]                  # see if episode has finished\n",
    "    score += reward                                # update the score\n",
    "    state = next_state                             # roll over the state to next time step\n",
    "    if done:                                       # exit loop if episode finished\n",
    "        break\n",
    "    \n",
    "print(\"Score: {}\".format(score))"
   ]
  },
  {
   "cell_type": "markdown",
   "metadata": {},
   "source": [
    "### Close Unity ML Environment"
   ]
  },
  {
   "cell_type": "code",
   "execution_count": null,
   "metadata": {},
   "outputs": [],
   "source": [
    "env.close()"
   ]
  },
  {
   "cell_type": "code",
   "execution_count": null,
   "metadata": {},
   "outputs": [],
   "source": []
  },
  {
   "cell_type": "code",
   "execution_count": null,
   "metadata": {},
   "outputs": [],
   "source": []
  },
  {
   "cell_type": "code",
   "execution_count": null,
   "metadata": {},
   "outputs": [],
   "source": []
  }
 ],
 "metadata": {
  "kernelspec": {
   "display_name": "Python 3",
   "language": "python",
   "name": "python3"
  },
  "language_info": {
   "codemirror_mode": {
    "name": "ipython",
    "version": 3
   },
   "file_extension": ".py",
   "mimetype": "text/x-python",
   "name": "python",
   "nbconvert_exporter": "python",
   "pygments_lexer": "ipython3",
   "version": "3.7.4"
  }
 },
 "nbformat": 4,
 "nbformat_minor": 2
}
