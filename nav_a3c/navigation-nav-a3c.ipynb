{
 "cells": [
  {
   "cell_type": "markdown",
   "metadata": {},
   "source": [
    "# Load Environment"
   ]
  },
  {
   "cell_type": "code",
   "execution_count": null,
   "metadata": {},
   "outputs": [],
   "source": [
    "import time\n",
    "import logging\n",
    "import os\n",
    "import glob\n",
    "import sys\n",
    "from sys import stdout\n",
    "from collections import deque\n",
    "import copy\n",
    "from vis import vis_paths\n",
    "\n",
    "# import gym\n",
    "import numpy as np\n",
    "# import torch\n",
    "# import torch.nn as nn\n",
    "# import torch.nn.functional as F\n",
    "# import torch.optim as optim\n",
    "# from torch.utils.tensorboard import SummaryWriter\n",
    "\n",
    "import cv2\n",
    "import PIL\n",
    "import numpy as np\n",
    "import matplotlib.pyplot as plt\n",
    "from mlagents.envs.environment import UnityEnvironment\n",
    "\n",
    "import imageio\n",
    "\n",
    "# set logger\n",
    "logger = logging.getLogger()\n",
    "logger.setLevel(logging.INFO)\n",
    "\n",
    "# writer = SummaryWriter()\n",
    "\n",
    "# env_name = 'sep_28'\n",
    "# env_name = 'oct_22'\n",
    "# env_name = 'dec_15'\n",
    "# env_name = 'dec_15_small'\n",
    "# env_name = '1219_masterpiece'\n",
    "# env_name = '1224'\n",
    "env_name = '1226_final_without_visual_goals'\n",
    "path = \"C:/data/ml-agents-old/scripts/envs/{}/HBF-navigation-experiment.exe\".format(env_name)\n",
    "# env = UnityEnvironment(file_name=\"./envs/%s/%s.x86_64\" % (env_name, env_name), worker_id=1, seed=1, no_graphics=False)\n",
    "env = UnityEnvironment(file_name=path, worker_id=0, seed=1, no_graphics=False)\n",
    "# envs = list(range(10))\n",
    "# for i in range(10):\n",
    "#     envs[i] = UnityEnvironment(file_name=path, worker_id=i, seed=1, no_graphics=False)\n",
    "\n",
    "# import inspect\n",
    "# inspect.getfullargspec(UnityEnvironment)"
   ]
  },
  {
   "cell_type": "markdown",
   "metadata": {},
   "source": [
    "# Get environment info"
   ]
  },
  {
   "cell_type": "code",
   "execution_count": 2,
   "metadata": {},
   "outputs": [
    {
     "name": "stderr",
     "output_type": "stream",
     "text": [
      "INFO:mlagents.envs:Connected new brain:\n",
      "Unity brain name: hbf-agent\n",
      "        Number of Visual Observations (per agent): 2\n",
      "        Camera Resolutions: ['CameraResolution(84, 84, 1)', 'CameraResolution(84, 84, 3)']\n",
      "        Vector Observation space size (per agent): 9\n",
      "        Vector Action space type: discrete\n",
      "        Vector Action space size (per agent): [2, 3]\n",
      "        Vector Action descriptions: \n",
      "INFO:root:Shape of image: (84, 84, 3)\n"
     ]
    },
    {
     "name": "stdout",
     "output_type": "stream",
     "text": [
      "brain_name hbf-agent\n",
      "camera_resolutions [CameraResolution(height=84, width=84, num_channels=1), CameraResolution(height=84, width=84, num_channels=3)]\n",
      "number_visual_observations 2\n",
      "vector_action_descriptions []\n",
      "vector_action_space_size [2, 3]\n",
      "vector_action_space_type discrete\n",
      "vector_observation_space_size 9\n"
     ]
    },
    {
     "data": {
      "image/png": "[encoded data removed]",
      "text/plain": [
       "<Figure size 432x288 with 1 Axes>"
      ]
     },
     "metadata": {
      "needs_background": "light"
     },
     "output_type": "display_data"
    }
   ],
   "source": [
    "env.step()\n",
    "default_brain = env.external_brain_names[0]\n",
    "brain = env.brains[default_brain]\n",
    "env_info = env.reset(train_mode=True)[default_brain]\n",
    "print('brain_name', brain.brain_name)\n",
    "print('camera_resolutions', brain.camera_resolutions)\n",
    "print('number_visual_observations', brain.number_visual_observations)\n",
    "print('vector_action_descriptions', brain.vector_action_descriptions)\n",
    "print('vector_action_space_size', brain.vector_action_space_size)\n",
    "print('vector_action_space_type', brain.vector_action_space_type)\n",
    "print('vector_observation_space_size', brain.vector_observation_space_size)\n",
    "\n",
    "# examine the visual space\n",
    "img_rgb = np.asarray(env_info.visual_observations[1][0])\n",
    "imgplt = plt.imshow(img_rgb)\n",
    "height, width, channel = img_rgb.shape\n",
    "logger.info('Shape of image: %s' % str(img_rgb.shape))"
   ]
  },
  {
   "cell_type": "code",
   "execution_count": 3,
   "metadata": {},
   "outputs": [
    {
     "name": "stderr",
     "output_type": "stream",
     "text": [
      "INFO:root:Shape of image: (84, 84)\n"
     ]
    },
    {
     "data": {
      "image/png": "[encoded data removed]",
      "text/plain": [
       "<Figure size 432x288 with 1 Axes>"
      ]
     },
     "metadata": {
      "needs_background": "light"
     },
     "output_type": "display_data"
    }
   ],
   "source": [
    "img_d = np.asarray(env_info.visual_observations[0][0])[:,:,0]\n",
    "imgplt = plt.imshow(img_d, cmap='gray', vmin=0, vmax=1)\n",
    "logger.info('Shape of image: %s' % str(img_d.shape))"
   ]
  },
  {
   "cell_type": "code",
   "execution_count": null,
   "metadata": {},
   "outputs": [],
   "source": []
  },
  {
   "cell_type": "code",
   "execution_count": 4,
   "metadata": {},
   "outputs": [],
   "source": [
    "env_info = env.reset(train_mode=True)[default_brain]\n",
    "a = 0"
   ]
  },
  {
   "cell_type": "code",
   "execution_count": 5,
   "metadata": {
    "scrolled": false
   },
   "outputs": [
    {
     "data": {
      "text/plain": [
       "array([-634.66766357,   -2.57065821,  194.34185791])"
      ]
     },
     "execution_count": 5,
     "metadata": {},
     "output_type": "execute_result"
    }
   ],
   "source": [
    "env_info.vector_observations[0][-3:]"
   ]
  },
  {
   "cell_type": "markdown",
   "metadata": {},
   "source": [
    "### Goal validity testing"
   ]
  },
  {
   "cell_type": "code",
   "execution_count": 6,
   "metadata": {},
   "outputs": [
    {
     "name": "stdout",
     "output_type": "stream",
     "text": [
      "9.880000002682209\n"
     ]
    }
   ],
   "source": [
    "env_info = env.step([1,2])[default_brain]\n",
    "a += env_info.rewards[0]\n",
    "env_info = env.step([1,2])[default_brain]\n",
    "a += env_info.rewards[0]\n",
    "env_info = env.step([1,2])[default_brain]\n",
    "a += env_info.rewards[0]\n",
    "env_info = env.step([1,2])[default_brain]\n",
    "a += env_info.rewards[0]\n",
    "env_info = env.step([1,2])[default_brain]\n",
    "a += env_info.rewards[0]\n",
    "env_info = env.step([1,2])[default_brain]\n",
    "a += env_info.rewards[0]\n",
    "env_info = env.step([1,2])[default_brain]\n",
    "a += env_info.rewards[0]\n",
    "env_info = env.step([0,1])[default_brain]\n",
    "a += env_info.rewards[0]\n",
    "env_info = env.step([0,1])[default_brain]\n",
    "a += env_info.rewards[0]\n",
    "env_info = env.step([0,1])[default_brain]\n",
    "a += env_info.rewards[0]\n",
    "env_info = env.step([0,1])[default_brain]\n",
    "a += env_info.rewards[0]\n",
    "env_info = env.step([0,1])[default_brain]\n",
    "a += env_info.rewards[0]\n",
    "env_info = env.step([0,1])[default_brain]\n",
    "a += env_info.rewards[0]\n",
    "\n",
    "print(a)"
   ]
  },
  {
   "cell_type": "code",
   "execution_count": null,
   "metadata": {},
   "outputs": [],
   "source": []
  },
  {
   "cell_type": "code",
   "execution_count": 7,
   "metadata": {},
   "outputs": [
    {
     "name": "stdout",
     "output_type": "stream",
     "text": [
      "9.760000005364418\n"
     ]
    }
   ],
   "source": [
    "env_info = env.step([0,1])[default_brain]\n",
    "a += env_info.rewards[0]\n",
    "env_info = env.step([0,1])[default_brain]\n",
    "a += env_info.rewards[0]\n",
    "env_info = env.step([0,1])[default_brain]\n",
    "a += env_info.rewards[0]\n",
    "env_info = env.step([0,1])[default_brain]\n",
    "a += env_info.rewards[0]\n",
    "env_info = env.step([0,1])[default_brain]\n",
    "a += env_info.rewards[0]\n",
    "env_info = env.step([0,1])[default_brain]\n",
    "a += env_info.rewards[0]\n",
    "env_info = env.step([0,1])[default_brain]\n",
    "a += env_info.rewards[0]\n",
    "env_info = env.step([0,1])[default_brain]\n",
    "a += env_info.rewards[0]\n",
    "env_info = env.step([0,1])[default_brain]\n",
    "a += env_info.rewards[0]\n",
    "env_info = env.step([0,1])[default_brain]\n",
    "a += env_info.rewards[0]\n",
    "env_info = env.step([0,1])[default_brain]\n",
    "a += env_info.rewards[0]\n",
    "env_info = env.step([0,1])[default_brain]\n",
    "a += env_info.rewards[0]\n",
    "\n",
    "print(a)"
   ]
  },
  {
   "cell_type": "code",
   "execution_count": 8,
   "metadata": {},
   "outputs": [
    {
     "name": "stdout",
     "output_type": "stream",
     "text": [
      "9.640000008046627\n"
     ]
    }
   ],
   "source": [
    "env_info = env.step([0,1])[default_brain]\n",
    "a += env_info.rewards[0]\n",
    "env_info = env.step([0,1])[default_brain]\n",
    "a += env_info.rewards[0]\n",
    "env_info = env.step([1,2])[default_brain]\n",
    "a += env_info.rewards[0]\n",
    "env_info = env.step([0,1])[default_brain]\n",
    "a += env_info.rewards[0]\n",
    "env_info = env.step([0,1])[default_brain]\n",
    "a += env_info.rewards[0]\n",
    "env_info = env.step([1,2])[default_brain]\n",
    "a += env_info.rewards[0]\n",
    "env_info = env.step([0,1])[default_brain]\n",
    "a += env_info.rewards[0]\n",
    "env_info = env.step([0,1])[default_brain]\n",
    "a += env_info.rewards[0]\n",
    "env_info = env.step([1,2])[default_brain]\n",
    "a += env_info.rewards[0]\n",
    "env_info = env.step([0,1])[default_brain]\n",
    "a += env_info.rewards[0]\n",
    "env_info = env.step([0,1])[default_brain]\n",
    "a += env_info.rewards[0]\n",
    "env_info = env.step([1,2])[default_brain]\n",
    "a += env_info.rewards[0]\n",
    "\n",
    "print(a)"
   ]
  },
  {
   "cell_type": "code",
   "execution_count": 9,
   "metadata": {},
   "outputs": [
    {
     "name": "stdout",
     "output_type": "stream",
     "text": [
      "19.30000001564622\n"
     ]
    }
   ],
   "source": [
    "env_info = env.step([1,2])[default_brain]\n",
    "a += env_info.rewards[0]\n",
    "env_info = env.step([1,2])[default_brain]\n",
    "a += env_info.rewards[0]\n",
    "env_info = env.step([0,1])[default_brain]\n",
    "a += env_info.rewards[0]\n",
    "env_info = env.step([0,1])[default_brain]\n",
    "a += env_info.rewards[0]\n",
    "env_info = env.step([0,1])[default_brain]\n",
    "a += env_info.rewards[0]\n",
    "env_info = env.step([0,1])[default_brain]\n",
    "a += env_info.rewards[0]\n",
    "env_info = env.step([0,1])[default_brain]\n",
    "a += env_info.rewards[0]\n",
    "env_info = env.step([0,1])[default_brain]\n",
    "a += env_info.rewards[0]\n",
    "env_info = env.step([0,1])[default_brain]\n",
    "a += env_info.rewards[0]\n",
    "env_info = env.step([0,1])[default_brain]\n",
    "a += env_info.rewards[0]\n",
    "env_info = env.step([0,1])[default_brain]\n",
    "a += env_info.rewards[0]\n",
    "env_info = env.step([0,1])[default_brain]\n",
    "a += env_info.rewards[0]\n",
    "env_info = env.step([0,1])[default_brain]\n",
    "a += env_info.rewards[0]\n",
    "env_info = env.step([0,1])[default_brain]\n",
    "a += env_info.rewards[0]\n",
    "env_info = env.step([0,1])[default_brain]\n",
    "a += env_info.rewards[0]\n",
    "env_info = env.step([0,1])[default_brain]\n",
    "a += env_info.rewards[0]\n",
    "env_info = env.step([0,1])[default_brain]\n",
    "a += env_info.rewards[0]\n",
    "env_info = env.step([0,1])[default_brain]\n",
    "a += env_info.rewards[0]\n",
    "env_info = env.step([0,1])[default_brain]\n",
    "a += env_info.rewards[0]\n",
    "env_info = env.step([0,1])[default_brain]\n",
    "a += env_info.rewards[0]\n",
    "env_info = env.step([0,1])[default_brain]\n",
    "a += env_info.rewards[0]\n",
    "env_info = env.step([0,1])[default_brain]\n",
    "a += env_info.rewards[0]\n",
    "env_info = env.step([0,1])[default_brain]\n",
    "a += env_info.rewards[0]\n",
    "env_info = env.step([0,1])[default_brain]\n",
    "a += env_info.rewards[0]\n",
    "env_info = env.step([0,1])[default_brain]\n",
    "a += env_info.rewards[0]\n",
    "env_info = env.step([0,1])[default_brain]\n",
    "a += env_info.rewards[0]\n",
    "env_info = env.step([0,1])[default_brain]\n",
    "a += env_info.rewards[0]\n",
    "env_info = env.step([0,1])[default_brain]\n",
    "a += env_info.rewards[0]\n",
    "env_info = env.step([0,1])[default_brain]\n",
    "a += env_info.rewards[0]\n",
    "env_info = env.step([0,1])[default_brain]\n",
    "a += env_info.rewards[0]\n",
    "env_info = env.step([0,1])[default_brain]\n",
    "a += env_info.rewards[0]\n",
    "env_info = env.step([0,1])[default_brain]\n",
    "a += env_info.rewards[0]\n",
    "env_info = env.step([0,1])[default_brain]\n",
    "a += env_info.rewards[0]\n",
    "env_info = env.step([0,1])[default_brain]\n",
    "a += env_info.rewards[0]\n",
    "env_info = env.step([0,1])[default_brain]\n",
    "a += env_info.rewards[0]\n",
    "\n",
    "print(a)"
   ]
  },
  {
   "cell_type": "code",
   "execution_count": 10,
   "metadata": {
    "scrolled": true
   },
   "outputs": [
    {
     "data": {
      "image/png": "[encoded data removed]",
      "text/plain": [
       "<Figure size 432x288 with 1 Axes>"
      ]
     },
     "metadata": {
      "needs_background": "light"
     },
     "output_type": "display_data"
    }
   ],
   "source": [
    "img_rgb = np.asarray(env_info.visual_observations[1][0])\n",
    "imgplt = plt.imshow(img_rgb)"
   ]
  },
  {
   "cell_type": "code",
   "execution_count": 11,
   "metadata": {
    "scrolled": true
   },
   "outputs": [],
   "source": [
    "# from random import randint\n",
    "\n",
    "# a = []\n",
    "# for i in range(50):\n",
    "#     env_info = env.step([randint(0, 1), randint(0, 2)])[default_brain]\n",
    "# #     print(randint(0, 1), randint(0, 2))\n",
    "#     a.append([env_info.vector_observations[0][-3:][0], env_info.vector_observations[0][-3:][1], env_info.vector_observations[0][-3:][2]])\n",
    "#     print(str(i), env_info.vector_observations[0][-3:], env_info.rewards[0], env_info.local_done[0])\n",
    "    "
   ]
  },
  {
   "cell_type": "code",
   "execution_count": 12,
   "metadata": {},
   "outputs": [
    {
     "name": "stdout",
     "output_type": "stream",
     "text": [
      "-0.009999999776482582\n"
     ]
    }
   ],
   "source": [
    "reward = env_info.rewards[0]\n",
    "print(reward)"
   ]
  },
  {
   "cell_type": "code",
   "execution_count": 13,
   "metadata": {},
   "outputs": [],
   "source": [
    "import tensorflow as tf\n",
    "import numpy as np\n",
    "import sys\n",
    "import time\n",
    "import scipy.misc\n",
    "import scipy.signal\n",
    "import pickle\n",
    "\n",
    "import config\n",
    "import network\n",
    "\n",
    "class Agent():\n",
    "    def __init__(self, name, trainer, global_episode, model_path, env, brain_name):\n",
    "        self.name = name\n",
    "        self.trainer = trainer\n",
    "        self.global_episode = global_episode\n",
    "        self.summary_writer = tf.summary.FileWriter('./log/' + name)\n",
    "        self.network = network.Network(name, trainer) # local network\n",
    "        from_var = tf.get_collection(tf.GraphKeys.TRAINABLE_VARIABLES, 'global')\n",
    "        to_var = tf.get_collection(tf.GraphKeys.TRAINABLE_VARIABLES, name)\n",
    "        self.copy_network = [b.assign(a) for a, b in zip(from_var, to_var)] # op to sync from global network\n",
    "        self.model_path = model_path\n",
    "        self.brain_name = brain_name\n",
    "        self.env = env\n",
    "        self.env_info = self.env.reset(train_mode=True)[brain_name]\n",
    "            \n",
    "    # static function to save frame during training\n",
    "    def make_gif(images, fname, duration=2, true_image=False, salience=False, salIMGS=None):\n",
    "        import moviepy.editor as mpy\n",
    "        def make_frame(t):\n",
    "            try:\n",
    "                x = images[int(len(images)/duration*t)]\n",
    "            except:\n",
    "                x = images[-1]\n",
    "            if true_image:\n",
    "                return x.astype(np.uint8)\n",
    "            else:\n",
    "                return ((x+1)/2*255).astype(np.uint8)\n",
    "        \n",
    "        def make_mask(t):\n",
    "            try:\n",
    "                x = salIMGS[int(len(salIMGS)/duration*t)]\n",
    "            except:\n",
    "                x = salIMGS[-1]\n",
    "            return x\n",
    "\n",
    "        clip = mpy.VideoClip(make_frame, duration=duration)\n",
    "        if salience == True:\n",
    "            mask = mpy.VideoClip(make_mask, ismask=True,duration= duration)\n",
    "            clipB = clip.set_mask(mask)\n",
    "            clipB = clip.set_opacity(0)\n",
    "            mask = mask.set_opacity(0.1)\n",
    "            mask.write_gif(fname, fps = len(images) / duration,verbose=False)\n",
    "        else:\n",
    "            clip.write_gif(fname, fps = len(images) / duration,verbose=False)\n",
    "\n",
    "    # static function\n",
    "    def resize_image(image):\n",
    "        image = image.astype(np.float32) / 255.0\n",
    "        return image\n",
    "        #return scipy.misc.imresize(image, [84, 84])\n",
    "        \n",
    "    # !!!!!\n",
    "    # stack sliding windows into discret 1d array\n",
    "    def window_stack(self, a, stepsize=10, trim=2):\n",
    "        a = a[trim:a.shape[0]-trim, trim:a.shape[1]-trim]\n",
    "        b = []\n",
    "        for i in range(int(a.shape[0] / stepsize)):\n",
    "            for j in range(int(a.shape[1] / stepsize)):\n",
    "                b.append(np.mean(a[i*stepsize:i*stepsize+stepsize,j*stepsize:j*stepsize+stepsize]))\n",
    "\n",
    "        b = np.array(b)\n",
    "        # map to [0, 8) int\n",
    "        b = b * 7\n",
    "        b = b.astype(int)\n",
    "\n",
    "        return b\n",
    "\n",
    "    def discount(x, gamma):\n",
    "        return scipy.signal.lfilter([1], [1, -gamma], x[::-1], axis=0)[::-1]        \n",
    "\n",
    "    def train(self, train_buffer, sess, boot_value):\n",
    "        train_buffer = np.array(train_buffer)\n",
    "        # unroll from train_buffer\n",
    "        input_image = np.array(train_buffer[:, 0].tolist())\n",
    "        aux_action = np.array(train_buffer[:, 1].tolist())\n",
    "        aux_reward = np.array(train_buffer[:, 2:3].tolist())\n",
    "        aux_velocity = np.array(train_buffer[:, 3].tolist())\n",
    "        action = train_buffer[:, 4]\n",
    "        reward = train_buffer[:, 5]\n",
    "        value = train_buffer[:, 6]\n",
    "        depth_pred = train_buffer[:, 7] # <- ?\n",
    "        true_depth = np.array(train_buffer[:, 8].tolist())\n",
    "\n",
    "        reward_plus = np.asarray(reward.tolist() + [boot_value])\n",
    "        disc_reward = Agent.discount(reward_plus, config.GAMMA)[:-1]\n",
    "        value_plus = np.asarray(value.tolist())\n",
    "        #advantage = Agent.discount(reward + config.GAMMA*value_plus[1:] - value_plus[:-1], config.GAMMA)\n",
    "        advantage = disc_reward - value_plus\n",
    "        vl, pl, el, dl, dl2, gradn, _ , d_tmp= sess.run([self.network.value_loss,\n",
    "            self.network.policy_loss,\n",
    "            self.network.entropy_loss,\n",
    "            self.network.depth_loss,\n",
    "            self.network.depth_loss2,\n",
    "            self.network.gradient_norm,\n",
    "            self.network.apply_gradient, self.network.depth_loss_], feed_dict={\n",
    "                self.network.input_image: input_image,\n",
    "                self.network.input_action: aux_action,\n",
    "                self.network.input_reward: aux_reward,\n",
    "                self.network.input_velocity: aux_velocity,\n",
    "                self.network.true_value: disc_reward,\n",
    "                self.network.advantage: advantage,\n",
    "                self.network.action: action,\n",
    "                self.network.true_depth: true_depth,\n",
    "                self.network.lstm1_state_c_in: self.train_lstm1_state_c,\n",
    "                self.network.lstm1_state_h_in: self.train_lstm1_state_h,\n",
    "                self.network.lstm2_state_c_in: self.train_lstm2_state_c,\n",
    "                self.network.lstm2_state_h_in: self.train_lstm2_state_h\n",
    "            })\n",
    "        sys.stdout.flush()\n",
    "        return vl, pl, el, dl, dl2, gradn, _\n",
    "\n",
    "    def get_action(self, action):\n",
    "        move_forward  = action // 3\n",
    "        rotate = action % 3\n",
    "        return [move_forward, rotate]\n",
    "\n",
    "    def get_vel(self, prev_coord, coord, action_transformed):\n",
    "        if action_transformed[0] == 0:\n",
    "            distance = np.linalg.norm(coord-prev_coord)\n",
    "            # cos 15 degrees, corresponding to turning angle in unity\n",
    "            if action_transformed[1] == 0:\n",
    "                result = [0.96*distance, (coord[1]-prev_coord[1]), -0.26*distance, 0, -15, 0]\n",
    "            if action_transformed[1] == 1:\n",
    "                # cos 15 degrees, corresponding to turning angle in unity\n",
    "                result = [distance, (coord[1]-prev_coord[1]), 0, 0, 0, 0]\n",
    "            if action_transformed[1] == 2:\n",
    "                result = [0.96*distance, (coord[1]-prev_coord[1]), 0.26*distance, 0, 15, 0]\n",
    "\n",
    "        elif action_transformed[0] == 1:\n",
    "            if action_transformed[1] == 0:\n",
    "                result = [0, 0, 0, 0, -15, 0]\n",
    "            if action_transformed[1] == 1:\n",
    "                # cos 15 degrees, corresponding to turning angle in unity\n",
    "                result = [0, 0, 0, 0, 0, 0]\n",
    "            if action_transformed[1] == 2:\n",
    "                result = [0, 0, 0, 0, 15, 0]\n",
    "        else:\n",
    "            assert 0, \"action_transformed's first element is unknown\"\n",
    "\n",
    "        result = np.array(result)\n",
    "        return result\n",
    "\n",
    "    def run(self, sess, trainer, saver, coordinator):\n",
    "        print('starting agent:', self.name)\n",
    "        sys.stdout.flush()\n",
    "        with sess.as_default(), sess.graph.as_default():\n",
    "            while not coordinator.should_stop():\n",
    "                sess.run(self.global_episode.assign_add(1))\n",
    "                print('episode:', sess.run(self.global_episode))\n",
    "                sys.stdout.flush()\n",
    "                \n",
    "                ep = sess.run(self.global_episode)\n",
    "                ep_reward = 0\n",
    "                ep_step = 0\n",
    "                ep_start_time = time.time()\n",
    "\n",
    "                sess.run(self.copy_network)\n",
    "                self.train_buffer = []\n",
    "                frame_buffer = []\n",
    "                running = True\n",
    "\n",
    "                # !!!!!!\n",
    "                # self.game.reset()\n",
    "                # rgb, prev_d = self.game.frame()\n",
    "                rgb = np.asarray(self.env_info.visual_observations[1][0])\n",
    "                prev_d = self.window_stack(np.asarray(self.env_info.visual_observations[0][0]))\n",
    "\n",
    "                frame_buffer.append(rgb * 255)\n",
    "                # rgb = Agent.resize_image(rgb)\n",
    "                prev_act_idx = 0\n",
    "                prev_reward = 0\n",
    "                prev_vel = np.array([0.0]*6)\n",
    "                prev_coord = self.env_info.vector_observations[0][-3:]\n",
    "\n",
    "                self.lstm1_state_c, self.lstm1_state_h, self.lstm2_state_c, self.lstm2_state_h = self.network.lstm1_init_state_c, self.network.lstm1_init_state_h,self.network.lstm2_init_state_c,self.network.lstm2_init_state_h\n",
    "                \n",
    "                self.env_info = self.env.reset(train_mode=True)[self.brain_name]\n",
    "                print('initial position:({:.2f} {:.2f} {:.2f})'.format(self.env_info.vector_observations[0][-3:][0], \n",
    "                                                                       self.env_info.vector_observations[0][-3:][1],\n",
    "                        self.env_info.vector_observations[0][-3:][2]))\n",
    "                # !!!!!!\n",
    "                # while self.game.running():\n",
    "                ep_step_max = 1000\n",
    "                positions = []\n",
    "                while True:\n",
    "                    if len(self.train_buffer)==0:\n",
    "                        self.train_lstm1_state_h = self.lstm1_state_h\n",
    "                        self.train_lstm1_state_c = self.lstm1_state_c\n",
    "                        self.train_lstm2_state_h = self.lstm2_state_h\n",
    "                        self.train_lstm2_state_c = self.lstm2_state_c\n",
    "                    act_prob, pred_value, depth_pred, self.lstm1_state_c, self.lstm1_state_h, self.lstm2_state_c, self.lstm2_state_h = sess.run([self.network.policy,\n",
    "                        self.network.value, self.network.depth_pred,\n",
    "                        self.network.lstm1_state_c_out, \n",
    "                        self.network.lstm1_state_h_out, \n",
    "                        self.network.lstm2_state_c_out, \n",
    "                        self.network.lstm2_state_h_out]\n",
    "                        , \n",
    "                        feed_dict={self.network.input_image: [rgb], \n",
    "                        self.network.input_action: [prev_act_idx], \n",
    "                        self.network.input_reward: [[prev_reward]], \n",
    "                        self.network.input_velocity: [prev_vel],\n",
    "                        self.network.lstm1_state_c_in:self.lstm1_state_c,\n",
    "                        self.network.lstm1_state_h_in:self.lstm1_state_h,\n",
    "                        self.network.lstm2_state_c_in:self.lstm2_state_c,\n",
    "                        self.network.lstm2_state_h_in:self.lstm2_state_h\n",
    "                    })\n",
    "                    \n",
    "                    self.action_visualize = act_prob\n",
    "                    action = np.random.choice(act_prob[0], p=act_prob[0])\n",
    "                    action_idx = np.argmax(act_prob==action)\n",
    "                    \n",
    "                    # !!!!!!\n",
    "                    # rgb_next, d, vel, reward, running = self.game.step(action_idx)\n",
    "                    action_transformed = self.get_action(action_idx)\n",
    "                    self.env_info = self.env.step(action_transformed)[self.brain_name] # send the action to the environment\n",
    "                    rgb_next = np.asarray(self.env_info.visual_observations[1][0])  # get the next state\n",
    "                    d = self.window_stack(np.asarray(self.env_info.visual_observations[0][0]))\n",
    "\n",
    "                    reward = self.env_info.rewards[0]                   # get the reward\n",
    "                    done = self.env_info.local_done[0]                  # see if episode has finished\n",
    "                    coord = self.env_info.vector_observations[0][-3:]\n",
    "\n",
    "                    # !!!!!!\n",
    "                    # only an estimation, get velocity from previous and current coordination, and action vector\n",
    "                    vel = self.get_vel(prev_coord, coord, action_transformed)\n",
    "                    \n",
    "                    sys.stdout.write('\\r episode:{}, step: {}, position:({:.2f} {:.2f} {:.2f}), score:{:.2f}, action:{}'.format(self.name, ep_step,\n",
    "                        self.env_info.vector_observations[0][-3:][0], self.env_info.vector_observations[0][-3:][1],\n",
    "                        self.env_info.vector_observations[0][-3:][2], ep_reward, str(action_idx)))\n",
    "                    sys.stdout.flush()\n",
    "                    \n",
    "                    positions.append([self.env_info.vector_observations[0][-3:][0], \n",
    "                                     self.env_info.vector_observations[0][-3:][1], \n",
    "                                     self.env_info.vector_observations[0][-3:][2]])\n",
    "                    \n",
    "                    self.train_buffer.append([rgb, prev_act_idx, prev_reward, prev_vel, action_idx, \n",
    "                                         reward, pred_value[0][0], depth_pred, prev_d])\n",
    "\n",
    "                    ep_reward += reward\n",
    "                    ep_step += 1\n",
    "                    \n",
    "                    running = not ((ep_step >= ep_step_max) or done)\n",
    "\n",
    "                    if running:\n",
    "                        if ep%config.SAVE_PERIOD==0:\n",
    "                            frame_buffer.append(rgb_next * 255)\n",
    "                        # rgb_next = Agent.resize_image(rgb_next)\n",
    "                        rgb = rgb_next\n",
    "                    \n",
    "                    prev_act_idx = action_idx\n",
    "                    prev_reward = reward\n",
    "                    prev_vel = vel\n",
    "                    prev_d = d\n",
    "\n",
    "                    if len(self.train_buffer)==config.GRADIENT_CHUNK and running:\n",
    "                        boot_value = sess.run(self.network.value, feed_dict={\n",
    "                            self.network.input_image: [rgb], \n",
    "                            self.network.input_action: [prev_act_idx], \n",
    "                            self.network.input_reward: [[prev_reward]], \n",
    "                            self.network.input_velocity: [prev_vel],\n",
    "                            self.network.lstm1_state_c_in:self.lstm1_state_c,\n",
    "                            self.network.lstm1_state_h_in:self.lstm1_state_h,\n",
    "                            self.network.lstm2_state_c_in:self.lstm2_state_c,\n",
    "                            self.network.lstm2_state_h_in:self.lstm2_state_h\n",
    "                        })\n",
    "                        vl, pl, el, dl, dl2, gradn, _ = self.train(self.train_buffer, sess, boot_value)\n",
    "                        self.train_buffer = []\n",
    "                        sess.run(self.copy_network)\n",
    "                    if not running:\n",
    "                        break\n",
    "                if len(self.train_buffer)>0:\n",
    "                    vl, pl, el, dl, dl2, gradn, _ = self.train(self.train_buffer, sess, 0.0)\n",
    "                    self.test1 = [vl, pl, el, dl, dl2, gradn]\n",
    "\n",
    "                ep_finish_time = time.time()\n",
    "                print(self.name, 'elapse', str(int(ep_finish_time-ep_start_time)), 'seconds, reward:',ep_reward)\n",
    "                sys.stdout.flush()\n",
    "\n",
    "                \n",
    "                if ep%config.SAVE_PERIOD==0:\n",
    "                    imgs = np.array(frame_buffer)\n",
    "                    Agent.make_gif(imgs, './frame/image'+str(ep)+'_'+str(ep_reward)+'.gif', duration=len(imgs)*0.066, true_image=True, salience=False)\n",
    "                    print('frame saved')\n",
    "                    sys.stdout.flush()\n",
    "                \n",
    "\n",
    "                if ep%config.SAVE_PERIOD==0:\n",
    "                    saver.save(sess, self.model_path+'/model'+str(ep)+'.cptk')\n",
    "                    print('model saved')\n",
    "                    sys.stdout.flush()\n",
    "\n",
    "                    summary = tf.Summary()\n",
    "                    summary.value.add(tag='Losses/Policy Loss', simple_value=float(pl))\n",
    "                    summary.value.add(tag='Losses/Value Loss', simple_value=float(vl))\n",
    "                    summary.value.add(tag='Losses/Entropy Loss', simple_value=float(el))\n",
    "                    summary.value.add(tag='Losses/Depth Loss', simple_value=float(dl))\n",
    "                    summary.value.add(tag='Losses/Depth Loss2', simple_value=float(dl2))\n",
    "                    summary.value.add(tag='Losses/Gradient Norm', simple_value=float(gradn))\n",
    "                    summary.value.add(tag='Performance/Reward', simple_value=float(ep_reward))\n",
    "                    self.summary_writer.add_summary(summary, ep)\n",
    "                    self.summary_writer.flush()\n",
    "                    \n",
    "                if ep%config.SAVE_PERIOD==0:\n",
    "                    print('save positions')\n",
    "                    sys.stdout.flush()\n",
    "                    \n",
    "                    with open('./positions/'+str(ep), 'wb') as fp:\n",
    "                        pickle.dump(positions, fp)\n",
    "                        \n",
    "                        \n",
    "\n",
    "    def evaluate(self, sess, saver, coordinator):\n",
    "        print('evaluation:', self.name)\n",
    "        sys.stdout.flush()\n",
    "        with sess.as_default(), sess.graph.as_default():\n",
    "            while not coordinator.should_stop():\n",
    "                sess.run(self.global_episode.assign_add(1))\n",
    "                print('episode:', sess.run(self.global_episode))\n",
    "                sys.stdout.flush()\n",
    "                \n",
    "                ep = sess.run(self.global_episode)\n",
    "                ep_reward = 0\n",
    "                ep_step = 0\n",
    "\n",
    "                sess.run(self.copy_network)\n",
    "                frame_buffer = []\n",
    "                running = True\n",
    "\n",
    "                rgb = np.asarray(self.env_info.visual_observations[1][0])\n",
    "\n",
    "                frame_buffer.append(rgb * 255)\n",
    "                \n",
    "                self.lstm1_state_c, self.lstm1_state_h, self.lstm2_state_c, self.lstm2_state_h = self.network.lstm1_init_state_c, self.network.lstm1_init_state_h,self.network.lstm2_init_state_c,self.network.lstm2_init_state_h\n",
    "                \n",
    "                self.env_info = self.env.reset(train_mode=True)[self.brain_name]\n",
    "                print('initial position:({:.2f} {:.2f} {:.2f})'.format(self.env_info.vector_observations[0][-3:][0], \n",
    "                                                                       self.env_info.vector_observations[0][-3:][1],\n",
    "                                                                       self.env_info.vector_observations[0][-3:][2]))\n",
    "\n",
    "                ep_step_max = 1000\n",
    "                positions = []\n",
    "                while True:\n",
    "                    \n",
    "                    self.train_lstm1_state_h = self.lstm1_state_h\n",
    "                    self.train_lstm1_state_c = self.lstm1_state_c\n",
    "                    self.train_lstm2_state_h = self.lstm2_state_h\n",
    "                    self.train_lstm2_state_c = self.lstm2_state_c\n",
    "                    act_prob, pred_value, depth_pred, self.lstm1_state_c, self.lstm1_state_h, self.lstm2_state_c, self.lstm2_state_h = sess.run([self.network.policy,\n",
    "                        self.network.value, self.network.depth_pred,\n",
    "                        self.network.lstm1_state_c_out, \n",
    "                        self.network.lstm1_state_h_out, \n",
    "                        self.network.lstm2_state_c_out, \n",
    "                        self.network.lstm2_state_h_out], \n",
    "                        feed_dict={self.network.input_image: [rgb], \n",
    "                        self.network.input_action: [prev_act_idx], \n",
    "                        self.network.input_reward: [[prev_reward]], \n",
    "                        self.network.input_velocity: [prev_vel],\n",
    "                        self.network.lstm1_state_c_in:self.lstm1_state_c,\n",
    "                        self.network.lstm1_state_h_in:self.lstm1_state_h,\n",
    "                        self.network.lstm2_state_c_in:self.lstm2_state_c,\n",
    "                        self.network.lstm2_state_h_in:self.lstm2_state_h})\n",
    "                    \n",
    "                    self.action_visualize = act_prob\n",
    "                    action = np.random.choice(act_prob[0], p=act_prob[0])\n",
    "                    action_idx = np.argmax(act_prob==action)\n",
    "                    \n",
    "                    action_transformed = self.get_action(action_idx)\n",
    "                    self.env_info = self.env.step(action_transformed)[self.brain_name] # send the action to the environment\n",
    "                    rgb_next = np.asarray(self.env_info.visual_observations[1][0])  # get the next state\n",
    "                    d = self.window_stack(np.asarray(self.env_info.visual_observations[0][0]))\n",
    "\n",
    "                    reward = self.env_info.rewards[0]                   # get the reward\n",
    "                    done = self.env_info.local_done[0]                  # see if episode has finished\n",
    "                    coord = self.env_info.vector_observations[0][-3:]\n",
    "\n",
    "                    vel = self.get_vel(prev_coord, coord, action_transformed)\n",
    "                    \n",
    "                    sys.stdout.write('\\r episode:{}, step: {}, position:({:.2f} {:.2f} {:.2f}), score:{:.2f}, action:{}'.format(self.name, ep_step,\n",
    "                        self.env_info.vector_observations[0][-3:][0], self.env_info.vector_observations[0][-3:][1],\n",
    "                        self.env_info.vector_observations[0][-3:][2], ep_reward, str(action_idx)))\n",
    "                    sys.stdout.flush()\n",
    "                    \n",
    "                    positions.append([self.env_info.vector_observations[0][-3:][0], \n",
    "                                     self.env_info.vector_observations[0][-3:][1], \n",
    "                                     self.env_info.vector_observations[0][-3:][2]])\n",
    "                    \n",
    "                    ep_reward += reward\n",
    "                    ep_step += 1\n",
    "                    \n",
    "                    running = not ((ep_step >= ep_step_max) or done)\n",
    "\n",
    "                    if running:\n",
    "                        if ep%config.SAVE_PERIOD==0:\n",
    "                            frame_buffer.append(rgb_next * 255)\n",
    "                        # rgb_next = Agent.resize_image(rgb_next)\n",
    "                        rgb = rgb_next\n",
    "                    \n",
    "                    if not running:\n",
    "                        break\n",
    "                        \n",
    "#                 if ep%config.SAVE_PERIOD==0:\n",
    "#                     imgs = np.array(frame_buffer)\n",
    "#                     Agent.make_gif(imgs, './frame/image'+str(ep)+'_'+str(ep_reward)+'.gif', duration=len(imgs)*0.066, true_image=True, salience=False)\n",
    "#                     print('frame saved')\n",
    "#                     sys.stdout.flush()\n",
    "                                    \n",
    "#                 if ep%config.SAVE_PERIOD==0:\n",
    "#                     print('save positions')\n",
    "#                     sys.stdout.flush()\n",
    "                    \n",
    "#                     with open('./positions/'+str(ep), 'wb') as fp:\n",
    "#                         pickle.dump(positions, fp)"
   ]
  },
  {
   "cell_type": "code",
   "execution_count": 14,
   "metadata": {},
   "outputs": [],
   "source": [
    "evaluation = True\n",
    "model_path = \"./model/1226_final_without_visual_goals\"\n",
    "model_time = \"1577341381.6629117\"\n",
    "\n",
    "# model_path = './model'\n",
    "frame_path = './frame'\n",
    "if not os.path.exists(model_path):\n",
    "    os.makedirs(model_path)\n",
    "if not os.path.exists(frame_path):\n",
    "    os.makedirs(frame_path)"
   ]
  },
  {
   "cell_type": "code",
   "execution_count": 17,
   "metadata": {},
   "outputs": [],
   "source": [
    "# ckpt.model_checkpoint_path\n",
    "# from tensorflow.python.tools.inspect_checkpoint import print_tensors_in_checkpoint_file\n",
    "# print_tensors_in_checkpoint_file(file_name=\"./model/1226_final_without_visual_goals\\\\model5020.cptk\", tensor_name='', all_tensors=False)"
   ]
  },
  {
   "cell_type": "code",
   "execution_count": 16,
   "metadata": {
    "scrolled": true
   },
   "outputs": [
    {
     "name": "stderr",
     "output_type": "stream",
     "text": [
      "WARNING:tensorflow:From C:\\Users\\ztwang\\Desktop\\scl-navigation\\nav_a3c\\network.py:8: The name tf.variable_scope is deprecated. Please use tf.compat.v1.variable_scope instead.\n",
      "\n",
      "WARNING:tensorflow:From C:\\Users\\ztwang\\Desktop\\scl-navigation\\nav_a3c\\network.py:9: The name tf.placeholder is deprecated. Please use tf.compat.v1.placeholder instead.\n",
      "\n",
      "WARNING:tensorflow:From C:\\Users\\ztwang\\Desktop\\scl-navigation\\nav_a3c\\network.py:11: The name tf.truncated_normal is deprecated. Please use tf.random.truncated_normal instead.\n",
      "\n",
      "WARNING:tensorflow:\n",
      "The TensorFlow contrib module will not be included in TensorFlow 2.0.\n",
      "For more information, please see:\n",
      "  * https://github.com/tensorflow/community/blob/master/rfcs/20180907-contrib-sunset.md\n",
      "  * https://github.com/tensorflow/addons\n",
      "  * https://github.com/tensorflow/io (for I/O related ops)\n",
      "If you depend on functionality not listed there, please file an issue.\n",
      "\n",
      "WARNING:tensorflow:From C:\\Users\\ztwang\\Desktop\\scl-navigation\\nav_a3c\\network.py:30: BasicLSTMCell.__init__ (from tensorflow.python.ops.rnn_cell_impl) is deprecated and will be removed in a future version.\n",
      "Instructions for updating:\n",
      "This class is equivalent as tf.keras.layers.LSTMCell, and will be replaced by that in Tensorflow 2.0.\n",
      "WARNING:tensorflow:From C:\\Users\\ztwang\\Desktop\\scl-navigation\\nav_a3c\\network.py:39: dynamic_rnn (from tensorflow.python.ops.rnn) is deprecated and will be removed in a future version.\n",
      "Instructions for updating:\n",
      "Please use `keras.layers.RNN(cell)`, which is equivalent to this API\n",
      "WARNING:tensorflow:From C:\\Users\\ztwang\\AppData\\Roaming\\Python\\Python37\\site-packages\\tensorflow_core\\python\\ops\\rnn_cell_impl.py:735: Layer.add_variable (from tensorflow.python.keras.engine.base_layer) is deprecated and will be removed in a future version.\n",
      "Instructions for updating:\n",
      "Please use `layer.add_weight` method instead.\n",
      "WARNING:tensorflow:From C:\\Users\\ztwang\\AppData\\Roaming\\Python\\Python37\\site-packages\\tensorflow_core\\python\\ops\\rnn_cell_impl.py:739: calling Zeros.__init__ (from tensorflow.python.ops.init_ops) with dtype is deprecated and will be removed in a future version.\n",
      "Instructions for updating:\n",
      "Call initializer instance with the dtype argument instead of passing it to the constructor\n"
     ]
    },
    {
     "name": "stdout",
     "output_type": "stream",
     "text": [
      "master network created\n"
     ]
    },
    {
     "name": "stderr",
     "output_type": "stream",
     "text": [
      "WARNING:tensorflow:From C:\\Users\\ztwang\\Desktop\\scl-navigation\\nav_a3c\\network.py:105: The name tf.log is deprecated. Please use tf.math.log instead.\n",
      "\n",
      "WARNING:tensorflow:From C:\\Users\\ztwang\\Desktop\\scl-navigation\\nav_a3c\\network.py:124: The name tf.get_collection is deprecated. Please use tf.compat.v1.get_collection instead.\n",
      "\n",
      "WARNING:tensorflow:From C:\\Users\\ztwang\\Desktop\\scl-navigation\\nav_a3c\\network.py:124: The name tf.GraphKeys is deprecated. Please use tf.compat.v1.GraphKeys instead.\n",
      "\n",
      "WARNING:tensorflow:From C:\\Users\\ztwang\\AppData\\Roaming\\Python\\Python37\\site-packages\\tensorflow_core\\python\\ops\\clip_ops.py:301: where (from tensorflow.python.ops.array_ops) is deprecated and will be removed in a future version.\n",
      "Instructions for updating:\n",
      "Use tf.where in 2.0, which has the same broadcast rule as np.where\n",
      "WARNING:tensorflow:From C:\\Users\\ztwang\\AppData\\Roaming\\Python\\Python37\\site-packages\\tensorflow_core\\python\\training\\rmsprop.py:119: calling Ones.__init__ (from tensorflow.python.ops.init_ops) with dtype is deprecated and will be removed in a future version.\n",
      "Instructions for updating:\n",
      "Call initializer instance with the dtype argument instead of passing it to the constructor\n"
     ]
    }
   ],
   "source": [
    "import warnings\n",
    "warnings.filterwarnings('ignore')\n",
    "\n",
    "import tensorflow as tf\n",
    "import os\n",
    "import threading\n",
    "import sys\n",
    "import time\n",
    "\n",
    "import config\n",
    "import network\n",
    "# import agent\n",
    "    \n",
    "with tf.device('cpu:0'):\n",
    "    global_episode = tf.Variable(0, trainable=False, dtype=tf.int32)\n",
    "    trainer = tf.train.RMSPropOptimizer(config.LEARNING_RATE, decay=config.DECAY, \n",
    "                                        momentum=config.MOMENTUM, epsilon=config.EPSILON)\n",
    "    master_network = network.Network('global', trainer)\n",
    "    print('master network created')\n",
    "    sys.stdout.flush()\n",
    "    agent_arr = []\n",
    "    if evaluation == False:\n",
    "        for i in range(config.THREAD):\n",
    "            agent_arr.append(Agent('thread_'+str(i)+'_'+str(time.time()), trainer, global_episode, \n",
    "                                   model_path, env, default_brain))\n",
    "    else:\n",
    "        for i in range(config.THREAD):\n",
    "            agent_arr.append(Agent('thread_'+str(i)+'_'+model_time, trainer, global_episode, \n",
    "                                   model_path, env, default_brain))\n",
    "    saver = tf.train.Saver()"
   ]
  },
  {
   "cell_type": "code",
   "execution_count": 20,
   "metadata": {},
   "outputs": [
    {
     "name": "stderr",
     "output_type": "stream",
     "text": [
      "INFO:tensorflow:Restoring parameters from ./model/1226_final_without_visual_goals\\model5040.cptk\n"
     ]
    },
    {
     "ename": "NameError",
     "evalue": "name 't' is not defined",
     "output_type": "error",
     "traceback": [
      "\u001b[1;31m---------------------------------------------------------------------------\u001b[0m",
      "\u001b[1;31mNameError\u001b[0m                                 Traceback (most recent call last)",
      "\u001b[1;32m<ipython-input-20-055d8c1b67e4>\u001b[0m in \u001b[0;36m<module>\u001b[1;34m\u001b[0m\n\u001b[0;32m     24\u001b[0m \u001b[1;31m#             sys.stdout.flush()\u001b[0m\u001b[1;33m\u001b[0m\u001b[1;33m\u001b[0m\u001b[1;33m\u001b[0m\u001b[0m\n\u001b[0;32m     25\u001b[0m \u001b[1;31m#             time.sleep(1)\u001b[0m\u001b[1;33m\u001b[0m\u001b[1;33m\u001b[0m\u001b[1;33m\u001b[0m\u001b[0m\n\u001b[1;32m---> 26\u001b[1;33m             \u001b[0mthread_arr\u001b[0m\u001b[1;33m.\u001b[0m\u001b[0mappend\u001b[0m\u001b[1;33m(\u001b[0m\u001b[0mt\u001b[0m\u001b[1;33m)\u001b[0m\u001b[1;33m\u001b[0m\u001b[1;33m\u001b[0m\u001b[0m\n\u001b[0m\u001b[0;32m     27\u001b[0m         \u001b[0mcoord\u001b[0m\u001b[1;33m.\u001b[0m\u001b[0mjoin\u001b[0m\u001b[1;33m(\u001b[0m\u001b[0mthread_arr\u001b[0m\u001b[1;33m)\u001b[0m\u001b[1;33m\u001b[0m\u001b[1;33m\u001b[0m\u001b[0m\n",
      "\u001b[1;31mNameError\u001b[0m: name 't' is not defined"
     ]
    }
   ],
   "source": [
    "with tf.Session() as sess:\n",
    "    coord = tf.train.Coordinator()\n",
    "    sess.run(tf.global_variables_initializer())\n",
    "    if evaluation == False:\n",
    "        thread_arr = []\n",
    "        for a in agent_arr:\n",
    "            _ = lambda: a.run(sess, trainer, saver, coord)\n",
    "            t = threading.Thread(target=(_))\n",
    "            t.start()\n",
    "            print('thread started')\n",
    "            sys.stdout.flush()\n",
    "            time.sleep(1)\n",
    "            thread_arr.append(t)\n",
    "        coord.join(thread_arr)\n",
    "    else:\n",
    "        ckpt = tf.train.get_checkpoint_state(model_path)\n",
    "        saver.restore(sess, ckpt.model_checkpoint_path)\n",
    "        thread_arr = []\n",
    "        for a in agent_arr:\n",
    "#             _ = lambda: a.run(sess, trainer, saver, coord)\n",
    "#             t = threading.Thread(target=(_))\n",
    "#             t.start()\n",
    "#             print('thread started')\n",
    "#             sys.stdout.flush()\n",
    "#             time.sleep(1)\n",
    "            thread_arr.append(t)\n",
    "        coord.join(thread_arr)"
   ]
  },
  {
   "cell_type": "markdown",
   "metadata": {},
   "source": [
    "### for testing purpose"
   ]
  },
  {
   "cell_type": "code",
   "execution_count": 18,
   "metadata": {},
   "outputs": [],
   "source": [
    "# Replace vanila relu to guided relu to get guided backpropagation.\n",
    "import tensorflow as tf\n",
    "\n",
    "from tensorflow.python.framework import ops\n",
    "from tensorflow.python.ops import gen_nn_ops\n",
    "\n",
    "@ops.RegisterGradient(\"GuidedRelu\")\n",
    "def _GuidedReluGrad(op, grad):\n",
    "    return tf.where(0. < grad, gen_nn_ops._relu_grad(grad, op.outputs[0]), tf.zeros_like(grad))"
   ]
  },
  {
   "cell_type": "code",
   "execution_count": 43,
   "metadata": {},
   "outputs": [
    {
     "name": "stderr",
     "output_type": "stream",
     "text": [
      "INFO:tensorflow:Restoring parameters from ./model/1226_final_without_visual_goals\\model5040.cptk\n"
     ]
    },
    {
     "name": "stdout",
     "output_type": "stream",
     "text": [
      "initial position:(-580.83 -3.01 139.06)\n",
      "[]\n"
     ]
    },
    {
     "ename": "NameError",
     "evalue": "name 'end_points' is not defined",
     "output_type": "error",
     "traceback": [
      "\u001b[1;31m---------------------------------------------------------------------------\u001b[0m",
      "\u001b[1;31mNameError\u001b[0m                                 Traceback (most recent call last)",
      "\u001b[1;32m<ipython-input-43-eb2959038319>\u001b[0m in \u001b[0;36m<module>\u001b[1;34m\u001b[0m\n\u001b[0;32m     76\u001b[0m                 \u001b[1;31m# !!!!!!!\u001b[0m\u001b[1;33m\u001b[0m\u001b[1;33m\u001b[0m\u001b[1;33m\u001b[0m\u001b[0m\n\u001b[0;32m     77\u001b[0m                 \u001b[0mprint\u001b[0m\u001b[1;33m(\u001b[0m\u001b[0mtf\u001b[0m\u001b[1;33m.\u001b[0m\u001b[0mget_collection\u001b[0m\u001b[1;33m(\u001b[0m\u001b[0mtf\u001b[0m\u001b[1;33m.\u001b[0m\u001b[0mGraphKeys\u001b[0m\u001b[1;33m.\u001b[0m\u001b[0mGLOBAL_VARIABLES\u001b[0m\u001b[1;33m,\u001b[0m \u001b[0mscope\u001b[0m\u001b[1;33m=\u001b[0m\u001b[1;34m'lstm1'\u001b[0m\u001b[1;33m)\u001b[0m\u001b[1;33m)\u001b[0m\u001b[1;33m\u001b[0m\u001b[1;33m\u001b[0m\u001b[0m\n\u001b[1;32m---> 78\u001b[1;33m                 \u001b[0mtarget_conv_layer\u001b[0m \u001b[1;33m=\u001b[0m \u001b[0mend_points\u001b[0m\u001b[1;33m[\u001b[0m\u001b[1;34m'resnet_v1_50/block4/unit_2/bottleneck_v1'\u001b[0m\u001b[1;33m]\u001b[0m\u001b[1;33m\u001b[0m\u001b[1;33m\u001b[0m\u001b[0m\n\u001b[0m\u001b[0;32m     79\u001b[0m \u001b[1;33m\u001b[0m\u001b[0m\n\u001b[0;32m     80\u001b[0m                 \u001b[1;31m# with tf.variable_scope('thread_'+str(i)+'_'+model_time, reuse=True):\u001b[0m\u001b[1;33m\u001b[0m\u001b[1;33m\u001b[0m\u001b[1;33m\u001b[0m\u001b[0m\n",
      "\u001b[1;31mNameError\u001b[0m: name 'end_points' is not defined"
     ]
    }
   ],
   "source": [
    "%reload_ext autoreload\n",
    "%autoreload 2\n",
    "%matplotlib inline\n",
    "import tensorflow as tf\n",
    "import numpy as np\n",
    "slim = tf.contrib.slim\n",
    "import gradcam_utils as utils\n",
    "eval_graph = tf.Graph()\n",
    "\n",
    "with tf.Session() as sess:\n",
    "    eval_graph = tf.Graph()\n",
    "    sess.run(tf.global_variables_initializer())\n",
    "    saver.restore(sess, ckpt.model_checkpoint_path)\n",
    "\n",
    "    with eval_graph.as_default():\n",
    "        with eval_graph.gradient_override_map({'Relu': 'GuidedRelu'}):\n",
    "            \n",
    "            images = tf.placeholder(\"float\", [224, 224, 3])\n",
    "            labels = tf.placeholder(tf.float32, [6])\n",
    "\n",
    "            agent_arr[0].network\n",
    "\n",
    "            sess.run(agent_arr[0].copy_network)\n",
    "            ep_reward = 0\n",
    "            ep_step = 0\n",
    "\n",
    "            running = True\n",
    "\n",
    "            rgb = np.asarray(agent_arr[0].env_info.visual_observations[1][0])\n",
    "\n",
    "            frame_buffer.append(rgb * 255)\n",
    "            agent_arr[0].train_buffer = []\n",
    "\n",
    "            prev_d = agent_arr[0].window_stack(np.asarray(agent_arr[0].env_info.visual_observations[0][0]))\n",
    "\n",
    "            frame_buffer.append(rgb * 255)\n",
    "            # rgb = Agent.resize_image(rgb)\n",
    "            prev_act_idx = 0\n",
    "            prev_reward = 0\n",
    "            prev_vel = np.array([0.0]*6)\n",
    "            prev_coord = agent_arr[0].env_info.vector_observations[0][-3:]\n",
    "\n",
    "            agent_arr[0].lstm1_state_c, agent_arr[0].lstm1_state_h, agent_arr[0].lstm2_state_c, agent_arr[0].lstm2_state_h = agent_arr[0].network.lstm1_init_state_c, agent_arr[0].network.lstm1_init_state_h,  agent_arr[0].network.lstm2_init_state_c, agent_arr[0].network.lstm2_init_state_h\n",
    "\n",
    "            agent_arr[0].env_info = agent_arr[0].env.reset(train_mode=True)[agent_arr[0].brain_name]\n",
    "            print('initial position:({:.2f} {:.2f} {:.2f})'.format(env_info.vector_observations[0][-3:][0], \n",
    "                                                                   env_info.vector_observations[0][-3:][1],\n",
    "                                                                   env_info.vector_observations[0][-3:][2]))\n",
    "\n",
    "\n",
    "            ep_step_max = 1000\n",
    "            positions = []\n",
    "            while True:\n",
    "                act_prob, pred_value, depth_pred, lstm1_state_c, lstm1_state_h, lstm2_state_c, lstm2_state_h = sess.run([agent_arr[0].network.policy,\n",
    "                    agent_arr[0].network.value, agent_arr[0].network.depth_pred,\n",
    "                    agent_arr[0].network.lstm1_state_c_out, \n",
    "                    agent_arr[0].network.lstm1_state_h_out, \n",
    "                    agent_arr[0].network.lstm2_state_c_out, \n",
    "                    agent_arr[0].network.lstm2_state_h_out], \n",
    "                    feed_dict = {agent_arr[0].network.input_image: [rgb], \n",
    "                    agent_arr[0].network.input_action: [prev_act_idx], \n",
    "                    agent_arr[0].network.input_reward: [[prev_reward]], \n",
    "                    agent_arr[0].network.input_velocity: [prev_vel],\n",
    "                    agent_arr[0].network.lstm1_state_c_in:agent_arr[0].lstm1_state_c,\n",
    "                    agent_arr[0].network.lstm1_state_h_in:agent_arr[0].lstm1_state_h,\n",
    "                    agent_arr[0].network.lstm2_state_c_in:agent_arr[0].lstm2_state_c,\n",
    "                    agent_arr[0].network.lstm2_state_h_in:agent_arr[0].lstm2_state_h})\n",
    "\n",
    "                agent_arr[0].action_visualize = act_prob\n",
    "                action = np.random.choice(act_prob[0], p=act_prob[0])\n",
    "                action_idx = np.argmax(act_prob==action)\n",
    "                \n",
    "                # !!!!!!!\n",
    "                cost = (-1) * tf.reduce_sum(tf.multiply(labels, tf.log(act_prob)), axis=1)\n",
    "                \n",
    "                # !!!!!!!\n",
    "                print(tf.get_collection(tf.GraphKeys.GLOBAL_VARIABLES, scope='thread_'+str(i)+'_'+model_time))\n",
    "                target_conv_layer = end_points['resnet_v1_50/block4/unit_2/bottleneck_v1']\n",
    "                \n",
    "                # with tf.variable_scope('thread_'+str(i)+'_'+model_time, reuse=True):\n",
    "                #     v1 = tf.get_variable(\"var\", [1])\n",
    "\n",
    "                action_transformed = agent_arr[0].get_action(action_idx)\n",
    "                agent_arr[0].env_info = agent_arr[0].env.step(action_transformed)[agent_arr[0].brain_name] # send the action to the environment\n",
    "                rgb_next = np.asarray(agent_arr[0].env_info.visual_observations[1][0])  # get the next state\n",
    "                d = agent_arr[0].window_stack(np.asarray(agent_arr[0].env_info.visual_observations[0][0]))\n",
    "\n",
    "                reward = agent_arr[0].env_info.rewards[0]                   # get the reward\n",
    "                done = agent_arr[0].env_info.local_done[0]                  # see if episode has finished\n",
    "                coord = agent_arr[0].env_info.vector_observations[0][-3:]\n",
    "\n",
    "                vel = agent_arr[0].get_vel(prev_coord, coord, action_transformed)\n",
    "\n",
    "                sys.stdout.write('\\r episode:{}, step: {}, position:({:.2f} {:.2f} {:.2f}), score:{:.2f}, action:{}'.format(agent_arr[0].name, ep_step,\n",
    "                    agent_arr[0].env_info.vector_observations[0][-3:][0], agent_arr[0].env_info.vector_observations[0][-3:][1],\n",
    "                    agent_arr[0].env_info.vector_observations[0][-3:][2], ep_reward, str(action_idx)))\n",
    "                sys.stdout.flush()\n",
    "\n",
    "                positions.append([agent_arr[0].env_info.vector_observations[0][-3:][0], \n",
    "                                 agent_arr[0].env_info.vector_observations[0][-3:][1], \n",
    "                                 agent_arr[0].env_info.vector_observations[0][-3:][2]])\n",
    "\n",
    "                ep_reward += reward\n",
    "                ep_step += 1\n",
    "\n",
    "                break"
   ]
  },
  {
   "cell_type": "code",
   "execution_count": 54,
   "metadata": {},
   "outputs": [
    {
     "name": "stdout",
     "output_type": "stream",
     "text": [
      "[]\n",
      "[<tf.Variable 'global/Variable:0' shape=(8, 8, 3, 16) dtype=float32_ref>, <tf.Variable 'global/Variable_1:0' shape=(16,) dtype=float32_ref>, <tf.Variable 'global/Variable_2:0' shape=(4, 4, 16, 32) dtype=float32_ref>, <tf.Variable 'global/Variable_3:0' shape=(32,) dtype=float32_ref>, <tf.Variable 'global/Variable_4:0' shape=(3872, 256) dtype=float32_ref>, <tf.Variable 'global/Variable_5:0' shape=(256,) dtype=float32_ref>, <tf.Variable 'global/lstm1/rnn/basic_lstm_cell/kernel:0' shape=(321, 256) dtype=float32_ref>, <tf.Variable 'global/lstm1/rnn/basic_lstm_cell/bias:0' shape=(256,) dtype=float32_ref>, <tf.Variable 'global/lstm2/rnn/basic_lstm_cell/kernel:0' shape=(4204, 1024) dtype=float32_ref>, <tf.Variable 'global/lstm2/rnn/basic_lstm_cell/bias:0' shape=(1024,) dtype=float32_ref>, <tf.Variable 'global/Variable_6:0' shape=(256, 6) dtype=float32_ref>, <tf.Variable 'global/Variable_7:0' shape=(6,) dtype=float32_ref>, <tf.Variable 'global/Variable_8:0' shape=(256, 1) dtype=float32_ref>, <tf.Variable 'global/Variable_9:0' shape=(1,) dtype=float32_ref>, <tf.Variable 'global/Variable_10:0' shape=(256, 128) dtype=float32_ref>, <tf.Variable 'global/Variable_11:0' shape=(128,) dtype=float32_ref>, <tf.Variable 'global/Variable_12:0' shape=(128, 512) dtype=float32_ref>, <tf.Variable 'global/Variable_13:0' shape=(512,) dtype=float32_ref>, <tf.Variable 'global/Variable_14:0' shape=(256, 128) dtype=float32_ref>, <tf.Variable 'global/Variable_15:0' shape=(128,) dtype=float32_ref>, <tf.Variable 'global/Variable_16:0' shape=(128, 512) dtype=float32_ref>, <tf.Variable 'global/Variable_17:0' shape=(512,) dtype=float32_ref>, <tf.Variable 'thread_0_1577341381.6629117/Variable:0' shape=(8, 8, 3, 16) dtype=float32_ref>, <tf.Variable 'thread_0_1577341381.6629117/Variable_1:0' shape=(16,) dtype=float32_ref>, <tf.Variable 'thread_0_1577341381.6629117/Variable_2:0' shape=(4, 4, 16, 32) dtype=float32_ref>, <tf.Variable 'thread_0_1577341381.6629117/Variable_3:0' shape=(32,) dtype=float32_ref>, <tf.Variable 'thread_0_1577341381.6629117/Variable_4:0' shape=(3872, 256) dtype=float32_ref>, <tf.Variable 'thread_0_1577341381.6629117/Variable_5:0' shape=(256,) dtype=float32_ref>, <tf.Variable 'thread_0_1577341381.6629117/lstm1/rnn/basic_lstm_cell/kernel:0' shape=(321, 256) dtype=float32_ref>, <tf.Variable 'thread_0_1577341381.6629117/lstm1/rnn/basic_lstm_cell/bias:0' shape=(256,) dtype=float32_ref>, <tf.Variable 'thread_0_1577341381.6629117/lstm2/rnn/basic_lstm_cell/kernel:0' shape=(4204, 1024) dtype=float32_ref>, <tf.Variable 'thread_0_1577341381.6629117/lstm2/rnn/basic_lstm_cell/bias:0' shape=(1024,) dtype=float32_ref>, <tf.Variable 'thread_0_1577341381.6629117/Variable_6:0' shape=(256, 6) dtype=float32_ref>, <tf.Variable 'thread_0_1577341381.6629117/Variable_7:0' shape=(6,) dtype=float32_ref>, <tf.Variable 'thread_0_1577341381.6629117/Variable_8:0' shape=(256, 1) dtype=float32_ref>, <tf.Variable 'thread_0_1577341381.6629117/Variable_9:0' shape=(1,) dtype=float32_ref>, <tf.Variable 'thread_0_1577341381.6629117/Variable_10:0' shape=(256, 128) dtype=float32_ref>, <tf.Variable 'thread_0_1577341381.6629117/Variable_11:0' shape=(128,) dtype=float32_ref>, <tf.Variable 'thread_0_1577341381.6629117/Variable_12:0' shape=(128, 512) dtype=float32_ref>, <tf.Variable 'thread_0_1577341381.6629117/Variable_13:0' shape=(512,) dtype=float32_ref>, <tf.Variable 'thread_0_1577341381.6629117/Variable_14:0' shape=(256, 128) dtype=float32_ref>, <tf.Variable 'thread_0_1577341381.6629117/Variable_15:0' shape=(128,) dtype=float32_ref>, <tf.Variable 'thread_0_1577341381.6629117/Variable_16:0' shape=(128, 512) dtype=float32_ref>, <tf.Variable 'thread_0_1577341381.6629117/Variable_17:0' shape=(512,) dtype=float32_ref>, <tf.Variable 'thread_0_1577341381.6629117/Variable_5_1:0' shape=() dtype=float32_ref>]\n"
     ]
    }
   ],
   "source": [
    "print(tf.get_collection(tf.GraphKeys.TRAINABLE_VARIABLES, scope='lstm1'))\n",
    "print(tf.get_collection(tf.GraphKeys.TRAINABLE_VARIABLES, tf.get_variable_scope().name))\n",
    "# agent_arr[0].network.policy\n",
    "# current_scope = tf.contrib.framework.get_name_scope()\n",
    "# print(current_scope)\n",
    "# tf.get_variable('thread_0_1577341381.6629117/Variable_5', [], dtype=tf.float32)"
   ]
  },
  {
   "cell_type": "code",
   "execution_count": 61,
   "metadata": {},
   "outputs": [
    {
     "ename": "ValueError",
     "evalue": "The initializer passed is not valid. It should be a callable with no arguments and the shape should not be provided or an instance of `tf.keras.initializers.*' and `shape` should be fully defined.",
     "output_type": "error",
     "traceback": [
      "\u001b[1;31m---------------------------------------------------------------------------\u001b[0m",
      "\u001b[1;31mValueError\u001b[0m                                Traceback (most recent call last)",
      "\u001b[1;32m<ipython-input-61-4de2526d7d15>\u001b[0m in \u001b[0;36m<module>\u001b[1;34m\u001b[0m\n\u001b[0;32m      1\u001b[0m \u001b[1;32mwith\u001b[0m \u001b[0mtf\u001b[0m\u001b[1;33m.\u001b[0m\u001b[0mvariable_scope\u001b[0m\u001b[1;33m(\u001b[0m\u001b[1;34m\"thread_0_1577341381.6629117\"\u001b[0m\u001b[1;33m,\u001b[0m \u001b[0mreuse\u001b[0m\u001b[1;33m=\u001b[0m\u001b[0mtf\u001b[0m\u001b[1;33m.\u001b[0m\u001b[0mAUTO_REUSE\u001b[0m\u001b[1;33m)\u001b[0m\u001b[1;33m:\u001b[0m \u001b[1;31m# root variable scope\u001b[0m\u001b[1;33m\u001b[0m\u001b[1;33m\u001b[0m\u001b[0m\n\u001b[1;32m----> 2\u001b[1;33m     \u001b[0mvar\u001b[0m \u001b[1;33m=\u001b[0m \u001b[0mtf\u001b[0m\u001b[1;33m.\u001b[0m\u001b[0mget_variable\u001b[0m\u001b[1;33m(\u001b[0m\u001b[1;34m\"Variable_5_1\"\u001b[0m\u001b[1;33m)\u001b[0m \u001b[1;31m# reuse (equivalent to the above)\u001b[0m\u001b[1;33m\u001b[0m\u001b[1;33m\u001b[0m\u001b[0m\n\u001b[0m\u001b[0;32m      3\u001b[0m \u001b[1;31m# tf.get_default_graph().get_name_scope()\u001b[0m\u001b[1;33m\u001b[0m\u001b[1;33m\u001b[0m\u001b[1;33m\u001b[0m\u001b[0m\n",
      "\u001b[1;32m~\\AppData\\Roaming\\Python\\Python37\\site-packages\\tensorflow_core\\python\\ops\\variable_scope.py\u001b[0m in \u001b[0;36mget_variable\u001b[1;34m(name, shape, dtype, initializer, regularizer, trainable, collections, caching_device, partitioner, validate_shape, use_resource, custom_getter, constraint, synchronization, aggregation)\u001b[0m\n\u001b[0;32m   1498\u001b[0m       \u001b[0mconstraint\u001b[0m\u001b[1;33m=\u001b[0m\u001b[0mconstraint\u001b[0m\u001b[1;33m,\u001b[0m\u001b[1;33m\u001b[0m\u001b[1;33m\u001b[0m\u001b[0m\n\u001b[0;32m   1499\u001b[0m       \u001b[0msynchronization\u001b[0m\u001b[1;33m=\u001b[0m\u001b[0msynchronization\u001b[0m\u001b[1;33m,\u001b[0m\u001b[1;33m\u001b[0m\u001b[1;33m\u001b[0m\u001b[0m\n\u001b[1;32m-> 1500\u001b[1;33m       aggregation=aggregation)\n\u001b[0m\u001b[0;32m   1501\u001b[0m \u001b[1;33m\u001b[0m\u001b[0m\n\u001b[0;32m   1502\u001b[0m \u001b[1;33m\u001b[0m\u001b[0m\n",
      "\u001b[1;32m~\\AppData\\Roaming\\Python\\Python37\\site-packages\\tensorflow_core\\python\\ops\\variable_scope.py\u001b[0m in \u001b[0;36mget_variable\u001b[1;34m(self, var_store, name, shape, dtype, initializer, regularizer, reuse, trainable, collections, caching_device, partitioner, validate_shape, use_resource, custom_getter, constraint, synchronization, aggregation)\u001b[0m\n\u001b[0;32m   1241\u001b[0m           \u001b[0mconstraint\u001b[0m\u001b[1;33m=\u001b[0m\u001b[0mconstraint\u001b[0m\u001b[1;33m,\u001b[0m\u001b[1;33m\u001b[0m\u001b[1;33m\u001b[0m\u001b[0m\n\u001b[0;32m   1242\u001b[0m           \u001b[0msynchronization\u001b[0m\u001b[1;33m=\u001b[0m\u001b[0msynchronization\u001b[0m\u001b[1;33m,\u001b[0m\u001b[1;33m\u001b[0m\u001b[1;33m\u001b[0m\u001b[0m\n\u001b[1;32m-> 1243\u001b[1;33m           aggregation=aggregation)\n\u001b[0m\u001b[0;32m   1244\u001b[0m \u001b[1;33m\u001b[0m\u001b[0m\n\u001b[0;32m   1245\u001b[0m   def _get_partitioned_variable(self,\n",
      "\u001b[1;32m~\\AppData\\Roaming\\Python\\Python37\\site-packages\\tensorflow_core\\python\\ops\\variable_scope.py\u001b[0m in \u001b[0;36mget_variable\u001b[1;34m(self, name, shape, dtype, initializer, regularizer, reuse, trainable, collections, caching_device, partitioner, validate_shape, use_resource, custom_getter, constraint, synchronization, aggregation)\u001b[0m\n\u001b[0;32m    565\u001b[0m           \u001b[0mconstraint\u001b[0m\u001b[1;33m=\u001b[0m\u001b[0mconstraint\u001b[0m\u001b[1;33m,\u001b[0m\u001b[1;33m\u001b[0m\u001b[1;33m\u001b[0m\u001b[0m\n\u001b[0;32m    566\u001b[0m           \u001b[0msynchronization\u001b[0m\u001b[1;33m=\u001b[0m\u001b[0msynchronization\u001b[0m\u001b[1;33m,\u001b[0m\u001b[1;33m\u001b[0m\u001b[1;33m\u001b[0m\u001b[0m\n\u001b[1;32m--> 567\u001b[1;33m           aggregation=aggregation)\n\u001b[0m\u001b[0;32m    568\u001b[0m \u001b[1;33m\u001b[0m\u001b[0m\n\u001b[0;32m    569\u001b[0m   def _get_partitioned_variable(self,\n",
      "\u001b[1;32m~\\AppData\\Roaming\\Python\\Python37\\site-packages\\tensorflow_core\\python\\ops\\variable_scope.py\u001b[0m in \u001b[0;36m_true_getter\u001b[1;34m(name, shape, dtype, initializer, regularizer, reuse, trainable, collections, caching_device, partitioner, validate_shape, use_resource, constraint, synchronization, aggregation)\u001b[0m\n\u001b[0;32m    517\u001b[0m           \u001b[0mconstraint\u001b[0m\u001b[1;33m=\u001b[0m\u001b[0mconstraint\u001b[0m\u001b[1;33m,\u001b[0m\u001b[1;33m\u001b[0m\u001b[1;33m\u001b[0m\u001b[0m\n\u001b[0;32m    518\u001b[0m           \u001b[0msynchronization\u001b[0m\u001b[1;33m=\u001b[0m\u001b[0msynchronization\u001b[0m\u001b[1;33m,\u001b[0m\u001b[1;33m\u001b[0m\u001b[1;33m\u001b[0m\u001b[0m\n\u001b[1;32m--> 519\u001b[1;33m           aggregation=aggregation)\n\u001b[0m\u001b[0;32m    520\u001b[0m \u001b[1;33m\u001b[0m\u001b[0m\n\u001b[0;32m    521\u001b[0m     synchronization, aggregation, trainable = (\n",
      "\u001b[1;32m~\\AppData\\Roaming\\Python\\Python37\\site-packages\\tensorflow_core\\python\\ops\\variable_scope.py\u001b[0m in \u001b[0;36m_get_single_variable\u001b[1;34m(self, name, shape, dtype, initializer, regularizer, partition_info, reuse, trainable, collections, caching_device, validate_shape, use_resource, constraint, synchronization, aggregation)\u001b[0m\n\u001b[0;32m    910\u001b[0m           \u001b[0mvariable_dtype\u001b[0m \u001b[1;33m=\u001b[0m \u001b[1;32mNone\u001b[0m\u001b[1;33m\u001b[0m\u001b[1;33m\u001b[0m\u001b[0m\n\u001b[0;32m    911\u001b[0m         \u001b[1;32melse\u001b[0m\u001b[1;33m:\u001b[0m\u001b[1;33m\u001b[0m\u001b[1;33m\u001b[0m\u001b[0m\n\u001b[1;32m--> 912\u001b[1;33m           raise ValueError(\"The initializer passed is not valid. It should \"\n\u001b[0m\u001b[0;32m    913\u001b[0m                            \u001b[1;34m\"be a callable with no arguments and the \"\u001b[0m\u001b[1;33m\u001b[0m\u001b[1;33m\u001b[0m\u001b[0m\n\u001b[0;32m    914\u001b[0m                            \u001b[1;34m\"shape should not be provided or an instance of \"\u001b[0m\u001b[1;33m\u001b[0m\u001b[1;33m\u001b[0m\u001b[0m\n",
      "\u001b[1;31mValueError\u001b[0m: The initializer passed is not valid. It should be a callable with no arguments and the shape should not be provided or an instance of `tf.keras.initializers.*' and `shape` should be fully defined."
     ]
    }
   ],
   "source": [
    "with tf.variable_scope(\"thread_0_1577341381.6629117\", reuse=tf.AUTO_REUSE): # root variable scope\n",
    "    var = tf.get_variable(\"Variable_5_1\") # reuse (equivalent to the above)\n",
    "# tf.get_default_graph().get_name_scope()\n"
   ]
  },
  {
   "cell_type": "code",
   "execution_count": null,
   "metadata": {},
   "outputs": [],
   "source": [
    "# Create tensorflow graph for evaluation\n",
    "\n",
    "with eval_graph.as_default():\n",
    "    with eval_graph.gradient_override_map({'Relu': 'GuidedRelu'}):\n",
    "        images = tf.placeholder(\"float\", [batch_size, 224, 224, 3])\n",
    "        labels = tf.placeholder(tf.float32, [batch_size, 1000])\n",
    "        \n",
    "        with slim.arg_scope(resnet_v1.resnet_arg_scope()):\n",
    "            with slim.arg_scope([slim.batch_norm], is_training=False):\n",
    "                # is_training=False means batch-norm is not in training mode. Fixing batch norm layer.\n",
    "                # net is logit for resnet_v1. See is_training messing up issue: https://github.com/tensorflow/tensorflow/issues/4887\n",
    "                net, end_points = resnet_v1.resnet_v1_50(preprocessed_images, 1000)\n",
    "        \n",
    "        prob = end_points['predictions'] # after softmax\n",
    "        print('prob:', prob)\n",
    "        \n",
    "        print('labels:', labels)\n",
    "        cost = (-1) * tf.reduce_sum(tf.multiply(labels, tf.log(prob)), axis=1)\n",
    "        print('cost:', cost)\n",
    "\n",
    "        # Get last convolutional layer gradient for generating gradCAM visualization\n",
    "        # print('endpoints:', end_points.keys())\n",
    "        target_conv_layer = end_points['resnet_v1_50/block4/unit_2/bottleneck_v1']\n",
    "        # target_conv_layer = end_points['resnet_v1_50/block3/unit_5/bottleneck_v1']\n",
    "        \n",
    "        # gradient for partial linearization. We only care about target visualization class. \n",
    "        y_c = tf.reduce_sum(tf.multiply(net, labels), axis=1)\n",
    "        print('y_c:', y_c)\n",
    "        target_conv_layer_grad = tf.gradients(y_c, target_conv_layer)[0]\n",
    "        print('target_conv_layer_grad:', target_conv_layer_grad)\n",
    "\n",
    "        # Guided backpropagtion back to input layer\n",
    "        gb_grad = tf.gradients(cost, images)[0]\n",
    "        print('gb_grad:', gb_grad)\n",
    "\n",
    "        init = tf.global_variables_initializer()\n",
    "        \n",
    "        # Load resnet v1 weights\n",
    "        \n",
    "        # latest_checkpoint = tf.train.latest_checkpoint(\"model/resnet_v1_50.ckpt\")\n",
    "        latest_checkpoint = \"model/resnet_v1_50.ckpt\"\n",
    "        ## Optimistic restore.\n",
    "        reader = tf.train.NewCheckpointReader(latest_checkpoint)\n",
    "        saved_shapes = reader.get_variable_to_shape_map()\n",
    "        variables_to_restore = tf.global_variables()\n",
    "        for var in variables_to_restore:\n",
    "            if not var.name.split(':')[0] in saved_shapes:\n",
    "                print(\"WARNING. Saved weight not exists in checkpoint. Init var:\", var.name)\n",
    "            else:\n",
    "                # print(\"Load saved weight:\", var.name)\n",
    "                pass\n",
    "\n",
    "        var_names = sorted([(var.name, var.name.split(':')[0]) for var in variables_to_restore\n",
    "                if var.name.split(':')[0] in saved_shapes])\n",
    "        restore_vars = []\n",
    "        with tf.variable_scope('', reuse=True):\n",
    "            for var_name, saved_var_name in var_names:\n",
    "                try:\n",
    "                    curr_var = tf.get_variable(saved_var_name)\n",
    "                    var_shape = curr_var.get_shape().as_list()\n",
    "                    if var_shape == saved_shapes[saved_var_name]:\n",
    "                        # print(\"restore var:\", saved_var_name)\n",
    "                        restore_vars.append(curr_var)\n",
    "                    else:\n",
    "                        print(\"cannot restore var:\", saved_var_name)\n",
    "                except ValueError:\n",
    "                    print(\"Ignore due to ValueError on getting var:\", saved_var_name) \n",
    "        saver = tf.train.Saver(restore_vars)\n",
    "        \n",
    "        \n",
    "        \n",
    "# Run tensorflow \n",
    "\n",
    "with tf.Session(graph=eval_graph) as sess:    \n",
    "    sess.run(init)\n",
    "    saver.restore(sess, latest_checkpoint)    \n",
    "    \n",
    "    prob_np = sess.run(prob, feed_dict={images: batch_img})\n",
    "    # print('prob_np:', prob_np)\n",
    "    print('prob_np:', prob_np.shape)\n",
    "    \n",
    "    # cost_np, gb_grad_value, target_conv_layer_value, target_conv_layer_grad_value = sess.run([cost, gb_grad, target_conv_layer, target_conv_layer_grad], feed_dict={images: batch_img, labels: prob_np})\n",
    "    net_np, y_c_np, gb_grad_value, target_conv_layer_value, target_conv_layer_grad_value = sess.run([net, y_c, gb_grad, target_conv_layer, target_conv_layer_grad], feed_dict={images: batch_img, labels: batch_label})\n",
    "    \n",
    "#     print(\"net_np:\", net_np)\n",
    "#     print(\"y_c_np:\", y_c_np)\n",
    "#     print(\"gb_grad_value:\", gb_grad_value)\n",
    "#     print(\"target_conv_layer_value:\", target_conv_layer_value)\n",
    "#     print(\"target_conv_layer_grad_value:\", target_conv_layer_grad_value)\n",
    "    \n",
    "    for i in range(batch_size):\n",
    "        # print('See visualization of below category')\n",
    "        # utils.print_prob(batch_label[i], './synset.txt')\n",
    "        utils.print_prob(prob_np[i], './synset.txt')\n",
    "        # print('gb_grad_value[i]:', gb_grad_value[i])\n",
    "        # print('gb_grad_value[i] shape:', gb_grad_value[i].shape)\n",
    "        utils.visualize(batch_img[i], target_conv_layer_value[i], target_conv_layer_grad_value[i], gb_grad_value[i])\n",
    "    "
   ]
  },
  {
   "cell_type": "code",
   "execution_count": 22,
   "metadata": {},
   "outputs": [
    {
     "name": "stderr",
     "output_type": "stream",
     "text": [
      "INFO:tensorflow:Restoring parameters from ./model/1226_final_without_visual_goals\\model5020.cptk\n"
     ]
    },
    {
     "ename": "NotFoundError",
     "evalue": "Restoring from checkpoint failed. This is most likely due to a Variable name or other graph key that is missing from the checkpoint. Please ensure that you have not altered the graph expected based on the checkpoint. Original error:\n\nKey thread_0_1577494441.3438203/Variable not found in checkpoint\n\t [[node save/RestoreV2 (defined at C:\\Users\\ztwang\\AppData\\Roaming\\Python\\Python37\\site-packages\\tensorflow_core\\python\\framework\\ops.py:1748) ]]\n\nOriginal stack trace for 'save/RestoreV2':\n  File \"C:\\Users\\ztwang\\Anaconda3\\envs\\ml-agents-tf\\lib\\runpy.py\", line 193, in _run_module_as_main\n    \"__main__\", mod_spec)\n  File \"C:\\Users\\ztwang\\Anaconda3\\envs\\ml-agents-tf\\lib\\runpy.py\", line 85, in _run_code\n    exec(code, run_globals)\n  File \"C:\\Users\\ztwang\\Anaconda3\\envs\\ml-agents-tf\\lib\\site-packages\\ipykernel_launcher.py\", line 16, in <module>\n    app.launch_new_instance()\n  File \"C:\\Users\\ztwang\\Anaconda3\\envs\\ml-agents-tf\\lib\\site-packages\\traitlets\\config\\application.py\", line 664, in launch_instance\n    app.start()\n  File \"C:\\Users\\ztwang\\Anaconda3\\envs\\ml-agents-tf\\lib\\site-packages\\ipykernel\\kernelapp.py\", line 563, in start\n    self.io_loop.start()\n  File \"C:\\Users\\ztwang\\Anaconda3\\envs\\ml-agents-tf\\lib\\site-packages\\tornado\\platform\\asyncio.py\", line 148, in start\n    self.asyncio_loop.run_forever()\n  File \"C:\\Users\\ztwang\\Anaconda3\\envs\\ml-agents-tf\\lib\\asyncio\\base_events.py\", line 534, in run_forever\n    self._run_once()\n  File \"C:\\Users\\ztwang\\Anaconda3\\envs\\ml-agents-tf\\lib\\asyncio\\base_events.py\", line 1771, in _run_once\n    handle._run()\n  File \"C:\\Users\\ztwang\\Anaconda3\\envs\\ml-agents-tf\\lib\\asyncio\\events.py\", line 88, in _run\n    self._context.run(self._callback, *self._args)\n  File \"C:\\Users\\ztwang\\Anaconda3\\envs\\ml-agents-tf\\lib\\site-packages\\tornado\\ioloop.py\", line 690, in <lambda>\n    lambda f: self._run_callback(functools.partial(callback, future))\n  File \"C:\\Users\\ztwang\\Anaconda3\\envs\\ml-agents-tf\\lib\\site-packages\\tornado\\ioloop.py\", line 743, in _run_callback\n    ret = callback()\n  File \"C:\\Users\\ztwang\\Anaconda3\\envs\\ml-agents-tf\\lib\\site-packages\\tornado\\gen.py\", line 787, in inner\n    self.run()\n  File \"C:\\Users\\ztwang\\Anaconda3\\envs\\ml-agents-tf\\lib\\site-packages\\tornado\\gen.py\", line 748, in run\n    yielded = self.gen.send(value)\n  File \"C:\\Users\\ztwang\\Anaconda3\\envs\\ml-agents-tf\\lib\\site-packages\\ipykernel\\kernelbase.py\", line 365, in process_one\n    yield gen.maybe_future(dispatch(*args))\n  File \"C:\\Users\\ztwang\\Anaconda3\\envs\\ml-agents-tf\\lib\\site-packages\\tornado\\gen.py\", line 209, in wrapper\n    yielded = next(result)\n  File \"C:\\Users\\ztwang\\Anaconda3\\envs\\ml-agents-tf\\lib\\site-packages\\ipykernel\\kernelbase.py\", line 272, in dispatch_shell\n    yield gen.maybe_future(handler(stream, idents, msg))\n  File \"C:\\Users\\ztwang\\Anaconda3\\envs\\ml-agents-tf\\lib\\site-packages\\tornado\\gen.py\", line 209, in wrapper\n    yielded = next(result)\n  File \"C:\\Users\\ztwang\\Anaconda3\\envs\\ml-agents-tf\\lib\\site-packages\\ipykernel\\kernelbase.py\", line 542, in execute_request\n    user_expressions, allow_stdin,\n  File \"C:\\Users\\ztwang\\Anaconda3\\envs\\ml-agents-tf\\lib\\site-packages\\tornado\\gen.py\", line 209, in wrapper\n    yielded = next(result)\n  File \"C:\\Users\\ztwang\\Anaconda3\\envs\\ml-agents-tf\\lib\\site-packages\\ipykernel\\ipkernel.py\", line 294, in do_execute\n    res = shell.run_cell(code, store_history=store_history, silent=silent)\n  File \"C:\\Users\\ztwang\\Anaconda3\\envs\\ml-agents-tf\\lib\\site-packages\\ipykernel\\zmqshell.py\", line 536, in run_cell\n    return super(ZMQInteractiveShell, self).run_cell(*args, **kwargs)\n  File \"C:\\Users\\ztwang\\Anaconda3\\envs\\ml-agents-tf\\lib\\site-packages\\IPython\\core\\interactiveshell.py\", line 2855, in run_cell\n    raw_cell, store_history, silent, shell_futures)\n  File \"C:\\Users\\ztwang\\Anaconda3\\envs\\ml-agents-tf\\lib\\site-packages\\IPython\\core\\interactiveshell.py\", line 2881, in _run_cell\n    return runner(coro)\n  File \"C:\\Users\\ztwang\\Anaconda3\\envs\\ml-agents-tf\\lib\\site-packages\\IPython\\core\\async_helpers.py\", line 68, in _pseudo_sync_runner\n    coro.send(None)\n  File \"C:\\Users\\ztwang\\Anaconda3\\envs\\ml-agents-tf\\lib\\site-packages\\IPython\\core\\interactiveshell.py\", line 3058, in run_cell_async\n    interactivity=interactivity, compiler=compiler, result=result)\n  File \"C:\\Users\\ztwang\\Anaconda3\\envs\\ml-agents-tf\\lib\\site-packages\\IPython\\core\\interactiveshell.py\", line 3249, in run_ast_nodes\n    if (await self.run_code(code, result,  async_=asy)):\n  File \"C:\\Users\\ztwang\\Anaconda3\\envs\\ml-agents-tf\\lib\\site-packages\\IPython\\core\\interactiveshell.py\", line 3326, in run_code\n    exec(code_obj, self.user_global_ns, self.user_ns)\n  File \"<ipython-input-15-43085351ed97>\", line 30, in <module>\n    saver = tf.train.Saver()\n  File \"C:\\Users\\ztwang\\AppData\\Roaming\\Python\\Python37\\site-packages\\tensorflow_core\\python\\training\\saver.py\", line 828, in __init__\n    self.build()\n  File \"C:\\Users\\ztwang\\AppData\\Roaming\\Python\\Python37\\site-packages\\tensorflow_core\\python\\training\\saver.py\", line 840, in build\n    self._build(self._filename, build_save=True, build_restore=True)\n  File \"C:\\Users\\ztwang\\AppData\\Roaming\\Python\\Python37\\site-packages\\tensorflow_core\\python\\training\\saver.py\", line 878, in _build\n    build_restore=build_restore)\n  File \"C:\\Users\\ztwang\\AppData\\Roaming\\Python\\Python37\\site-packages\\tensorflow_core\\python\\training\\saver.py\", line 508, in _build_internal\n    restore_sequentially, reshape)\n  File \"C:\\Users\\ztwang\\AppData\\Roaming\\Python\\Python37\\site-packages\\tensorflow_core\\python\\training\\saver.py\", line 328, in _AddRestoreOps\n    restore_sequentially)\n  File \"C:\\Users\\ztwang\\AppData\\Roaming\\Python\\Python37\\site-packages\\tensorflow_core\\python\\training\\saver.py\", line 575, in bulk_restore\n    return io_ops.restore_v2(filename_tensor, names, slices, dtypes)\n  File \"C:\\Users\\ztwang\\AppData\\Roaming\\Python\\Python37\\site-packages\\tensorflow_core\\python\\ops\\gen_io_ops.py\", line 1696, in restore_v2\n    name=name)\n  File \"C:\\Users\\ztwang\\AppData\\Roaming\\Python\\Python37\\site-packages\\tensorflow_core\\python\\framework\\op_def_library.py\", line 794, in _apply_op_helper\n    op_def=op_def)\n  File \"C:\\Users\\ztwang\\AppData\\Roaming\\Python\\Python37\\site-packages\\tensorflow_core\\python\\util\\deprecation.py\", line 507, in new_func\n    return func(*args, **kwargs)\n  File \"C:\\Users\\ztwang\\AppData\\Roaming\\Python\\Python37\\site-packages\\tensorflow_core\\python\\framework\\ops.py\", line 3357, in create_op\n    attrs, op_def, compute_device)\n  File \"C:\\Users\\ztwang\\AppData\\Roaming\\Python\\Python37\\site-packages\\tensorflow_core\\python\\framework\\ops.py\", line 3426, in _create_op_internal\n    op_def=op_def)\n  File \"C:\\Users\\ztwang\\AppData\\Roaming\\Python\\Python37\\site-packages\\tensorflow_core\\python\\framework\\ops.py\", line 1748, in __init__\n    self._traceback = tf_stack.extract_stack()\n",
     "output_type": "error",
     "traceback": [
      "\u001b[1;31m---------------------------------------------------------------------------\u001b[0m",
      "\u001b[1;31mNotFoundError\u001b[0m                             Traceback (most recent call last)",
      "\u001b[1;32m~\\AppData\\Roaming\\Python\\Python37\\site-packages\\tensorflow_core\\python\\client\\session.py\u001b[0m in \u001b[0;36m_do_call\u001b[1;34m(self, fn, *args)\u001b[0m\n\u001b[0;32m   1364\u001b[0m     \u001b[1;32mtry\u001b[0m\u001b[1;33m:\u001b[0m\u001b[1;33m\u001b[0m\u001b[1;33m\u001b[0m\u001b[0m\n\u001b[1;32m-> 1365\u001b[1;33m       \u001b[1;32mreturn\u001b[0m \u001b[0mfn\u001b[0m\u001b[1;33m(\u001b[0m\u001b[1;33m*\u001b[0m\u001b[0margs\u001b[0m\u001b[1;33m)\u001b[0m\u001b[1;33m\u001b[0m\u001b[1;33m\u001b[0m\u001b[0m\n\u001b[0m\u001b[0;32m   1366\u001b[0m     \u001b[1;32mexcept\u001b[0m \u001b[0merrors\u001b[0m\u001b[1;33m.\u001b[0m\u001b[0mOpError\u001b[0m \u001b[1;32mas\u001b[0m \u001b[0me\u001b[0m\u001b[1;33m:\u001b[0m\u001b[1;33m\u001b[0m\u001b[1;33m\u001b[0m\u001b[0m\n",
      "\u001b[1;32m~\\AppData\\Roaming\\Python\\Python37\\site-packages\\tensorflow_core\\python\\client\\session.py\u001b[0m in \u001b[0;36m_run_fn\u001b[1;34m(feed_dict, fetch_list, target_list, options, run_metadata)\u001b[0m\n\u001b[0;32m   1349\u001b[0m       return self._call_tf_sessionrun(options, feed_dict, fetch_list,\n\u001b[1;32m-> 1350\u001b[1;33m                                       target_list, run_metadata)\n\u001b[0m\u001b[0;32m   1351\u001b[0m \u001b[1;33m\u001b[0m\u001b[0m\n",
      "\u001b[1;32m~\\AppData\\Roaming\\Python\\Python37\\site-packages\\tensorflow_core\\python\\client\\session.py\u001b[0m in \u001b[0;36m_call_tf_sessionrun\u001b[1;34m(self, options, feed_dict, fetch_list, target_list, run_metadata)\u001b[0m\n\u001b[0;32m   1442\u001b[0m                                             \u001b[0mfetch_list\u001b[0m\u001b[1;33m,\u001b[0m \u001b[0mtarget_list\u001b[0m\u001b[1;33m,\u001b[0m\u001b[1;33m\u001b[0m\u001b[1;33m\u001b[0m\u001b[0m\n\u001b[1;32m-> 1443\u001b[1;33m                                             run_metadata)\n\u001b[0m\u001b[0;32m   1444\u001b[0m \u001b[1;33m\u001b[0m\u001b[0m\n",
      "\u001b[1;31mNotFoundError\u001b[0m: Key thread_0_1577494441.3438203/Variable not found in checkpoint\n\t [[{{node save/RestoreV2}}]]",
      "\nDuring handling of the above exception, another exception occurred:\n",
      "\u001b[1;31mNotFoundError\u001b[0m                             Traceback (most recent call last)",
      "\u001b[1;32m~\\AppData\\Roaming\\Python\\Python37\\site-packages\\tensorflow_core\\python\\training\\saver.py\u001b[0m in \u001b[0;36mrestore\u001b[1;34m(self, sess, save_path)\u001b[0m\n\u001b[0;32m   1289\u001b[0m         sess.run(self.saver_def.restore_op_name,\n\u001b[1;32m-> 1290\u001b[1;33m                  {self.saver_def.filename_tensor_name: save_path})\n\u001b[0m\u001b[0;32m   1291\u001b[0m     \u001b[1;32mexcept\u001b[0m \u001b[0merrors\u001b[0m\u001b[1;33m.\u001b[0m\u001b[0mNotFoundError\u001b[0m \u001b[1;32mas\u001b[0m \u001b[0merr\u001b[0m\u001b[1;33m:\u001b[0m\u001b[1;33m\u001b[0m\u001b[1;33m\u001b[0m\u001b[0m\n",
      "\u001b[1;32m~\\AppData\\Roaming\\Python\\Python37\\site-packages\\tensorflow_core\\python\\client\\session.py\u001b[0m in \u001b[0;36mrun\u001b[1;34m(self, fetches, feed_dict, options, run_metadata)\u001b[0m\n\u001b[0;32m    955\u001b[0m       result = self._run(None, fetches, feed_dict, options_ptr,\n\u001b[1;32m--> 956\u001b[1;33m                          run_metadata_ptr)\n\u001b[0m\u001b[0;32m    957\u001b[0m       \u001b[1;32mif\u001b[0m \u001b[0mrun_metadata\u001b[0m\u001b[1;33m:\u001b[0m\u001b[1;33m\u001b[0m\u001b[1;33m\u001b[0m\u001b[0m\n",
      "\u001b[1;32m~\\AppData\\Roaming\\Python\\Python37\\site-packages\\tensorflow_core\\python\\client\\session.py\u001b[0m in \u001b[0;36m_run\u001b[1;34m(self, handle, fetches, feed_dict, options, run_metadata)\u001b[0m\n\u001b[0;32m   1179\u001b[0m       results = self._do_run(handle, final_targets, final_fetches,\n\u001b[1;32m-> 1180\u001b[1;33m                              feed_dict_tensor, options, run_metadata)\n\u001b[0m\u001b[0;32m   1181\u001b[0m     \u001b[1;32melse\u001b[0m\u001b[1;33m:\u001b[0m\u001b[1;33m\u001b[0m\u001b[1;33m\u001b[0m\u001b[0m\n",
      "\u001b[1;32m~\\AppData\\Roaming\\Python\\Python37\\site-packages\\tensorflow_core\\python\\client\\session.py\u001b[0m in \u001b[0;36m_do_run\u001b[1;34m(self, handle, target_list, fetch_list, feed_dict, options, run_metadata)\u001b[0m\n\u001b[0;32m   1358\u001b[0m       return self._do_call(_run_fn, feeds, fetches, targets, options,\n\u001b[1;32m-> 1359\u001b[1;33m                            run_metadata)\n\u001b[0m\u001b[0;32m   1360\u001b[0m     \u001b[1;32melse\u001b[0m\u001b[1;33m:\u001b[0m\u001b[1;33m\u001b[0m\u001b[1;33m\u001b[0m\u001b[0m\n",
      "\u001b[1;32m~\\AppData\\Roaming\\Python\\Python37\\site-packages\\tensorflow_core\\python\\client\\session.py\u001b[0m in \u001b[0;36m_do_call\u001b[1;34m(self, fn, *args)\u001b[0m\n\u001b[0;32m   1383\u001b[0m                     'disable_meta_optimizer = True')\n\u001b[1;32m-> 1384\u001b[1;33m       \u001b[1;32mraise\u001b[0m \u001b[0mtype\u001b[0m\u001b[1;33m(\u001b[0m\u001b[0me\u001b[0m\u001b[1;33m)\u001b[0m\u001b[1;33m(\u001b[0m\u001b[0mnode_def\u001b[0m\u001b[1;33m,\u001b[0m \u001b[0mop\u001b[0m\u001b[1;33m,\u001b[0m \u001b[0mmessage\u001b[0m\u001b[1;33m)\u001b[0m\u001b[1;33m\u001b[0m\u001b[1;33m\u001b[0m\u001b[0m\n\u001b[0m\u001b[0;32m   1385\u001b[0m \u001b[1;33m\u001b[0m\u001b[0m\n",
      "\u001b[1;31mNotFoundError\u001b[0m: Key thread_0_1577494441.3438203/Variable not found in checkpoint\n\t [[node save/RestoreV2 (defined at C:\\Users\\ztwang\\AppData\\Roaming\\Python\\Python37\\site-packages\\tensorflow_core\\python\\framework\\ops.py:1748) ]]\n\nOriginal stack trace for 'save/RestoreV2':\n  File \"C:\\Users\\ztwang\\Anaconda3\\envs\\ml-agents-tf\\lib\\runpy.py\", line 193, in _run_module_as_main\n    \"__main__\", mod_spec)\n  File \"C:\\Users\\ztwang\\Anaconda3\\envs\\ml-agents-tf\\lib\\runpy.py\", line 85, in _run_code\n    exec(code, run_globals)\n  File \"C:\\Users\\ztwang\\Anaconda3\\envs\\ml-agents-tf\\lib\\site-packages\\ipykernel_launcher.py\", line 16, in <module>\n    app.launch_new_instance()\n  File \"C:\\Users\\ztwang\\Anaconda3\\envs\\ml-agents-tf\\lib\\site-packages\\traitlets\\config\\application.py\", line 664, in launch_instance\n    app.start()\n  File \"C:\\Users\\ztwang\\Anaconda3\\envs\\ml-agents-tf\\lib\\site-packages\\ipykernel\\kernelapp.py\", line 563, in start\n    self.io_loop.start()\n  File \"C:\\Users\\ztwang\\Anaconda3\\envs\\ml-agents-tf\\lib\\site-packages\\tornado\\platform\\asyncio.py\", line 148, in start\n    self.asyncio_loop.run_forever()\n  File \"C:\\Users\\ztwang\\Anaconda3\\envs\\ml-agents-tf\\lib\\asyncio\\base_events.py\", line 534, in run_forever\n    self._run_once()\n  File \"C:\\Users\\ztwang\\Anaconda3\\envs\\ml-agents-tf\\lib\\asyncio\\base_events.py\", line 1771, in _run_once\n    handle._run()\n  File \"C:\\Users\\ztwang\\Anaconda3\\envs\\ml-agents-tf\\lib\\asyncio\\events.py\", line 88, in _run\n    self._context.run(self._callback, *self._args)\n  File \"C:\\Users\\ztwang\\Anaconda3\\envs\\ml-agents-tf\\lib\\site-packages\\tornado\\ioloop.py\", line 690, in <lambda>\n    lambda f: self._run_callback(functools.partial(callback, future))\n  File \"C:\\Users\\ztwang\\Anaconda3\\envs\\ml-agents-tf\\lib\\site-packages\\tornado\\ioloop.py\", line 743, in _run_callback\n    ret = callback()\n  File \"C:\\Users\\ztwang\\Anaconda3\\envs\\ml-agents-tf\\lib\\site-packages\\tornado\\gen.py\", line 787, in inner\n    self.run()\n  File \"C:\\Users\\ztwang\\Anaconda3\\envs\\ml-agents-tf\\lib\\site-packages\\tornado\\gen.py\", line 748, in run\n    yielded = self.gen.send(value)\n  File \"C:\\Users\\ztwang\\Anaconda3\\envs\\ml-agents-tf\\lib\\site-packages\\ipykernel\\kernelbase.py\", line 365, in process_one\n    yield gen.maybe_future(dispatch(*args))\n  File \"C:\\Users\\ztwang\\Anaconda3\\envs\\ml-agents-tf\\lib\\site-packages\\tornado\\gen.py\", line 209, in wrapper\n    yielded = next(result)\n  File \"C:\\Users\\ztwang\\Anaconda3\\envs\\ml-agents-tf\\lib\\site-packages\\ipykernel\\kernelbase.py\", line 272, in dispatch_shell\n    yield gen.maybe_future(handler(stream, idents, msg))\n  File \"C:\\Users\\ztwang\\Anaconda3\\envs\\ml-agents-tf\\lib\\site-packages\\tornado\\gen.py\", line 209, in wrapper\n    yielded = next(result)\n  File \"C:\\Users\\ztwang\\Anaconda3\\envs\\ml-agents-tf\\lib\\site-packages\\ipykernel\\kernelbase.py\", line 542, in execute_request\n    user_expressions, allow_stdin,\n  File \"C:\\Users\\ztwang\\Anaconda3\\envs\\ml-agents-tf\\lib\\site-packages\\tornado\\gen.py\", line 209, in wrapper\n    yielded = next(result)\n  File \"C:\\Users\\ztwang\\Anaconda3\\envs\\ml-agents-tf\\lib\\site-packages\\ipykernel\\ipkernel.py\", line 294, in do_execute\n    res = shell.run_cell(code, store_history=store_history, silent=silent)\n  File \"C:\\Users\\ztwang\\Anaconda3\\envs\\ml-agents-tf\\lib\\site-packages\\ipykernel\\zmqshell.py\", line 536, in run_cell\n    return super(ZMQInteractiveShell, self).run_cell(*args, **kwargs)\n  File \"C:\\Users\\ztwang\\Anaconda3\\envs\\ml-agents-tf\\lib\\site-packages\\IPython\\core\\interactiveshell.py\", line 2855, in run_cell\n    raw_cell, store_history, silent, shell_futures)\n  File \"C:\\Users\\ztwang\\Anaconda3\\envs\\ml-agents-tf\\lib\\site-packages\\IPython\\core\\interactiveshell.py\", line 2881, in _run_cell\n    return runner(coro)\n  File \"C:\\Users\\ztwang\\Anaconda3\\envs\\ml-agents-tf\\lib\\site-packages\\IPython\\core\\async_helpers.py\", line 68, in _pseudo_sync_runner\n    coro.send(None)\n  File \"C:\\Users\\ztwang\\Anaconda3\\envs\\ml-agents-tf\\lib\\site-packages\\IPython\\core\\interactiveshell.py\", line 3058, in run_cell_async\n    interactivity=interactivity, compiler=compiler, result=result)\n  File \"C:\\Users\\ztwang\\Anaconda3\\envs\\ml-agents-tf\\lib\\site-packages\\IPython\\core\\interactiveshell.py\", line 3249, in run_ast_nodes\n    if (await self.run_code(code, result,  async_=asy)):\n  File \"C:\\Users\\ztwang\\Anaconda3\\envs\\ml-agents-tf\\lib\\site-packages\\IPython\\core\\interactiveshell.py\", line 3326, in run_code\n    exec(code_obj, self.user_global_ns, self.user_ns)\n  File \"<ipython-input-15-43085351ed97>\", line 30, in <module>\n    saver = tf.train.Saver()\n  File \"C:\\Users\\ztwang\\AppData\\Roaming\\Python\\Python37\\site-packages\\tensorflow_core\\python\\training\\saver.py\", line 828, in __init__\n    self.build()\n  File \"C:\\Users\\ztwang\\AppData\\Roaming\\Python\\Python37\\site-packages\\tensorflow_core\\python\\training\\saver.py\", line 840, in build\n    self._build(self._filename, build_save=True, build_restore=True)\n  File \"C:\\Users\\ztwang\\AppData\\Roaming\\Python\\Python37\\site-packages\\tensorflow_core\\python\\training\\saver.py\", line 878, in _build\n    build_restore=build_restore)\n  File \"C:\\Users\\ztwang\\AppData\\Roaming\\Python\\Python37\\site-packages\\tensorflow_core\\python\\training\\saver.py\", line 508, in _build_internal\n    restore_sequentially, reshape)\n  File \"C:\\Users\\ztwang\\AppData\\Roaming\\Python\\Python37\\site-packages\\tensorflow_core\\python\\training\\saver.py\", line 328, in _AddRestoreOps\n    restore_sequentially)\n  File \"C:\\Users\\ztwang\\AppData\\Roaming\\Python\\Python37\\site-packages\\tensorflow_core\\python\\training\\saver.py\", line 575, in bulk_restore\n    return io_ops.restore_v2(filename_tensor, names, slices, dtypes)\n  File \"C:\\Users\\ztwang\\AppData\\Roaming\\Python\\Python37\\site-packages\\tensorflow_core\\python\\ops\\gen_io_ops.py\", line 1696, in restore_v2\n    name=name)\n  File \"C:\\Users\\ztwang\\AppData\\Roaming\\Python\\Python37\\site-packages\\tensorflow_core\\python\\framework\\op_def_library.py\", line 794, in _apply_op_helper\n    op_def=op_def)\n  File \"C:\\Users\\ztwang\\AppData\\Roaming\\Python\\Python37\\site-packages\\tensorflow_core\\python\\util\\deprecation.py\", line 507, in new_func\n    return func(*args, **kwargs)\n  File \"C:\\Users\\ztwang\\AppData\\Roaming\\Python\\Python37\\site-packages\\tensorflow_core\\python\\framework\\ops.py\", line 3357, in create_op\n    attrs, op_def, compute_device)\n  File \"C:\\Users\\ztwang\\AppData\\Roaming\\Python\\Python37\\site-packages\\tensorflow_core\\python\\framework\\ops.py\", line 3426, in _create_op_internal\n    op_def=op_def)\n  File \"C:\\Users\\ztwang\\AppData\\Roaming\\Python\\Python37\\site-packages\\tensorflow_core\\python\\framework\\ops.py\", line 1748, in __init__\n    self._traceback = tf_stack.extract_stack()\n",
      "\nDuring handling of the above exception, another exception occurred:\n",
      "\u001b[1;31mNotFoundError\u001b[0m                             Traceback (most recent call last)",
      "\u001b[1;32m~\\AppData\\Roaming\\Python\\Python37\\site-packages\\tensorflow_core\\python\\training\\saver.py\u001b[0m in \u001b[0;36mrestore\u001b[1;34m(self, sess, save_path)\u001b[0m\n\u001b[0;32m   1299\u001b[0m       \u001b[1;32mtry\u001b[0m\u001b[1;33m:\u001b[0m\u001b[1;33m\u001b[0m\u001b[1;33m\u001b[0m\u001b[0m\n\u001b[1;32m-> 1300\u001b[1;33m         \u001b[0mnames_to_keys\u001b[0m \u001b[1;33m=\u001b[0m \u001b[0mobject_graph_key_mapping\u001b[0m\u001b[1;33m(\u001b[0m\u001b[0msave_path\u001b[0m\u001b[1;33m)\u001b[0m\u001b[1;33m\u001b[0m\u001b[1;33m\u001b[0m\u001b[0m\n\u001b[0m\u001b[0;32m   1301\u001b[0m       \u001b[1;32mexcept\u001b[0m \u001b[0merrors\u001b[0m\u001b[1;33m.\u001b[0m\u001b[0mNotFoundError\u001b[0m\u001b[1;33m:\u001b[0m\u001b[1;33m\u001b[0m\u001b[1;33m\u001b[0m\u001b[0m\n",
      "\u001b[1;32m~\\AppData\\Roaming\\Python\\Python37\\site-packages\\tensorflow_core\\python\\training\\saver.py\u001b[0m in \u001b[0;36mobject_graph_key_mapping\u001b[1;34m(checkpoint_path)\u001b[0m\n\u001b[0;32m   1617\u001b[0m   \u001b[0mreader\u001b[0m \u001b[1;33m=\u001b[0m \u001b[0mpywrap_tensorflow\u001b[0m\u001b[1;33m.\u001b[0m\u001b[0mNewCheckpointReader\u001b[0m\u001b[1;33m(\u001b[0m\u001b[0mcheckpoint_path\u001b[0m\u001b[1;33m)\u001b[0m\u001b[1;33m\u001b[0m\u001b[1;33m\u001b[0m\u001b[0m\n\u001b[1;32m-> 1618\u001b[1;33m   \u001b[0mobject_graph_string\u001b[0m \u001b[1;33m=\u001b[0m \u001b[0mreader\u001b[0m\u001b[1;33m.\u001b[0m\u001b[0mget_tensor\u001b[0m\u001b[1;33m(\u001b[0m\u001b[0mtrackable\u001b[0m\u001b[1;33m.\u001b[0m\u001b[0mOBJECT_GRAPH_PROTO_KEY\u001b[0m\u001b[1;33m)\u001b[0m\u001b[1;33m\u001b[0m\u001b[1;33m\u001b[0m\u001b[0m\n\u001b[0m\u001b[0;32m   1619\u001b[0m   \u001b[0mobject_graph_proto\u001b[0m \u001b[1;33m=\u001b[0m \u001b[1;33m(\u001b[0m\u001b[0mtrackable_object_graph_pb2\u001b[0m\u001b[1;33m.\u001b[0m\u001b[0mTrackableObjectGraph\u001b[0m\u001b[1;33m(\u001b[0m\u001b[1;33m)\u001b[0m\u001b[1;33m)\u001b[0m\u001b[1;33m\u001b[0m\u001b[1;33m\u001b[0m\u001b[0m\n",
      "\u001b[1;32m~\\AppData\\Roaming\\Python\\Python37\\site-packages\\tensorflow_core\\python\\pywrap_tensorflow_internal.py\u001b[0m in \u001b[0;36mget_tensor\u001b[1;34m(self, tensor_str)\u001b[0m\n\u001b[0;32m    914\u001b[0m \u001b[1;33m\u001b[0m\u001b[0m\n\u001b[1;32m--> 915\u001b[1;33m       \u001b[1;32mreturn\u001b[0m \u001b[0mCheckpointReader_GetTensor\u001b[0m\u001b[1;33m(\u001b[0m\u001b[0mself\u001b[0m\u001b[1;33m,\u001b[0m \u001b[0mcompat\u001b[0m\u001b[1;33m.\u001b[0m\u001b[0mas_bytes\u001b[0m\u001b[1;33m(\u001b[0m\u001b[0mtensor_str\u001b[0m\u001b[1;33m)\u001b[0m\u001b[1;33m)\u001b[0m\u001b[1;33m\u001b[0m\u001b[1;33m\u001b[0m\u001b[0m\n\u001b[0m\u001b[0;32m    916\u001b[0m \u001b[1;33m\u001b[0m\u001b[0m\n",
      "\u001b[1;31mNotFoundError\u001b[0m: Key _CHECKPOINTABLE_OBJECT_GRAPH not found in checkpoint",
      "\nDuring handling of the above exception, another exception occurred:\n",
      "\u001b[1;31mNotFoundError\u001b[0m                             Traceback (most recent call last)",
      "\u001b[1;32m<ipython-input-22-083b2c2d82f3>\u001b[0m in \u001b[0;36m<module>\u001b[1;34m\u001b[0m\n\u001b[0;32m      1\u001b[0m \u001b[1;32mwith\u001b[0m \u001b[0mtf\u001b[0m\u001b[1;33m.\u001b[0m\u001b[0mSession\u001b[0m\u001b[1;33m(\u001b[0m\u001b[1;33m)\u001b[0m \u001b[1;32mas\u001b[0m \u001b[0msess\u001b[0m\u001b[1;33m:\u001b[0m\u001b[1;33m\u001b[0m\u001b[1;33m\u001b[0m\u001b[0m\n\u001b[0;32m      2\u001b[0m     \u001b[0mckpt\u001b[0m \u001b[1;33m=\u001b[0m \u001b[0mtf\u001b[0m\u001b[1;33m.\u001b[0m\u001b[0mtrain\u001b[0m\u001b[1;33m.\u001b[0m\u001b[0mget_checkpoint_state\u001b[0m\u001b[1;33m(\u001b[0m\u001b[0mmodel_path\u001b[0m\u001b[1;33m)\u001b[0m\u001b[1;33m\u001b[0m\u001b[1;33m\u001b[0m\u001b[0m\n\u001b[1;32m----> 3\u001b[1;33m     \u001b[0msaver\u001b[0m\u001b[1;33m.\u001b[0m\u001b[0mrestore\u001b[0m\u001b[1;33m(\u001b[0m\u001b[0msess\u001b[0m\u001b[1;33m,\u001b[0m \u001b[0mckpt\u001b[0m\u001b[1;33m.\u001b[0m\u001b[0mmodel_checkpoint_path\u001b[0m\u001b[1;33m)\u001b[0m\u001b[1;33m\u001b[0m\u001b[1;33m\u001b[0m\u001b[0m\n\u001b[0m",
      "\u001b[1;32m~\\AppData\\Roaming\\Python\\Python37\\site-packages\\tensorflow_core\\python\\training\\saver.py\u001b[0m in \u001b[0;36mrestore\u001b[1;34m(self, sess, save_path)\u001b[0m\n\u001b[0;32m   1304\u001b[0m         \u001b[1;31m# a helpful message (b/110263146)\u001b[0m\u001b[1;33m\u001b[0m\u001b[1;33m\u001b[0m\u001b[1;33m\u001b[0m\u001b[0m\n\u001b[0;32m   1305\u001b[0m         raise _wrap_restore_error_with_msg(\n\u001b[1;32m-> 1306\u001b[1;33m             err, \"a Variable name or other graph key that is missing\")\n\u001b[0m\u001b[0;32m   1307\u001b[0m \u001b[1;33m\u001b[0m\u001b[0m\n\u001b[0;32m   1308\u001b[0m       \u001b[1;31m# This is an object-based checkpoint. We'll print a warning and then do\u001b[0m\u001b[1;33m\u001b[0m\u001b[1;33m\u001b[0m\u001b[1;33m\u001b[0m\u001b[0m\n",
      "\u001b[1;31mNotFoundError\u001b[0m: Restoring from checkpoint failed. This is most likely due to a Variable name or other graph key that is missing from the checkpoint. Please ensure that you have not altered the graph expected based on the checkpoint. Original error:\n\nKey thread_0_1577494441.3438203/Variable not found in checkpoint\n\t [[node save/RestoreV2 (defined at C:\\Users\\ztwang\\AppData\\Roaming\\Python\\Python37\\site-packages\\tensorflow_core\\python\\framework\\ops.py:1748) ]]\n\nOriginal stack trace for 'save/RestoreV2':\n  File \"C:\\Users\\ztwang\\Anaconda3\\envs\\ml-agents-tf\\lib\\runpy.py\", line 193, in _run_module_as_main\n    \"__main__\", mod_spec)\n  File \"C:\\Users\\ztwang\\Anaconda3\\envs\\ml-agents-tf\\lib\\runpy.py\", line 85, in _run_code\n    exec(code, run_globals)\n  File \"C:\\Users\\ztwang\\Anaconda3\\envs\\ml-agents-tf\\lib\\site-packages\\ipykernel_launcher.py\", line 16, in <module>\n    app.launch_new_instance()\n  File \"C:\\Users\\ztwang\\Anaconda3\\envs\\ml-agents-tf\\lib\\site-packages\\traitlets\\config\\application.py\", line 664, in launch_instance\n    app.start()\n  File \"C:\\Users\\ztwang\\Anaconda3\\envs\\ml-agents-tf\\lib\\site-packages\\ipykernel\\kernelapp.py\", line 563, in start\n    self.io_loop.start()\n  File \"C:\\Users\\ztwang\\Anaconda3\\envs\\ml-agents-tf\\lib\\site-packages\\tornado\\platform\\asyncio.py\", line 148, in start\n    self.asyncio_loop.run_forever()\n  File \"C:\\Users\\ztwang\\Anaconda3\\envs\\ml-agents-tf\\lib\\asyncio\\base_events.py\", line 534, in run_forever\n    self._run_once()\n  File \"C:\\Users\\ztwang\\Anaconda3\\envs\\ml-agents-tf\\lib\\asyncio\\base_events.py\", line 1771, in _run_once\n    handle._run()\n  File \"C:\\Users\\ztwang\\Anaconda3\\envs\\ml-agents-tf\\lib\\asyncio\\events.py\", line 88, in _run\n    self._context.run(self._callback, *self._args)\n  File \"C:\\Users\\ztwang\\Anaconda3\\envs\\ml-agents-tf\\lib\\site-packages\\tornado\\ioloop.py\", line 690, in <lambda>\n    lambda f: self._run_callback(functools.partial(callback, future))\n  File \"C:\\Users\\ztwang\\Anaconda3\\envs\\ml-agents-tf\\lib\\site-packages\\tornado\\ioloop.py\", line 743, in _run_callback\n    ret = callback()\n  File \"C:\\Users\\ztwang\\Anaconda3\\envs\\ml-agents-tf\\lib\\site-packages\\tornado\\gen.py\", line 787, in inner\n    self.run()\n  File \"C:\\Users\\ztwang\\Anaconda3\\envs\\ml-agents-tf\\lib\\site-packages\\tornado\\gen.py\", line 748, in run\n    yielded = self.gen.send(value)\n  File \"C:\\Users\\ztwang\\Anaconda3\\envs\\ml-agents-tf\\lib\\site-packages\\ipykernel\\kernelbase.py\", line 365, in process_one\n    yield gen.maybe_future(dispatch(*args))\n  File \"C:\\Users\\ztwang\\Anaconda3\\envs\\ml-agents-tf\\lib\\site-packages\\tornado\\gen.py\", line 209, in wrapper\n    yielded = next(result)\n  File \"C:\\Users\\ztwang\\Anaconda3\\envs\\ml-agents-tf\\lib\\site-packages\\ipykernel\\kernelbase.py\", line 272, in dispatch_shell\n    yield gen.maybe_future(handler(stream, idents, msg))\n  File \"C:\\Users\\ztwang\\Anaconda3\\envs\\ml-agents-tf\\lib\\site-packages\\tornado\\gen.py\", line 209, in wrapper\n    yielded = next(result)\n  File \"C:\\Users\\ztwang\\Anaconda3\\envs\\ml-agents-tf\\lib\\site-packages\\ipykernel\\kernelbase.py\", line 542, in execute_request\n    user_expressions, allow_stdin,\n  File \"C:\\Users\\ztwang\\Anaconda3\\envs\\ml-agents-tf\\lib\\site-packages\\tornado\\gen.py\", line 209, in wrapper\n    yielded = next(result)\n  File \"C:\\Users\\ztwang\\Anaconda3\\envs\\ml-agents-tf\\lib\\site-packages\\ipykernel\\ipkernel.py\", line 294, in do_execute\n    res = shell.run_cell(code, store_history=store_history, silent=silent)\n  File \"C:\\Users\\ztwang\\Anaconda3\\envs\\ml-agents-tf\\lib\\site-packages\\ipykernel\\zmqshell.py\", line 536, in run_cell\n    return super(ZMQInteractiveShell, self).run_cell(*args, **kwargs)\n  File \"C:\\Users\\ztwang\\Anaconda3\\envs\\ml-agents-tf\\lib\\site-packages\\IPython\\core\\interactiveshell.py\", line 2855, in run_cell\n    raw_cell, store_history, silent, shell_futures)\n  File \"C:\\Users\\ztwang\\Anaconda3\\envs\\ml-agents-tf\\lib\\site-packages\\IPython\\core\\interactiveshell.py\", line 2881, in _run_cell\n    return runner(coro)\n  File \"C:\\Users\\ztwang\\Anaconda3\\envs\\ml-agents-tf\\lib\\site-packages\\IPython\\core\\async_helpers.py\", line 68, in _pseudo_sync_runner\n    coro.send(None)\n  File \"C:\\Users\\ztwang\\Anaconda3\\envs\\ml-agents-tf\\lib\\site-packages\\IPython\\core\\interactiveshell.py\", line 3058, in run_cell_async\n    interactivity=interactivity, compiler=compiler, result=result)\n  File \"C:\\Users\\ztwang\\Anaconda3\\envs\\ml-agents-tf\\lib\\site-packages\\IPython\\core\\interactiveshell.py\", line 3249, in run_ast_nodes\n    if (await self.run_code(code, result,  async_=asy)):\n  File \"C:\\Users\\ztwang\\Anaconda3\\envs\\ml-agents-tf\\lib\\site-packages\\IPython\\core\\interactiveshell.py\", line 3326, in run_code\n    exec(code_obj, self.user_global_ns, self.user_ns)\n  File \"<ipython-input-15-43085351ed97>\", line 30, in <module>\n    saver = tf.train.Saver()\n  File \"C:\\Users\\ztwang\\AppData\\Roaming\\Python\\Python37\\site-packages\\tensorflow_core\\python\\training\\saver.py\", line 828, in __init__\n    self.build()\n  File \"C:\\Users\\ztwang\\AppData\\Roaming\\Python\\Python37\\site-packages\\tensorflow_core\\python\\training\\saver.py\", line 840, in build\n    self._build(self._filename, build_save=True, build_restore=True)\n  File \"C:\\Users\\ztwang\\AppData\\Roaming\\Python\\Python37\\site-packages\\tensorflow_core\\python\\training\\saver.py\", line 878, in _build\n    build_restore=build_restore)\n  File \"C:\\Users\\ztwang\\AppData\\Roaming\\Python\\Python37\\site-packages\\tensorflow_core\\python\\training\\saver.py\", line 508, in _build_internal\n    restore_sequentially, reshape)\n  File \"C:\\Users\\ztwang\\AppData\\Roaming\\Python\\Python37\\site-packages\\tensorflow_core\\python\\training\\saver.py\", line 328, in _AddRestoreOps\n    restore_sequentially)\n  File \"C:\\Users\\ztwang\\AppData\\Roaming\\Python\\Python37\\site-packages\\tensorflow_core\\python\\training\\saver.py\", line 575, in bulk_restore\n    return io_ops.restore_v2(filename_tensor, names, slices, dtypes)\n  File \"C:\\Users\\ztwang\\AppData\\Roaming\\Python\\Python37\\site-packages\\tensorflow_core\\python\\ops\\gen_io_ops.py\", line 1696, in restore_v2\n    name=name)\n  File \"C:\\Users\\ztwang\\AppData\\Roaming\\Python\\Python37\\site-packages\\tensorflow_core\\python\\framework\\op_def_library.py\", line 794, in _apply_op_helper\n    op_def=op_def)\n  File \"C:\\Users\\ztwang\\AppData\\Roaming\\Python\\Python37\\site-packages\\tensorflow_core\\python\\util\\deprecation.py\", line 507, in new_func\n    return func(*args, **kwargs)\n  File \"C:\\Users\\ztwang\\AppData\\Roaming\\Python\\Python37\\site-packages\\tensorflow_core\\python\\framework\\ops.py\", line 3357, in create_op\n    attrs, op_def, compute_device)\n  File \"C:\\Users\\ztwang\\AppData\\Roaming\\Python\\Python37\\site-packages\\tensorflow_core\\python\\framework\\ops.py\", line 3426, in _create_op_internal\n    op_def=op_def)\n  File \"C:\\Users\\ztwang\\AppData\\Roaming\\Python\\Python37\\site-packages\\tensorflow_core\\python\\framework\\ops.py\", line 1748, in __init__\n    self._traceback = tf_stack.extract_stack()\n"
     ]
    }
   ],
   "source": [
    "with tf.Session() as sess:\n",
    "    ckpt = tf.train.get_checkpoint_state(model_path)\n",
    "    saver.restore(sess, ckpt.model_checkpoint_path)\n"
   ]
  },
  {
   "cell_type": "markdown",
   "metadata": {},
   "source": [
    "### visualize depth vector"
   ]
  },
  {
   "cell_type": "code",
   "execution_count": 15,
   "metadata": {},
   "outputs": [],
   "source": [
    "train_buffer = np.array(agent_arr[0].train_buffer)"
   ]
  },
  {
   "cell_type": "code",
   "execution_count": 16,
   "metadata": {},
   "outputs": [],
   "source": [
    "true_depth = np.array(train_buffer[:, 8].tolist())\n",
    "depth_pred = train_buffer[:, 7]\n",
    "input_image = np.array(train_buffer[:, 0].tolist())"
   ]
  },
  {
   "cell_type": "code",
   "execution_count": 19,
   "metadata": {},
   "outputs": [
    {
     "data": {
      "image/png": "[encoded data removed]",
      "text/plain": [
       "<Figure size 432x288 with 3 Axes>"
      ]
     },
     "metadata": {
      "needs_background": "light"
     },
     "output_type": "display_data"
    }
   ],
   "source": [
    "i = 0\n",
    "plt.subplot(1, 3, 1)\n",
    "plt.imshow(true_depth[i].reshape(8, 8), cmap='gray', interpolation='nearest', vmin=0, vmax=7)\n",
    "plt.subplot(1, 3, 2)\n",
    "plt.imshow(depth_pred[i].reshape(8, 8), cmap='gray')\n",
    "plt.subplot(1, 3, 3)\n",
    "plt.imshow(input_image[i])\n",
    "plt.show()"
   ]
  },
  {
   "cell_type": "code",
   "execution_count": 20,
   "metadata": {},
   "outputs": [
    {
     "data": {
      "image/png": "[encoded data removed]",
      "text/plain": [
       "<Figure size 432x288 with 3 Axes>"
      ]
     },
     "metadata": {
      "needs_background": "light"
     },
     "output_type": "display_data"
    }
   ],
   "source": [
    "plt.subplot(1, 3, 1)\n",
    "d = agent_arr[0].window_stack(np.asarray(agent_arr[0].env_info.visual_observations[0][0]))\n",
    "plt.imshow(d.reshape(8, 8), cmap='gray', interpolation='nearest', vmin=0, vmax=7)\n",
    "plt.subplot(1, 3, 2)\n",
    "img_d = np.asarray(agent_arr[0].env_info.visual_observations[0][0])[:,:,0]\n",
    "plt.imshow(img_d, cmap='gray', vmin=0, vmax=1)\n",
    "plt.subplot(1, 3, 3)\n",
    "img_d = np.asarray(agent_arr[0].env_info.visual_observations[1][0])[:,:,0]\n",
    "plt.imshow(img_d, cmap='gray', vmin=0, vmax=1)\n",
    "plt.show()"
   ]
  },
  {
   "cell_type": "code",
   "execution_count": 21,
   "metadata": {},
   "outputs": [
    {
     "data": {
      "text/plain": [
       "array([4, 0, 0, 0, 0, 0, 0, 0, 5, 4, 0, 0, 0, 0, 0, 0, 6, 6, 5, 2, 0, 0,\n",
       "       0, 0, 6, 5, 5, 5, 4, 2, 0, 0, 6, 5, 5, 5, 5, 5, 4, 5, 6, 6, 6, 6,\n",
       "       6, 6, 6, 6, 6, 6, 6, 6, 6, 6, 6, 6, 6, 6, 6, 6, 6, 6, 6, 6])"
      ]
     },
     "execution_count": 21,
     "metadata": {},
     "output_type": "execute_result"
    }
   ],
   "source": [
    "d"
   ]
  },
  {
   "cell_type": "markdown",
   "metadata": {},
   "source": [
    "### visualize action probability"
   ]
  },
  {
   "cell_type": "code",
   "execution_count": 22,
   "metadata": {
    "scrolled": true
   },
   "outputs": [
    {
     "data": {
      "text/plain": [
       "array([[1.2160218e-03, 2.5207640e-03, 1.0990636e-02, 9.8242378e-01,\n",
       "        1.9187059e-03, 9.3012367e-04]], dtype=float32)"
      ]
     },
     "execution_count": 22,
     "metadata": {},
     "output_type": "execute_result"
    }
   ],
   "source": [
    "agent_arr[0].action_visualize"
   ]
  },
  {
   "cell_type": "code",
   "execution_count": 23,
   "metadata": {
    "scrolled": false
   },
   "outputs": [
    {
     "data": {
      "image/png": "[encoded data removed]",
      "text/plain": [
       "<Figure size 432x288 with 1 Axes>"
      ]
     },
     "metadata": {
      "needs_background": "light"
     },
     "output_type": "display_data"
    }
   ],
   "source": [
    "# import matplotlib.pyplot as plt\n",
    "fig, ax = plt.subplots()\n",
    "plt.bar([1,2,3,4,5,6], agent_arr[0].action_visualize[0], color='black', width=0.4)\n",
    "ax.set_xticklabels(['', 'Forward + Left', 'Forward', 'Forward + Right', \n",
    "                    'Left', 'Still', 'Right'], fontsize=6.5)\n",
    "plt.xlabel('actions', fontsize=18)\n",
    "plt.ylabel('chances of taking an action', fontsize=16)\n",
    "plt.show()\n"
   ]
  },
  {
   "cell_type": "code",
   "execution_count": null,
   "metadata": {},
   "outputs": [],
   "source": [
    "agent_arr[0].env_info.visual_observations[0][0]"
   ]
  },
  {
   "cell_type": "code",
   "execution_count": null,
   "metadata": {},
   "outputs": [],
   "source": [
    "img_d = np.asarray(agent_arr[0].env_info.visual_observations[0][0])[:,:,0]\n",
    "imgplt = plt.imshow(img_d, cmap='gray', vmin=0, vmax=1)\n",
    "logger.info('Shape of image: %s' % str(img_d.shape))"
   ]
  },
  {
   "cell_type": "markdown",
   "metadata": {},
   "source": [
    "# A2C function"
   ]
  },
  {
   "cell_type": "code",
   "execution_count": null,
   "metadata": {},
   "outputs": [],
   "source": [
    "from a2c_ppo_acktr import algo, utils\n",
    "# from a2c_ppo_acktr.algo import gail\n",
    "from a2c_ppo_acktr.arguments import get_args\n",
    "# from a2c_ppo_acktr.envs import make_vec_envs\n",
    "from a2c_ppo_acktr.model import Policy\n",
    "from a2c_ppo_acktr.storage import RolloutStorage\n",
    "# from evaluation import evaluate\n",
    "\n",
    "observation_space = [3, 300, 300]\n",
    "action_space = 3\n",
    "\n",
    "# def a2c_ppo_acktr(env_info, al_type='a2c', gail=False, gail_experts_dir='./gail_experts', \n",
    "#                   gail_batch_size=128, gail_epoch=1e5, alpha=0.99, \n",
    "#                   gamma=0.99, use_gae=False, gae_lambda=0.95, \n",
    "#                   entropy_coef=0.01, value_loss_coef=0.5, max_grad_norm=0.5, \n",
    "#                   seed=False, num_processes=1, num_steps=5, ppo_epoch=4, num_mini_batch=32, \n",
    "#                   clip_param=0.2, log_interval=10, save_interval=100, eval_interval=None, \n",
    "#                   num_env_steps=10e6, env_name='PongNoFrameskip_v4', log_dir='/tmp/gym/', \n",
    "#                   save_dir='./trained_models/', no_cuda=False, use_proper_time_limits=False, \n",
    "#                   recurrent_policy=False, use_linear_lr_decay=False, cuda=True, cuda_deterministic=True, \n",
    "#                   eps=1e-5, lr=7e-4):\n",
    "\n",
    "# ====== for testing\n",
    "if True:\n",
    "    \n",
    "    n_episodes=1000\n",
    "    al_type='a2c'\n",
    "    gail=False\n",
    "    gail_experts_dir='./gail_experts'\n",
    "    gail_batch_size=128\n",
    "    gail_epoch=1e5\n",
    "    alpha=0.99\n",
    "    gamma=0.99\n",
    "    use_gae=False\n",
    "    gae_lambda=0.95\n",
    "    entropy_coef=0.01\n",
    "    value_loss_coef=0.5\n",
    "    max_grad_norm=0.5\n",
    "    seed=False\n",
    "    num_processes=1\n",
    "    num_steps=1000\n",
    "    ppo_epoch=4\n",
    "    num_mini_batch=32\n",
    "    clip_param=0.2\n",
    "    log_interval=10\n",
    "    save_interval=1000\n",
    "    eval_interval=None\n",
    "    num_env_steps=10e6\n",
    "    env_name='vcs_test'\n",
    "    log_dir='/tmp/vcs/'\n",
    "    save_dir='./trained_models/'\n",
    "    no_cuda=False\n",
    "    use_proper_time_limits=False\n",
    "    recurrent_policy=False\n",
    "    use_linear_lr_decay=False\n",
    "    cuda=True\n",
    "    cuda_deterministic=True\n",
    "    eps=1e-5\n",
    "    lr=7e-4\n",
    "    \n",
    "    # load_prev_model=os.path.join(save_dir, al_type, env_name + \"_back.pt\")\n",
    "    load_prev_model = None\n",
    "    \n",
    "# ====== for testing\n",
    "\n",
    "    torch.manual_seed(seed)\n",
    "    torch.cuda.manual_seed_all(seed)\n",
    "    \n",
    "    if cuda and torch.cuda.is_available() and cuda_deterministic:\n",
    "        torch.backends.cudnn.benchmark = False\n",
    "        torch.backends.cudnn.deterministic = True\n",
    "\n",
    "    log_dir = os.path.expanduser(log_dir)\n",
    "    eval_log_dir = log_dir + \"_eval\"\n",
    "    utils.cleanup_log_dir(log_dir)\n",
    "    utils.cleanup_log_dir(eval_log_dir)\n",
    "\n",
    "    torch.set_num_threads(1)\n",
    "    device = torch.device(\"cuda:1\" if cuda else \"cpu\")\n",
    "    \n",
    "    actor_critic = Policy(\n",
    "        observation_space,\n",
    "        action_space,\n",
    "        base_kwargs={'recurrent': recurrent_policy})\n",
    "    \n",
    "    actor_critic.to(device)\n",
    "    \n",
    "    if not load_prev_model is None:\n",
    "        agent = torch.load(load_prev_model)\n",
    "        \n",
    "    # torch.save(model)\n",
    "    # model = torch.load(PATH)\n",
    "    \n",
    "    if al_type == 'a2c':\n",
    "        agent = algo.A2C_ACKTR(\n",
    "            actor_critic,\n",
    "            value_loss_coef,\n",
    "            entropy_coef,\n",
    "            lr=lr,\n",
    "            eps=eps,\n",
    "            alpha=alpha,\n",
    "            max_grad_norm=max_grad_norm)\n",
    "    elif al_type == 'ppo':\n",
    "        agent = algo.PPO(\n",
    "            actor_critic,\n",
    "            clip_param,\n",
    "            ppo_epoch,\n",
    "            num_mini_batch,\n",
    "            value_loss_coef,\n",
    "            entropy_coef,\n",
    "            lr=lr,\n",
    "            eps=eps,\n",
    "            max_grad_norm=max_grad_norm)\n",
    "    elif al_type == 'acktr':\n",
    "        agent = algo.A2C_ACKTR(\n",
    "            actor_critic, value_loss_coef, entropy_coef, acktr=True)\n",
    "\n",
    "    rollouts = RolloutStorage(num_steps, num_processes,\n",
    "                              observation_space, action_space,\n",
    "                              actor_critic.recurrent_hidden_state_size)\n",
    "\n",
    "    env_info = env.reset(train_mode=True)[brain_name]\n",
    "    obs = torch.from_numpy(np.transpose(np.asarray(env_info.visual_observations)[0], (0, 3, 1, 2)))\n",
    "    reward = [env_info.rewards[0]]                   # get the reward\n",
    "    done = [env_info.local_done[0]]                  # see if episode has finished\n",
    "    \n",
    "    rollouts.obs[0].copy_(obs)\n",
    "    rollouts.to(device)\n",
    "\n",
    "    episode_rewards = []\n",
    "\n",
    "    start = time.time()\n",
    "    \n",
    "    positions = []    \n",
    "    num_updates = n_episodes\n",
    "    \n",
    "    for j in range(num_updates):\n",
    "        \n",
    "        # out video!!!!\n",
    "        # out_video = imageio.get_writer('./%s_video.mp4' % str(j), fps=10)\n",
    "        \n",
    "        env_info = env.reset(train_mode=True)[brain_name]\n",
    "\n",
    "        if use_linear_lr_decay:\n",
    "            # decrease learning rate linearly\n",
    "            utils.update_linear_schedule(\n",
    "                agent.optimizer, j, num_updates,\n",
    "                agent.optimizer.lr if algo == \"acktr\" else lr)\n",
    "        \n",
    "        score = 0\n",
    "        position_epi = []\n",
    "        \n",
    "        for step in range(num_steps):\n",
    "            # Sample actions\n",
    "            with torch.no_grad():\n",
    "                value, action, action_log_prob, recurrent_hidden_states = actor_critic.act(\n",
    "                    rollouts.obs[step], rollouts.recurrent_hidden_states[step],\n",
    "                    rollouts.masks[step])\n",
    "\n",
    "            # Obser reward and next obs\n",
    "            action_transformed = get_action(action.cpu().numpy())\n",
    "            env_info = env.step(action_transformed)[brain_name]        # send the action to the environment\n",
    "            obs = torch.from_numpy(np.transpose(np.asarray(env_info.visual_observations)[0], \n",
    "                                                (0, 3, 1, 2))) # get the next state\n",
    "            reward = torch.FloatTensor(env_info.rewards)        # get the reward\n",
    "            done = torch.FloatTensor(env_info.local_done)       # see if episode has finished\n",
    "\n",
    "            # If done then clean the history of observations.\n",
    "            masks = torch.FloatTensor(\n",
    "                [[0.0] if done_ else [1.0] for done_ in done])\n",
    "            \n",
    "            # zwang !!! don't know what it is doing, changing it to\n",
    "            bad_masks = torch.FloatTensor([[1.0]])\n",
    "\n",
    "            rollouts.insert(obs, recurrent_hidden_states, action,\n",
    "                            action_log_prob, value, reward, masks, bad_masks)\n",
    "            \n",
    "            score += reward\n",
    "            stdout.write('\\r episode:{}, step: {}, position:({:.2f} {:.2f} {:.2f}), score:{}'.format(j, step,\n",
    "                        env_info.vector_observations[0][-3:][0], env_info.vector_observations[0][-3:][1],\n",
    "                        env_info.vector_observations[0][-3:][2], str(score)))\n",
    "            stdout.flush()\n",
    "            \n",
    "            position_epi.append(env_info.vector_observations[0][-3:].tolist())\n",
    "            \n",
    "            # out video!!!!\n",
    "            # out_video.append_data((np.asarray(env_info.visual_observations)[0][0] * 255).astype(np.uint8))\n",
    "        \n",
    "        episode_rewards.append(score)\n",
    "        \n",
    "        # out video!!!!\n",
    "        # out_video.close()\n",
    "        \n",
    "        with torch.no_grad():\n",
    "            next_value = actor_critic.get_value(\n",
    "                rollouts.obs[-1], rollouts.recurrent_hidden_states[-1],\n",
    "                rollouts.masks[-1]).detach()\n",
    "\n",
    "        rollouts.compute_returns(next_value, use_gae, gamma,\n",
    "                                 gae_lambda, use_proper_time_limits)\n",
    "        \n",
    "        value_loss, action_loss, dist_entropy = agent.update(rollouts)\n",
    "\n",
    "        rollouts.after_update()\n",
    "\n",
    "        # save for every interval-th episode or for the last epoch\n",
    "        if (j % save_interval == 0\n",
    "                or j == num_updates - 1) and save_dir != \"\":\n",
    "            save_path = os.path.join(save_dir, al_type)\n",
    "            try:\n",
    "                os.makedirs(save_path)\n",
    "            except OSError:\n",
    "                pass\n",
    "                        \n",
    "            torch.save(\n",
    "                actor_critic\n",
    "            , os.path.join(save_path, env_name + \".pt\"))\n",
    "                    \n",
    "        positions.append(position_epi)\n",
    "        writer.add_scalar('total_rewards', score, j)\n",
    "        writer.close()\n",
    "        "
   ]
  },
  {
   "cell_type": "code",
   "execution_count": 10,
   "metadata": {
    "scrolled": false
   },
   "outputs": [
    {
     "name": "stdout",
     "output_type": "stream",
     "text": [
      "10 tensor([10.0199])\n",
      "17 tensor([10.0199])\n",
      "32 tensor([10.0198])\n",
      "33 tensor([10.0198])\n",
      "37 tensor([10.0198])\n",
      "42 tensor([10.0198])\n",
      "43 tensor([10.0199])\n",
      "52 tensor([10.0198])\n",
      "58 tensor([10.0198])\n",
      "67 tensor([10.0198])\n",
      "69 tensor([10.0199])\n",
      "72 tensor([10.0199])\n",
      "76 tensor([10.0199])\n",
      "165 tensor([10.0198])\n",
      "175 tensor([10.0198])\n",
      "177 tensor([20.0298])\n",
      "178 tensor([10.0200])\n",
      "183 tensor([10.0199])\n",
      "216 tensor([10.0198])\n",
      "220 tensor([10.0198])\n",
      "223 tensor([10.0199])\n",
      "265 tensor([10.0198])\n",
      "269 tensor([10.0198])\n",
      "270 tensor([10.0198])\n",
      "292 tensor([10.0199])\n",
      "294 tensor([10.0199])\n",
      "295 tensor([10.0198])\n",
      "361 tensor([10.0199])\n",
      "369 tensor([10.0198])\n",
      "371 tensor([20.0298])\n",
      "373 tensor([10.0199])\n",
      "374 tensor([10.0198])\n",
      "384 tensor([10.0198])\n",
      "394 tensor([10.0198])\n",
      "424 tensor([10.0198])\n",
      "426 tensor([10.0199])\n",
      "443 tensor([10.0198])\n",
      "471 tensor([10.0199])\n",
      "486 tensor([10.0199])\n",
      "491 tensor([10.0198])\n",
      "493 tensor([10.0198])\n",
      "501 tensor([10.0198])\n",
      "507 tensor([10.0198])\n",
      "508 tensor([20.0298])\n",
      "517 tensor([10.0199])\n",
      "518 tensor([10.0198])\n",
      "522 tensor([10.0198])\n",
      "527 tensor([10.0398])\n",
      "531 tensor([20.0498])\n",
      "540 tensor([20.0298])\n",
      "544 tensor([10.0199])\n",
      "551 tensor([10.0198])\n",
      "576 tensor([20.0298])\n",
      "584 tensor([10.0198])\n",
      "627 tensor([10.0199])\n",
      "632 tensor([10.0199])\n",
      "633 tensor([10.0198])\n",
      "654 tensor([10.0199])\n",
      "662 tensor([10.0198])\n",
      "689 tensor([10.0199])\n",
      "693 tensor([10.0198])\n",
      "729 tensor([20.0298])\n",
      "748 tensor([10.0199])\n",
      "753 tensor([10.0198])\n",
      "755 tensor([10.0198])\n",
      "784 tensor([10.0199])\n",
      "787 tensor([10.0198])\n",
      "790 tensor([10.0198])\n",
      "867 tensor([10.0199])\n",
      "881 tensor([10.0199])\n",
      "882 tensor([10.0198])\n",
      "889 tensor([20.0499])\n",
      "911 tensor([20.0298])\n",
      "916 tensor([10.0199])\n",
      "933 tensor([10.0199])\n",
      "953 tensor([10.0198])\n",
      "954 tensor([10.0199])\n",
      "963 tensor([10.0198])\n",
      "968 tensor([10.0198])\n",
      "991 tensor([10.0198])\n",
      "995 tensor([10.0198])\n"
     ]
    }
   ],
   "source": [
    "for i, epi in enumerate(episode_rewards):\n",
    "    if epi > 10:\n",
    "        print(i, epi)"
   ]
  },
  {
   "cell_type": "code",
   "execution_count": 15,
   "metadata": {},
   "outputs": [
    {
     "data": {
      "image/png": "[encoded data removed]",
      "text/plain": [
       "<Figure size 432x288 with 1 Axes>"
      ]
     },
     "metadata": {
      "needs_background": "light"
     },
     "output_type": "display_data"
    }
   ],
   "source": []
  },
  {
   "cell_type": "code",
   "execution_count": 57,
   "metadata": {},
   "outputs": [],
   "source": [
    "a = np.asarray(positions)"
   ]
  },
  {
   "cell_type": "code",
   "execution_count": 59,
   "metadata": {},
   "outputs": [
    {
     "data": {
      "text/plain": [
       "array([[-658.27581787,   -2.00203896,  201.80421448],\n",
       "       [-692.20007324,   -2.60203886,  134.20001221],\n",
       "       [-657.69000244,   -2.00203896,  200.38999939],\n",
       "       [-514.93933105,   -2.25907612,  168.72293091],\n",
       "       [-587.06671143,   -1.95572376,  206.13334656],\n",
       "       [-595.00006104,   -2.10203886,  187.7333374 ],\n",
       "       [-622.01391602,   -2.33537197,  159.40686035],\n",
       "       [-622.51916504,   -2.34661078,  158.38578796],\n",
       "       [-537.83898926,   -2.23537207,  170.34942627],\n",
       "       [-630.05249023,   -2.11247063,  186.31912231]])"
      ]
     },
     "execution_count": 59,
     "metadata": {},
     "output_type": "execute_result"
    }
   ],
   "source": [
    "# np.asarray(positions)[0,:,:]\n",
    "a[:,0,:]"
   ]
  },
  {
   "cell_type": "code",
   "execution_count": 6,
   "metadata": {},
   "outputs": [],
   "source": [
    "# import json\n",
    "# with open('data.json', 'w') as f:\n",
    "#     json.dump(positions, f)"
   ]
  },
  {
   "cell_type": "markdown",
   "metadata": {},
   "source": [
    "# run a2c"
   ]
  },
  {
   "cell_type": "code",
   "execution_count": null,
   "metadata": {
    "scrolled": true
   },
   "outputs": [],
   "source": [
    "load_prev_model = 'model_latest'\n",
    "# !!!!!! jtan\n",
    "# scores, positions = a2c_ppo_acktr(env_info)"
   ]
  },
  {
   "cell_type": "markdown",
   "metadata": {},
   "source": [
    "# DQN function"
   ]
  },
  {
   "cell_type": "code",
   "execution_count": null,
   "metadata": {},
   "outputs": [],
   "source": [
    "def dqn(env_info, n_episodes=1, max_t=2000, eps_start=1.0, eps_end=0.01, \n",
    "        eps_decay=0.995, target_scores=1.0, video_flag=True, load_prev_model=None):\n",
    "    \"\"\"Deep Q-Learning.\n",
    "    \n",
    "    Params\n",
    "    ======\n",
    "        n_episodes (int): maximum number of training episodes\n",
    "        max_t (int): maximum number of timesteps per episode\n",
    "        eps_start (float): starting value of epsilon, for epsilon-greedy action selection\n",
    "        eps_end (float): minimum value of epsilon\n",
    "        eps_decay (float): multiplicative factor (per episode) for decreasing epsilon\n",
    "        target_scores (float): average scores aming to achieve, the agent will stop training once \n",
    "                            it reaches this scores\n",
    "        video_flag (boolean): a flag for whether to record video, if set to True, \n",
    "                            video would be recorded for every 20 episodes\n",
    "    \n",
    "    Returns\n",
    "    ======\n",
    "        scores in 2-d array\n",
    "        positions in 2-d array\n",
    "    \n",
    "    \"\"\"\n",
    "    # load previous trained result\n",
    "    if not load_prev_model == None:\n",
    "        agent.qnetwork_local.load_state_dict(torch.load(load_prev_model))\n",
    "    \n",
    "    start = time.time()                       # Start time\n",
    "    scores = []                               # list containing scores from each episode\n",
    "    positions = []                            # position list\n",
    "    scores_window = deque(maxlen=100)         # last 100 scores\n",
    "    eps = eps_start                           # initialize epsilon\n",
    "    \n",
    "    \n",
    "    width, height, channel = [300, 300, 3]\n",
    "    \n",
    "    for i_episode in range(1, n_episodes+1):\n",
    "        \n",
    "        video_flag = (i_episode % 20 == 0)\n",
    "        \n",
    "        # start video recording \n",
    "        if video_flag:\n",
    "            fourcc = cv2.VideoWriter_fourcc('M','S','V','C') #Microspoft Video 1\n",
    "            video  = cv2.VideoWriter('output_sep_18_%s.avi' % (str(i_episode)), fourcc, 30, (width, height))\n",
    "            \n",
    "        # Reset env and score at the beginning of episode\n",
    "        env_info = env.reset(train_mode=True)[brain_name] # reset the environment \n",
    "        \n",
    "        # get the current visual state\n",
    "        state = np.transpose(np.asarray(env_info.visual_observations)[0][0], (2, 0, 1)) \n",
    "        \n",
    "        # initialize the score\n",
    "        score = 0\n",
    "        \n",
    "        # storing temporary path for an episode\n",
    "        position_epi = []\n",
    "        \n",
    "        for t in range(max_t):\n",
    "            \n",
    "            if video_flag:\n",
    "                video.write(np.asarray(env_info.visual_observations)[0][0])\n",
    "                \n",
    "            action = agent.act(state, eps)\n",
    "            \n",
    "            # translate action variable into forward, rotate, and right\n",
    "            action_transformed = get_action(action)\n",
    "            env_info = env.step(action_transformed)[brain_name]        # send the action to the environment\n",
    "            next_state = np.transpose(np.asarray(env_info.visual_observations)[0][0], \n",
    "                                      (2, 0, 1)) # get the next state\n",
    "            reward = env_info.rewards[0]                   # get the reward\n",
    "            done = env_info.local_done[0]                  # see if episode has finished\n",
    "            \n",
    "            agent.step(state, action, reward, next_state, done)\n",
    "            \n",
    "            state = next_state\n",
    "            \n",
    "            score += reward\n",
    "            \n",
    "            position_epi.append(env_info.vector_observations[0][-3:].tolist())\n",
    "            \n",
    "            stdout.write('\\r t:{}, position:{}, score:{:.3f}'.format(str(t), \n",
    "                                    str(env_info.vector_observations[0][-3:]), score))\n",
    "            stdout.flush()\n",
    "                                \n",
    "        positions.append(position_epi)\n",
    "        scores_window.append(score)       # save most recent score\n",
    "        scores.append(score)              # save most recent score\n",
    "        eps = max(eps_end, eps_decay*eps) # decrease epsilon\n",
    "        \n",
    "        print('\\nEpisode {}\\tAverage Score: {:.2f}\\t Last Move {}\\n'.format(i_episode, \n",
    "                                                        np.mean(scores_window), action_transformed), end=\"\")\n",
    "        if i_episode % 10 == 0:\n",
    "            # torch.save(agent.qnetwork_local.state_dict(), 'model_%s' % str(i_episode))\n",
    "            torch.save(agent.qnetwork_local.state_dict(), 'model_latest')\n",
    "        \n",
    "        # add rewards to writer\n",
    "        writer.add_scalar('total_rewards', score, i_episode)\n",
    "                \n",
    "        # if np.mean(scores_window)>=target_scores:\n",
    "        #     print('\\nEnvironment solved in {:d} episodes!\\tAverage Score: {:.2f}'.format(i_episode, \n",
    "        #                                                                      np.mean(scores_window)))\n",
    "        #     torch.save(agent.qnetwork_local.state_dict(), model_weight_name)\n",
    "        #     break\n",
    "        \n",
    "        if video_flag:\n",
    "            cv2.destroyAllWindows()\n",
    "            video.release()\n",
    "    \n",
    "    writer.close()\n",
    "\n",
    "    print('\\nEnvironment solved in {:d} episodes!\\tAverage Score: {:.2f}'.format(i_episode, np.mean(scores_window)))\n",
    "    torch.save(agent.qnetwork_local.state_dict(), model_weight_name)\n",
    "\n",
    "    time_elapsed = time.time() - start\n",
    "    print(\"Time Elapse: {:.2f}\".format(time_elapsed))\n",
    "    \n",
    "    return scores, positions"
   ]
  },
  {
   "cell_type": "markdown",
   "metadata": {},
   "source": [
    "# run DQN"
   ]
  },
  {
   "cell_type": "code",
   "execution_count": 23,
   "metadata": {
    "scrolled": false
   },
   "outputs": [],
   "source": [
    "load_prev_model = 'model_latest'\n",
    "scores, positions = dqn(env_info, n_episodes=100, max_t=2000, eps_start=1.0, \n",
    "                        eps_end=0.01, eps_decay=0.995, target_scores=1.0,\n",
    "                        video_flag=False, load_prev_model=load_prev_model)"
   ]
  },
  {
   "cell_type": "code",
   "execution_count": 5,
   "metadata": {},
   "outputs": [],
   "source": [
    "env_info = env.reset(train_mode=True)[brain_name]"
   ]
  },
  {
   "cell_type": "code",
   "execution_count": 28,
   "metadata": {},
   "outputs": [],
   "source": []
  },
  {
   "cell_type": "code",
   "execution_count": 29,
   "metadata": {
    "scrolled": false
   },
   "outputs": [
    {
     "data": {
      "image/png": "[encoded data removed]",
      "text/plain": [
       "<Figure size 432x288 with 1 Axes>"
      ]
     },
     "metadata": {
      "needs_background": "light"
     },
     "output_type": "display_data"
    }
   ],
   "source": [
    "vis_paths(positions, goals, final_goal)"
   ]
  },
  {
   "cell_type": "code",
   "execution_count": 16,
   "metadata": {},
   "outputs": [
    {
     "name": "stdout",
     "output_type": "stream",
     "text": [
      "205.0 197.99999999999994\n",
      "805.8731636688163 486.0823513904103\n"
     ]
    }
   ],
   "source": [
    "import math\n",
    "import matplotlib.pyplot as plt\n",
    "import matplotlib.image as mpimg\n",
    "\n",
    "\n",
    "# point_a = [[1093 - 888, 592 - 394], [1093 - 294, 592 - 92]]\n",
    "point_a = [[205, 198], [799, 500]]\n",
    "# point_b = [[-252.8 - 388.5, 118.7 + 80.5], [75.5 - 388.5, -38.7 + 80.5]]\n",
    "point_b = [[-641.3, -199.2], [-313.0, -41.8]]\n",
    "\n",
    "a = math.sqrt((point_a[0][0] - point_a[1][0])**2 + (point_a[0][1] - point_a[1][1])**2)\n",
    "b = math.sqrt((point_b[0][0] - point_b[1][0])**2 + (point_b[0][1] - point_b[1][1])**2)\n",
    "ratio = a / b\n",
    "plus = [point_a[0][0] - point_b[0][0] * ratio, point_a[0][1] - point_b[0][1] * ratio]\n",
    "print(point_b[0][0] * ratio + plus[0], point_b[0][1] * ratio + plus[1])\n",
    "print(point_b[1][0] * ratio + plus[0], point_b[1][1] * ratio + plus[1])\n",
    "# print([[i[0] * ratio + , i[i] * ratio + ] for ])"
   ]
  },
  {
   "cell_type": "code",
   "execution_count": 18,
   "metadata": {},
   "outputs": [],
   "source": [
    "trans_pos = [np.array([[j[0] * ratio + plus[0], j[1], j[2] * ratio + plus[1]] for j in i]) for i in pos]"
   ]
  },
  {
   "cell_type": "code",
   "execution_count": 20,
   "metadata": {},
   "outputs": [
    {
     "data": {
      "image/png": "[encoded data removed]",
      "text/plain": [
       "<Figure size 432x288 with 1 Axes>"
      ]
     },
     "metadata": {
      "needs_background": "light"
     },
     "output_type": "display_data"
    }
   ],
   "source": [
    "img = mpimg.imread('./plan.png')\n",
    "plt.imshow(img)\n",
    "\n",
    "for i in range(len(trans_pos)):\n",
    "    if i == 11:\n",
    "        plt.plot(trans_pos[i][:,0], trans_pos[i][:,2])\n",
    "\n",
    "for i in range(len(goals)):\n",
    "    plt.plot(goals[i][0]  * ratio + plus[0], goals[i][2]  * ratio + plus[1], marker='o', markersize=10, color=\"black\")\n",
    "\n",
    "plt.plot([final_goal[0] * ratio + plus[1]], [final_goal[2] * ratio + plus[1]], marker='o', markersize=40, color=\"black\")\n",
    "plt.xlabel('timestep')\n",
    "plt.ylabel('trajectories')\n",
    "plt.show()"
   ]
  },
  {
   "cell_type": "code",
   "execution_count": 21,
   "metadata": {},
   "outputs": [
    {
     "name": "stdout",
     "output_type": "stream",
     "text": [
      "(4, 3, 300, 300)\n",
      "torch.Size([1, 32, 74, 74])\n",
      "torch.Size([1, 64, 36, 36])\n",
      "torch.Size([73984])\n",
      "torch.Size([512])\n"
     ]
    }
   ],
   "source": [
    "imgs = np.expand_dims(np.asarray(env_info.visual_observations)[0][0], axis=0)\n",
    "input = np.transpose(imgs, (0, 3, 1, 2))\n",
    "input = np.concatenate([input, input, input, input], 0)\n",
    "print(input.shape)\n",
    "\n",
    "m1  = torch.nn.Conv2d(3, 32, kernel_size=8, stride=4)\n",
    "m2  = torch.nn.Conv2d(32, 64, kernel_size=4, stride=2)\n",
    "m3  = torch.nn.Conv2d(64, 64, kernel_size=3, stride=1)\n",
    "fc4 = torch.nn.Linear(34 * 34 * 64, 512)\n",
    "fc5 = torch.nn.Linear(512, 9)\n",
    "\n",
    "input = torch.randn(1, 3, 300, 300)\n",
    "output1 = m1(input)\n",
    "print(output1.shape)\n",
    "output2 = m2(output1)\n",
    "print(output2.shape)\n",
    "output3 = torch.flatten(m3(output2))\n",
    "print(output3.shape)\n",
    "output4 = fc4(output3)\n",
    "print(output4.shape)\n",
    "output5 = fc5(output4)\n",
    "\n",
    "# fc5(fc4(m3(m2(m1(input)))))\n"
   ]
  },
  {
   "cell_type": "code",
   "execution_count": null,
   "metadata": {},
   "outputs": [],
   "source": [
    "input = torch.randn(3, 300, 300)\n",
    "input = input.unsqueeze(0)"
   ]
  },
  {
   "cell_type": "code",
   "execution_count": null,
   "metadata": {},
   "outputs": [],
   "source": [
    "input.shape"
   ]
  },
  {
   "cell_type": "code",
   "execution_count": null,
   "metadata": {},
   "outputs": [],
   "source": [
    "output5"
   ]
  },
  {
   "cell_type": "code",
   "execution_count": null,
   "metadata": {},
   "outputs": [],
   "source": [
    "plt.imshow(np.asarray(env_info.visual_observations)[0][0])"
   ]
  },
  {
   "cell_type": "code",
   "execution_count": null,
   "metadata": {},
   "outputs": [],
   "source": [
    "\n",
    "# plot the scores\n",
    "# fig = plt.figure()\n",
    "# ax = fig.add_subplot(111)\n",
    "# plt.plot(np.arange(len(scores)), scores)\n",
    "# plt.ylabel('Score')\n",
    "# plt.xlabel('Episode #')\n",
    "# plt.show()"
   ]
  },
  {
   "cell_type": "code",
   "execution_count": null,
   "metadata": {},
   "outputs": [],
   "source": [
    "print(agent.chck[1])"
   ]
  },
  {
   "cell_type": "code",
   "execution_count": null,
   "metadata": {},
   "outputs": [],
   "source": [
    "agent.qnetwork_local(agent.chck[0].unsqueeze(0))"
   ]
  },
  {
   "cell_type": "markdown",
   "metadata": {},
   "source": [
    "### Watch the agent running ( Using saved weights)"
   ]
  },
  {
   "cell_type": "code",
   "execution_count": null,
   "metadata": {},
   "outputs": [],
   "source": [
    "# load the weights from file\n",
    "agent.qnetwork_local.load_state_dict(torch.load(model_weight_name))\n",
    "\n",
    "env_info = env.reset(train_mode=False)[brain_name] # reset the environment\n",
    "state = env_info.vector_observations[0]            # get the current state\n",
    "score = 0                                          # initialize the score\n",
    "\n",
    "while True:\n",
    "    action = agent.act(state)                      # select an action\n",
    "    env_info = env.step(action)[brain_name]        # send the action to the environment\n",
    "    next_state = env_info.vector_observations[0]   # get the next state\n",
    "    reward = env_info.rewards[0]                   # get the reward\n",
    "    done = env_info.local_done[0]                  # see if episode has finished\n",
    "    score += reward                                # update the score\n",
    "    state = next_state                             # roll over the state to next time step\n",
    "    if done:                                       # exit loop if episode finished\n",
    "        break\n",
    "    \n",
    "print(\"Score: {}\".format(score))"
   ]
  },
  {
   "cell_type": "markdown",
   "metadata": {},
   "source": [
    "### Close Unity ML Environment"
   ]
  },
  {
   "cell_type": "code",
   "execution_count": null,
   "metadata": {},
   "outputs": [],
   "source": [
    "env.close()"
   ]
  },
  {
   "cell_type": "code",
   "execution_count": null,
   "metadata": {},
   "outputs": [],
   "source": []
  },
  {
   "cell_type": "code",
   "execution_count": null,
   "metadata": {},
   "outputs": [],
   "source": []
  },
  {
   "cell_type": "code",
   "execution_count": null,
   "metadata": {},
   "outputs": [],
   "source": []
  }
 ],
 "metadata": {
  "kernelspec": {
   "display_name": "ml-agents-tf",
   "language": "python",
   "name": "ml-agents-tf"
  },
  "language_info": {
   "codemirror_mode": {
    "name": "ipython",
    "version": 3
   },
   "file_extension": ".py",
   "mimetype": "text/x-python",
   "name": "python",
   "nbconvert_exporter": "python",
   "pygments_lexer": "ipython3",
   "version": "3.7.4"
  }
 },
 "nbformat": 4,
 "nbformat_minor": 2
}
