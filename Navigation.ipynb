{
 "cells": [
  {
   "cell_type": "markdown",
   "metadata": {},
   "source": [
    "# Navigation\n",
    "\n",
    "---\n",
    "\n",
    "### 1. Start the Environment\n"
   ]
  },
  {
   "cell_type": "markdown",
   "metadata": {},
   "source": [
    "The environment is already saved in the Workspace and can be accessed at the file path provided below.  Please run the next code cell without making any changes."
   ]
  },
  {
   "cell_type": "code",
   "execution_count": 1,
   "metadata": {},
   "outputs": [
    {
     "name": "stderr",
     "output_type": "stream",
     "text": [
      "INFO:mlagents.envs:\n",
      "'StationAcademy' started successfully!\n",
      "Unity Academy name: StationAcademy\n",
      "        Number of Brains: 1\n",
      "        Number of Training Brains : 1\n",
      "        Reset Parameters :\n",
      "\t\t\n",
      "Unity brain name: DRLBrain\n",
      "        Number of Visual Observations (per agent): 2\n",
      "        Vector Observation space size (per agent): 3\n",
      "        Number of stacked Vector Observation: 3\n",
      "        Vector Action space type: discrete\n",
      "        Vector Action space size (per agent): [2, 2]\n",
      "        Vector Action descriptions: , \n"
     ]
    }
   ],
   "source": [
    "from mlagents.envs import UnityEnvironment\n",
    "import numpy as np\n",
    "import torch\n",
    "import matplotlib.pyplot as plt\n",
    "from pympler import summary\n",
    "from pympler import muppy\n",
    "\n",
    "\n",
    "# env_name = 'maze_architecture_win'\n",
    "# env_name = 'aug_22_vcs'\n",
    "# env_name = 'sep_1_vcs'\n",
    "# env_name = 'sep_1_banana'\n",
    "env_name = 'sep_28'\n",
    "\n",
    "# please do not modify the line below\n",
    "# env = UnityEnvironment(file_name=\"Banana\")\n",
    "env = UnityEnvironment(file_name=\"C:/data/ml-agents/scripts/envs/%s/Unity Environment.exe\" % env_name, worker_id=0, seed=1)"
   ]
  },
  {
   "cell_type": "markdown",
   "metadata": {},
   "source": [
    "Environments contain **_brains_** which are responsible for deciding the actions of their associated agents. Here we check for the first brain available, and set it as the default brain we will be controlling from Python."
   ]
  },
  {
   "cell_type": "code",
   "execution_count": 2,
   "metadata": {},
   "outputs": [
    {
     "data": {
      "text/plain": [
       "('DRLBrain', <mlagents.envs.brain.BrainParameters at 0x1bf2d596b38>)"
      ]
     },
     "execution_count": 2,
     "metadata": {},
     "output_type": "execute_result"
    }
   ],
   "source": [
    "# get the default brain\n",
    "brain_name = env.brain_names[0]\n",
    "brain = env.brains[brain_name]\n",
    "brain_name, brain"
   ]
  },
  {
   "cell_type": "code",
   "execution_count": 3,
   "metadata": {},
   "outputs": [
    {
     "data": {
      "text/plain": [
       "100000"
      ]
     },
     "execution_count": 3,
     "metadata": {},
     "output_type": "execute_result"
    }
   ],
   "source": [
    "int(1e5)"
   ]
  },
  {
   "cell_type": "markdown",
   "metadata": {},
   "source": [
    "### 2. Examine the State and Action Spaces\n",
    "\n",
    "Run the code cell below to print some information about the environment."
   ]
  },
  {
   "cell_type": "code",
   "execution_count": 4,
   "metadata": {},
   "outputs": [],
   "source": [
    "# reset the environment\n",
    "env_info = env.reset(train_mode=True)[brain_name]"
   ]
  },
  {
   "cell_type": "code",
   "execution_count": 5,
   "metadata": {},
   "outputs": [
    {
     "name": "stdout",
     "output_type": "stream",
     "text": [
      "Number of actions: [2, 2]\n",
      "States look like: [   0.    0.    0.    0.    0.    0. -336.    4.   46.]\n",
      "States have length: 9\n"
     ]
    }
   ],
   "source": [
    "# number of agents in the environment\n",
    "# print('Number of agents:', len(env_info.agents))\n",
    "\n",
    "# number of actions\n",
    "action_size = brain.vector_action_space_size\n",
    "print('Number of actions:', action_size)\n",
    "\n",
    "# examine the state space \n",
    "state = env_info.vector_observations[0]\n",
    "print('States look like:', state)\n",
    "state_size = len(state)\n",
    "print('States have length:', state_size)"
   ]
  },
  {
   "cell_type": "markdown",
   "metadata": {},
   "source": [
    "### See initial image"
   ]
  },
  {
   "cell_type": "code",
   "execution_count": 6,
   "metadata": {},
   "outputs": [
    {
     "data": {
      "text/plain": [
       "(300, 300, 3)"
      ]
     },
     "execution_count": 6,
     "metadata": {},
     "output_type": "execute_result"
    },
    {
     "data": {
      "image/png": "[encoded data removed]",
      "text/plain": [
       "<Figure size 432x288 with 1 Axes>"
      ]
     },
     "metadata": {
      "needs_background": "light"
     },
     "output_type": "display_data"
    }
   ],
   "source": [
    "img = np.asarray(env_info.visual_observations)\n",
    "imgplt = plt.imshow(img[0][0])\n",
    "height, width, channel = img[0][0].shape\n",
    "height, width, channel"
   ]
  },
  {
   "cell_type": "code",
   "execution_count": 7,
   "metadata": {},
   "outputs": [],
   "source": [
    "import torch\n",
    "import time\n",
    "import cv2\n",
    "import PIL\n",
    "\n",
    "from collections import deque\n",
    "from agent import Agent\n",
    "%matplotlib inline\n",
    "\n",
    "model_weight_name = 'checkpoint.pth'\n",
    "agent = Agent(state_size=300, action_size=9, seed=0)"
   ]
  },
  {
   "cell_type": "code",
   "execution_count": 8,
   "metadata": {},
   "outputs": [],
   "source": [
    "# action = 8\n",
    "# state = np.transpose(np.asarray(env_info.visual_observations)[0][0], (2, 0, 1))\n",
    "# action_transformed = get_action(action)\n",
    "# print(action_transformed)\n",
    "\n",
    "# reward = env_info.rewards[0]\n",
    "# done = env_info.local_done[0]\n",
    "\n",
    "# env_info = env.step(action_transformed)[brain_name]\n",
    "# next_state = np.transpose(np.asarray(env_info.visual_observations)[0][0], (2, 0, 1))\n",
    "# agent.step(state, action, reward, next_state, done)"
   ]
  },
  {
   "cell_type": "code",
   "execution_count": 9,
   "metadata": {},
   "outputs": [
    {
     "data": {
      "image/png": "[encoded data removed]",
      "text/plain": [
       "<Figure size 432x288 with 1 Axes>"
      ]
     },
     "metadata": {
      "needs_background": "light"
     },
     "output_type": "display_data"
    }
   ],
   "source": [
    "img = np.asarray(env_info.visual_observations)\n",
    "imgplt = plt.imshow(img[0][0])\n"
   ]
  },
  {
   "cell_type": "markdown",
   "metadata": {},
   "source": [
    "### 3. DQN Agent Training"
   ]
  },
  {
   "cell_type": "code",
   "execution_count": 10,
   "metadata": {},
   "outputs": [],
   "source": [
    "def get_action(action):\n",
    "    move_forward  = action // 3\n",
    "    rotate = action % 3\n",
    "    return [move_forward, rotate]"
   ]
  },
  {
   "cell_type": "code",
   "execution_count": 11,
   "metadata": {},
   "outputs": [],
   "source": [
    "from sys import stdout\n",
    "from pympler.tracker import SummaryTracker\n",
    "\n",
    "def dqn(env_info, n_episodes=1, max_t=2000, eps_start=1.0, eps_end=0.01, \n",
    "        eps_decay=0.995, target_scores=1.0, video_flag=True):\n",
    "    \"\"\"Deep Q-Learning.\n",
    "    \n",
    "    Params\n",
    "    ======\n",
    "        n_episodes (int): maximum number of training episodes\n",
    "        max_t (int): maximum number of timesteps per episode\n",
    "        eps_start (float): starting value of epsilon, for epsilon-greedy action selection\n",
    "        eps_end (float): minimum value of epsilon\n",
    "        eps_decay (float): multiplicative factor (per episode) for decreasing epsilon\n",
    "        target_scores (float): average scores aming to achieve, the agent will stop training once it reaches this scores\n",
    "        video_flag (boolean): a flag for whether to record video, if set to True, video would be recorded for every 20 episodes\n",
    "    \n",
    "    Returns\n",
    "    ======\n",
    "        scores in 2-d array\n",
    "        positions in 2-d array\n",
    "    \n",
    "    \"\"\"\n",
    "    \n",
    "    start = time.time()                       # Start time\n",
    "    scores = []                               # list containing scores from each episode\n",
    "    positions = []                            # position list\n",
    "    scores_window = deque(maxlen=100)         # last 100 scores\n",
    "    eps = eps_start                           # initialize epsilon\n",
    "    width, height, channel = [300, 300, 3]\n",
    "    \n",
    "    for i_episode in range(1, n_episodes+1):\n",
    "        \n",
    "        video_flag = (i_episode % 20 == 1)\n",
    "        \n",
    "        # start video recording \n",
    "        if video_flag:\n",
    "            fourcc = cv2.VideoWriter_fourcc('M','S','V','C') #Microspoft Video 1\n",
    "            video  = cv2.VideoWriter('output_sep_18_%s.avi' % (str(i_episode)), fourcc, 30, (width, height))\n",
    "            \n",
    "        # Reset env and score at the beginning of episode\n",
    "        env_info = env.reset(train_mode=True)[brain_name] # reset the environment        \n",
    "        state = np.transpose(np.asarray(env_info.visual_observations)[0][0], (2, 0, 1))  # get the current visual state\n",
    "        score = 0                                               # initialize the score\n",
    "        position_epi = []\n",
    "        \n",
    "        for t in range(max_t):\n",
    "            \n",
    "            if video_flag:\n",
    "                video.write(np.asarray(env_info.visual_observations)[0][0])\n",
    "                \n",
    "            action = agent.act(state, eps)\n",
    "            \n",
    "            # translate action variable into forward, rotate, and right\n",
    "            action_transformed = get_action(action)\n",
    "            env_info = env.step(action_transformed)[brain_name]        # send the action to the environment\n",
    "            next_state = np.transpose(np.asarray(env_info.visual_observations)[0][0], \n",
    "                                      (2, 0, 1)) # get the next state\n",
    "            reward = env_info.rewards[0]                   # get the reward\n",
    "            done = env_info.local_done[0]                  # see if episode has finished\n",
    "            \n",
    "            agent.step(state, action, reward, next_state, done)\n",
    "            \n",
    "            state = next_state\n",
    "            \n",
    "            score += reward\n",
    "            \n",
    "            position_epi.append(env_info.vector_observations[0][-3:].tolist())\n",
    "            \n",
    "            stdout.write('\\r t:%s, position:%s, score:%s' % \n",
    "                  (str(t), str(env_info.vector_observations[0][-3:]), str(score)))\n",
    "            stdout.flush()\n",
    "                        \n",
    "            # for testing purpose\n",
    "            if done:\n",
    "                print('\\n!!!!!done\\n')\n",
    "                break\n",
    "        \n",
    "        positions.append(position_epi)\n",
    "        scores_window.append(score)       # save most recent score\n",
    "        scores.append(score)              # save most recent score\n",
    "        eps = max(eps_end, eps_decay*eps) # decrease epsilon\n",
    "        \n",
    "        print('\\rEpisode {}\\tAverage Score: {:.2f}\\t Last Move {}\\n'.format(i_episode, \n",
    "                                                                       np.mean(scores_window), action_transformed), end=\"\")\n",
    "        if i_episode % 10 == 0:\n",
    "            torch.save(agent.qnetwork_local.state_dict(), 'model_%s' % str(i_episode))\n",
    "\n",
    "        # if np.mean(scores_window)>=target_scores:\n",
    "        #     print('\\nEnvironment solved in {:d} episodes!\\tAverage Score: {:.2f}'.format(i_episode, \n",
    "        #                                                                      np.mean(scores_window)))\n",
    "        #     torch.save(agent.qnetwork_local.state_dict(), model_weight_name)\n",
    "        #     break\n",
    "            \n",
    "        if video_flag:\n",
    "            cv2.destroyAllWindows()\n",
    "            video.release()\n",
    "    \n",
    "    print('\\nEnvironment solved in {:d} episodes!\\tAverage Score: {:.2f}'.format(i_episode, np.mean(scores_window)))\n",
    "    torch.save(agent.qnetwork_local.state_dict(), model_weight_name)\n",
    "\n",
    "    time_elapsed = time.time() - start\n",
    "    print(\"Time Elapse: {:.2f}\".format(time_elapsed))\n",
    "    \n",
    "    return scores, positions"
   ]
  },
  {
   "cell_type": "code",
   "execution_count": 13,
   "metadata": {},
   "outputs": [
    {
     "name": "stdout",
     "output_type": "stream",
     "text": [
      "Episode 1\tAverage Score: -0.40\t Last Move [2, 0]41.60835266], score:-0.399999989895150077\n",
      "Episode 2\tAverage Score: -0.40\t Last Move [0, 0]42.30237579], score:-0.399999989895150077\n",
      "Episode 3\tAverage Score: -0.40\t Last Move [0, 0]46.46035385], score:-0.399999989895150077\n",
      " t:293, position:[-336.    4.   46.], score:1.8824000557942782score:-0.117199997039278977\n",
      "!!!!!done\n",
      "\n",
      "Episode 4\tAverage Score: 0.17\t Last Move [2, 0]\n",
      " t:290, position:[-336.    4.   46.], score:1.8836000557639636score:-0.115999997069593527\n",
      "!!!!!done\n",
      "\n",
      "Episode 5\tAverage Score: 0.51\t Last Move [0, 2]\n",
      " t:300, position:[-336.    4.   46.], score:1.879600055865012 score:-0.119999996968545027\n",
      "!!!!!done\n",
      "\n",
      "Episode 6\tAverage Score: 0.74\t Last Move [1, 1]\n",
      " t:290, position:[-336.    4.   46.], score:1.8836000557639636score:-0.115999997069593527\n",
      "!!!!!done\n",
      "\n",
      "Episode 7\tAverage Score: 0.90\t Last Move [0, 2]\n",
      " t:290, position:[-336.    4.   46.], score:1.8836000557639636score:-0.115999997069593527\n",
      "!!!!!done\n",
      "\n",
      "Episode 8\tAverage Score: 1.03\t Last Move [0, 2]\n",
      " t:303, position:[-336.    4.   46.], score:1.8784000558953267score:-0.121199996938230477\n",
      "!!!!!done\n",
      "\n",
      "Episode 9\tAverage Score: 1.12\t Last Move [2, 2]\n",
      " t:298, position:[-336.    4.   46.], score:1.8804000558448024score:-0.119199996988754727\n",
      "!!!!!done\n",
      "\n",
      "Episode 10\tAverage Score: 1.20\t Last Move [1, 1]\n",
      "\n",
      "Environment solved in 10 episodes!\tAverage Score: 1.20\n",
      "Time Elapse: 143.31\n"
     ]
    }
   ],
   "source": [
    "scores, positions = dqn(env_info, n_episodes=10, max_t=1000, eps_start=1.0, \n",
    "                        eps_end=0.01, eps_decay=0.995, target_scores=1.0, video_flag=False)"
   ]
  },
  {
   "cell_type": "code",
   "execution_count": 14,
   "metadata": {},
   "outputs": [],
   "source": [
    "env_info = env.reset(train_mode=True)[brain_name]"
   ]
  },
  {
   "cell_type": "code",
   "execution_count": 15,
   "metadata": {},
   "outputs": [],
   "source": [
    "a = [[a[0][0] - positions[0][0][0], a[0][1] - positions[0][0][1], a[0][2] - positions[0][0][2]] for a in positions]\n",
    "a = np.asarray(a)"
   ]
  },
  {
   "cell_type": "code",
   "execution_count": 16,
   "metadata": {},
   "outputs": [],
   "source": [
    "pos = []\n",
    "for i in range(len(positions)):\n",
    "    a = [[a[0] - positions[i][0][0], a[1] - positions[i][0][1], a[2] - positions[i][0][2]] for a in positions[i]]\n",
    "    pos.append(np.asarray(a))"
   ]
  },
  {
   "cell_type": "code",
   "execution_count": 17,
   "metadata": {},
   "outputs": [
    {
     "data": {
      "image/png": "[encoded data removed]",
      "text/plain": [
       "<Figure size 432x288 with 1 Axes>"
      ]
     },
     "metadata": {
      "needs_background": "light"
     },
     "output_type": "display_data"
    }
   ],
   "source": [
    "for i in range(len(positions)):\n",
    "    plt.plot(pos[i][:,0], pos[i][:,2])\n",
    "plt.plot([-356.02 - positions[0][0][0]], [50.6 - positions[0][0][2]], marker='o', markersize=3, color=\"red\")\n",
    "plt.xlabel('timestep')\n",
    "plt.ylabel('trajectories')\n",
    "plt.show()"
   ]
  },
  {
   "cell_type": "code",
   "execution_count": null,
   "metadata": {},
   "outputs": [],
   "source": [
    "imgs = np.expand_dims(np.asarray(env_info.visual_observations)[0][0], axis=0)\n",
    "input = np.transpose(imgs, (0, 3, 1, 2))\n",
    "input = np.concatenate([input, input, input, input], 0)\n",
    "print(input.shape)\n",
    "\n",
    "m1  = torch.nn.Conv2d(3, 32, kernel_size=8, stride=4)\n",
    "m2  = torch.nn.Conv2d(32, 64, kernel_size=4, stride=2)\n",
    "m3  = torch.nn.Conv2d(64, 64, kernel_size=3, stride=1)\n",
    "fc4 = torch.nn.Linear(34 * 34 * 64, 512)\n",
    "fc5 = torch.nn.Linear(512, 9)\n",
    "\n",
    "input = torch.randn(1, 3, 300, 300)\n",
    "output1 = m1(input)\n",
    "print(output1.shape)\n",
    "output2 = m2(output1)\n",
    "print(output2.shape)\n",
    "output3 = torch.flatten(m3(output2))\n",
    "print(output3.shape)\n",
    "output4 = fc4(output3)\n",
    "print(output4.shape)\n",
    "output5 = fc5(output4)\n",
    "\n",
    "# fc5(fc4(m3(m2(m1(input)))))\n"
   ]
  },
  {
   "cell_type": "code",
   "execution_count": null,
   "metadata": {},
   "outputs": [],
   "source": [
    "input = torch.randn(3, 300, 300)\n",
    "input = input.unsqueeze(0)"
   ]
  },
  {
   "cell_type": "code",
   "execution_count": null,
   "metadata": {},
   "outputs": [],
   "source": [
    "input.shape"
   ]
  },
  {
   "cell_type": "code",
   "execution_count": null,
   "metadata": {},
   "outputs": [],
   "source": [
    "output5"
   ]
  },
  {
   "cell_type": "code",
   "execution_count": null,
   "metadata": {},
   "outputs": [],
   "source": [
    "plt.imshow(np.asarray(env_info.visual_observations)[0][0])"
   ]
  },
  {
   "cell_type": "code",
   "execution_count": null,
   "metadata": {},
   "outputs": [],
   "source": [
    "\n",
    "# plot the scores\n",
    "# fig = plt.figure()\n",
    "# ax = fig.add_subplot(111)\n",
    "# plt.plot(np.arange(len(scores)), scores)\n",
    "# plt.ylabel('Score')\n",
    "# plt.xlabel('Episode #')\n",
    "# plt.show()"
   ]
  },
  {
   "cell_type": "code",
   "execution_count": null,
   "metadata": {},
   "outputs": [],
   "source": [
    "print(agent.chck[1])"
   ]
  },
  {
   "cell_type": "code",
   "execution_count": null,
   "metadata": {},
   "outputs": [],
   "source": [
    "agent.qnetwork_local(agent.chck[0].unsqueeze(0))"
   ]
  },
  {
   "cell_type": "markdown",
   "metadata": {},
   "source": [
    "### Watch the agent running ( Using saved weights)"
   ]
  },
  {
   "cell_type": "code",
   "execution_count": null,
   "metadata": {},
   "outputs": [],
   "source": [
    "# load the weights from file\n",
    "agent.qnetwork_local.load_state_dict(torch.load(model_weight_name))\n",
    "\n",
    "env_info = env.reset(train_mode=False)[brain_name] # reset the environment\n",
    "state = env_info.vector_observations[0]            # get the current state\n",
    "score = 0                                          # initialize the score\n",
    "\n",
    "while True:\n",
    "    action = agent.act(state)                      # select an action\n",
    "    env_info = env.step(action)[brain_name]        # send the action to the environment\n",
    "    next_state = env_info.vector_observations[0]   # get the next state\n",
    "    reward = env_info.rewards[0]                   # get the reward\n",
    "    done = env_info.local_done[0]                  # see if episode has finished\n",
    "    score += reward                                # update the score\n",
    "    state = next_state                             # roll over the state to next time step\n",
    "    if done:                                       # exit loop if episode finished\n",
    "        break\n",
    "    \n",
    "print(\"Score: {}\".format(score))"
   ]
  },
  {
   "cell_type": "markdown",
   "metadata": {},
   "source": [
    "### Close Unity ML Environment"
   ]
  },
  {
   "cell_type": "code",
   "execution_count": null,
   "metadata": {},
   "outputs": [],
   "source": [
    "env.close()"
   ]
  },
  {
   "cell_type": "code",
   "execution_count": null,
   "metadata": {},
   "outputs": [],
   "source": []
  },
  {
   "cell_type": "code",
   "execution_count": null,
   "metadata": {},
   "outputs": [],
   "source": []
  },
  {
   "cell_type": "code",
   "execution_count": null,
   "metadata": {},
   "outputs": [],
   "source": []
  }
 ],
 "metadata": {
  "kernelspec": {
   "display_name": "Python [conda env:ml-agents] *",
   "language": "python",
   "name": "conda-env-ml-agents-py"
  },
  "language_info": {
   "codemirror_mode": {
    "name": "ipython",
    "version": 3
   },
   "file_extension": ".py",
   "mimetype": "text/x-python",
   "name": "python",
   "nbconvert_exporter": "python",
   "pygments_lexer": "ipython3",
   "version": "3.6.8"
  }
 },
 "nbformat": 4,
 "nbformat_minor": 2
}
