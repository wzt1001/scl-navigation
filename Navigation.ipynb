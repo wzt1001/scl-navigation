{
 "cells": [
  {
   "cell_type": "code",
   "execution_count": 1,
   "metadata": {},
   "outputs": [
    {
     "name": "stderr",
     "output_type": "stream",
     "text": [
      "INFO:mlagents.envs:\n",
      "'StationAcademy' started successfully!\n",
      "Unity Academy name: StationAcademy\n",
      "        Number of Brains: 1\n",
      "        Number of Training Brains : 1\n",
      "        Reset Parameters :\n",
      "\t\t\n",
      "Unity brain name: DRLBrain\n",
      "        Number of Visual Observations (per agent): 2\n",
      "        Vector Observation space size (per agent): 3\n",
      "        Number of stacked Vector Observation: 3\n",
      "        Vector Action space type: discrete\n",
      "        Vector Action space size (per agent): [2, 2]\n",
      "        Vector Action descriptions: , \n"
     ]
    }
   ],
   "source": [
    "import time\n",
    "import logging\n",
    "from sys import stdout\n",
    "from collections import deque\n",
    "\n",
    "import cv2\n",
    "import PIL\n",
    "import numpy as np\n",
    "import torch\n",
    "from torch.utils.tensorboard import SummaryWriter\n",
    "import matplotlib.pyplot as plt\n",
    "from mlagents.envs.environment import UnityEnvironment\n",
    "\n",
    "from agent import Agent\n",
    "\n",
    "# set logger\n",
    "logger = logging.getLogger()\n",
    "logger.setLevel(logging.INFO)\n",
    "\n",
    "writer = SummaryWriter()\n",
    "\n",
    "# env_name = 'sep_28'\n",
    "env_name = 'oct_22'\n",
    "path = \"C:/data/ml-agents/scripts/envs/{}/UnitySDK.exe\".format(env_name)\n",
    "# env = UnityEnvironment(file_name=\"./envs/%s/%s.x86_64\" % (env_name, env_name), worker_id=1, seed=1, no_graphics=False)\n",
    "env = UnityEnvironment(file_name=path, worker_id=1, seed=1, no_graphics=False)\n"
   ]
  },
  {
   "cell_type": "markdown",
   "metadata": {},
   "source": [
    "Environments contain **_brains_** which are responsible for deciding the actions of their associated agents. Here we check for the first brain available, and set it as the default brain we will be controlling from Python."
   ]
  },
  {
   "cell_type": "code",
   "execution_count": 2,
   "metadata": {},
   "outputs": [
    {
     "name": "stderr",
     "output_type": "stream",
     "text": [
      "INFO:root:Number of actions: [2, 2]\n",
      "INFO:root:States look like: [   0.            0.            0.            0.            0.\n",
      "    0.         -659.69000244   -2.16580009  200.38999939]\n",
      "INFO:root:States have length: 9\n",
      "INFO:root:Shape of image: (300, 300, 3)\n"
     ]
    }
   ],
   "source": [
    "# get the default brain\n",
    "brain_name = env.brain_names[0]\n",
    "brain = env.brains[brain_name]\n",
    "brain_name, brain\n",
    "\n",
    "# reset the environment\n",
    "env_info = env.reset(train_mode=True)[brain_name]\n",
    "\n",
    "# number of actions\n",
    "action_size = brain.vector_action_space_size\n",
    "logger.info('Number of actions: %s' % str(action_size))\n",
    "\n",
    "# examine the vector space \n",
    "state = env_info.vector_observations[0]\n",
    "logger.info('States look like: %s' % str(state))\n",
    "state_size = len(state)\n",
    "logger.info('States have length: %s' % str(state_size))\n",
    "\n",
    "# examine the visual space\n",
    "img = np.asarray(env_info.visual_observations)\n",
    "# imgplt = plt.imshow(img[0][0])\n",
    "height, width, channel = img[0][0].shape\n",
    "logger.info('Shape of image: %s' % str(img[0][0].shape))\n",
    "\n",
    "model_weight_name = 'checkpoint.pth'\n",
    "agent = Agent(state_size=300, action_size=9, seed=0)"
   ]
  },
  {
   "cell_type": "code",
   "execution_count": 3,
   "metadata": {},
   "outputs": [],
   "source": [
    "def get_action(action):\n",
    "    move_forward  = action // 3\n",
    "    rotate = action % 3\n",
    "    return [move_forward, rotate]\n",
    "\n",
    "def dqn(env_info, n_episodes=1, max_t=2000, eps_start=1.0, eps_end=0.01, \n",
    "        eps_decay=0.995, target_scores=1.0, video_flag=True):\n",
    "    \"\"\"Deep Q-Learning.\n",
    "    \n",
    "    Params\n",
    "    ======\n",
    "        n_episodes (int): maximum number of training episodes\n",
    "        max_t (int): maximum number of timesteps per episode\n",
    "        eps_start (float): starting value of epsilon, for epsilon-greedy action selection\n",
    "        eps_end (float): minimum value of epsilon\n",
    "        eps_decay (float): multiplicative factor (per episode) for decreasing epsilon\n",
    "        target_scores (float): average scores aming to achieve, the agent will stop training once it reaches this scores\n",
    "        video_flag (boolean): a flag for whether to record video, if set to True, video would be recorded for every 20 episodes\n",
    "    \n",
    "    Returns\n",
    "    ======\n",
    "        scores in 2-d array\n",
    "        positions in 2-d array\n",
    "    \n",
    "    \"\"\"\n",
    "    \n",
    "    start = time.time()                       # Start time\n",
    "    scores = []                               # list containing scores from each episode\n",
    "    positions = []                            # position list\n",
    "    scores_window = deque(maxlen=100)         # last 100 scores\n",
    "    eps = eps_start                           # initialize epsilon\n",
    "    width, height, channel = [300, 300, 3]\n",
    "    \n",
    "    for i_episode in range(1, n_episodes+1):\n",
    "        \n",
    "        video_flag = (i_episode % 20 == 1)\n",
    "        \n",
    "        # start video recording \n",
    "        if video_flag:\n",
    "            fourcc = cv2.VideoWriter_fourcc('M','S','V','C') #Microspoft Video 1\n",
    "            video  = cv2.VideoWriter('output_sep_18_%s.avi' % (str(i_episode)), fourcc, 30, (width, height))\n",
    "            \n",
    "        # Reset env and score at the beginning of episode\n",
    "        env_info = env.reset(train_mode=True)[brain_name] # reset the environment        \n",
    "        state = np.transpose(np.asarray(env_info.visual_observations)[0][0], (2, 0, 1))  # get the current visual state\n",
    "        score = 0                                               # initialize the score\n",
    "        position_epi = []\n",
    "        \n",
    "        for t in range(max_t):\n",
    "            \n",
    "            if video_flag:\n",
    "                video.write(np.asarray(env_info.visual_observations)[0][0])\n",
    "                \n",
    "            action = agent.act(state, eps)\n",
    "            \n",
    "            # translate action variable into forward, rotate, and right\n",
    "            action_transformed = get_action(action)\n",
    "            env_info = env.step(action_transformed)[brain_name]        # send the action to the environment\n",
    "            next_state = np.transpose(np.asarray(env_info.visual_observations)[0][0], \n",
    "                                      (2, 0, 1)) # get the next state\n",
    "            reward = env_info.rewards[0]                   # get the reward\n",
    "            done = env_info.local_done[0]                  # see if episode has finished\n",
    "            \n",
    "            agent.step(state, action, reward, next_state, done)\n",
    "            \n",
    "            state = next_state\n",
    "            \n",
    "            score += reward\n",
    "            \n",
    "            position_epi.append(env_info.vector_observations[0][-3:].tolist())\n",
    "            \n",
    "            stdout.write('\\r t:{}, position:{}, score:{:.3f}'.format(str(t), \n",
    "                                    str(env_info.vector_observations[0][-3:]), score))\n",
    "            stdout.flush()\n",
    "                        \n",
    "            # for testing purpose\n",
    "            if done:\n",
    "                print('\\n!!!!!done\\n')\n",
    "                break\n",
    "        \n",
    "#         writer.add_scalars('run_14h', {'xsinx':i*np.sin(i/r),\n",
    "#                                 'xcosx':i*np.cos(i/r),\n",
    "#                                 'tanx': np.tan(i/r)}, i)\n",
    "\n",
    "        positions.append(position_epi)\n",
    "        scores_window.append(score)       # save most recent score\n",
    "        scores.append(score)              # save most recent score\n",
    "        eps = max(eps_end, eps_decay*eps) # decrease epsilon\n",
    "        \n",
    "        print('\\nEpisode {}\\tAverage Score: {:.2f}\\t Last Move {}\\n'.format(i_episode, \n",
    "                                                            np.mean(scores_window), action_transformed), end=\"\")\n",
    "        if i_episode % 10 == 0:\n",
    "            torch.save(agent.qnetwork_local.state_dict(), 'model_%s' % str(i_episode))\n",
    "\n",
    "        # if np.mean(scores_window)>=target_scores:\n",
    "        #     print('\\nEnvironment solved in {:d} episodes!\\tAverage Score: {:.2f}'.format(i_episode, \n",
    "        #                                                                      np.mean(scores_window)))\n",
    "        #     torch.save(agent.qnetwork_local.state_dict(), model_weight_name)\n",
    "        #     break\n",
    "        \n",
    "        if video_flag:\n",
    "            cv2.destroyAllWindows()\n",
    "            video.release()\n",
    "    \n",
    "    print('\\nEnvironment solved in {:d} episodes!\\tAverage Score: {:.2f}'.format(i_episode, np.mean(scores_window)))\n",
    "    torch.save(agent.qnetwork_local.state_dict(), model_weight_name)\n",
    "\n",
    "    time_elapsed = time.time() - start\n",
    "    print(\"Time Elapse: {:.2f}\".format(time_elapsed))\n",
    "    \n",
    "    return scores, positions"
   ]
  },
  {
   "cell_type": "code",
   "execution_count": null,
   "metadata": {},
   "outputs": [
    {
     "name": "stdout",
     "output_type": "stream",
     "text": [
      " t:199, position:[-620.74298096   -1.9649837   205.21681213], score:8.010\n",
      "Episode 1\tAverage Score: 8.01\t Last Move [2, 0]\n",
      " t:199, position:[-631.46673584   -1.83537197  223.00001526], score:-2.000\n",
      "Episode 2\tAverage Score: 3.01\t Last Move [1, 0]\n",
      " t:199, position:[-631.46673584   -1.83537197  223.00001526], score:-2.000\n",
      "Episode 3\tAverage Score: 1.34\t Last Move [2, 2]\n",
      " t:199, position:[-625.49975586   -2.020257    198.17404175], score:8.010\n",
      "Episode 4\tAverage Score: 3.01\t Last Move [1, 0]\n",
      " t:199, position:[-624.55371094   -2.14532518  181.87371826], score:8.010\n",
      "Episode 5\tAverage Score: 4.01\t Last Move [2, 2]\n",
      " t:199, position:[-621.40649414   -2.08951044  189.6877594 ], score:8.010\n",
      "Episode 6\tAverage Score: 4.67\t Last Move [2, 0]\n",
      " t:199, position:[-626.31921387   -2.05866957  194.2303772 ], score:8.010\n",
      "Episode 7\tAverage Score: 5.15\t Last Move [1, 1]\n",
      " t:199, position:[-622.86230469   -2.11757135  185.63128662], score:8.010\n",
      "Episode 8\tAverage Score: 5.51\t Last Move [1, 1]\n",
      " t:199, position:[-622.03375244   -2.08723164  190.04325867], score:8.010\n",
      "Episode 9\tAverage Score: 5.79\t Last Move [2, 1]\n",
      " t:199, position:[-624.37811279   -1.96870518  203.54342651], score:8.010\n",
      "Episode 10\tAverage Score: 6.01\t Last Move [2, 1]\n",
      " t:199, position:[-620.22741699   -1.96223426  205.52474976], score:8.010\n",
      "Episode 11\tAverage Score: 6.19\t Last Move [1, 0]\n",
      " t:199, position:[-632.38446045   -1.85844421  218.33668518], score:-2.000\n",
      "Episode 12\tAverage Score: 5.51\t Last Move [2, 2]\n",
      " t:199, position:[-631.46673584   -1.83537197  223.00001526], score:-2.000\n",
      "Episode 13\tAverage Score: 4.93\t Last Move [0, 0]\n",
      " t:199, position:[-632.7097168    -1.84296465  228.37330627], score:-2.000\n",
      "Episode 14\tAverage Score: 4.44\t Last Move [0, 1]\n",
      " t:199, position:[-631.46673584   -1.83537197  223.00001526], score:-2.000\n",
      "Episode 15\tAverage Score: 4.01\t Last Move [2, 1]\n",
      " t:199, position:[-633.02587891   -1.86051965  223.90533447], score:-2.000\n",
      "Episode 16\tAverage Score: 3.63\t Last Move [1, 1]\n",
      " t:199, position:[-657.7989502    -1.5937829   233.80123901], score:-2.000\n",
      "Episode 17\tAverage Score: 3.30\t Last Move [2, 1]\n",
      " t:199, position:[-690.02020264   -1.91913199  212.08978271], score:-2.000\n",
      "Episode 18\tAverage Score: 3.01\t Last Move [0, 0]\n",
      " t:199, position:[-699.18579102   -2.00203896  195.46948242], score:-2.000\n",
      "Episode 19\tAverage Score: 2.74\t Last Move [2, 2]\n",
      " t:199, position:[-684.59777832   -1.8466866   218.95028687], score:-2.000\n",
      "Episode 20\tAverage Score: 2.50\t Last Move [2, 0]\n",
      " t:199, position:[-648.34368896   -1.70053172  236.24700928], score:-2.000\n",
      "Episode 21\tAverage Score: 2.29\t Last Move [2, 1]\n",
      " t:199, position:[-631.97711182   -1.84646153  220.16993713], score:-2.000\n",
      "Episode 22\tAverage Score: 2.10\t Last Move [1, 0]\n",
      " t:199, position:[-624.61663818   -1.97885942  202.42417908], score:8.010\n",
      "Episode 23\tAverage Score: 2.35\t Last Move [0, 0]\n",
      " t:199, position:[-625.96716309   -2.13670135  183.04081726], score:8.010\n",
      "Episode 24\tAverage Score: 2.59\t Last Move [1, 2]\n",
      " t:199, position:[-672.1484375    -2.32890677  164.14837646], score:-2.000\n",
      "Episode 25\tAverage Score: 2.40\t Last Move [1, 1]\n",
      " t:199, position:[-689.93536377   -1.97985196  177.44178772], score:-2.000\n",
      "Episode 26\tAverage Score: 2.24\t Last Move [2, 0]\n",
      " t:145, position:[-687.0791626    -1.94952273  209.42776489], score:-1.460"
     ]
    }
   ],
   "source": [
    "scores, positions = dqn(env_info, n_episodes=100, max_t=200, eps_start=1.0, \n",
    "                        eps_end=0.01, eps_decay=0.995, target_scores=1.0, video_flag=False)"
   ]
  },
  {
   "cell_type": "code",
   "execution_count": 5,
   "metadata": {},
   "outputs": [],
   "source": [
    "env_info = env.reset(train_mode=True)[brain_name]"
   ]
  },
  {
   "cell_type": "code",
   "execution_count": 9,
   "metadata": {},
   "outputs": [
    {
     "name": "stdout",
     "output_type": "stream",
     "text": [
      "[0, 1, 1, 1]\n"
     ]
    }
   ],
   "source": [
    "a = deque(maxlen=5)\n",
    "a.append([0,1,1,1])\n",
    "for i,  in a:\n",
    "    print(i)"
   ]
  },
  {
   "cell_type": "code",
   "execution_count": 8,
   "metadata": {},
   "outputs": [
    {
     "data": {
      "text/plain": [
       "deque([[1, 1, 1, 1]])"
      ]
     },
     "execution_count": 8,
     "metadata": {},
     "output_type": "execute_result"
    }
   ],
   "source": []
  },
  {
   "cell_type": "code",
   "execution_count": 6,
   "metadata": {},
   "outputs": [],
   "source": [
    "goals = [[-252.8, -26.6, 118.7], [-184.0, -25.9, 89.9], \n",
    "         [-121.3, -19.5, 3.8], [-162.1, -27.1, 13.3], [-202.0, -27.3, 11.1],\n",
    "        [40.9, -20.75, -30.8], [75.5, -28.1, -38.7]]\n",
    "goals = [[i[0] - 388.5, i[1] + 24.4, i[2] + 80.5] for i in goals]"
   ]
  },
  {
   "cell_type": "code",
   "execution_count": 7,
   "metadata": {},
   "outputs": [],
   "source": [
    "start = [positions[0][0][0], positions[0][0][1], positions[0][0][2]]"
   ]
  },
  {
   "cell_type": "code",
   "execution_count": 8,
   "metadata": {},
   "outputs": [],
   "source": [
    "pos = []\n",
    "for i in range(len(positions)):\n",
    "    # ignore the last item, as it might start from the origin\n",
    "    a = [[a[0], a[1], a[2]] for a in positions[i]]\n",
    "    pos.append(np.asarray(a[:-2]))"
   ]
  },
  {
   "cell_type": "code",
   "execution_count": 9,
   "metadata": {
    "scrolled": false
   },
   "outputs": [
    {
     "data": {
      "image/png": "[encoded data removed]",
      "text/plain": [
       "<Figure size 432x288 with 1 Axes>"
      ]
     },
     "metadata": {
      "needs_background": "light"
     },
     "output_type": "display_data"
    }
   ],
   "source": [
    "# final_goal = [-382.46, 54.69, 4]\n",
    "final_goal = [-342.9, 3.65, 48.0]\n",
    "for i in range(len(pos)):\n",
    "    plt.plot(pos[i][:,0], pos[i][:,2])\n",
    "#     break\n",
    "\n",
    "for i in range(len(goals)):\n",
    "    plt.plot(goals[i][0], goals[i][2], marker='o', markersize=10, color=\"grey\")\n",
    "\n",
    "plt.plot([final_goal[0]], [final_goal[2]], marker='o', markersize=40, color=\"black\")\n",
    "plt.xlabel('timestep')\n",
    "plt.ylabel('trajectories')\n",
    "plt.show()"
   ]
  },
  {
   "cell_type": "code",
   "execution_count": null,
   "metadata": {},
   "outputs": [],
   "source": [
    "imgs = np.expand_dims(np.asarray(env_info.visual_observations)[0][0], axis=0)\n",
    "input = np.transpose(imgs, (0, 3, 1, 2))\n",
    "input = np.concatenate([input, input, input, input], 0)\n",
    "print(input.shape)\n",
    "\n",
    "m1  = torch.nn.Conv2d(3, 32, kernel_size=8, stride=4)\n",
    "m2  = torch.nn.Conv2d(32, 64, kernel_size=4, stride=2)\n",
    "m3  = torch.nn.Conv2d(64, 64, kernel_size=3, stride=1)\n",
    "fc4 = torch.nn.Linear(34 * 34 * 64, 512)\n",
    "fc5 = torch.nn.Linear(512, 9)\n",
    "\n",
    "input = torch.randn(1, 3, 300, 300)\n",
    "output1 = m1(input)\n",
    "print(output1.shape)\n",
    "output2 = m2(output1)\n",
    "print(output2.shape)\n",
    "output3 = torch.flatten(m3(output2))\n",
    "print(output3.shape)\n",
    "output4 = fc4(output3)\n",
    "print(output4.shape)\n",
    "output5 = fc5(output4)\n",
    "\n",
    "# fc5(fc4(m3(m2(m1(input)))))\n"
   ]
  },
  {
   "cell_type": "code",
   "execution_count": null,
   "metadata": {},
   "outputs": [],
   "source": [
    "input = torch.randn(3, 300, 300)\n",
    "input = input.unsqueeze(0)"
   ]
  },
  {
   "cell_type": "code",
   "execution_count": null,
   "metadata": {},
   "outputs": [],
   "source": [
    "input.shape"
   ]
  },
  {
   "cell_type": "code",
   "execution_count": null,
   "metadata": {},
   "outputs": [],
   "source": [
    "output5"
   ]
  },
  {
   "cell_type": "code",
   "execution_count": null,
   "metadata": {},
   "outputs": [],
   "source": [
    "plt.imshow(np.asarray(env_info.visual_observations)[0][0])"
   ]
  },
  {
   "cell_type": "code",
   "execution_count": null,
   "metadata": {},
   "outputs": [],
   "source": [
    "\n",
    "# plot the scores\n",
    "# fig = plt.figure()\n",
    "# ax = fig.add_subplot(111)\n",
    "# plt.plot(np.arange(len(scores)), scores)\n",
    "# plt.ylabel('Score')\n",
    "# plt.xlabel('Episode #')\n",
    "# plt.show()"
   ]
  },
  {
   "cell_type": "code",
   "execution_count": null,
   "metadata": {},
   "outputs": [],
   "source": [
    "print(agent.chck[1])"
   ]
  },
  {
   "cell_type": "code",
   "execution_count": null,
   "metadata": {},
   "outputs": [],
   "source": [
    "agent.qnetwork_local(agent.chck[0].unsqueeze(0))"
   ]
  },
  {
   "cell_type": "markdown",
   "metadata": {},
   "source": [
    "### Watch the agent running ( Using saved weights)"
   ]
  },
  {
   "cell_type": "code",
   "execution_count": null,
   "metadata": {},
   "outputs": [],
   "source": [
    "# load the weights from file\n",
    "agent.qnetwork_local.load_state_dict(torch.load(model_weight_name))\n",
    "\n",
    "env_info = env.reset(train_mode=False)[brain_name] # reset the environment\n",
    "state = env_info.vector_observations[0]            # get the current state\n",
    "score = 0                                          # initialize the score\n",
    "\n",
    "while True:\n",
    "    action = agent.act(state)                      # select an action\n",
    "    env_info = env.step(action)[brain_name]        # send the action to the environment\n",
    "    next_state = env_info.vector_observations[0]   # get the next state\n",
    "    reward = env_info.rewards[0]                   # get the reward\n",
    "    done = env_info.local_done[0]                  # see if episode has finished\n",
    "    score += reward                                # update the score\n",
    "    state = next_state                             # roll over the state to next time step\n",
    "    if done:                                       # exit loop if episode finished\n",
    "        break\n",
    "    \n",
    "print(\"Score: {}\".format(score))"
   ]
  },
  {
   "cell_type": "markdown",
   "metadata": {},
   "source": [
    "### Close Unity ML Environment"
   ]
  },
  {
   "cell_type": "code",
   "execution_count": null,
   "metadata": {},
   "outputs": [],
   "source": [
    "env.close()"
   ]
  },
  {
   "cell_type": "code",
   "execution_count": null,
   "metadata": {},
   "outputs": [],
   "source": []
  },
  {
   "cell_type": "code",
   "execution_count": null,
   "metadata": {},
   "outputs": [],
   "source": []
  },
  {
   "cell_type": "code",
   "execution_count": null,
   "metadata": {},
   "outputs": [],
   "source": []
  }
 ],
 "metadata": {
  "kernelspec": {
   "display_name": "Python 3",
   "language": "python",
   "name": "python3"
  },
  "language_info": {
   "codemirror_mode": {
    "name": "ipython",
    "version": 3
   },
   "file_extension": ".py",
   "mimetype": "text/x-python",
   "name": "python",
   "nbconvert_exporter": "python",
   "pygments_lexer": "ipython3",
   "version": "3.6.8"
  }
 },
 "nbformat": 4,
 "nbformat_minor": 2
}
