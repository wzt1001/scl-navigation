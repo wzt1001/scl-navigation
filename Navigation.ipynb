{
 "cells": [
  {
   "cell_type": "markdown",
   "metadata": {},
   "source": [
    "# Load Environment"
   ]
  },
  {
   "cell_type": "code",
   "execution_count": 1,
   "metadata": {},
   "outputs": [
    {
     "name": "stderr",
     "output_type": "stream",
     "text": [
      "INFO:mlagents.envs:\n",
      "'StationAcademy' started successfully!\n",
      "Unity Academy name: StationAcademy\n",
      "        Number of Brains: 1\n",
      "        Number of Training Brains : 1\n",
      "        Reset Parameters :\n",
      "\t\t\n",
      "Unity brain name: DRLBrain\n",
      "        Number of Visual Observations (per agent): 2\n",
      "        Vector Observation space size (per agent): 3\n",
      "        Number of stacked Vector Observation: 3\n",
      "        Vector Action space type: discrete\n",
      "        Vector Action space size (per agent): [2, 2]\n",
      "        Vector Action descriptions: , \n"
     ]
    }
   ],
   "source": [
    "import time\n",
    "import logging\n",
    "from sys import stdout\n",
    "from collections import deque\n",
    "\n",
    "import cv2\n",
    "import PIL\n",
    "import numpy as np\n",
    "import torch\n",
    "from torch.utils.tensorboard import SummaryWriter\n",
    "import matplotlib.pyplot as plt\n",
    "from mlagents.envs.environment import UnityEnvironment\n",
    "\n",
    "from agent import Agent\n",
    "\n",
    "# set logger\n",
    "logger = logging.getLogger()\n",
    "logger.setLevel(logging.INFO)\n",
    "\n",
    "writer = SummaryWriter()\n",
    "\n",
    "# env_name = 'sep_28'\n",
    "env_name = 'oct_22'\n",
    "path = \"C:/data/ml-agents/scripts/envs/{}/UnitySDK.exe\".format(env_name)\n",
    "# env = UnityEnvironment(file_name=\"./envs/%s/%s.x86_64\" % (env_name, env_name), worker_id=1, seed=1, no_graphics=False)\n",
    "env = UnityEnvironment(file_name=path, worker_id=1, seed=1, no_graphics=False)\n"
   ]
  },
  {
   "cell_type": "markdown",
   "metadata": {},
   "source": [
    "# Get environment info"
   ]
  },
  {
   "cell_type": "code",
   "execution_count": 2,
   "metadata": {},
   "outputs": [
    {
     "name": "stderr",
     "output_type": "stream",
     "text": [
      "INFO:root:Number of actions: [2, 2]\n",
      "INFO:root:States look like: [   0.            0.            0.            0.            0.\n",
      "    0.         -659.69000244   -2.16580009  200.38999939]\n",
      "INFO:root:States have length: 9\n",
      "INFO:root:Shape of image: (300, 300, 3)\n"
     ]
    }
   ],
   "source": [
    "# get the default brain\n",
    "brain_name = env.brain_names[0]\n",
    "brain = env.brains[brain_name]\n",
    "brain_name, brain\n",
    "\n",
    "# reset the environment\n",
    "env_info = env.reset(train_mode=True)[brain_name]\n",
    "\n",
    "# number of actions\n",
    "action_size = brain.vector_action_space_size\n",
    "logger.info('Number of actions: %s' % str(action_size))\n",
    "\n",
    "# examine the vector space \n",
    "state = env_info.vector_observations[0]\n",
    "logger.info('States look like: %s' % str(state))\n",
    "state_size = len(state)\n",
    "logger.info('States have length: %s' % str(state_size))\n",
    "\n",
    "# examine the visual space\n",
    "img = np.asarray(env_info.visual_observations)\n",
    "# imgplt = plt.imshow(img[0][0])\n",
    "height, width, channel = img[0][0].shape\n",
    "logger.info('Shape of image: %s' % str(img[0][0].shape))\n",
    "\n",
    "model_weight_name = 'checkpoint.pth'\n",
    "agent = Agent(state_size=300, action_size=9, seed=0)"
   ]
  },
  {
   "cell_type": "markdown",
   "metadata": {},
   "source": [
    "# A2C function"
   ]
  },
  {
   "cell_type": "code",
   "execution_count": 3,
   "metadata": {},
   "outputs": [],
   "source": [
    "env_info = env.reset(train_mode=True)[brain_name]"
   ]
  },
  {
   "cell_type": "code",
   "execution_count": 4,
   "metadata": {},
   "outputs": [
    {
     "name": "stdout",
     "output_type": "stream",
     "text": [
      " episode:18, step: 131, position:(-514.25 -2.43 146.37), score:tensor([-1.3200]))"
     ]
    },
    {
     "ename": "KeyboardInterrupt",
     "evalue": "",
     "output_type": "error",
     "traceback": [
      "\u001b[1;31m---------------------------------------------------------------------------\u001b[0m",
      "\u001b[1;31mKeyboardInterrupt\u001b[0m                         Traceback (most recent call last)",
      "\u001b[1;32m<ipython-input-4-7dbbfccf2798>\u001b[0m in \u001b[0;36m<module>\u001b[1;34m\u001b[0m\n\u001b[0;32m    211\u001b[0m             \u001b[1;31m# print('action_transformed', action_transformed)\u001b[0m\u001b[1;33m\u001b[0m\u001b[1;33m\u001b[0m\u001b[1;33m\u001b[0m\u001b[0m\n\u001b[0;32m    212\u001b[0m \u001b[1;33m\u001b[0m\u001b[0m\n\u001b[1;32m--> 213\u001b[1;33m             \u001b[0menv_info\u001b[0m \u001b[1;33m=\u001b[0m \u001b[0menv\u001b[0m\u001b[1;33m.\u001b[0m\u001b[0mstep\u001b[0m\u001b[1;33m(\u001b[0m\u001b[0maction_transformed\u001b[0m\u001b[1;33m)\u001b[0m\u001b[1;33m[\u001b[0m\u001b[0mbrain_name\u001b[0m\u001b[1;33m]\u001b[0m        \u001b[1;31m# send the action to the environment\u001b[0m\u001b[1;33m\u001b[0m\u001b[1;33m\u001b[0m\u001b[0m\n\u001b[0m\u001b[0;32m    214\u001b[0m             \u001b[0mobs\u001b[0m \u001b[1;33m=\u001b[0m \u001b[0mtorch\u001b[0m\u001b[1;33m.\u001b[0m\u001b[0mfrom_numpy\u001b[0m\u001b[1;33m(\u001b[0m\u001b[0mnp\u001b[0m\u001b[1;33m.\u001b[0m\u001b[0mtranspose\u001b[0m\u001b[1;33m(\u001b[0m\u001b[0mnp\u001b[0m\u001b[1;33m.\u001b[0m\u001b[0masarray\u001b[0m\u001b[1;33m(\u001b[0m\u001b[0menv_info\u001b[0m\u001b[1;33m.\u001b[0m\u001b[0mvisual_observations\u001b[0m\u001b[1;33m)\u001b[0m\u001b[1;33m[\u001b[0m\u001b[1;36m0\u001b[0m\u001b[1;33m]\u001b[0m\u001b[1;33m,\u001b[0m \u001b[1;33m(\u001b[0m\u001b[1;36m0\u001b[0m\u001b[1;33m,\u001b[0m \u001b[1;36m3\u001b[0m\u001b[1;33m,\u001b[0m \u001b[1;36m1\u001b[0m\u001b[1;33m,\u001b[0m \u001b[1;36m2\u001b[0m\u001b[1;33m)\u001b[0m\u001b[1;33m)\u001b[0m\u001b[1;33m)\u001b[0m \u001b[1;31m# get the next state\u001b[0m\u001b[1;33m\u001b[0m\u001b[1;33m\u001b[0m\u001b[0m\n\u001b[0;32m    215\u001b[0m             \u001b[0mreward\u001b[0m \u001b[1;33m=\u001b[0m \u001b[0mtorch\u001b[0m\u001b[1;33m.\u001b[0m\u001b[0mFloatTensor\u001b[0m\u001b[1;33m(\u001b[0m\u001b[0menv_info\u001b[0m\u001b[1;33m.\u001b[0m\u001b[0mrewards\u001b[0m\u001b[1;33m)\u001b[0m        \u001b[1;31m# get the reward\u001b[0m\u001b[1;33m\u001b[0m\u001b[1;33m\u001b[0m\u001b[0m\n",
      "\u001b[1;32m~\\Anaconda3\\envs\\ml-agents\\lib\\site-packages\\mlagents\\envs\\environment.py\u001b[0m in \u001b[0;36mstep\u001b[1;34m(self, vector_action, memory, text_action, value, custom_action)\u001b[0m\n\u001b[0;32m    436\u001b[0m                 \u001b[1;32mraise\u001b[0m \u001b[0mKeyboardInterrupt\u001b[0m\u001b[1;33m\u001b[0m\u001b[1;33m\u001b[0m\u001b[0m\n\u001b[0;32m    437\u001b[0m             \u001b[0mrl_output\u001b[0m \u001b[1;33m=\u001b[0m \u001b[0moutputs\u001b[0m\u001b[1;33m.\u001b[0m\u001b[0mrl_output\u001b[0m\u001b[1;33m\u001b[0m\u001b[1;33m\u001b[0m\u001b[0m\n\u001b[1;32m--> 438\u001b[1;33m             \u001b[0mstate\u001b[0m \u001b[1;33m=\u001b[0m \u001b[0mself\u001b[0m\u001b[1;33m.\u001b[0m\u001b[0m_get_state\u001b[0m\u001b[1;33m(\u001b[0m\u001b[0mrl_output\u001b[0m\u001b[1;33m)\u001b[0m\u001b[1;33m\u001b[0m\u001b[1;33m\u001b[0m\u001b[0m\n\u001b[0m\u001b[0;32m    439\u001b[0m             \u001b[0mself\u001b[0m\u001b[1;33m.\u001b[0m\u001b[0m_global_done\u001b[0m \u001b[1;33m=\u001b[0m \u001b[0mstate\u001b[0m\u001b[1;33m[\u001b[0m\u001b[1;36m1\u001b[0m\u001b[1;33m]\u001b[0m\u001b[1;33m\u001b[0m\u001b[1;33m\u001b[0m\u001b[0m\n\u001b[0;32m    440\u001b[0m             \u001b[1;32mfor\u001b[0m \u001b[0m_b\u001b[0m \u001b[1;32min\u001b[0m \u001b[0mself\u001b[0m\u001b[1;33m.\u001b[0m\u001b[0m_external_brain_names\u001b[0m\u001b[1;33m:\u001b[0m\u001b[1;33m\u001b[0m\u001b[1;33m\u001b[0m\u001b[0m\n",
      "\u001b[1;32m~\\Anaconda3\\envs\\ml-agents\\lib\\site-packages\\mlagents\\envs\\environment.py\u001b[0m in \u001b[0;36m_get_state\u001b[1;34m(self, output)\u001b[0m\n\u001b[0;32m    496\u001b[0m             \u001b[0magent_info_list\u001b[0m \u001b[1;33m=\u001b[0m \u001b[0moutput\u001b[0m\u001b[1;33m.\u001b[0m\u001b[0magentInfos\u001b[0m\u001b[1;33m[\u001b[0m\u001b[0mbrain_name\u001b[0m\u001b[1;33m]\u001b[0m\u001b[1;33m.\u001b[0m\u001b[0mvalue\u001b[0m\u001b[1;33m\u001b[0m\u001b[1;33m\u001b[0m\u001b[0m\n\u001b[0;32m    497\u001b[0m             _data[brain_name] = BrainInfo.from_agent_proto(agent_info_list,\n\u001b[1;32m--> 498\u001b[1;33m                                                            self.brains[brain_name])\n\u001b[0m\u001b[0;32m    499\u001b[0m         \u001b[1;32mreturn\u001b[0m \u001b[0m_data\u001b[0m\u001b[1;33m,\u001b[0m \u001b[0mglobal_done\u001b[0m\u001b[1;33m\u001b[0m\u001b[1;33m\u001b[0m\u001b[0m\n\u001b[0;32m    500\u001b[0m \u001b[1;33m\u001b[0m\u001b[0m\n",
      "\u001b[1;32m~\\Anaconda3\\envs\\ml-agents\\lib\\site-packages\\mlagents\\envs\\brain.py\u001b[0m in \u001b[0;36mfrom_agent_proto\u001b[1;34m(agent_info_list, brain_params)\u001b[0m\n\u001b[0;32m     91\u001b[0m             obs = [BrainInfo.process_pixels(x.visual_observations[i],\n\u001b[0;32m     92\u001b[0m                                             brain_params.camera_resolutions[i]['blackAndWhite'])\n\u001b[1;32m---> 93\u001b[1;33m                    for x in agent_info_list]\n\u001b[0m\u001b[0;32m     94\u001b[0m             \u001b[0mvis_obs\u001b[0m \u001b[1;33m+=\u001b[0m \u001b[1;33m[\u001b[0m\u001b[0mobs\u001b[0m\u001b[1;33m]\u001b[0m\u001b[1;33m\u001b[0m\u001b[1;33m\u001b[0m\u001b[0m\n\u001b[0;32m     95\u001b[0m         \u001b[1;32mif\u001b[0m \u001b[0mlen\u001b[0m\u001b[1;33m(\u001b[0m\u001b[0magent_info_list\u001b[0m\u001b[1;33m)\u001b[0m \u001b[1;33m==\u001b[0m \u001b[1;36m0\u001b[0m\u001b[1;33m:\u001b[0m\u001b[1;33m\u001b[0m\u001b[1;33m\u001b[0m\u001b[0m\n",
      "\u001b[1;32m~\\Anaconda3\\envs\\ml-agents\\lib\\site-packages\\mlagents\\envs\\brain.py\u001b[0m in \u001b[0;36m<listcomp>\u001b[1;34m(.0)\u001b[0m\n\u001b[0;32m     91\u001b[0m             obs = [BrainInfo.process_pixels(x.visual_observations[i],\n\u001b[0;32m     92\u001b[0m                                             brain_params.camera_resolutions[i]['blackAndWhite'])\n\u001b[1;32m---> 93\u001b[1;33m                    for x in agent_info_list]\n\u001b[0m\u001b[0;32m     94\u001b[0m             \u001b[0mvis_obs\u001b[0m \u001b[1;33m+=\u001b[0m \u001b[1;33m[\u001b[0m\u001b[0mobs\u001b[0m\u001b[1;33m]\u001b[0m\u001b[1;33m\u001b[0m\u001b[1;33m\u001b[0m\u001b[0m\n\u001b[0;32m     95\u001b[0m         \u001b[1;32mif\u001b[0m \u001b[0mlen\u001b[0m\u001b[1;33m(\u001b[0m\u001b[0magent_info_list\u001b[0m\u001b[1;33m)\u001b[0m \u001b[1;33m==\u001b[0m \u001b[1;36m0\u001b[0m\u001b[1;33m:\u001b[0m\u001b[1;33m\u001b[0m\u001b[1;33m\u001b[0m\u001b[0m\n",
      "\u001b[1;32m~\\Anaconda3\\envs\\ml-agents\\lib\\site-packages\\mlagents\\envs\\brain.py\u001b[0m in \u001b[0;36mprocess_pixels\u001b[1;34m(image_bytes, gray_scale)\u001b[0m\n\u001b[0;32m     76\u001b[0m         \u001b[0ms\u001b[0m \u001b[1;33m=\u001b[0m \u001b[0mbytearray\u001b[0m\u001b[1;33m(\u001b[0m\u001b[0mimage_bytes\u001b[0m\u001b[1;33m)\u001b[0m\u001b[1;33m\u001b[0m\u001b[1;33m\u001b[0m\u001b[0m\n\u001b[0;32m     77\u001b[0m         \u001b[0mimage\u001b[0m \u001b[1;33m=\u001b[0m \u001b[0mImage\u001b[0m\u001b[1;33m.\u001b[0m\u001b[0mopen\u001b[0m\u001b[1;33m(\u001b[0m\u001b[0mio\u001b[0m\u001b[1;33m.\u001b[0m\u001b[0mBytesIO\u001b[0m\u001b[1;33m(\u001b[0m\u001b[0ms\u001b[0m\u001b[1;33m)\u001b[0m\u001b[1;33m)\u001b[0m\u001b[1;33m\u001b[0m\u001b[1;33m\u001b[0m\u001b[0m\n\u001b[1;32m---> 78\u001b[1;33m         \u001b[0ms\u001b[0m \u001b[1;33m=\u001b[0m \u001b[0mnp\u001b[0m\u001b[1;33m.\u001b[0m\u001b[0marray\u001b[0m\u001b[1;33m(\u001b[0m\u001b[0mimage\u001b[0m\u001b[1;33m)\u001b[0m \u001b[1;33m/\u001b[0m \u001b[1;36m255.0\u001b[0m\u001b[1;33m\u001b[0m\u001b[1;33m\u001b[0m\u001b[0m\n\u001b[0m\u001b[0;32m     79\u001b[0m         \u001b[1;32mif\u001b[0m \u001b[0mgray_scale\u001b[0m\u001b[1;33m:\u001b[0m\u001b[1;33m\u001b[0m\u001b[1;33m\u001b[0m\u001b[0m\n\u001b[0;32m     80\u001b[0m             \u001b[0ms\u001b[0m \u001b[1;33m=\u001b[0m \u001b[0mnp\u001b[0m\u001b[1;33m.\u001b[0m\u001b[0mmean\u001b[0m\u001b[1;33m(\u001b[0m\u001b[0ms\u001b[0m\u001b[1;33m,\u001b[0m \u001b[0maxis\u001b[0m\u001b[1;33m=\u001b[0m\u001b[1;36m2\u001b[0m\u001b[1;33m)\u001b[0m\u001b[1;33m\u001b[0m\u001b[1;33m\u001b[0m\u001b[0m\n",
      "\u001b[1;31mKeyboardInterrupt\u001b[0m: "
     ]
    }
   ],
   "source": [
    "%load_ext autoreload\n",
    "%autoreload 2\n",
    "\n",
    "def get_action(action):\n",
    "    move_forward  = action // 3\n",
    "    rotate = action % 3\n",
    "    return [move_forward, rotate]\n",
    "\n",
    "import copy\n",
    "import glob\n",
    "import os\n",
    "import time\n",
    "from collections import deque\n",
    "\n",
    "# import gym\n",
    "import numpy as np\n",
    "import torch\n",
    "import torch.nn as nn\n",
    "import torch.nn.functional as F\n",
    "import torch.optim as optim\n",
    "\n",
    "from a2c_ppo_acktr import algo, utils\n",
    "# from a2c_ppo_acktr.algo import gail\n",
    "from a2c_ppo_acktr.arguments import get_args\n",
    "# from a2c_ppo_acktr.envs import make_vec_envs\n",
    "from a2c_ppo_acktr.model import Policy\n",
    "from a2c_ppo_acktr.storage import RolloutStorage\n",
    "# from evaluation import evaluate\n",
    "\n",
    "observation_space = [3, 300, 300]\n",
    "action_space = 9\n",
    "\n",
    "# def a2c_ppo_acktr(env_info, al_type='a2c', gail=False, gail_experts_dir='./gail_experts', \n",
    "#                   gail_batch_size=128, gail_epoch=1e5, alpha=0.99, \n",
    "#                   gamma=0.99, use_gae=False, gae_lambda=0.95, \n",
    "#                   entropy_coef=0.01, value_loss_coef=0.5, max_grad_norm=0.5, \n",
    "#                   seed=False, num_processes=1, num_steps=5, ppo_epoch=4, num_mini_batch=32, \n",
    "#                   clip_param=0.2, log_interval=10, save_interval=100, eval_interval=None, \n",
    "#                   num_env_steps=10e6, env_name='PongNoFrameskip_v4', log_dir='/tmp/gym/', \n",
    "#                   save_dir='./trained_models/', no_cuda=False, use_proper_time_limits=False, \n",
    "#                   recurrent_policy=False, use_linear_lr_decay=False, cuda=True, cuda_deterministic=True, \n",
    "#                   eps=1e-5, lr=7e-4):\n",
    "\n",
    "# ====== for testing\n",
    "if True:\n",
    "    \n",
    "    al_type='a2c'\n",
    "    gail=False\n",
    "    gail_experts_dir='./gail_experts'\n",
    "    gail_batch_size=128\n",
    "    gail_epoch=1e5\n",
    "    alpha=0.99\n",
    "    gamma=0.99\n",
    "    use_gae=False\n",
    "    gae_lambda=0.95\n",
    "    entropy_coef=0.01\n",
    "    value_loss_coef=0.5\n",
    "    max_grad_norm=0.5\n",
    "    seed=False\n",
    "    num_processes=1\n",
    "    num_steps=1000\n",
    "    ppo_epoch=4\n",
    "    num_mini_batch=32\n",
    "    clip_param=0.2\n",
    "    log_interval=10\n",
    "    save_interval=1000\n",
    "    eval_interval=None\n",
    "    num_env_steps=10e6\n",
    "    env_name='PongNoFrameskip_v4'\n",
    "    log_dir='/tmp/gym/'\n",
    "    save_dir='./trained_models/'\n",
    "    no_cuda=False\n",
    "    use_proper_time_limits=False\n",
    "    recurrent_policy=False\n",
    "    use_linear_lr_decay=False\n",
    "    cuda=True\n",
    "    cuda_deterministic=True\n",
    "    eps=1e-5\n",
    "    lr=7e-4\n",
    "    \n",
    "# ====== for testing\n",
    "\n",
    "    torch.manual_seed(seed)\n",
    "    torch.cuda.manual_seed_all(seed)\n",
    "    \n",
    "    if cuda and torch.cuda.is_available() and cuda_deterministic:\n",
    "        torch.backends.cudnn.benchmark = False\n",
    "        torch.backends.cudnn.deterministic = True\n",
    "\n",
    "    log_dir = os.path.expanduser(log_dir)\n",
    "    eval_log_dir = log_dir + \"_eval\"\n",
    "    utils.cleanup_log_dir(log_dir)\n",
    "    utils.cleanup_log_dir(eval_log_dir)\n",
    "\n",
    "    torch.set_num_threads(1)\n",
    "    device = torch.device(\"cuda:0\" if cuda else \"cpu\")\n",
    "    \n",
    "    # !!!!!! jtan\n",
    "    # envs = make_vec_envs(env_name, seed, num_processes,\n",
    "    #                      gamma, log_dir, device, False)\n",
    "    \n",
    "    # !!!!!! jtan\n",
    "    # actor_critic = Policy(\n",
    "    #     envs.observation_space.shape,\n",
    "    #     envs.action_space,\n",
    "    #     base_kwargs={'recurrent': recurrent_policy})\n",
    "    actor_critic = Policy(\n",
    "        observation_space,\n",
    "        action_space,\n",
    "        base_kwargs={'recurrent': recurrent_policy})\n",
    "    \n",
    "    actor_critic.to(device)\n",
    "\n",
    "    if al_type == 'a2c':\n",
    "        agent = algo.A2C_ACKTR(\n",
    "            actor_critic,\n",
    "            value_loss_coef,\n",
    "            entropy_coef,\n",
    "            lr=lr,\n",
    "            eps=eps,\n",
    "            alpha=alpha,\n",
    "            max_grad_norm=max_grad_norm)\n",
    "    elif al_type == 'ppo':\n",
    "        agent = algo.PPO(\n",
    "            actor_critic,\n",
    "            clip_param,\n",
    "            ppo_epoch,\n",
    "            num_mini_batch,\n",
    "            value_loss_coef,\n",
    "            entropy_coef,\n",
    "            lr=lr,\n",
    "            eps=eps,\n",
    "            max_grad_norm=max_grad_norm)\n",
    "    elif al_type == 'acktr':\n",
    "        agent = algo.A2C_ACKTR(\n",
    "            actor_critic, value_loss_coef, entropy_coef, acktr=True)\n",
    "\n",
    "    # if gail:\n",
    "    #     assert len(envs.observation_space.shape) == 1\n",
    "    #     discr = gail.Discriminator(\n",
    "    #         envs.observation_space.shape[0] + envs.action_space.shape[0], 100,\n",
    "    #         device)\n",
    "    #     file_name = os.path.join(\n",
    "    #         gail_experts_dir, \"trajs_{}.pt\".format(\n",
    "    #             env_name.split('-')[0].lower()))\n",
    "\n",
    "    #     gail_train_loader = torch.utils.data.DataLoader(\n",
    "    #         gail.ExpertDataset(\n",
    "    #             file_name, num_trajectories=4, subsample_frequency=20),\n",
    "    #         batch_size=gail_batch_size,\n",
    "    #         shuffle=True,\n",
    "    #         drop_last=True)\n",
    "\n",
    "    # rollouts = RolloutStorage(num_steps, num_processes,\n",
    "    #                           envs.observation_space.shape, envs.action_space,\n",
    "    #                           actor_critic.recurrent_hidden_state_size)\n",
    "    \n",
    "    rollouts = RolloutStorage(num_steps, num_processes,\n",
    "                              observation_space, action_space,\n",
    "                              actor_critic.recurrent_hidden_state_size)\n",
    "\n",
    "    # !!!!!! jtan\n",
    "    # obs = envs.reset()\n",
    "    # obs = torch.from_numpy(np.transpose(np.asarray(env_info.visual_observations)[0][0], \n",
    "    #                       (2, 0, 1))) # get the next state\n",
    "    obs = torch.from_numpy(np.transpose(np.asarray(env_info.visual_observations)[0], (0, 3, 1, 2)))\n",
    "    reward = [env_info.rewards[0]]                   # get the reward\n",
    "    done = [env_info.local_done[0]]                  # see if episode has finished\n",
    "    \n",
    "    # rollouts.obs[0].copy_(obs)\n",
    "    rollouts.obs[0].copy_(obs)\n",
    "    rollouts.to(device)\n",
    "\n",
    "    episode_rewards = deque(maxlen=10)\n",
    "\n",
    "    start = time.time()\n",
    "    \n",
    "    positions = []\n",
    "    # !!!!!! jtan\n",
    "    num_updates = int(\n",
    "        num_env_steps) // num_steps // num_processes\n",
    "    for j in range(num_updates):\n",
    "        \n",
    "        env_info = env.reset(train_mode=True)[brain_name]\n",
    "        \n",
    "        if use_linear_lr_decay:\n",
    "            # decrease learning rate linearly\n",
    "            utils.update_linear_schedule(\n",
    "                agent.optimizer, j, num_updates,\n",
    "                agent.optimizer.lr if algo == \"acktr\" else lr)\n",
    "        \n",
    "        score = 0\n",
    "        position_epi = []\n",
    "        \n",
    "        for step in range(num_steps):\n",
    "            # Sample actions\n",
    "            with torch.no_grad():\n",
    "                value, action, action_log_prob, recurrent_hidden_states = actor_critic.act(\n",
    "                    rollouts.obs[step], rollouts.recurrent_hidden_states[step],\n",
    "                    rollouts.masks[step])\n",
    "\n",
    "            # Obser reward and next obs\n",
    "            # !!!!!! jtan\n",
    "            # obs, reward, done, infos = envs.step(action)\n",
    "            \n",
    "            # print('action', action)\n",
    "            # print('action_log_prob', action_log_prob)\n",
    "            \n",
    "            action_transformed = get_action(action.cpu().numpy())\n",
    "            \n",
    "            # print('action_transformed', action_transformed)\n",
    "            \n",
    "            env_info = env.step(action_transformed)[brain_name]        # send the action to the environment\n",
    "            obs = torch.from_numpy(np.transpose(np.asarray(env_info.visual_observations)[0], (0, 3, 1, 2))) # get the next state\n",
    "            reward = torch.FloatTensor(env_info.rewards)        # get the reward\n",
    "            done = torch.FloatTensor(env_info.local_done)       # see if episode has finished\n",
    "\n",
    "            # for info in infos:\n",
    "            #     if 'episode' in info.keys():\n",
    "            #         episode_rewards.append(info['episode']['r'])\n",
    "\n",
    "            # If done then clean the history of observations.\n",
    "            masks = torch.FloatTensor(\n",
    "                [[0.0] if done_ else [1.0] for done_ in done])\n",
    "            \n",
    "            # zwang !!! don't know what it is doing, changing it to\n",
    "            # bad_masks = torch.FloatTensor(\n",
    "            #     [[0.0] if 'bad_transition' in info.keys() else [1.0]\n",
    "            #      for info in infos])\n",
    "            bad_masks = torch.FloatTensor([[1.0]])\n",
    "                            \n",
    "            rollouts.insert(obs, recurrent_hidden_states, action,\n",
    "                            action_log_prob, value, reward, masks, bad_masks)\n",
    "            \n",
    "            score += reward\n",
    "            stdout.write('\\r episode:{}, step: {}, position:({:.2f} {:.2f} {:.2f}), score:{}'.format(j, step,\n",
    "                        env_info.vector_observations[0][-3:][0], env_info.vector_observations[0][-3:][1],\n",
    "                        env_info.vector_observations[0][-3:][2], str(score)))\n",
    "            stdout.flush()\n",
    "            position_epi.append(env_info.vector_observations[0][-3:].tolist())\n",
    "\n",
    "        with torch.no_grad():\n",
    "            next_value = actor_critic.get_value(\n",
    "                rollouts.obs[-1], rollouts.recurrent_hidden_states[-1],\n",
    "                rollouts.masks[-1]).detach()\n",
    "\n",
    "        if gail:\n",
    "            if j >= 10:\n",
    "                envs.venv.eval()\n",
    "\n",
    "            gail_epoch = gail_epoch\n",
    "            if j < 10:\n",
    "                gail_epoch = 100  # Warm up\n",
    "            for _ in range(gail_epoch):\n",
    "                discr.update(gail_train_loader, rollouts,\n",
    "                             utils.get_vec_normalize(envs)._obfilt)\n",
    "\n",
    "            for step in range(num_steps):\n",
    "                rollouts.rewards[step] = discr.predict_reward(\n",
    "                    rollouts.obs[step], rollouts.actions[step], gamma,\n",
    "                    rollouts.masks[step])\n",
    "\n",
    "        rollouts.compute_returns(next_value, use_gae, gamma,\n",
    "                                 gae_lambda, use_proper_time_limits)\n",
    "        \n",
    "        value_loss, action_loss, dist_entropy = agent.update(rollouts)\n",
    "\n",
    "        rollouts.after_update()\n",
    "\n",
    "        # save for every interval-th episode or for the last epoch\n",
    "        if (j % save_interval == 0\n",
    "                or j == num_updates - 1) and save_dir != \"\":\n",
    "            save_path = os.path.join(save_dir, al_type)\n",
    "            try:\n",
    "                os.makedirs(save_path)\n",
    "            except OSError:\n",
    "                pass\n",
    "            \n",
    "            # !!!!!! jtan\n",
    "            # torch.save([\n",
    "            #     actor_critic,\n",
    "            #     getattr(utils.get_vec_normalize(envs), 'ob_rms', None)\n",
    "            # ], os.path.join(save_path, env_name + \".pt\"))\n",
    "            \n",
    "            torch.save(\n",
    "                actor_critic\n",
    "            , os.path.join(save_path, env_name + \".pt\"))\n",
    "            \n",
    "        # if j % log_interval == 0 and len(episode_rewards) > 1:\n",
    "        #     total_num_steps = (j + 1) * num_processes * num_steps\n",
    "        #     end = time.time()\n",
    "        #     print(\n",
    "        #         '''Updates {}, num timesteps {}, FPS {} \\n Last {} training episodes\n",
    "        #         : mean/median reward {:.1f}/{:.1f}, min/max reward {:.1f}/{:.1f}\\n'''\n",
    "        #         .format(j, total_num_steps,\n",
    "        #                 int(total_num_steps / (end - start)),\n",
    "        #                 len(episode_rewards), np.mean(episode_rewards),\n",
    "        #                 np.median(episode_rewards), np.min(episode_rewards),\n",
    "        #                 np.max(episode_rewards), dist_entropy, value_loss,\n",
    "        #                 action_loss))\n",
    "\n",
    "        #if (eval_interval is not None and len(episode_rewards) > 1\n",
    "        #        and j % eval_interval == 0):\n",
    "        #    # !!!!!! jtan\n",
    "        #    ob_rms = utils.get_vec_normalize(envs).ob_rms\n",
    "        #    evaluate(actor_critic, ob_rms, env_name, seed,\n",
    "        #             num_processes, eval_log_dir, device)\n",
    "        \n",
    "    positions.append(position_epi)"
   ]
  },
  {
   "cell_type": "markdown",
   "metadata": {},
   "source": [
    "# run a2c"
   ]
  },
  {
   "cell_type": "code",
   "execution_count": null,
   "metadata": {
    "scrolled": true
   },
   "outputs": [],
   "source": [
    "load_prev_model = 'model_latest'\n",
    "# !!!!!! jtan\n",
    "scores, positions = a2c_ppo_acktr(env_info)"
   ]
  },
  {
   "cell_type": "markdown",
   "metadata": {},
   "source": [
    "# DQN function"
   ]
  },
  {
   "cell_type": "code",
   "execution_count": null,
   "metadata": {},
   "outputs": [],
   "source": [
    "\n",
    "def dqn(env_info, n_episodes=1, max_t=2000, eps_start=1.0, eps_end=0.01, \n",
    "        eps_decay=0.995, target_scores=1.0, video_flag=True, load_prev_model=None):\n",
    "    \"\"\"Deep Q-Learning.\n",
    "    \n",
    "    Params\n",
    "    ======\n",
    "        n_episodes (int): maximum number of training episodes\n",
    "        max_t (int): maximum number of timesteps per episode\n",
    "        eps_start (float): starting value of epsilon, for epsilon-greedy action selection\n",
    "        eps_end (float): minimum value of epsilon\n",
    "        eps_decay (float): multiplicative factor (per episode) for decreasing epsilon\n",
    "        target_scores (float): average scores aming to achieve, the agent will stop training once \n",
    "                            it reaches this scores\n",
    "        video_flag (boolean): a flag for whether to record video, if set to True, \n",
    "                            video would be recorded for every 20 episodes\n",
    "    \n",
    "    Returns\n",
    "    ======\n",
    "        scores in 2-d array\n",
    "        positions in 2-d array\n",
    "    \n",
    "    \"\"\"\n",
    "    # load previous trained result\n",
    "    if not load_prev_model == None:\n",
    "        agent.qnetwork_local.load_state_dict(torch.load(load_prev_model))\n",
    "    \n",
    "    start = time.time()                       # Start time\n",
    "    scores = []                               # list containing scores from each episode\n",
    "    positions = []                            # position list\n",
    "    scores_window = deque(maxlen=100)         # last 100 scores\n",
    "    eps = eps_start                           # initialize epsilon\n",
    "    \n",
    "    \n",
    "    width, height, channel = [300, 300, 3]\n",
    "    \n",
    "    for i_episode in range(1, n_episodes+1):\n",
    "        \n",
    "        video_flag = (i_episode % 20 == 0)\n",
    "        \n",
    "        # start video recording \n",
    "        if video_flag:\n",
    "            fourcc = cv2.VideoWriter_fourcc('M','S','V','C') #Microspoft Video 1\n",
    "            video  = cv2.VideoWriter('output_sep_18_%s.avi' % (str(i_episode)), fourcc, 30, (width, height))\n",
    "            \n",
    "        # Reset env and score at the beginning of episode\n",
    "        env_info = env.reset(train_mode=True)[brain_name] # reset the environment \n",
    "        \n",
    "        # get the current visual state\n",
    "        state = np.transpose(np.asarray(env_info.visual_observations)[0][0], (2, 0, 1)) \n",
    "        \n",
    "        # initialize the score\n",
    "        score = 0\n",
    "        \n",
    "        # storing temporary path for an episode\n",
    "        position_epi = []\n",
    "        \n",
    "        for t in range(max_t):\n",
    "            \n",
    "            if video_flag:\n",
    "                video.write(np.asarray(env_info.visual_observations)[0][0])\n",
    "                \n",
    "            action = agent.act(state, eps)\n",
    "            \n",
    "            # translate action variable into forward, rotate, and right\n",
    "            action_transformed = get_action(action)\n",
    "            env_info = env.step(action_transformed)[brain_name]        # send the action to the environment\n",
    "            next_state = np.transpose(np.asarray(env_info.visual_observations)[0][0], \n",
    "                                      (2, 0, 1)) # get the next state\n",
    "            reward = env_info.rewards[0]                   # get the reward\n",
    "            done = env_info.local_done[0]                  # see if episode has finished\n",
    "            \n",
    "            agent.step(state, action, reward, next_state, done)\n",
    "            \n",
    "            state = next_state\n",
    "            \n",
    "            score += reward\n",
    "            \n",
    "            position_epi.append(env_info.vector_observations[0][-3:].tolist())\n",
    "            \n",
    "            stdout.write('\\r t:{}, position:{}, score:{:.3f}'.format(str(t), \n",
    "                                    str(env_info.vector_observations[0][-3:]), score))\n",
    "            stdout.flush()\n",
    "                                \n",
    "        positions.append(position_epi)\n",
    "        scores_window.append(score)       # save most recent score\n",
    "        scores.append(score)              # save most recent score\n",
    "        eps = max(eps_end, eps_decay*eps) # decrease epsilon\n",
    "        \n",
    "        print('\\nEpisode {}\\tAverage Score: {:.2f}\\t Last Move {}\\n'.format(i_episode, \n",
    "                                                        np.mean(scores_window), action_transformed), end=\"\")\n",
    "        if i_episode % 10 == 0:\n",
    "            # torch.save(agent.qnetwork_local.state_dict(), 'model_%s' % str(i_episode))\n",
    "            torch.save(agent.qnetwork_local.state_dict(), 'model_latest')\n",
    "        \n",
    "        # add rewards to writer\n",
    "        writer.add_scalar('total_rewards', score, i_episode)\n",
    "                \n",
    "        # if np.mean(scores_window)>=target_scores:\n",
    "        #     print('\\nEnvironment solved in {:d} episodes!\\tAverage Score: {:.2f}'.format(i_episode, \n",
    "        #                                                                      np.mean(scores_window)))\n",
    "        #     torch.save(agent.qnetwork_local.state_dict(), model_weight_name)\n",
    "        #     break\n",
    "        \n",
    "        if video_flag:\n",
    "            cv2.destroyAllWindows()\n",
    "            video.release()\n",
    "    \n",
    "    writer.close()\n",
    "\n",
    "    print('\\nEnvironment solved in {:d} episodes!\\tAverage Score: {:.2f}'.format(i_episode, np.mean(scores_window)))\n",
    "    torch.save(agent.qnetwork_local.state_dict(), model_weight_name)\n",
    "\n",
    "    time_elapsed = time.time() - start\n",
    "    print(\"Time Elapse: {:.2f}\".format(time_elapsed))\n",
    "    \n",
    "    return scores, positions"
   ]
  },
  {
   "cell_type": "markdown",
   "metadata": {},
   "source": [
    "# run DQN"
   ]
  },
  {
   "cell_type": "code",
   "execution_count": 4,
   "metadata": {
    "scrolled": false
   },
   "outputs": [
    {
     "ename": "FileNotFoundError",
     "evalue": "[Errno 2] No such file or directory: 'model_latest'",
     "output_type": "error",
     "traceback": [
      "\u001b[1;31m---------------------------------------------------------------------------\u001b[0m",
      "\u001b[1;31mFileNotFoundError\u001b[0m                         Traceback (most recent call last)",
      "\u001b[1;32m<ipython-input-4-967939843ed4>\u001b[0m in \u001b[0;36m<module>\u001b[1;34m\u001b[0m\n\u001b[0;32m      2\u001b[0m scores, positions = dqn(env_info, n_episodes=100, max_t=2000, eps_start=1.0, \n\u001b[0;32m      3\u001b[0m                         \u001b[0meps_end\u001b[0m\u001b[1;33m=\u001b[0m\u001b[1;36m0.01\u001b[0m\u001b[1;33m,\u001b[0m \u001b[0meps_decay\u001b[0m\u001b[1;33m=\u001b[0m\u001b[1;36m0.995\u001b[0m\u001b[1;33m,\u001b[0m \u001b[0mtarget_scores\u001b[0m\u001b[1;33m=\u001b[0m\u001b[1;36m1.0\u001b[0m\u001b[1;33m,\u001b[0m\u001b[1;33m\u001b[0m\u001b[1;33m\u001b[0m\u001b[0m\n\u001b[1;32m----> 4\u001b[1;33m                         video_flag=False, load_prev_model=load_prev_model)\n\u001b[0m",
      "\u001b[1;32m<ipython-input-3-1d9311070250>\u001b[0m in \u001b[0;36mdqn\u001b[1;34m(env_info, n_episodes, max_t, eps_start, eps_end, eps_decay, target_scores, video_flag, load_prev_model)\u001b[0m\n\u001b[0;32m     28\u001b[0m     \u001b[1;31m# load previous trained result\u001b[0m\u001b[1;33m\u001b[0m\u001b[1;33m\u001b[0m\u001b[1;33m\u001b[0m\u001b[0m\n\u001b[0;32m     29\u001b[0m     \u001b[1;32mif\u001b[0m \u001b[1;32mnot\u001b[0m \u001b[0mload_prev_model\u001b[0m \u001b[1;33m==\u001b[0m \u001b[1;32mNone\u001b[0m\u001b[1;33m:\u001b[0m\u001b[1;33m\u001b[0m\u001b[1;33m\u001b[0m\u001b[0m\n\u001b[1;32m---> 30\u001b[1;33m         \u001b[0magent\u001b[0m\u001b[1;33m.\u001b[0m\u001b[0mqnetwork_local\u001b[0m\u001b[1;33m.\u001b[0m\u001b[0mload_state_dict\u001b[0m\u001b[1;33m(\u001b[0m\u001b[0mtorch\u001b[0m\u001b[1;33m.\u001b[0m\u001b[0mload\u001b[0m\u001b[1;33m(\u001b[0m\u001b[0mload_prev_model\u001b[0m\u001b[1;33m)\u001b[0m\u001b[1;33m)\u001b[0m\u001b[1;33m\u001b[0m\u001b[1;33m\u001b[0m\u001b[0m\n\u001b[0m\u001b[0;32m     31\u001b[0m \u001b[1;33m\u001b[0m\u001b[0m\n\u001b[0;32m     32\u001b[0m     \u001b[0mstart\u001b[0m \u001b[1;33m=\u001b[0m \u001b[0mtime\u001b[0m\u001b[1;33m.\u001b[0m\u001b[0mtime\u001b[0m\u001b[1;33m(\u001b[0m\u001b[1;33m)\u001b[0m                       \u001b[1;31m# Start time\u001b[0m\u001b[1;33m\u001b[0m\u001b[1;33m\u001b[0m\u001b[0m\n",
      "\u001b[1;32m~\\Anaconda3\\envs\\ml-agents\\lib\\site-packages\\torch\\serialization.py\u001b[0m in \u001b[0;36mload\u001b[1;34m(f, map_location, pickle_module, **pickle_load_args)\u001b[0m\n\u001b[0;32m    379\u001b[0m             \u001b[1;33m(\u001b[0m\u001b[0msys\u001b[0m\u001b[1;33m.\u001b[0m\u001b[0mversion_info\u001b[0m\u001b[1;33m[\u001b[0m\u001b[1;36m0\u001b[0m\u001b[1;33m]\u001b[0m \u001b[1;33m==\u001b[0m \u001b[1;36m2\u001b[0m \u001b[1;32mand\u001b[0m \u001b[0misinstance\u001b[0m\u001b[1;33m(\u001b[0m\u001b[0mf\u001b[0m\u001b[1;33m,\u001b[0m \u001b[0municode\u001b[0m\u001b[1;33m)\u001b[0m\u001b[1;33m)\u001b[0m\u001b[1;33m:\u001b[0m\u001b[1;33m\u001b[0m\u001b[1;33m\u001b[0m\u001b[0m\n\u001b[0;32m    380\u001b[0m         \u001b[0mnew_fd\u001b[0m \u001b[1;33m=\u001b[0m \u001b[1;32mTrue\u001b[0m\u001b[1;33m\u001b[0m\u001b[1;33m\u001b[0m\u001b[0m\n\u001b[1;32m--> 381\u001b[1;33m         \u001b[0mf\u001b[0m \u001b[1;33m=\u001b[0m \u001b[0mopen\u001b[0m\u001b[1;33m(\u001b[0m\u001b[0mf\u001b[0m\u001b[1;33m,\u001b[0m \u001b[1;34m'rb'\u001b[0m\u001b[1;33m)\u001b[0m\u001b[1;33m\u001b[0m\u001b[1;33m\u001b[0m\u001b[0m\n\u001b[0m\u001b[0;32m    382\u001b[0m     \u001b[1;32melif\u001b[0m \u001b[1;33m(\u001b[0m\u001b[0msys\u001b[0m\u001b[1;33m.\u001b[0m\u001b[0mversion_info\u001b[0m\u001b[1;33m[\u001b[0m\u001b[1;36m0\u001b[0m\u001b[1;33m]\u001b[0m \u001b[1;33m==\u001b[0m \u001b[1;36m3\u001b[0m \u001b[1;32mand\u001b[0m \u001b[0misinstance\u001b[0m\u001b[1;33m(\u001b[0m\u001b[0mf\u001b[0m\u001b[1;33m,\u001b[0m \u001b[0mpathlib\u001b[0m\u001b[1;33m.\u001b[0m\u001b[0mPath\u001b[0m\u001b[1;33m)\u001b[0m\u001b[1;33m)\u001b[0m\u001b[1;33m:\u001b[0m\u001b[1;33m\u001b[0m\u001b[1;33m\u001b[0m\u001b[0m\n\u001b[0;32m    383\u001b[0m         \u001b[0mnew_fd\u001b[0m \u001b[1;33m=\u001b[0m \u001b[1;32mTrue\u001b[0m\u001b[1;33m\u001b[0m\u001b[1;33m\u001b[0m\u001b[0m\n",
      "\u001b[1;31mFileNotFoundError\u001b[0m: [Errno 2] No such file or directory: 'model_latest'"
     ]
    }
   ],
   "source": [
    "load_prev_model = 'model_latest'\n",
    "scores, positions = dqn(env_info, n_episodes=100, max_t=2000, eps_start=1.0, \n",
    "                        eps_end=0.01, eps_decay=0.995, target_scores=1.0,\n",
    "                        video_flag=False, load_prev_model=load_prev_model)"
   ]
  },
  {
   "cell_type": "code",
   "execution_count": 5,
   "metadata": {},
   "outputs": [],
   "source": [
    "env_info = env.reset(train_mode=True)[brain_name]"
   ]
  },
  {
   "cell_type": "code",
   "execution_count": 6,
   "metadata": {},
   "outputs": [],
   "source": [
    "goals = [[-252.8, -26.6, 118.7], [-184.0, -25.9, 89.9], \n",
    "         [-121.3, -19.5, 3.8], [-162.1, -27.1, 13.3], [-202.0, -27.3, 11.1],\n",
    "        [40.9, -20.75, -30.8], [75.5, -28.1, -38.7]]\n",
    "goals = [[i[0] - 388.5, i[1] + 24.4, i[2] + 80.5] for i in goals]\n",
    "final_goal = [-342.9, 3.65, 48.0]"
   ]
  },
  {
   "cell_type": "code",
   "execution_count": 7,
   "metadata": {},
   "outputs": [
    {
     "ename": "IndexError",
     "evalue": "list index out of range",
     "output_type": "error",
     "traceback": [
      "\u001b[1;31m---------------------------------------------------------------------------\u001b[0m",
      "\u001b[1;31mIndexError\u001b[0m                                Traceback (most recent call last)",
      "\u001b[1;32m<ipython-input-7-8c035f83543d>\u001b[0m in \u001b[0;36m<module>\u001b[1;34m\u001b[0m\n\u001b[1;32m----> 1\u001b[1;33m \u001b[0mstart\u001b[0m \u001b[1;33m=\u001b[0m \u001b[1;33m[\u001b[0m\u001b[0mpositions\u001b[0m\u001b[1;33m[\u001b[0m\u001b[1;36m0\u001b[0m\u001b[1;33m]\u001b[0m\u001b[1;33m[\u001b[0m\u001b[1;36m0\u001b[0m\u001b[1;33m]\u001b[0m\u001b[1;33m[\u001b[0m\u001b[1;36m0\u001b[0m\u001b[1;33m]\u001b[0m\u001b[1;33m,\u001b[0m \u001b[0mpositions\u001b[0m\u001b[1;33m[\u001b[0m\u001b[1;36m0\u001b[0m\u001b[1;33m]\u001b[0m\u001b[1;33m[\u001b[0m\u001b[1;36m0\u001b[0m\u001b[1;33m]\u001b[0m\u001b[1;33m[\u001b[0m\u001b[1;36m1\u001b[0m\u001b[1;33m]\u001b[0m\u001b[1;33m,\u001b[0m \u001b[0mpositions\u001b[0m\u001b[1;33m[\u001b[0m\u001b[1;36m0\u001b[0m\u001b[1;33m]\u001b[0m\u001b[1;33m[\u001b[0m\u001b[1;36m0\u001b[0m\u001b[1;33m]\u001b[0m\u001b[1;33m[\u001b[0m\u001b[1;36m2\u001b[0m\u001b[1;33m]\u001b[0m\u001b[1;33m]\u001b[0m\u001b[1;33m\u001b[0m\u001b[1;33m\u001b[0m\u001b[0m\n\u001b[0m",
      "\u001b[1;31mIndexError\u001b[0m: list index out of range"
     ]
    }
   ],
   "source": [
    "start = [positions[0][0][0], positions[0][0][1], positions[0][0][2]]"
   ]
  },
  {
   "cell_type": "code",
   "execution_count": 8,
   "metadata": {},
   "outputs": [],
   "source": [
    "pos = []\n",
    "for i in range(len(positions)):\n",
    "    # ignore the last item, as it might start from the origin\n",
    "    a = [[a[0], a[1], a[2]] for a in positions[i]]\n",
    "    pos.append(np.asarray(a[:-2]))"
   ]
  },
  {
   "cell_type": "code",
   "execution_count": 109,
   "metadata": {
    "scrolled": false
   },
   "outputs": [
    {
     "data": {
      "image/png": "[encoded data removed]",
      "text/plain": [
       "<Figure size 432x288 with 1 Axes>"
      ]
     },
     "metadata": {
      "needs_background": "light"
     },
     "output_type": "display_data"
    }
   ],
   "source": [
    "# final_goal = [-382.46, 54.69, 4]\n",
    "for i in range(len(pos)):\n",
    "    if i == 0:\n",
    "        plt.plot(pos[i][:,0], pos[i][:,2])\n",
    "\n",
    "for i in range(len(goals)):\n",
    "    plt.plot(goals[i][0], goals[i][2], marker='o', markersize=10, color=\"black\")\n",
    "\n",
    "plt.plot([final_goal[0]], [final_goal[2]], marker='o', markersize=40, color=\"black\")\n",
    "plt.xlabel('x')\n",
    "plt.ylabel('y')\n",
    "plt.show()"
   ]
  },
  {
   "cell_type": "code",
   "execution_count": 88,
   "metadata": {},
   "outputs": [
    {
     "name": "stdout",
     "output_type": "stream",
     "text": [
      "205.0 197.99999999999994\n",
      "805.8731636688163 486.0823513904103\n"
     ]
    }
   ],
   "source": [
    "import math\n",
    "import matplotlib.pyplot as plt\n",
    "import matplotlib.image as mpimg\n",
    "\n",
    "\n",
    "# point_a = [[1093 - 888, 592 - 394], [1093 - 294, 592 - 92]]\n",
    "point_a = [[205, 198], [799, 500]]\n",
    "# point_b = [[-252.8 - 388.5, 118.7 + 80.5], [75.5 - 388.5, -38.7 + 80.5]]\n",
    "point_b = [[-641.3, -199.2], [-313.0, -41.8]]\n",
    "\n",
    "a = math.sqrt((point_a[0][0] - point_a[1][0])**2 + (point_a[0][1] - point_a[1][1])**2)\n",
    "b = math.sqrt((point_b[0][0] - point_b[1][0])**2 + (point_b[0][1] - point_b[1][1])**2)\n",
    "ratio = a / b\n",
    "plus = [point_a[0][0] - point_b[0][0] * ratio, point_a[0][1] - point_b[0][1] * ratio]\n",
    "print(point_b[0][0] * ratio + plus[0], point_b[0][1] * ratio + plus[1])\n",
    "print(point_b[1][0] * ratio + plus[0], point_b[1][1] * ratio + plus[1])\n",
    "# print([[i[0] * ratio + , i[i] * ratio + ] for ])"
   ]
  },
  {
   "cell_type": "code",
   "execution_count": 89,
   "metadata": {},
   "outputs": [
    {
     "data": {
      "text/plain": [
       "1.8302563620737633"
      ]
     },
     "execution_count": 89,
     "metadata": {},
     "output_type": "execute_result"
    }
   ],
   "source": [
    "ratio"
   ]
  },
  {
   "cell_type": "code",
   "execution_count": 96,
   "metadata": {},
   "outputs": [],
   "source": [
    "trans_pos = [np.array([[j[0] * ratio + plus[0], j[1], j[2] * ratio + plus[1]] for j in i]) for i in pos]"
   ]
  },
  {
   "cell_type": "code",
   "execution_count": 97,
   "metadata": {},
   "outputs": [],
   "source": [
    "# trans_pos"
   ]
  },
  {
   "cell_type": "code",
   "execution_count": 98,
   "metadata": {},
   "outputs": [
    {
     "data": {
      "image/png": "[encoded data removed]",
      "text/plain": [
       "<Figure size 432x288 with 1 Axes>"
      ]
     },
     "metadata": {
      "needs_background": "light"
     },
     "output_type": "display_data"
    }
   ],
   "source": [
    "img = mpimg.imread('./plan.png')\n",
    "plt.imshow(img)\n",
    "\n",
    "for i in range(len(trans_pos)):\n",
    "    if i == 11:\n",
    "        plt.plot(trans_pos[i][:,0], trans_pos[i][:,2])\n",
    "\n",
    "for i in range(len(goals)):\n",
    "    plt.plot(goals[i][0]  * ratio + plus[0], goals[i][2]  * ratio + plus[1], marker='o', markersize=10, color=\"black\")\n",
    "\n",
    "plt.plot([final_goal[0] * ratio + plus[1]], [final_goal[2] * ratio + plus[1]], marker='o', markersize=40, color=\"black\")\n",
    "plt.xlabel('timestep')\n",
    "plt.ylabel('trajectories')\n",
    "plt.show()"
   ]
  },
  {
   "cell_type": "code",
   "execution_count": 99,
   "metadata": {},
   "outputs": [
    {
     "name": "stdout",
     "output_type": "stream",
     "text": [
      "(4, 3, 300, 300)\n",
      "torch.Size([1, 32, 74, 74])\n",
      "torch.Size([1, 64, 36, 36])\n",
      "torch.Size([73984])\n",
      "torch.Size([512])\n"
     ]
    }
   ],
   "source": [
    "imgs = np.expand_dims(np.asarray(env_info.visual_observations)[0][0], axis=0)\n",
    "input = np.transpose(imgs, (0, 3, 1, 2))\n",
    "input = np.concatenate([input, input, input, input], 0)\n",
    "print(input.shape)\n",
    "\n",
    "m1  = torch.nn.Conv2d(3, 32, kernel_size=8, stride=4)\n",
    "m2  = torch.nn.Conv2d(32, 64, kernel_size=4, stride=2)\n",
    "m3  = torch.nn.Conv2d(64, 64, kernel_size=3, stride=1)\n",
    "fc4 = torch.nn.Linear(34 * 34 * 64, 512)\n",
    "fc5 = torch.nn.Linear(512, 9)\n",
    "\n",
    "input = torch.randn(1, 3, 300, 300)\n",
    "output1 = m1(input)\n",
    "print(output1.shape)\n",
    "output2 = m2(output1)\n",
    "print(output2.shape)\n",
    "output3 = torch.flatten(m3(output2))\n",
    "print(output3.shape)\n",
    "output4 = fc4(output3)\n",
    "print(output4.shape)\n",
    "output5 = fc5(output4)\n",
    "\n",
    "# fc5(fc4(m3(m2(m1(input)))))\n"
   ]
  },
  {
   "cell_type": "code",
   "execution_count": null,
   "metadata": {},
   "outputs": [],
   "source": [
    "input = torch.randn(3, 300, 300)\n",
    "input = input.unsqueeze(0)"
   ]
  },
  {
   "cell_type": "code",
   "execution_count": null,
   "metadata": {},
   "outputs": [],
   "source": [
    "input.shape"
   ]
  },
  {
   "cell_type": "code",
   "execution_count": null,
   "metadata": {},
   "outputs": [],
   "source": [
    "output5"
   ]
  },
  {
   "cell_type": "code",
   "execution_count": null,
   "metadata": {},
   "outputs": [],
   "source": [
    "plt.imshow(np.asarray(env_info.visual_observations)[0][0])"
   ]
  },
  {
   "cell_type": "code",
   "execution_count": null,
   "metadata": {},
   "outputs": [],
   "source": [
    "\n",
    "# plot the scores\n",
    "# fig = plt.figure()\n",
    "# ax = fig.add_subplot(111)\n",
    "# plt.plot(np.arange(len(scores)), scores)\n",
    "# plt.ylabel('Score')\n",
    "# plt.xlabel('Episode #')\n",
    "# plt.show()"
   ]
  },
  {
   "cell_type": "code",
   "execution_count": null,
   "metadata": {},
   "outputs": [],
   "source": [
    "print(agent.chck[1])"
   ]
  },
  {
   "cell_type": "code",
   "execution_count": null,
   "metadata": {},
   "outputs": [],
   "source": [
    "agent.qnetwork_local(agent.chck[0].unsqueeze(0))"
   ]
  },
  {
   "cell_type": "markdown",
   "metadata": {},
   "source": [
    "### Watch the agent running ( Using saved weights)"
   ]
  },
  {
   "cell_type": "code",
   "execution_count": null,
   "metadata": {},
   "outputs": [],
   "source": [
    "# load the weights from file\n",
    "agent.qnetwork_local.load_state_dict(torch.load(model_weight_name))\n",
    "\n",
    "env_info = env.reset(train_mode=False)[brain_name] # reset the environment\n",
    "state = env_info.vector_observations[0]            # get the current state\n",
    "score = 0                                          # initialize the score\n",
    "\n",
    "while True:\n",
    "    action = agent.act(state)                      # select an action\n",
    "    env_info = env.step(action)[brain_name]        # send the action to the environment\n",
    "    next_state = env_info.vector_observations[0]   # get the next state\n",
    "    reward = env_info.rewards[0]                   # get the reward\n",
    "    done = env_info.local_done[0]                  # see if episode has finished\n",
    "    score += reward                                # update the score\n",
    "    state = next_state                             # roll over the state to next time step\n",
    "    if done:                                       # exit loop if episode finished\n",
    "        break\n",
    "    \n",
    "print(\"Score: {}\".format(score))"
   ]
  },
  {
   "cell_type": "markdown",
   "metadata": {},
   "source": [
    "### Close Unity ML Environment"
   ]
  },
  {
   "cell_type": "code",
   "execution_count": null,
   "metadata": {},
   "outputs": [],
   "source": [
    "env.close()"
   ]
  },
  {
   "cell_type": "code",
   "execution_count": null,
   "metadata": {},
   "outputs": [],
   "source": []
  },
  {
   "cell_type": "code",
   "execution_count": null,
   "metadata": {},
   "outputs": [],
   "source": []
  },
  {
   "cell_type": "code",
   "execution_count": null,
   "metadata": {},
   "outputs": [],
   "source": []
  }
 ],
 "metadata": {
  "kernelspec": {
   "display_name": "Python 3",
   "language": "python",
   "name": "python3"
  },
  "language_info": {
   "codemirror_mode": {
    "name": "ipython",
    "version": 3
   },
   "file_extension": ".py",
   "mimetype": "text/x-python",
   "name": "python",
   "nbconvert_exporter": "python",
   "pygments_lexer": "ipython3",
   "version": "3.6.8"
  }
 },
 "nbformat": 4,
 "nbformat_minor": 2
}
