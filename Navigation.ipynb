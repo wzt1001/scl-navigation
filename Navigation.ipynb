{
 "cells": [
  {
   "cell_type": "code",
   "execution_count": 1,
   "metadata": {},
   "outputs": [
    {
     "name": "stderr",
     "output_type": "stream",
     "text": [
      "INFO:mlagents.envs:\n",
      "'StationAcademy' started successfully!\n",
      "Unity Academy name: StationAcademy\n",
      "        Number of Brains: 1\n",
      "        Number of Training Brains : 1\n",
      "        Reset Parameters :\n",
      "\t\t\n",
      "Unity brain name: DRLBrain\n",
      "        Number of Visual Observations (per agent): 2\n",
      "        Vector Observation space size (per agent): 3\n",
      "        Number of stacked Vector Observation: 3\n",
      "        Vector Action space type: discrete\n",
      "        Vector Action space size (per agent): [2, 2]\n",
      "        Vector Action descriptions: , \n"
     ]
    }
   ],
   "source": [
    "import time\n",
    "import logging\n",
    "from sys import stdout\n",
    "from collections import deque\n",
    "\n",
    "import cv2\n",
    "import PIL\n",
    "import numpy as np\n",
    "import torch\n",
    "from torch.utils.tensorboard import SummaryWriter\n",
    "import matplotlib.pyplot as plt\n",
    "from mlagents.envs.environment import UnityEnvironment\n",
    "\n",
    "from agent import Agent\n",
    "\n",
    "# set logger\n",
    "logger = logging.getLogger()\n",
    "logger.setLevel(logging.INFO)\n",
    "\n",
    "writer = SummaryWriter()\n",
    "\n",
    "# env_name = 'sep_28'\n",
    "env_name = 'oct_22'\n",
    "path = \"C:/data/ml-agents/scripts/envs/{}/UnitySDK.exe\".format(env_name)\n",
    "# env = UnityEnvironment(file_name=\"./envs/%s/%s.x86_64\" % (env_name, env_name), worker_id=1, seed=1, no_graphics=False)\n",
    "env = UnityEnvironment(file_name=path, worker_id=1, seed=1, no_graphics=False)\n"
   ]
  },
  {
   "cell_type": "markdown",
   "metadata": {},
   "source": [
    "Environments contain **_brains_** which are responsible for deciding the actions of their associated agents. Here we check for the first brain available, and set it as the default brain we will be controlling from Python."
   ]
  },
  {
   "cell_type": "code",
   "execution_count": 2,
   "metadata": {},
   "outputs": [
    {
     "name": "stderr",
     "output_type": "stream",
     "text": [
      "INFO:root:Number of actions: [2, 2]\n",
      "INFO:root:States look like: [   0.            0.            0.            0.            0.\n",
      "    0.         -659.69000244   -2.16580009  200.38999939]\n",
      "INFO:root:States have length: 9\n",
      "INFO:root:Shape of image: (300, 300, 3)\n"
     ]
    }
   ],
   "source": [
    "# get the default brain\n",
    "brain_name = env.brain_names[0]\n",
    "brain = env.brains[brain_name]\n",
    "brain_name, brain\n",
    "\n",
    "# reset the environment\n",
    "env_info = env.reset(train_mode=True)[brain_name]\n",
    "\n",
    "# number of actions\n",
    "action_size = brain.vector_action_space_size\n",
    "logger.info('Number of actions: %s' % str(action_size))\n",
    "\n",
    "# examine the vector space \n",
    "state = env_info.vector_observations[0]\n",
    "logger.info('States look like: %s' % str(state))\n",
    "state_size = len(state)\n",
    "logger.info('States have length: %s' % str(state_size))\n",
    "\n",
    "# examine the visual space\n",
    "img = np.asarray(env_info.visual_observations)\n",
    "# imgplt = plt.imshow(img[0][0])\n",
    "height, width, channel = img[0][0].shape\n",
    "logger.info('Shape of image: %s' % str(img[0][0].shape))\n",
    "\n",
    "model_weight_name = 'checkpoint.pth'\n",
    "agent = Agent(state_size=300, action_size=9, seed=0)"
   ]
  },
  {
   "cell_type": "code",
   "execution_count": 22,
   "metadata": {},
   "outputs": [],
   "source": [
    "def get_action(action):\n",
    "    move_forward  = action // 3\n",
    "    rotate = action % 3\n",
    "    return [move_forward, rotate]\n",
    "\n",
    "def dqn(env_info, n_episodes=1, max_t=2000, eps_start=1.0, eps_end=0.01, \n",
    "        eps_decay=0.995, target_scores=1.0, video_flag=True, load_prev_model=None):\n",
    "    \"\"\"Deep Q-Learning.\n",
    "    \n",
    "    Params\n",
    "    ======\n",
    "        n_episodes (int): maximum number of training episodes\n",
    "        max_t (int): maximum number of timesteps per episode\n",
    "        eps_start (float): starting value of epsilon, for epsilon-greedy action selection\n",
    "        eps_end (float): minimum value of epsilon\n",
    "        eps_decay (float): multiplicative factor (per episode) for decreasing epsilon\n",
    "        target_scores (float): average scores aming to achieve, the agent will stop training once \n",
    "                            it reaches this scores\n",
    "        video_flag (boolean): a flag for whether to record video, if set to True, \n",
    "                            video would be recorded for every 20 episodes\n",
    "    \n",
    "    Returns\n",
    "    ======\n",
    "        scores in 2-d array\n",
    "        positions in 2-d array\n",
    "    \n",
    "    \"\"\"\n",
    "    # load previous trained result\n",
    "    if not load_prev_model == None:\n",
    "        agent.qnetwork_local.load_state_dict(torch.load(load_prev_model))\n",
    "    \n",
    "    start = time.time()                       # Start time\n",
    "    scores = []                               # list containing scores from each episode\n",
    "    positions = []                            # position list\n",
    "    scores_window = deque(maxlen=100)         # last 100 scores\n",
    "    eps = eps_start                           # initialize epsilon\n",
    "    \n",
    "    \n",
    "    width, height, channel = [300, 300, 3]\n",
    "    \n",
    "    for i_episode in range(1, n_episodes+1):\n",
    "        \n",
    "        video_flag = (i_episode % 20 == 0)\n",
    "        \n",
    "        # start video recording \n",
    "        if video_flag:\n",
    "            fourcc = cv2.VideoWriter_fourcc('M','S','V','C') #Microspoft Video 1\n",
    "            video  = cv2.VideoWriter('output_sep_18_%s.avi' % (str(i_episode)), fourcc, 30, (width, height))\n",
    "            \n",
    "        # Reset env and score at the beginning of episode\n",
    "        env_info = env.reset(train_mode=True)[brain_name] # reset the environment \n",
    "        \n",
    "        # get the current visual state\n",
    "        state = np.transpose(np.asarray(env_info.visual_observations)[0][0], (2, 0, 1)) \n",
    "        \n",
    "        # initialize the score\n",
    "        score = 0\n",
    "        \n",
    "        # storing temporary path for an episode\n",
    "        position_epi = []\n",
    "        \n",
    "        for t in range(max_t):\n",
    "            \n",
    "            if video_flag:\n",
    "                video.write(np.asarray(env_info.visual_observations)[0][0])\n",
    "                \n",
    "            action = agent.act(state, eps)\n",
    "            \n",
    "            # translate action variable into forward, rotate, and right\n",
    "            action_transformed = get_action(action)\n",
    "            env_info = env.step(action_transformed)[brain_name]        # send the action to the environment\n",
    "            next_state = np.transpose(np.asarray(env_info.visual_observations)[0][0], \n",
    "                                      (2, 0, 1)) # get the next state\n",
    "            reward = env_info.rewards[0]                   # get the reward\n",
    "            done = env_info.local_done[0]                  # see if episode has finished\n",
    "            \n",
    "            agent.step(state, action, reward, next_state, done)\n",
    "            \n",
    "            state = next_state\n",
    "            \n",
    "            score += reward\n",
    "            \n",
    "            position_epi.append(env_info.vector_observations[0][-3:].tolist())\n",
    "            \n",
    "            stdout.write('\\r t:{}, position:{}, score:{:.3f}'.format(str(t), \n",
    "                                    str(env_info.vector_observations[0][-3:]), score))\n",
    "            stdout.flush()\n",
    "                                \n",
    "        positions.append(position_epi)\n",
    "        scores_window.append(score)       # save most recent score\n",
    "        scores.append(score)              # save most recent score\n",
    "        eps = max(eps_end, eps_decay*eps) # decrease epsilon\n",
    "        \n",
    "        print('\\nEpisode {}\\tAverage Score: {:.2f}\\t Last Move {}\\n'.format(i_episode, \n",
    "                                                        np.mean(scores_window), action_transformed), end=\"\")\n",
    "        if i_episode % 10 == 0:\n",
    "            # torch.save(agent.qnetwork_local.state_dict(), 'model_%s' % str(i_episode))\n",
    "            torch.save(agent.qnetwork_local.state_dict(), 'model_latest')\n",
    "        \n",
    "        # add rewards to writer\n",
    "        writer.add_scalar('total_rewards', score, i_episode)\n",
    "                \n",
    "        # if np.mean(scores_window)>=target_scores:\n",
    "        #     print('\\nEnvironment solved in {:d} episodes!\\tAverage Score: {:.2f}'.format(i_episode, \n",
    "        #                                                                      np.mean(scores_window)))\n",
    "        #     torch.save(agent.qnetwork_local.state_dict(), model_weight_name)\n",
    "        #     break\n",
    "        \n",
    "        if video_flag:\n",
    "            cv2.destroyAllWindows()\n",
    "            video.release()\n",
    "    \n",
    "    writer.close()\n",
    "\n",
    "    print('\\nEnvironment solved in {:d} episodes!\\tAverage Score: {:.2f}'.format(i_episode, np.mean(scores_window)))\n",
    "    torch.save(agent.qnetwork_local.state_dict(), model_weight_name)\n",
    "\n",
    "    time_elapsed = time.time() - start\n",
    "    print(\"Time Elapse: {:.2f}\".format(time_elapsed))\n",
    "    \n",
    "    return scores, positions"
   ]
  },
  {
   "cell_type": "code",
   "execution_count": 23,
   "metadata": {},
   "outputs": [
    {
     "name": "stdout",
     "output_type": "stream",
     "text": [
      " t:1999, position:[-730.60534668   -2.00203896  186.64065552], score:-9.9900\n",
      "Episode 1\tAverage Score: -9.99\t Last Move [2, 2]\n",
      " t:1999, position:[-565.17492676   -1.83537197  220.73513794], score:0.0200\n",
      "Episode 2\tAverage Score: -4.98\t Last Move [1, 0]\n",
      " t:1999, position:[-704.35522461   -2.00203896  189.31008911], score:-9.9900\n",
      "Episode 3\tAverage Score: -6.65\t Last Move [0, 0]\n",
      " t:1999, position:[-735.65307617   -2.00203896  181.94429016], score:-20.000\n",
      "Episode 4\tAverage Score: -9.99\t Last Move [0, 1]\n",
      " t:1999, position:[-669.3963623    -2.00203896  198.37286377], score:-9.9900\n",
      "Episode 5\tAverage Score: -9.99\t Last Move [2, 1]\n",
      " t:1999, position:[-612.4262085    -2.00065923  202.05052185], score:-9.9900\n",
      "Episode 6\tAverage Score: -9.99\t Last Move [0, 0]\n",
      " t:1999, position:[-687.80004883   -2.97287583  100.0951004 ], score:-9.990\n",
      "Episode 7\tAverage Score: -9.99\t Last Move [1, 2]\n",
      " t:1999, position:[-654.79614258   -1.97558403  179.26968384], score:0.0200\n",
      "Episode 8\tAverage Score: -8.74\t Last Move [2, 1]\n",
      " t:1999, position:[-647.04534912   -2.77346683  106.80361176], score:-9.990\n",
      "Episode 9\tAverage Score: -8.88\t Last Move [0, 2]\n",
      " t:1999, position:[-563.17028809   -1.85792589  218.97976685], score:-9.990-3.640\n",
      "Episode 10\tAverage Score: -8.99\t Last Move [1, 1]\n",
      " t:1999, position:[-506.52783203   -2.1185534   185.0579834 ], score:-9.990\n",
      "Episode 11\tAverage Score: -9.08\t Last Move [1, 0]\n",
      " t:1999, position:[-595.9017334    -2.56870651  100.71939087], score:10.030\n",
      "Episode 12\tAverage Score: -7.49\t Last Move [1, 1]\n",
      " t:1999, position:[-700.3581543    -2.87663555  107.88171387], score:-20.000\n",
      "Episode 13\tAverage Score: -8.45\t Last Move [1, 1]\n",
      " t:1999, position:[-577.34326172   -3.096066     62.18627548], score:-20.000\n",
      "Episode 14\tAverage Score: -9.27\t Last Move [1, 1]\n",
      " t:1999, position:[-603.0055542    -2.91333318   83.75210571], score:-9.990-3.330\n",
      "Episode 15\tAverage Score: -9.32\t Last Move [0, 2]\n",
      " t:1999, position:[-579.33349609   -3.10606146   60.46553802], score:-9.990.190\n",
      "Episode 16\tAverage Score: -9.36\t Last Move [0, 2]\n",
      " t:1999, position:[-561.85949707   -2.72643661  110.86071014], score:0.0200.9400\n",
      "Episode 17\tAverage Score: -8.81\t Last Move [1, 2]\n",
      " t:1999, position:[-563.89935303   -1.7997973   226.20344543], score:-9.990.910\n",
      "Episode 18\tAverage Score: -8.88\t Last Move [0, 2]\n",
      " t:1999, position:[-513.64880371   -2.10203886  187.29440308], score:-20.000\n",
      "Episode 19\tAverage Score: -9.46\t Last Move [0, 0]\n",
      " t:1999, position:[-604.35772705   -2.33537197  157.69906616], score:-9.9900\n",
      "Episode 20\tAverage Score: -9.49\t Last Move [0, 0]\n",
      " t:1999, position:[-549.39080811   -2.06634998  191.22346497], score:-20.00016.390\n",
      "Episode 21\tAverage Score: -9.99\t Last Move [2, 1]\n",
      " t:1999, position:[-595.46203613   -3.00055599   72.7663269 ], score:10.030\n",
      "Episode 22\tAverage Score: -9.08\t Last Move [2, 1]\n",
      " t:1999, position:[-565.12982178   -2.69311357  112.86179352], score:-9.990\n",
      "Episode 23\tAverage Score: -9.12\t Last Move [1, 2]\n",
      " t:1999, position:[-746.93334961   -2.00203896  181.20001221], score:0.0200\n",
      "Episode 24\tAverage Score: -8.74\t Last Move [2, 0]\n",
      " t:1999, position:[-708.8560791    -3.00203896   96.11047363], score:-9.990\n",
      "Episode 25\tAverage Score: -8.79\t Last Move [1, 0]\n",
      " t:1999, position:[-719.28961182   -1.97098255  184.51409912], score:-9.990\n",
      "Episode 26\tAverage Score: -8.83\t Last Move [2, 0]\n",
      " t:1999, position:[-632.26330566   -1.87657309  216.34686279], score:-9.990\n",
      "Episode 27\tAverage Score: -8.88\t Last Move [1, 1]\n",
      " t:1999, position:[-560.11846924   -2.73537207  108.49897766], score:-20.000\n",
      "Episode 28\tAverage Score: -9.27\t Last Move [0, 2]\n",
      " t:1999, position:[-568.64953613   -1.78457236  228.94393921], score:-9.9900.260\n",
      "Episode 29\tAverage Score: -9.30\t Last Move [0, 0]\n",
      " t:1999, position:[-638.10516357   -2.02346253  195.28529358], score:-9.990\n",
      "Episode 30\tAverage Score: -9.32\t Last Move [2, 0]\n",
      " t:1999, position:[-651.20001221   -2.96870565   85.20000458], score:-9.990\n",
      "Episode 31\tAverage Score: -9.34\t Last Move [1, 1]\n",
      " t:1999, position:[-694.66674805   -2.53537226  142.26667786], score:-20.000\n",
      "Episode 32\tAverage Score: -9.68\t Last Move [1, 2]\n",
      " t:1999, position:[-714.57165527   -2.00203896  180.52352905], score:-20.000\n",
      "Episode 33\tAverage Score: -9.99\t Last Move [0, 2]\n",
      " t:1999, position:[-572.35620117   -2.66870546  116.14595032], score:0.020:9.0200\n",
      "Episode 34\tAverage Score: -9.70\t Last Move [0, 2]\n",
      " t:1999, position:[-695.40008545   -2.53537226  142.20001221], score:0.0200.860\n",
      "Episode 35\tAverage Score: -9.42\t Last Move [0, 1]\n",
      " t:1999, position:[-698.56677246   -2.20457983  168.11584473], score:-20.000\n",
      "Episode 36\tAverage Score: -9.71\t Last Move [1, 2]\n",
      " t:1999, position:[-631.63171387   -1.7027514   248.6399231 ], score:-9.990\n",
      "Episode 37\tAverage Score: -9.72\t Last Move [1, 0]\n",
      " t:1999, position:[-616.03497314   -1.95737529  205.73086548], score:-9.990\n",
      "Episode 38\tAverage Score: -9.73\t Last Move [1, 2]\n",
      " t:1999, position:[-529.21630859   -2.30203867  161.96658325], score:-9.990\n",
      "Episode 39\tAverage Score: -9.73\t Last Move [1, 2]\n",
      " t:1999, position:[-378.99789429    4.7117548   131.83914185], score:-9.990-2.700\n",
      "Episode 40\tAverage Score: -9.74\t Last Move [1, 1]\n",
      " t:1999, position:[-301.79782104    4.40760136  112.32054138], score:-20.00019.720\n",
      "Episode 41\tAverage Score: -9.99\t Last Move [2, 1]\n",
      " t:1999, position:[-435.7902832     4.88225222  142.78424072], score:-20.000\n",
      "Episode 42\tAverage Score: -10.23\t Last Move [1, 2]\n",
      " t:1999, position:[-652.85528564    5.48121309  164.1736908 ], score:-20.000\n",
      "Episode 43\tAverage Score: -10.46\t Last Move [2, 1]\n",
      " t:1999, position:[-514.49157715    5.10879374  149.73080444], score:-20.000\n",
      "Episode 44\tAverage Score: -10.67\t Last Move [2, 0]\n",
      " t:1999, position:[-625.60003662   -2.40203857  152.33334351], score:-20.00016.630\n",
      "Episode 45\tAverage Score: -10.88\t Last Move [2, 0]\n",
      " t:1999, position:[-582.06671143   -2.93537188   83.20000458], score:-9.990015.670\n",
      "Episode 46\tAverage Score: -10.86\t Last Move [2, 1]\n",
      " t:1999, position:[-620.57550049   -1.63822317  247.90219116], score:0.0200.600\n",
      "Episode 47\tAverage Score: -10.63\t Last Move [2, 2]\n",
      " t:1999, position:[-576.9284668    -3.00899816   73.51381683], score:-9.990\n",
      "Episode 48\tAverage Score: -10.62\t Last Move [2, 2]\n",
      " t:1999, position:[-584.96008301   -3.03537226   68.50305939], score:-20.000\n",
      "Episode 49\tAverage Score: -10.81\t Last Move [2, 1]\n",
      " t:1999, position:[-576.45111084   -3.03166866   69.71263123], score:-9.990\n",
      "Episode 50\tAverage Score: -10.79\t Last Move [1, 0]\n",
      " t:1999, position:[-487.78631592    4.7173357   113.36993408], score:-9.990-2.100\n",
      "Episode 51\tAverage Score: -10.78\t Last Move [0, 1]\n",
      " t:1999, position:[-545.82574463   -2.37100101  152.425354  ], score:-20.00060\n",
      "Episode 52\tAverage Score: -10.95\t Last Move [0, 0]\n",
      " t:1999, position:[-5.62603516e+02  5.61447144e-01  1.44492203e+02], score:0.020\n",
      "Episode 53\tAverage Score: -10.75\t Last Move [2, 1]\n",
      " t:1999, position:[-599.16845703   -2.91431785   83.56510925], score:-9.990080\n",
      "Episode 54\tAverage Score: -10.73\t Last Move [0, 1]\n",
      " t:1999, position:[-555.44372559   -2.97391915   75.97952271], score:-9.990-0.710\n",
      "Episode 55\tAverage Score: -10.72\t Last Move [1, 0]\n",
      " t:1999, position:[-603.31390381   -2.26870537  167.19607544], score:0.0200\n",
      "Episode 56\tAverage Score: -10.53\t Last Move [1, 1]\n",
      " t:1999, position:[-659.63696289   -2.58935475  131.56385803], score:-20.000\n",
      "Episode 57\tAverage Score: -10.69\t Last Move [2, 2]\n",
      " t:1999, position:[-475.3835144     4.55492878   97.71377563], score:-9.990-6.3800\n",
      "Episode 58\tAverage Score: -10.68\t Last Move [0, 1]\n",
      " t:1999, position:[-249.62168884    3.8580761    51.87326813], score:-20.000\n",
      "Episode 59\tAverage Score: -10.84\t Last Move [1, 0]\n",
      " t:1999, position:[-409.89849854    4.63277292  118.06502533], score:-20.00011.880\n",
      "Episode 60\tAverage Score: -10.99\t Last Move [0, 2]\n",
      " t:1999, position:[-690.52545166    5.16462803  146.38096619], score:-20.000\n",
      "Episode 61\tAverage Score: -11.14\t Last Move [2, 1]\n",
      " t:1999, position:[-389.29638672    4.55830622  113.55858612], score:-20.000\n",
      "Episode 62\tAverage Score: -11.28\t Last Move [0, 1]\n",
      " t:1999, position:[-302.49102783    4.23533583   88.85498047], score:-20.00012.260\n",
      "Episode 63\tAverage Score: -11.42\t Last Move [2, 0]\n",
      " t:1999, position:[-289.72479248    4.16462803   82.62581635], score:-20.000\n",
      "Episode 64\tAverage Score: -11.55\t Last Move [1, 2]\n"
     ]
    },
    {
     "name": "stdout",
     "output_type": "stream",
     "text": [
      " t:1999, position:[-357.32434082    4.61124516  123.68681335], score:-20.00017.370\n",
      "Episode 65\tAverage Score: -11.68\t Last Move [2, 0]\n",
      " t:1999, position:[-487.35339355    5.08242846  155.52249146], score:-20.000\n",
      "Episode 66\tAverage Score: -11.81\t Last Move [2, 2]\n",
      " t:1999, position:[-626.69226074    5.51708555  170.90385437], score:-20.000\n",
      "Episode 67\tAverage Score: -11.93\t Last Move [0, 1]\n",
      " t:1999, position:[-548.31280518    5.30661011  166.82739258], score:-20.000\n",
      "Episode 68\tAverage Score: -12.05\t Last Move [0, 0]\n",
      " t:1999, position:[-625.60577393    5.51385212  170.94265747], score:-20.000\n",
      "Episode 69\tAverage Score: -12.17\t Last Move [0, 2]\n",
      " t:1999, position:[-642.4510498     5.56462908  170.30197144], score:-20.000\n",
      "Episode 70\tAverage Score: -12.28\t Last Move [0, 2]\n",
      " t:1999, position:[-510.14050293    5.0646286   152.38064575], score:-20.000\n",
      "Episode 71\tAverage Score: -12.39\t Last Move [0, 0]\n",
      " t:1999, position:[-438.146698      4.8252573   133.48207092], score:-20.000\n",
      "Episode 72\tAverage Score: -12.49\t Last Move [0, 1]\n",
      " t:1999, position:[-653.13336182    5.59796143  169.6000061 ], score:-20.000\n",
      "Episode 73\tAverage Score: -12.60\t Last Move [0, 0]\n",
      " t:1999, position:[-591.40661621   -2.62337971  122.54637146], score:-20.00017.520\n",
      "Episode 74\tAverage Score: -12.70\t Last Move [1, 2]\n",
      " t:1999, position:[-625.7857666    -3.03537226   70.52807617], score:10.03019.420\n",
      "Episode 75\tAverage Score: -12.39\t Last Move [1, 0]\n",
      " t:1999, position:[-620.1628418    -2.86026669   93.80189514], score:-9.990-2.170\n",
      "Episode 76\tAverage Score: -12.36\t Last Move [1, 2]\n",
      " t:1999, position:[-620.           -2.43537188  148.13334656], score:-20.000\n",
      "Episode 77\tAverage Score: -12.46\t Last Move [1, 2]\n",
      " t:1999, position:[-620.7286377    -2.19525242  175.08082581], score:-20.000\n",
      "Episode 78\tAverage Score: -12.56\t Last Move [1, 2]\n",
      " t:1999, position:[-524.34637451   -2.10203886  188.93490601], score:0.0200\n",
      "Episode 79\tAverage Score: -12.40\t Last Move [2, 1]\n",
      " t:1999, position:[-602.99969482   -2.99269199   75.65037537], score:-9.990-7.750\n",
      "Episode 80\tAverage Score: -12.37\t Last Move [1, 0]\n",
      " t:1999, position:[-625.07061768   -2.25953197  168.49227905], score:-20.000\n",
      "Episode 81\tAverage Score: -12.46\t Last Move [2, 0]\n",
      " t:1999, position:[-541.13336182   -2.60203886  126.20001221], score:0.020:4.220\n",
      "Episode 82\tAverage Score: -12.31\t Last Move [0, 1]\n",
      " t:1999, position:[-581.84423828   -3.08875871   62.51939392], score:0.02002.890\n",
      "Episode 83\tAverage Score: -12.16\t Last Move [1, 0]\n",
      " t:1999, position:[-583.04089355   -3.10203886   61.26247025], score:-9.990\n",
      "Episode 84\tAverage Score: -12.13\t Last Move [0, 1]\n",
      " t:1999, position:[-555.13336182   -2.33537197  160.26667786], score:10.03014.580\n",
      "Episode 85\tAverage Score: -11.87\t Last Move [0, 1]\n",
      " t:1999, position:[-569.71588135   -2.46870518  140.6103363 ], score:-9.990-7.250\n",
      "Episode 86\tAverage Score: -11.85\t Last Move [2, 1]\n",
      " t:1999, position:[-588.8651123    -2.21234989  173.70059204], score:-20.000\n",
      "Episode 87\tAverage Score: -11.95\t Last Move [1, 0]\n",
      " t:1999, position:[-566.43719482   -1.79166317  227.66758728], score:0.02000\n",
      "Episode 88\tAverage Score: -11.81\t Last Move [2, 0]\n",
      " t:1999, position:[-541.9987793     5.2437458   155.29403687], score:-9.990.080\n",
      "Episode 89\tAverage Score: -11.79\t Last Move [0, 1]\n",
      " t:1999, position:[-522.63763428    5.14421177  151.46627808], score:-20.000\n",
      "Episode 90\tAverage Score: -11.88\t Last Move [2, 0]\n",
      " t:1999, position:[-470.91900635    5.03748941  151.9468689 ], score:-20.000\n",
      "Episode 91\tAverage Score: -11.97\t Last Move [1, 1]\n",
      " t:1999, position:[-638.18847656    5.17497492  146.76902771], score:-20.00015.250\n",
      "Episode 92\tAverage Score: -12.06\t Last Move [0, 1]\n",
      " t:1999, position:[-501.00946045    4.82511425  125.49998474], score:-20.00018.950\n",
      "Episode 93\tAverage Score: -12.14\t Last Move [2, 1]\n",
      " t:1999, position:[-652.39868164   -2.63537216  125.5969162 ], score:-20.00015.280\n",
      "Episode 94\tAverage Score: -12.23\t Last Move [0, 2]\n",
      " t:1999, position:[-633.19696045   -2.78428054  104.17582703], score:-20.000\n",
      "Episode 95\tAverage Score: -12.31\t Last Move [0, 1]\n",
      " t:1999, position:[-591.06671143   -1.93537188  202.73345947], score:-9.990\n",
      "Episode 96\tAverage Score: -12.28\t Last Move [0, 0]\n",
      " t:1999, position:[-529.18585205   -2.12726068  183.53775024], score:0.0200\n",
      "Episode 97\tAverage Score: -12.16\t Last Move [0, 0]\n",
      " t:1999, position:[-669.45404053   -2.96870565   88.20904541], score:-9.990.780\n",
      "Episode 98\tAverage Score: -12.13\t Last Move [1, 1]\n",
      " t:1999, position:[-696.74035645   -3.00203896   80.8666687 ], score:-20.000\n",
      "Episode 99\tAverage Score: -12.21\t Last Move [2, 0]\n",
      " t:1999, position:[-586.32501221   -2.1350503   183.44137573], score:-20.000\n",
      "Episode 100\tAverage Score: -12.29\t Last Move [1, 1]\n",
      "\n",
      "Environment solved in 100 episodes!\tAverage Score: -12.29\n",
      "Time Elapse: 6264.96\n"
     ]
    }
   ],
   "source": [
    "load_prev_model = 'model_latest'\n",
    "scores, positions = dqn(env_info, n_episodes=100, max_t=2000, eps_start=1.0, \n",
    "                        eps_end=0.01, eps_decay=0.995, target_scores=1.0,\n",
    "                        video_flag=False, load_prev_model=load_prev_model)"
   ]
  },
  {
   "cell_type": "code",
   "execution_count": 24,
   "metadata": {},
   "outputs": [],
   "source": [
    "env_info = env.reset(train_mode=True)[brain_name]"
   ]
  },
  {
   "cell_type": "code",
   "execution_count": 26,
   "metadata": {},
   "outputs": [],
   "source": [
    "a = deque(maxlen=5)\n",
    "a.append([0,1,1,1])"
   ]
  },
  {
   "cell_type": "code",
   "execution_count": 27,
   "metadata": {},
   "outputs": [],
   "source": [
    "goals = [[-252.8, -26.6, 118.7], [-184.0, -25.9, 89.9], \n",
    "         [-121.3, -19.5, 3.8], [-162.1, -27.1, 13.3], [-202.0, -27.3, 11.1],\n",
    "        [40.9, -20.75, -30.8], [75.5, -28.1, -38.7]]\n",
    "goals = [[i[0] - 388.5, i[1] + 24.4, i[2] + 80.5] for i in goals]\n",
    "final_goal = [-342.9, 3.65, 48.0]"
   ]
  },
  {
   "cell_type": "code",
   "execution_count": 28,
   "metadata": {},
   "outputs": [],
   "source": [
    "start = [positions[0][0][0], positions[0][0][1], positions[0][0][2]]"
   ]
  },
  {
   "cell_type": "code",
   "execution_count": 29,
   "metadata": {},
   "outputs": [],
   "source": [
    "pos = []\n",
    "for i in range(len(positions)):\n",
    "    # ignore the last item, as it might start from the origin\n",
    "    a = [[a[0], a[1], a[2]] for a in positions[i]]\n",
    "    pos.append(np.asarray(a[:-2]))"
   ]
  },
  {
   "cell_type": "code",
   "execution_count": 109,
   "metadata": {
    "scrolled": false
   },
   "outputs": [
    {
     "data": {
      "image/png": "[encoded data removed]",
      "text/plain": [
       "<Figure size 432x288 with 1 Axes>"
      ]
     },
     "metadata": {
      "needs_background": "light"
     },
     "output_type": "display_data"
    }
   ],
   "source": [
    "# final_goal = [-382.46, 54.69, 4]\n",
    "for i in range(len(pos)):\n",
    "    if i == 0:\n",
    "        plt.plot(pos[i][:,0], pos[i][:,2])\n",
    "\n",
    "for i in range(len(goals)):\n",
    "    plt.plot(goals[i][0], goals[i][2], marker='o', markersize=10, color=\"black\")\n",
    "\n",
    "plt.plot([final_goal[0]], [final_goal[2]], marker='o', markersize=40, color=\"black\")\n",
    "plt.xlabel('x')\n",
    "plt.ylabel('y')\n",
    "plt.show()"
   ]
  },
  {
   "cell_type": "code",
   "execution_count": 88,
   "metadata": {},
   "outputs": [
    {
     "name": "stdout",
     "output_type": "stream",
     "text": [
      "205.0 197.99999999999994\n",
      "805.8731636688163 486.0823513904103\n"
     ]
    }
   ],
   "source": [
    "import math\n",
    "import matplotlib.pyplot as plt\n",
    "import matplotlib.image as mpimg\n",
    "\n",
    "\n",
    "# point_a = [[1093 - 888, 592 - 394], [1093 - 294, 592 - 92]]\n",
    "point_a = [[205, 198], [799, 500]]\n",
    "# point_b = [[-252.8 - 388.5, 118.7 + 80.5], [75.5 - 388.5, -38.7 + 80.5]]\n",
    "point_b = [[-641.3, -199.2], [-313.0, -41.8]]\n",
    "\n",
    "a = math.sqrt((point_a[0][0] - point_a[1][0])**2 + (point_a[0][1] - point_a[1][1])**2)\n",
    "b = math.sqrt((point_b[0][0] - point_b[1][0])**2 + (point_b[0][1] - point_b[1][1])**2)\n",
    "ratio = a / b\n",
    "plus = [point_a[0][0] - point_b[0][0] * ratio, point_a[0][1] - point_b[0][1] * ratio]\n",
    "print(point_b[0][0] * ratio + plus[0], point_b[0][1] * ratio + plus[1])\n",
    "print(point_b[1][0] * ratio + plus[0], point_b[1][1] * ratio + plus[1])\n",
    "# print([[i[0] * ratio + , i[i] * ratio + ] for ])"
   ]
  },
  {
   "cell_type": "code",
   "execution_count": 89,
   "metadata": {},
   "outputs": [
    {
     "data": {
      "text/plain": [
       "1.8302563620737633"
      ]
     },
     "execution_count": 89,
     "metadata": {},
     "output_type": "execute_result"
    }
   ],
   "source": [
    "ratio"
   ]
  },
  {
   "cell_type": "code",
   "execution_count": 96,
   "metadata": {},
   "outputs": [],
   "source": [
    "trans_pos = [np.array([[j[0] * ratio + plus[0], j[1], j[2] * ratio + plus[1]] for j in i]) for i in pos]"
   ]
  },
  {
   "cell_type": "code",
   "execution_count": 97,
   "metadata": {},
   "outputs": [],
   "source": [
    "# trans_pos"
   ]
  },
  {
   "cell_type": "code",
   "execution_count": 98,
   "metadata": {},
   "outputs": [
    {
     "data": {
      "image/png": "[encoded data removed]",
      "text/plain": [
       "<Figure size 432x288 with 1 Axes>"
      ]
     },
     "metadata": {
      "needs_background": "light"
     },
     "output_type": "display_data"
    }
   ],
   "source": [
    "img = mpimg.imread('./plan.png')\n",
    "plt.imshow(img)\n",
    "\n",
    "for i in range(len(trans_pos)):\n",
    "    if i == 11:\n",
    "        plt.plot(trans_pos[i][:,0], trans_pos[i][:,2])\n",
    "\n",
    "for i in range(len(goals)):\n",
    "    plt.plot(goals[i][0]  * ratio + plus[0], goals[i][2]  * ratio + plus[1], marker='o', markersize=10, color=\"black\")\n",
    "\n",
    "plt.plot([final_goal[0] * ratio + plus[1]], [final_goal[2] * ratio + plus[1]], marker='o', markersize=40, color=\"black\")\n",
    "plt.xlabel('timestep')\n",
    "plt.ylabel('trajectories')\n",
    "plt.show()"
   ]
  },
  {
   "cell_type": "code",
   "execution_count": 99,
   "metadata": {},
   "outputs": [
    {
     "name": "stdout",
     "output_type": "stream",
     "text": [
      "(4, 3, 300, 300)\n",
      "torch.Size([1, 32, 74, 74])\n",
      "torch.Size([1, 64, 36, 36])\n",
      "torch.Size([73984])\n",
      "torch.Size([512])\n"
     ]
    }
   ],
   "source": [
    "imgs = np.expand_dims(np.asarray(env_info.visual_observations)[0][0], axis=0)\n",
    "input = np.transpose(imgs, (0, 3, 1, 2))\n",
    "input = np.concatenate([input, input, input, input], 0)\n",
    "print(input.shape)\n",
    "\n",
    "m1  = torch.nn.Conv2d(3, 32, kernel_size=8, stride=4)\n",
    "m2  = torch.nn.Conv2d(32, 64, kernel_size=4, stride=2)\n",
    "m3  = torch.nn.Conv2d(64, 64, kernel_size=3, stride=1)\n",
    "fc4 = torch.nn.Linear(34 * 34 * 64, 512)\n",
    "fc5 = torch.nn.Linear(512, 9)\n",
    "\n",
    "input = torch.randn(1, 3, 300, 300)\n",
    "output1 = m1(input)\n",
    "print(output1.shape)\n",
    "output2 = m2(output1)\n",
    "print(output2.shape)\n",
    "output3 = torch.flatten(m3(output2))\n",
    "print(output3.shape)\n",
    "output4 = fc4(output3)\n",
    "print(output4.shape)\n",
    "output5 = fc5(output4)\n",
    "\n",
    "# fc5(fc4(m3(m2(m1(input)))))\n"
   ]
  },
  {
   "cell_type": "code",
   "execution_count": null,
   "metadata": {},
   "outputs": [],
   "source": [
    "input = torch.randn(3, 300, 300)\n",
    "input = input.unsqueeze(0)"
   ]
  },
  {
   "cell_type": "code",
   "execution_count": null,
   "metadata": {},
   "outputs": [],
   "source": [
    "input.shape"
   ]
  },
  {
   "cell_type": "code",
   "execution_count": null,
   "metadata": {},
   "outputs": [],
   "source": [
    "output5"
   ]
  },
  {
   "cell_type": "code",
   "execution_count": null,
   "metadata": {},
   "outputs": [],
   "source": [
    "plt.imshow(np.asarray(env_info.visual_observations)[0][0])"
   ]
  },
  {
   "cell_type": "code",
   "execution_count": null,
   "metadata": {},
   "outputs": [],
   "source": [
    "\n",
    "# plot the scores\n",
    "# fig = plt.figure()\n",
    "# ax = fig.add_subplot(111)\n",
    "# plt.plot(np.arange(len(scores)), scores)\n",
    "# plt.ylabel('Score')\n",
    "# plt.xlabel('Episode #')\n",
    "# plt.show()"
   ]
  },
  {
   "cell_type": "code",
   "execution_count": null,
   "metadata": {},
   "outputs": [],
   "source": [
    "print(agent.chck[1])"
   ]
  },
  {
   "cell_type": "code",
   "execution_count": null,
   "metadata": {},
   "outputs": [],
   "source": [
    "agent.qnetwork_local(agent.chck[0].unsqueeze(0))"
   ]
  },
  {
   "cell_type": "markdown",
   "metadata": {},
   "source": [
    "### Watch the agent running ( Using saved weights)"
   ]
  },
  {
   "cell_type": "code",
   "execution_count": null,
   "metadata": {},
   "outputs": [],
   "source": [
    "# load the weights from file\n",
    "agent.qnetwork_local.load_state_dict(torch.load(model_weight_name))\n",
    "\n",
    "env_info = env.reset(train_mode=False)[brain_name] # reset the environment\n",
    "state = env_info.vector_observations[0]            # get the current state\n",
    "score = 0                                          # initialize the score\n",
    "\n",
    "while True:\n",
    "    action = agent.act(state)                      # select an action\n",
    "    env_info = env.step(action)[brain_name]        # send the action to the environment\n",
    "    next_state = env_info.vector_observations[0]   # get the next state\n",
    "    reward = env_info.rewards[0]                   # get the reward\n",
    "    done = env_info.local_done[0]                  # see if episode has finished\n",
    "    score += reward                                # update the score\n",
    "    state = next_state                             # roll over the state to next time step\n",
    "    if done:                                       # exit loop if episode finished\n",
    "        break\n",
    "    \n",
    "print(\"Score: {}\".format(score))"
   ]
  },
  {
   "cell_type": "markdown",
   "metadata": {},
   "source": [
    "### Close Unity ML Environment"
   ]
  },
  {
   "cell_type": "code",
   "execution_count": null,
   "metadata": {},
   "outputs": [],
   "source": [
    "env.close()"
   ]
  },
  {
   "cell_type": "code",
   "execution_count": null,
   "metadata": {},
   "outputs": [],
   "source": []
  },
  {
   "cell_type": "code",
   "execution_count": null,
   "metadata": {},
   "outputs": [],
   "source": []
  },
  {
   "cell_type": "code",
   "execution_count": null,
   "metadata": {},
   "outputs": [],
   "source": []
  }
 ],
 "metadata": {
  "kernelspec": {
   "display_name": "Python 3",
   "language": "python",
   "name": "python3"
  },
  "language_info": {
   "codemirror_mode": {
    "name": "ipython",
    "version": 3
   },
   "file_extension": ".py",
   "mimetype": "text/x-python",
   "name": "python",
   "nbconvert_exporter": "python",
   "pygments_lexer": "ipython3",
   "version": "3.6.8"
  }
 },
 "nbformat": 4,
 "nbformat_minor": 2
}
