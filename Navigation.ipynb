{
 "cells": [
  {
   "cell_type": "markdown",
   "metadata": {},
   "source": [
    "# Navigation\n",
    "\n",
    "---\n",
    "\n",
    "### 1. Start the Environment\n"
   ]
  },
  {
   "cell_type": "markdown",
   "metadata": {},
   "source": [
    "The environment is already saved in the Workspace and can be accessed at the file path provided below.  Please run the next code cell without making any changes."
   ]
  },
  {
   "cell_type": "code",
   "execution_count": 1,
   "metadata": {},
   "outputs": [
    {
     "name": "stderr",
     "output_type": "stream",
     "text": [
      "INFO:mlagents.envs:\n",
      "'StationAcademy' started successfully!\n",
      "Unity Academy name: StationAcademy\n",
      "        Number of Brains: 1\n",
      "        Number of Training Brains : 1\n",
      "        Reset Parameters :\n",
      "\t\t\n",
      "Unity brain name: DRLBrain\n",
      "        Number of Visual Observations (per agent): 2\n",
      "        Vector Observation space size (per agent): 3\n",
      "        Number of stacked Vector Observation: 3\n",
      "        Vector Action space type: discrete\n",
      "        Vector Action space size (per agent): [2, 2]\n",
      "        Vector Action descriptions: , \n"
     ]
    }
   ],
   "source": [
    "from mlagents.envs import UnityEnvironment\n",
    "import numpy as np\n",
    "import torch\n",
    "import matplotlib.pyplot as plt\n",
    "from pympler import summary\n",
    "from pympler import muppy\n",
    "\n",
    "\n",
    "# env_name = 'maze_architecture_win'\n",
    "# env_name = 'aug_22_vcs'\n",
    "# env_name = 'sep_1_vcs'\n",
    "# env_name = 'sep_1_banana'\n",
    "env_name = 'sep_22'\n",
    "\n",
    "# please do not modify the line below\n",
    "# env = UnityEnvironment(file_name=\"Banana\")\n",
    "env = UnityEnvironment(file_name=\"C:/data/ml-agents/scripts/envs/%s/Unity Environment.exe\" % env_name, worker_id=0, seed=1)"
   ]
  },
  {
   "cell_type": "markdown",
   "metadata": {},
   "source": [
    "Environments contain **_brains_** which are responsible for deciding the actions of their associated agents. Here we check for the first brain available, and set it as the default brain we will be controlling from Python."
   ]
  },
  {
   "cell_type": "code",
   "execution_count": 2,
   "metadata": {},
   "outputs": [
    {
     "data": {
      "text/plain": [
       "('DRLBrain', <mlagents.envs.brain.BrainParameters at 0x254183febe0>)"
      ]
     },
     "execution_count": 2,
     "metadata": {},
     "output_type": "execute_result"
    }
   ],
   "source": [
    "# get the default brain\n",
    "brain_name = env.brain_names[0]\n",
    "brain = env.brains[brain_name]\n",
    "brain_name, brain"
   ]
  },
  {
   "cell_type": "code",
   "execution_count": 3,
   "metadata": {},
   "outputs": [
    {
     "data": {
      "text/plain": [
       "100000"
      ]
     },
     "execution_count": 3,
     "metadata": {},
     "output_type": "execute_result"
    }
   ],
   "source": [
    "int(1e5)"
   ]
  },
  {
   "cell_type": "markdown",
   "metadata": {},
   "source": [
    "### 2. Examine the State and Action Spaces\n",
    "\n",
    "Run the code cell below to print some information about the environment."
   ]
  },
  {
   "cell_type": "code",
   "execution_count": 4,
   "metadata": {},
   "outputs": [],
   "source": [
    "# reset the environment\n",
    "env_info = env.reset(train_mode=True)[brain_name]"
   ]
  },
  {
   "cell_type": "code",
   "execution_count": 5,
   "metadata": {},
   "outputs": [
    {
     "name": "stdout",
     "output_type": "stream",
     "text": [
      "Number of actions: [2, 2]\n",
      "States look like: [   0.    0.    0.    0.    0.    0. -336.    4.   46.]\n",
      "States have length: 9\n"
     ]
    }
   ],
   "source": [
    "# number of agents in the environment\n",
    "# print('Number of agents:', len(env_info.agents))\n",
    "\n",
    "# number of actions\n",
    "action_size = brain.vector_action_space_size\n",
    "print('Number of actions:', action_size)\n",
    "\n",
    "# examine the state space \n",
    "state = env_info.vector_observations[0]\n",
    "print('States look like:', state)\n",
    "state_size = len(state)\n",
    "print('States have length:', state_size)"
   ]
  },
  {
   "cell_type": "markdown",
   "metadata": {},
   "source": [
    "### See initial image"
   ]
  },
  {
   "cell_type": "code",
   "execution_count": 6,
   "metadata": {},
   "outputs": [
    {
     "data": {
      "text/plain": [
       "(300, 300, 3)"
      ]
     },
     "execution_count": 6,
     "metadata": {},
     "output_type": "execute_result"
    },
    {
     "data": {
      "image/png": "[encoded data removed]",
      "text/plain": [
       "<Figure size 432x288 with 1 Axes>"
      ]
     },
     "metadata": {
      "needs_background": "light"
     },
     "output_type": "display_data"
    }
   ],
   "source": [
    "img = np.asarray(env_info.visual_observations)\n",
    "imgplt = plt.imshow(img[0][0])\n",
    "height, width, channel = img[0][0].shape\n",
    "height, width, channel"
   ]
  },
  {
   "cell_type": "code",
   "execution_count": 7,
   "metadata": {},
   "outputs": [],
   "source": [
    "import torch\n",
    "import time\n",
    "import cv2\n",
    "import PIL\n",
    "\n",
    "from collections import deque\n",
    "from agent import Agent\n",
    "%matplotlib inline\n",
    "\n",
    "model_weight_name = 'checkpoint.pth'\n",
    "agent = Agent(state_size=300, action_size=9, seed=0)"
   ]
  },
  {
   "cell_type": "code",
   "execution_count": 8,
   "metadata": {},
   "outputs": [],
   "source": [
    "# action = 8\n",
    "# state = np.transpose(np.asarray(env_info.visual_observations)[0][0], (2, 0, 1))\n",
    "# action_transformed = get_action(action)\n",
    "# print(action_transformed)\n",
    "\n",
    "# reward = env_info.rewards[0]\n",
    "# done = env_info.local_done[0]\n",
    "\n",
    "# env_info = env.step(action_transformed)[brain_name]\n",
    "# next_state = np.transpose(np.asarray(env_info.visual_observations)[0][0], (2, 0, 1))\n",
    "# agent.step(state, action, reward, next_state, done)"
   ]
  },
  {
   "cell_type": "code",
   "execution_count": 9,
   "metadata": {},
   "outputs": [
    {
     "data": {
      "image/png": "[encoded data removed]",
      "text/plain": [
       "<Figure size 432x288 with 1 Axes>"
      ]
     },
     "metadata": {
      "needs_background": "light"
     },
     "output_type": "display_data"
    }
   ],
   "source": [
    "img = np.asarray(env_info.visual_observations)\n",
    "imgplt = plt.imshow(img[0][0])\n"
   ]
  },
  {
   "cell_type": "markdown",
   "metadata": {},
   "source": [
    "### 3. DQN Agent Training"
   ]
  },
  {
   "cell_type": "code",
   "execution_count": 10,
   "metadata": {},
   "outputs": [],
   "source": [
    "def get_action(action):\n",
    "    move_forward  = action // 3\n",
    "    rotate = action % 3\n",
    "    return [move_forward, rotate]"
   ]
  },
  {
   "cell_type": "code",
   "execution_count": 23,
   "metadata": {},
   "outputs": [],
   "source": [
    "from sys import stdout\n",
    "from pympler.tracker import SummaryTracker\n",
    "\n",
    "def dqn(env_info, n_episodes=1, max_t=2000, eps_start=1.0, eps_end=0.01, \n",
    "        eps_decay=0.995, target_scores=1.0, video_flag=True):\n",
    "    \"\"\"Deep Q-Learning.\n",
    "    \n",
    "    Params\n",
    "    ======\n",
    "        n_episodes (int): maximum number of training episodes\n",
    "        max_t (int): maximum number of timesteps per episode\n",
    "        eps_start (float): starting value of epsilon, for epsilon-greedy action selection\n",
    "        eps_end (float): minimum value of epsilon\n",
    "        eps_decay (float): multiplicative factor (per episode) for decreasing epsilon\n",
    "        target_scores (float): average scores aming to achieve, the agent will stop training once it reaches this scores\n",
    "        video_flag (boolean): a flag for whether to record video, if set to True, video would be recorded for every 20 episodes\n",
    "    \n",
    "    Returns\n",
    "    ======\n",
    "        scores in 2-d array\n",
    "        positions in 2-d array\n",
    "    \n",
    "    \"\"\"\n",
    "    \n",
    "    start = time.time()                       # Start time\n",
    "    scores = []                               # list containing scores from each episode\n",
    "    positions = []                            # position list\n",
    "    scores_window = deque(maxlen=100)         # last 100 scores\n",
    "    eps = eps_start                           # initialize epsilon\n",
    "    width, height, channel = [300, 300, 3]\n",
    "    \n",
    "    for i_episode in range(1, n_episodes+1):\n",
    "        \n",
    "        video_flag = (i_episode % 20 == 1)\n",
    "        \n",
    "        # start video recording \n",
    "        if video_flag:\n",
    "            fourcc = cv2.VideoWriter_fourcc('M','S','V','C') #Microspoft Video 1\n",
    "            video  = cv2.VideoWriter('output_sep_18_%s.avi' % (str(i_episode)), fourcc, 30, (width, height))\n",
    "            \n",
    "        # Reset env and score at the beginning of episode\n",
    "        env_info = env.reset(train_mode=True)[brain_name] # reset the environment        \n",
    "        state = np.transpose(np.asarray(env_info.visual_observations)[0][0], (2, 0, 1))  # get the current visual state\n",
    "        score = 0                                               # initialize the score\n",
    "        position_epi = []\n",
    "        \n",
    "        for t in range(max_t):\n",
    "            \n",
    "            if video_flag:\n",
    "                video.write(np.asarray(env_info.visual_observations)[0][0])\n",
    "                \n",
    "            action = agent.act(state, eps)\n",
    "            \n",
    "            # translate action variable into forward, rotate, and right\n",
    "            action_transformed = get_action(action)\n",
    "            env_info = env.step(action_transformed)[brain_name]        # send the action to the environment\n",
    "            next_state = np.transpose(np.asarray(env_info.visual_observations)[0][0], \n",
    "                                      (2, 0, 1)) # get the next state\n",
    "            reward = env_info.rewards[0]                   # get the reward\n",
    "            done = env_info.local_done[0]                  # see if episode has finished\n",
    "            \n",
    "            agent.step(state, action, reward, next_state, done)\n",
    "            \n",
    "            state = next_state\n",
    "            \n",
    "            score += reward\n",
    "            \n",
    "            position_epi.append(env_info.vector_observations[0][-3:].tolist())\n",
    "            \n",
    "            stdout.write('\\r t:%s, position:%s, score:%s' % \n",
    "                  (str(t), str(env_info.vector_observations[0][-3:]), str(score)))\n",
    "            stdout.flush()\n",
    "                        \n",
    "            # for testing purpose\n",
    "            if done:\n",
    "                break\n",
    "        \n",
    "        positions.append(position_epi)\n",
    "        scores_window.append(score)       # save most recent score\n",
    "        scores.append(score)              # save most recent score\n",
    "        eps = max(eps_end, eps_decay*eps) # decrease epsilon\n",
    "        \n",
    "        print('\\rEpisode {}\\tAverage Score: {:.2f}\\t Last Move {}\\n'.format(i_episode, \n",
    "                                                                       np.mean(scores_window), action_transformed), end=\"\")\n",
    "                \n",
    "        # if np.mean(scores_window)>=target_scores:\n",
    "        #     print('\\nEnvironment solved in {:d} episodes!\\tAverage Score: {:.2f}'.format(i_episode, \n",
    "        #                                                                      np.mean(scores_window)))\n",
    "        #     torch.save(agent.qnetwork_local.state_dict(), model_weight_name)\n",
    "        #     break\n",
    "            \n",
    "        if video_flag:\n",
    "            cv2.destroyAllWindows()\n",
    "            video.release()\n",
    "    \n",
    "    print('\\nEnvironment solved in {:d} episodes!\\tAverage Score: {:.2f}'.format(i_episode, np.mean(scores_window)))\n",
    "    torch.save(agent.qnetwork_local.state_dict(), model_weight_name)\n",
    "\n",
    "    time_elapsed = time.time() - start\n",
    "    print(\"Time Elapse: {:.2f}\".format(time_elapsed))\n",
    "    \n",
    "    return scores, positions"
   ]
  },
  {
   "cell_type": "code",
   "execution_count": null,
   "metadata": {
    "scrolled": true
   },
   "outputs": [
    {
     "name": "stdout",
     "output_type": "stream",
     "text": [
      "Episode 1\tAverage Score: -0.80\t Last Move [2, 2] 50.48713684], score:-0.79999997979030013\n",
      "Episode 2\tAverage Score: -0.80\t Last Move [1, 0] 55.13933563], score:-0.79999997979030013\n",
      "Episode 3\tAverage Score: -0.80\t Last Move [1, 1] 54.44522858], score:-0.79999997979030013\n",
      "Episode 4\tAverage Score: -0.36\t Last Move [2, 2]40000011620577score:-0.045999998837942267\n",
      "Episode 5\tAverage Score: -0.45\t Last Move [2, 0] 46.14684677], score:-0.79999997979030013\n",
      "Episode 6\tAverage Score: -0.51\t Last Move [1, 2] 38.59255219], score:-0.79999997979030013\n",
      "Episode 7\tAverage Score: -0.55\t Last Move [2, 0] 30.15155602], score:-0.79999997979030013\n",
      "Episode 8\tAverage Score: -0.42\t Last Move [1, 2]8200001308578067core:-0.51799998691421933\n",
      "Episode 9\tAverage Score: -0.46\t Last Move [2, 2] 44.33285522], score:-0.79999997979030013\n",
      "Episode 10\tAverage Score: -0.40\t Last Move [0, 1]600002005812712core:-0.79399997994187293\n",
      "Episode 11\tAverage Score: -0.43\t Last Move [2, 2]45.55911636], score:-0.79999997979030013\n",
      "Episode 12\tAverage Score: -0.36\t Last Move [1, 0]560001476318575core:-0.58439998523681423\n",
      "Episode 13\tAverage Score: -0.40\t Last Move [2, 1]42.59781647], score:-0.7999999797903001091731\n",
      "Episode 14\tAverage Score: -0.33\t Last Move [0, 2]40000117721502score:-0.46599998822784987\n",
      "Episode 15\tAverage Score: -0.36\t Last Move [2, 0]37.45186615], score:-0.79999997979030013\n",
      "Episode 16\tAverage Score: -0.28\t Last Move [1, 1]2000031021889score:-0.122799996897811077\n",
      "Episode 17\tAverage Score: -0.31\t Last Move [2, 2]45.28586197], score:-0.79999997979030013\n",
      "Episode 18\tAverage Score: -0.34\t Last Move [1, 0]47.26567459], score:-0.79999997979030013\n",
      "Episode 19\tAverage Score: -0.36\t Last Move [2, 2]48.87338257], score:-0.79999997979030013\n",
      "Episode 20\tAverage Score: -0.31\t Last Move [0, 0]800005587982 score:-0.221199994412018847\n",
      "Episode 21\tAverage Score: -0.33\t Last Move [1, 1]55.63802338], score:-0.79999997979030013\n",
      "Episode 22\tAverage Score: -0.35\t Last Move [1, 2]51.44686508], score:-0.79999997979030013749687\n",
      "Episode 23\tAverage Score: -0.37\t Last Move [0, 0]52.94234848], score:-0.7999999797903001490161\n",
      "Episode 24\tAverage Score: -0.39\t Last Move [1, 2]52.97096252], score:-0.79999997979030013\n",
      "Episode 25\tAverage Score: -0.41\t Last Move [1, 2]43.96922684], score:-0.79999997979030013\n",
      "Episode 26\tAverage Score: -0.37\t Last Move [1, 1]04000105999876score:-0.41959998940001247\n",
      "Episode 27\tAverage Score: -0.38\t Last Move [2, 0]47.12950897], score:-0.79999997979030013\n",
      "Episode 28\tAverage Score: -0.40\t Last Move [1, 2]56.2600975 ], score:-0.79999997979030013\n",
      "Episode 29\tAverage Score: -0.41\t Last Move [2, 0]47.53280258], score:-0.79999997979030013\n",
      "Episode 30\tAverage Score: -0.37\t Last Move [2, 2]4000041328836score:-0.163599995867116387\n",
      "Episode 31\tAverage Score: -0.39\t Last Move [0, 0]53.05698395], score:-0.79999997979030013\n",
      "Episode 32\tAverage Score: -0.40\t Last Move [1, 2]50.51999283], score:-0.79999997979030013\n",
      "Episode 33\tAverage Score: -0.41\t Last Move [0, 0]53.66362762], score:-0.79999997979030013\n",
      "Episode 34\tAverage Score: -0.42\t Last Move [2, 1]52.60948181], score:-0.79999997979030013\n",
      "Episode 35\tAverage Score: -0.43\t Last Move [2, 2]50.22457886], score:-0.79999997979030013\n",
      "Episode 36\tAverage Score: -0.44\t Last Move [0, 0]50.85807419], score:-0.79999997979030013\n",
      "Episode 37\tAverage Score: -0.45\t Last Move [2, 0]52.33641052], score:-0.79999997979030013\n",
      "Episode 38\tAverage Score: -0.46\t Last Move [0, 1]48.69486237], score:-0.79999997979030013\n",
      "Episode 39\tAverage Score: -0.47\t Last Move [1, 2]50.04301834], score:-0.79999997979030013\n",
      "Episode 40\tAverage Score: -0.44\t Last Move [2, 0]2000075483229score:-0.298799992451677157\n",
      "Episode 41\tAverage Score: -0.45\t Last Move [2, 2]49.87039948], score:-0.79999997979030013\n",
      "Episode 42\tAverage Score: -0.42\t Last Move [1, 0]8000062953215score:-0.249199993704678547\n",
      "Episode 43\tAverage Score: -0.43\t Last Move [1, 2]53.76311493], score:-0.79999997979030013\n",
      "Episode 44\tAverage Score: -0.44\t Last Move [0, 0]53.14199066], score:-0.79999997979030013\n",
      "Episode 45\tAverage Score: -0.45\t Last Move [0, 2]52.65020752], score:-0.79999997979030013\n",
      "Episode 46\tAverage Score: -0.45\t Last Move [1, 2]52.42352295], score:-0.79999997979030013\n",
      "Episode 47\tAverage Score: -0.46\t Last Move [1, 2]50.6440506 ], score:-0.79999997979030013\n",
      "Episode 48\tAverage Score: -0.47\t Last Move [1, 2]49.49281311], score:-0.79999997979030013\n",
      "Episode 49\tAverage Score: -0.48\t Last Move [1, 2]46.44126511], score:-0.79999997979030013\n",
      "Episode 50\tAverage Score: -0.48\t Last Move [0, 1]49.45002747], score:-0.79999997979030013\n",
      "Episode 51\tAverage Score: -0.46\t Last Move [1, 1]000003839843 score:-0.151999996160157027\n",
      "Episode 52\tAverage Score: -0.46\t Last Move [2, 1]53.1999321 ], score:-0.79999997979030013\n",
      "Episode 53\tAverage Score: -0.47\t Last Move [0, 2]45.88505936], score:-0.79999997979030013\n",
      "Episode 54\tAverage Score: -0.45\t Last Move [1, 2]56000112264883score:-0.44439998877351177\n",
      "Episode 55\tAverage Score: -0.46\t Last Move [2, 1]49.41635132], score:-0.79999997979030013\n",
      "Episode 56\tAverage Score: -0.43\t Last Move [1, 0]6000043046661score:-0.170399995695333937\n",
      "Episode 57\tAverage Score: -0.44\t Last Move [0, 2]46.53355408], score:-0.79999997979030013\n",
      "Episode 58\tAverage Score: -0.45\t Last Move [1, 2]49.32678986], score:-0.79999997979030013\n",
      "Episode 59\tAverage Score: -0.45\t Last Move [0, 2]53.48803329], score:-0.79999997979030013\n",
      "Episode 60\tAverage Score: -0.43\t Last Move [2, 0]68000109435525score:-0.43319998905644757\n",
      "Episode 61\tAverage Score: -0.44\t Last Move [1, 2]51.52319717], score:-0.79999997979030013\n",
      "Episode 62\tAverage Score: -0.45\t Last Move [2, 0]52.9864502 ], score:-0.79999997979030013\n",
      "Episode 63\tAverage Score: -0.45\t Last Move [2, 1]51.31447601], score:-0.79999997979030013\n",
      "Episode 64\tAverage Score: -0.46\t Last Move [1, 0]51.17204285], score:-0.79999997979030013\n",
      "Episode 65\tAverage Score: -0.46\t Last Move [0, 1]49.79925537], score:-0.79999997979030013\n",
      "Episode 66\tAverage Score: -0.47\t Last Move [2, 2]52.05767441], score:-0.79999997979030013\n",
      "Episode 67\tAverage Score: -0.45\t Last Move [1, 2]40000107616652score:-0.42599998923833487\n",
      "Episode 68\tAverage Score: -0.46\t Last Move [0, 1]53.99740601], score:-0.79999997979030013\n",
      "Episode 69\tAverage Score: -0.46\t Last Move [1, 2]53.00564575], score:-0.79999997979030013\n",
      "Episode 70\tAverage Score: -0.47\t Last Move [1, 2]49.34570312], score:-0.79999997979030013\n",
      "Episode 71\tAverage Score: -0.47\t Last Move [0, 0]52.1229744 ], score:-0.79999997979030013\n",
      "Episode 72\tAverage Score: -0.48\t Last Move [2, 0]44.01017761], score:-0.79999997979030013\n",
      "Episode 73\tAverage Score: -0.48\t Last Move [2, 0]45.72038269], score:-0.79999997979030013\n",
      "Episode 74\tAverage Score: -0.49\t Last Move [2, 2]45.39993286], score:-0.79999997979030013\n",
      "Episode 75\tAverage Score: -0.49\t Last Move [2, 1]49.75571442], score:-0.79999997979030013\n",
      "Episode 76\tAverage Score: -0.49\t Last Move [0, 2]47.4594574 ], score:-0.79999997979030013\n",
      "Episode 77\tAverage Score: -0.50\t Last Move [1, 2]50.34983063], score:-0.79999997979030013\n",
      "Episode 78\tAverage Score: -0.50\t Last Move [2, 1]43.93124008], score:-0.79999997979030013\n",
      "Episode 79\tAverage Score: -0.51\t Last Move [0, 1]53.14808655], score:-0.79999997979030013\n",
      "Episode 80\tAverage Score: -0.51\t Last Move [1, 2]47.59344864], score:-0.79999997979030013\n",
      "Episode 81\tAverage Score: -0.51\t Last Move [1, 2]49.23291779], score:-0.79999997979030013\n",
      "Episode 82\tAverage Score: -0.52\t Last Move [2, 0]48.67803192], score:-0.79999997979030013\n",
      "Episode 83\tAverage Score: -0.52\t Last Move [0, 2]51.38166428], score:-0.79999997979030013\n",
      "Episode 84\tAverage Score: -0.52\t Last Move [0, 2]50.39269257], score:-0.79999997979030013\n",
      "Episode 85\tAverage Score: -0.53\t Last Move [1, 1]52.83489609], score:-0.79999997979030013\n",
      "Episode 86\tAverage Score: -0.53\t Last Move [0, 0]49.09593582], score:-0.79999997979030013\n",
      "Episode 87\tAverage Score: -0.53\t Last Move [2, 0]52.84109879], score:-0.79999997979030013\n",
      "Episode 88\tAverage Score: -0.54\t Last Move [1, 2]50.29867554], score:-0.79999997979030013\n",
      "Episode 89\tAverage Score: -0.54\t Last Move [2, 1]52.19829559], score:-0.79999997979030013\n",
      "Episode 90\tAverage Score: -0.54\t Last Move [1, 2]50.63383102], score:-0.79999997979030013\n"
     ]
    },
    {
     "name": "stdout",
     "output_type": "stream",
     "text": [
      "Episode 91\tAverage Score: -0.54\t Last Move [0, 2]51.86091995], score:-0.79999997979030013\n",
      "Episode 92\tAverage Score: -0.55\t Last Move [1, 2]51.02119064], score:-0.79999997979030013\n",
      "Episode 93\tAverage Score: -0.55\t Last Move [1, 2]52.86232376], score:-0.79999997979030013\n",
      "Episode 94\tAverage Score: -0.55\t Last Move [0, 2]52.2846756 ], score:-0.79999997979030013\n",
      "Episode 95\tAverage Score: -0.55\t Last Move [2, 2]48.89662933], score:-0.79999997979030013\n",
      "Episode 96\tAverage Score: -0.56\t Last Move [1, 1]52.84023285], score:-0.79999997979030013\n",
      "Episode 97\tAverage Score: -0.56\t Last Move [1, 2]52.06564713], score:-0.79999997979030013\n",
      "Episode 98\tAverage Score: -0.56\t Last Move [1, 2]41.10032272], score:-0.79999997979030013\n",
      "Episode 99\tAverage Score: -0.56\t Last Move [1, 2]51.5924263 ], score:-0.79999997979030013\n",
      "Episode 100\tAverage Score: -0.57\t Last Move [1, 1]9.87483978], score:-0.79999997979030013\n",
      "Episode 101\tAverage Score: -0.57\t Last Move [2, 0]7.50852966], score:-0.79999997979030013\n",
      "Episode 102\tAverage Score: -0.57\t Last Move [0, 2]1.29249573], score:-0.79999997979030013\n",
      "Episode 103\tAverage Score: -0.57\t Last Move [0, 1]5.84088135], score:-0.79999997979030013\n",
      "Episode 104\tAverage Score: -0.58\t Last Move [1, 1]0.22580719], score:-0.79999997979030013\n",
      "Episode 105\tAverage Score: -0.58\t Last Move [1, 2]5.83584595], score:-0.79999997979030013\n",
      "Episode 106\tAverage Score: -0.58\t Last Move [0, 1]9.87111664], score:-0.79999997979030013\n",
      "Episode 107\tAverage Score: -0.58\t Last Move [0, 0]3.11034775], score:-0.79999997979030013\n",
      "Episode 108\tAverage Score: -0.60\t Last Move [0, 1]9.90217209], score:-0.79999997979030013\n",
      "Episode 109\tAverage Score: -0.60\t Last Move [1, 2]2.11973953], score:-0.79999997979030013\n",
      "Episode 110\tAverage Score: -0.61\t Last Move [1, 2]7.68741608], score:-0.79999997979030013\n",
      "Episode 111\tAverage Score: -0.61\t Last Move [0, 1]7.96035385], score:-0.79999997979030013\n",
      "Episode 112\tAverage Score: -0.62\t Last Move [1, 0]4.3205719 ], score:-0.79999997979030013\n",
      "Episode 113\tAverage Score: -0.62\t Last Move [2, 2]6.06297684], score:-0.79999997979030013\n",
      "Episode 114\tAverage Score: -0.63\t Last Move [0, 1]9.79424286], score:-0.79999997979030013\n",
      "Episode 115\tAverage Score: -0.63\t Last Move [1, 2]2.31052399], score:-0.79999997979030013\n",
      "Episode 116\tAverage Score: -0.65\t Last Move [2, 1]6.70426178], score:-0.79999997979030013\n",
      "Episode 117\tAverage Score: -0.65\t Last Move [1, 2]2.04345322], score:-0.79999997979030013\n",
      "Episode 118\tAverage Score: -0.65\t Last Move [1, 0]6.31225204], score:-0.79999997979030013\n",
      "Episode 119\tAverage Score: -0.65\t Last Move [1, 2]2.42390823], score:-0.79999997979030013\n",
      "Episode 120\tAverage Score: -0.67\t Last Move [1, 0]3.9930191 ], score:-0.79999997979030013\n",
      "Episode 121\tAverage Score: -0.67\t Last Move [1, 1]6.25775146], score:-0.79999997979030013\n",
      "Episode 122\tAverage Score: -0.67\t Last Move [2, 2]2.15119553], score:-0.79999997979030013\n",
      "Episode 123\tAverage Score: -0.67\t Last Move [2, 0]5.38764572], score:-0.79999997979030013\n",
      "Episode 124\tAverage Score: -0.67\t Last Move [2, 1]3.27002335], score:-0.79999997979030013\n",
      "Episode 125\tAverage Score: -0.67\t Last Move [0, 2]0.07347488], score:-0.79999997979030013\n",
      "Episode 126\tAverage Score: -0.68\t Last Move [0, 1]5.24599457], score:-0.79999997979030013\n",
      "Episode 127\tAverage Score: -0.68\t Last Move [2, 0]5.66835403], score:-0.79999997979030013\n",
      "Episode 128\tAverage Score: -0.68\t Last Move [0, 2]7.3013649 ], score:-0.79999997979030013\n",
      "Episode 129\tAverage Score: -0.68\t Last Move [2, 1]1.95191193], score:-0.79999997979030013\n",
      "Episode 130\tAverage Score: -0.70\t Last Move [1, 2]8.02153015], score:-0.79999997979030013\n",
      "Episode 131\tAverage Score: -0.70\t Last Move [1, 2]1.98838043], score:-0.79999997979030013\n",
      "Episode 132\tAverage Score: -0.70\t Last Move [1, 2]3.15851593], score:-0.79999997979030013\n",
      "Episode 133\tAverage Score: -0.70\t Last Move [1, 0]9.75135422], score:-0.79999997979030013\n",
      "Episode 134\tAverage Score: -0.70\t Last Move [1, 2]2.29513931], score:-0.79999997979030013\n",
      "Episode 135\tAverage Score: -0.70\t Last Move [1, 0]4.51704788], score:-0.79999997979030013\n",
      "Episode 136\tAverage Score: -0.70\t Last Move [0, 0]1.76049042], score:-0.79999997979030013\n",
      "Episode 137\tAverage Score: -0.70\t Last Move [0, 2]0.94208908], score:-0.79999997979030013\n",
      "Episode 138\tAverage Score: -0.70\t Last Move [1, 1]7.22934723], score:-0.79999997979030013\n",
      "Episode 139\tAverage Score: -0.70\t Last Move [0, 0]5.69228745], score:-0.79999997979030013\n",
      "Episode 140\tAverage Score: -0.71\t Last Move [0, 1]2.50386047], score:-0.79999997979030013\n",
      "Episode 141\tAverage Score: -0.71\t Last Move [2, 1]6.93323517], score:-0.79999997979030013\n",
      "Episode 142\tAverage Score: -0.73\t Last Move [0, 2]4.95664597], score:-0.79999997979030013\n",
      "Episode 143\tAverage Score: -0.73\t Last Move [1, 1]1.3684845 ], score:-0.79999997979030013\n",
      "Episode 144\tAverage Score: -0.73\t Last Move [1, 0]8.27395248], score:-0.79999997979030013\n",
      "Episode 145\tAverage Score: -0.73\t Last Move [0, 0]8.45839691], score:-0.79999997979030013\n",
      "Episode 146\tAverage Score: -0.73\t Last Move [2, 1]0.59117889], score:-0.79999997979030013\n",
      "Episode 147\tAverage Score: -0.73\t Last Move [0, 0]7.96395493], score:-0.79999997979030013\n",
      "Episode 148\tAverage Score: -0.73\t Last Move [1, 2]4.52591705], score:-0.79999997979030013\n",
      "Episode 149\tAverage Score: -0.73\t Last Move [2, 0]5.45504761], score:-0.79999997979030013\n",
      "Episode 150\tAverage Score: -0.73\t Last Move [2, 2]0.80021667], score:-0.79999997979030013\n",
      "Episode 151\tAverage Score: -0.74\t Last Move [1, 2]6.87198257], score:-0.79999997979030013\n",
      "Episode 152\tAverage Score: -0.74\t Last Move [1, 2]6.49514389], score:-0.79999997979030013\n",
      "Episode 153\tAverage Score: -0.74\t Last Move [1, 2]5.04454803], score:-0.79999997979030013\n",
      "Episode 154\tAverage Score: -0.76\t Last Move [1, 2]6.32397842], score:-0.79999997979030013\n",
      "Episode 155\tAverage Score: -0.76\t Last Move [1, 2]7.14924622], score:-0.79999997979030013\n",
      "Episode 156\tAverage Score: -0.77\t Last Move [1, 1]7.30292892], score:-0.79999997979030013\n",
      "Episode 157\tAverage Score: -0.77\t Last Move [1, 2]0.13238525], score:-0.79999997979030013\n",
      "Episode 158\tAverage Score: -0.77\t Last Move [1, 2]2.3626976 ], score:-0.79999997979030013\n",
      "Episode 159\tAverage Score: -0.77\t Last Move [1, 2]9.66202164], score:-0.79999997979030013\n",
      "Episode 160\tAverage Score: -0.79\t Last Move [2, 0]5.80863953], score:-0.79999997979030013\n",
      "Episode 161\tAverage Score: -0.79\t Last Move [1, 2]9.49120331], score:-0.79999997979030013\n",
      "Episode 162\tAverage Score: -0.79\t Last Move [0, 2]7.61312485], score:-0.79999997979030013\n",
      "Episode 163\tAverage Score: -0.79\t Last Move [1, 2]4.96007538], score:-0.79999997979030013\n",
      "Episode 164\tAverage Score: -0.79\t Last Move [1, 2]4.38514709], score:-0.79999997979030013\n",
      "Episode 165\tAverage Score: -0.79\t Last Move [1, 2]8.22431946], score:-0.79999997979030013\n",
      "Episode 166\tAverage Score: -0.79\t Last Move [1, 2]1.64751053], score:-0.79999997979030013\n",
      "Episode 167\tAverage Score: -0.80\t Last Move [1, 1]1.5619812 ], score:-0.79999997979030013\n",
      "Episode 168\tAverage Score: -0.80\t Last Move [1, 2]1.41809464], score:-0.79999997979030013\n",
      "Episode 169\tAverage Score: -0.80\t Last Move [0, 2]2.34213257], score:-0.79999997979030013\n",
      "Episode 170\tAverage Score: -0.80\t Last Move [2, 1]6.3241539 ], score:-0.79999997979030013\n",
      "Episode 171\tAverage Score: -0.80\t Last Move [2, 0]4.05394363], score:-0.79999997979030013\n",
      "Episode 172\tAverage Score: -0.80\t Last Move [1, 2]7.90501404], score:-0.79999997979030013\n",
      "Episode 173\tAverage Score: -0.80\t Last Move [2, 1]6.19041061], score:-0.79999997979030013\n",
      "Episode 174\tAverage Score: -0.80\t Last Move [0, 2]9.3309288 ], score:-0.79999997979030013\n",
      "Episode 175\tAverage Score: -0.80\t Last Move [2, 2]9.97538757], score:-0.79999997979030013\n",
      "Episode 176\tAverage Score: -0.80\t Last Move [1, 2]8.91791534], score:-0.79999997979030013\n",
      "Episode 177\tAverage Score: -0.80\t Last Move [1, 2]6.92327881], score:-0.79999997979030013\n",
      "Episode 178\tAverage Score: -0.80\t Last Move [1, 2]8.48678589], score:-0.79999997979030013\n",
      "Episode 179\tAverage Score: -0.80\t Last Move [1, 2]2.07649231], score:-0.79999997979030013\n",
      "Episode 180\tAverage Score: -0.80\t Last Move [1, 2]5.69337845], score:-0.79999997979030013\n",
      " t:498, position:[-334.21972656    3.93331099   46.09972382], score:-0.199599994957679887"
     ]
    }
   ],
   "source": [
    "scores, positions = dqn(env_info, n_episodes=300, max_t=2000, eps_start=1.0, \n",
    "                        eps_end=0.01, eps_decay=0.995, target_scores=1.0, video_flag=False)"
   ]
  },
  {
   "cell_type": "code",
   "execution_count": null,
   "metadata": {},
   "outputs": [],
   "source": [
    "env_info = env.reset(train_mode=True)[brain_name]"
   ]
  },
  {
   "cell_type": "code",
   "execution_count": null,
   "metadata": {},
   "outputs": [],
   "source": [
    "a = [[a[0][0] - positions[0][0][0], a[0][1] - positions[0][0][1], a[0][2] - positions[0][0][2]] for a in positions]\n",
    "a = np.asarray(a)"
   ]
  },
  {
   "cell_type": "code",
   "execution_count": 20,
   "metadata": {},
   "outputs": [],
   "source": [
    "pos = []\n",
    "for i in range(len(positions)):\n",
    "    a = [[a[0] - positions[i][0][0], a[1] - positions[i][0][1], a[2] - positions[i][0][2]] for a in positions[i]]\n",
    "    pos.append(np.asarray(a))"
   ]
  },
  {
   "cell_type": "code",
   "execution_count": 21,
   "metadata": {},
   "outputs": [
    {
     "data": {
      "image/png": "[encoded data removed]",
      "text/plain": [
       "<Figure size 432x288 with 1 Axes>"
      ]
     },
     "metadata": {
      "needs_background": "light"
     },
     "output_type": "display_data"
    }
   ],
   "source": [
    "for i in range(len(positions)):\n",
    "    plt.plot(pos[i][:,0], pos[i][:,2])\n",
    "plt.plot([-356.02 - positions[0][0][0]], [50.6 - positions[0][0][2]], marker='o', markersize=3, color=\"red\")\n",
    "plt.xlabel('timestep')\n",
    "plt.ylabel('trajectories')\n",
    "plt.show()"
   ]
  },
  {
   "cell_type": "code",
   "execution_count": null,
   "metadata": {},
   "outputs": [],
   "source": [
    "imgs = np.expand_dims(np.asarray(env_info.visual_observations)[0][0], axis=0)\n",
    "input = np.transpose(imgs, (0, 3, 1, 2))\n",
    "\n",
    "m1  = torch.nn.Conv2d(3, 32, kernel_size=8, stride=4)\n",
    "m2  = torch.nn.Conv2d(32, 64, kernel_size=4, stride=2)\n",
    "m3  = torch.nn.Conv2d(64, 64, kernel_size=3, stride=1)\n",
    "fc4 = torch.nn.Linear(34 * 34 * 64, 512)\n",
    "fc5 = torch.nn.Linear(512, 9)\n",
    "\n",
    "input = torch.randn(1, 3, 300, 300)\n",
    "output1 = m1(input)\n",
    "print(output1.shape)\n",
    "output2 = m2(output1)\n",
    "print(output2.shape)\n",
    "output3 = torch.flatten(m3(output2))\n",
    "print(output3.shape)\n",
    "output4 = fc4(output3)\n",
    "print(output4.shape)\n",
    "output5 = fc5(output4)\n",
    "\n",
    "# fc5(fc4(m3(m2(m1(input)))))\n"
   ]
  },
  {
   "cell_type": "code",
   "execution_count": null,
   "metadata": {},
   "outputs": [],
   "source": [
    "output5"
   ]
  },
  {
   "cell_type": "code",
   "execution_count": null,
   "metadata": {},
   "outputs": [],
   "source": [
    "plt.imshow(np.asarray(env_info.visual_observations)[0][0])"
   ]
  },
  {
   "cell_type": "code",
   "execution_count": null,
   "metadata": {},
   "outputs": [],
   "source": [
    "\n",
    "# plot the scores\n",
    "# fig = plt.figure()\n",
    "# ax = fig.add_subplot(111)\n",
    "# plt.plot(np.arange(len(scores)), scores)\n",
    "# plt.ylabel('Score')\n",
    "# plt.xlabel('Episode #')\n",
    "# plt.show()"
   ]
  },
  {
   "cell_type": "code",
   "execution_count": null,
   "metadata": {},
   "outputs": [],
   "source": [
    "print(agent.chck[1])"
   ]
  },
  {
   "cell_type": "code",
   "execution_count": null,
   "metadata": {},
   "outputs": [],
   "source": [
    "agent.qnetwork_local(agent.chck[0].unsqueeze(0))"
   ]
  },
  {
   "cell_type": "markdown",
   "metadata": {},
   "source": [
    "### Watch the agent running ( Using saved weights)"
   ]
  },
  {
   "cell_type": "code",
   "execution_count": null,
   "metadata": {},
   "outputs": [],
   "source": [
    "# load the weights from file\n",
    "agent.qnetwork_local.load_state_dict(torch.load(model_weight_name))\n",
    "\n",
    "env_info = env.reset(train_mode=False)[brain_name] # reset the environment\n",
    "state = env_info.vector_observations[0]            # get the current state\n",
    "score = 0                                          # initialize the score\n",
    "\n",
    "while True:\n",
    "    action = agent.act(state)                      # select an action\n",
    "    env_info = env.step(action)[brain_name]        # send the action to the environment\n",
    "    next_state = env_info.vector_observations[0]   # get the next state\n",
    "    reward = env_info.rewards[0]                   # get the reward\n",
    "    done = env_info.local_done[0]                  # see if episode has finished\n",
    "    score += reward                                # update the score\n",
    "    state = next_state                             # roll over the state to next time step\n",
    "    if done:                                       # exit loop if episode finished\n",
    "        break\n",
    "    \n",
    "print(\"Score: {}\".format(score))"
   ]
  },
  {
   "cell_type": "markdown",
   "metadata": {},
   "source": [
    "### Close Unity ML Environment"
   ]
  },
  {
   "cell_type": "code",
   "execution_count": null,
   "metadata": {},
   "outputs": [],
   "source": [
    "env.close()"
   ]
  },
  {
   "cell_type": "code",
   "execution_count": null,
   "metadata": {},
   "outputs": [],
   "source": []
  }
 ],
 "metadata": {
  "kernelspec": {
   "display_name": "Python [conda env:ml-agents] *",
   "language": "python",
   "name": "conda-env-ml-agents-py"
  },
  "language_info": {
   "codemirror_mode": {
    "name": "ipython",
    "version": 3
   },
   "file_extension": ".py",
   "mimetype": "text/x-python",
   "name": "python",
   "nbconvert_exporter": "python",
   "pygments_lexer": "ipython3",
   "version": "3.6.8"
  }
 },
 "nbformat": 4,
 "nbformat_minor": 2
}
